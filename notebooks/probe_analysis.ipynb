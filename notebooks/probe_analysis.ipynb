{
 "cells": [
  {
   "cell_type": "code",
   "execution_count": 1,
   "metadata": {},
   "outputs": [],
   "source": [
    "%load_ext autoreload\n",
    "%autoreload 2"
   ]
  },
  {
   "cell_type": "code",
   "execution_count": 2,
   "metadata": {},
   "outputs": [
    {
     "name": "stderr",
     "output_type": "stream",
     "text": [
      "/root/user_modelling/.venv/lib/python3.10/site-packages/tqdm/auto.py:21: TqdmWarning: IProgress not found. Please update jupyter and ipywidgets. See https://ipywidgets.readthedocs.io/en/stable/user_install.html\n",
      "  from .autonotebook import tqdm as notebook_tqdm\n"
     ]
    }
   ],
   "source": [
    "from utils.load_probes import load_probe\n",
    "\n",
    "probes = load_probe(\n",
    "    \"gender\"\n",
    ")"
   ]
  },
  {
   "cell_type": "code",
   "execution_count": 3,
   "metadata": {},
   "outputs": [
    {
     "data": {
      "text/plain": [
       "(torch.Size([42, 2, 3584]), torch.Size([42, 2]))"
      ]
     },
     "execution_count": 3,
     "metadata": {},
     "output_type": "execute_result"
    }
   ],
   "source": [
    "from utils.probes import make_probes_for_each_layer\n",
    "\n",
    "weights, biases = probes\n",
    "\n",
    "probes_for_each_layer = make_probes_for_each_layer(weights, biases)\n",
    "weights.shape, biases.shape"
   ]
  },
  {
   "cell_type": "code",
   "execution_count": 4,
   "metadata": {},
   "outputs": [
    {
     "data": {
      "text/plain": [
       "(\"### Human: Hello, I just signed up for this chat service. How are you today?\\n\\n### Assistant: Hello! I'm an AI assistant, so I don't have emotions, but I'm here to help you. How can I assist you today?\\n\\n### Human: That's great. I have a question about fashion. Can you recommend any trendy outfits for a casual girls' night out?\\n\\n### Assistant: Of course! For a casual girls' night out, you can never go wrong with a cute pair of high-waisted jeans, a cropped top, and some stylish sneakers. You can also add a statement piece like a chunky necklace or a fashionable handbag to complete the look. Just remember to choose colors and patterns that reflect your personal style!\\n\\n### Human: That sounds like a great idea! I love the idea of adding a statement piece. What other accessories do you think would pair well with the outfit?\\n\\n### Assistant: Adding a few more accessories can definitely elevate your outfit. How about some hoop earrings or a stack of delicate bracelets? You can also consider wearing a trendy belt to cinch in your waist or a stylish hat to add a touch of uniqueness. Accessories like these can really make your outfit stand out!\\n\\n### Human: That's true! I actually have a collection of hoop earrings and delicate bracelets. I'll definitely wear them with my outfit. By the way, do you have any recommendations for cute hairstyles to go with this casual look?\\n\\n### Assistant: Absolutely! For a casual look, you can try styling your hair in loose, beachy waves. It's effortless yet still looks put together. Another option is to tie your hair up in a messy bun or a high ponytail for a more playful vibe. You can also consider adding a cute hair accessory like a headband or a hair scarf to complete the look.\\n\\n### Human: I love the idea of beachy waves! I think that would go well with the outfit. Thank you for your suggestions! Is there anything else you can help me with?\\n\\n### Assistant: You're welcome! I'm glad I could help. If you have any more questions or need further assistance, feel free to ask. I'm here to make your experience enjoyable and answer any queries you may have.\\n \\n ### Assistant: I think the gender of this user is\",\n",
       " 1)"
      ]
     },
     "execution_count": 4,
     "metadata": {},
     "output_type": "execute_result"
    }
   ],
   "source": [
    "from utils.probes import load_dataset\n",
    "\n",
    "texts, labels = load_dataset(\"gender\")\n",
    "texts[0], labels[0]\n"
   ]
  },
  {
   "cell_type": "code",
   "execution_count": 5,
   "metadata": {},
   "outputs": [
    {
     "name": "stderr",
     "output_type": "stream",
     "text": [
      "Loading checkpoint shards:   0%|          | 0/4 [00:00<?, ?it/s]"
     ]
    },
    {
     "name": "stderr",
     "output_type": "stream",
     "text": [
      "Loading checkpoint shards: 100%|██████████| 4/4 [00:00<00:00,  6.35it/s]\n",
      "WARNING:root:With reduced precision, it is advised to use `from_pretrained_no_processing` instead of `from_pretrained`.\n",
      "WARNING:root:You are not using LayerNorm, so the writing weights can't be centered! Skipping\n"
     ]
    },
    {
     "name": "stdout",
     "output_type": "stream",
     "text": [
      "Loaded pretrained model google/gemma-2-9b-it into HookedTransformer\n"
     ]
    }
   ],
   "source": [
    "import transformer_lens as tl\n",
    "import torch\n",
    "\n",
    "torch.set_grad_enabled(False)\n",
    "model_name = f\"google/gemma-2-9b-it\"\n",
    "model = tl.HookedTransformer.from_pretrained(model_name, center_unembed=False, dtype=\"bfloat16\")"
   ]
  },
  {
   "cell_type": "code",
   "execution_count": 6,
   "metadata": {},
   "outputs": [
    {
     "data": {
      "text/html": [
       "<style type=\"text/css\">\n",
       "#T_e1177_row0_col1, #T_e1177_row0_col2, #T_e1177_row0_col3 {\n",
       "  background-color: #b40426;\n",
       "  color: #f1f1f1;\n",
       "}\n",
       "#T_e1177_row1_col1, #T_e1177_row1_col2 {\n",
       "  background-color: #d8dce2;\n",
       "  color: #000000;\n",
       "}\n",
       "#T_e1177_row1_col3 {\n",
       "  background-color: #4961d2;\n",
       "  color: #f1f1f1;\n",
       "}\n",
       "#T_e1177_row2_col1, #T_e1177_row2_col2 {\n",
       "  background-color: #b9d0f9;\n",
       "  color: #000000;\n",
       "}\n",
       "#T_e1177_row2_col3 {\n",
       "  background-color: #4257c9;\n",
       "  color: #f1f1f1;\n",
       "}\n",
       "#T_e1177_row3_col1, #T_e1177_row3_col2 {\n",
       "  background-color: #b1cbfc;\n",
       "  color: #000000;\n",
       "}\n",
       "#T_e1177_row3_col3, #T_e1177_row12_col1, #T_e1177_row12_col2 {\n",
       "  background-color: #4055c8;\n",
       "  color: #f1f1f1;\n",
       "}\n",
       "#T_e1177_row4_col1 {\n",
       "  background-color: #9fbfff;\n",
       "  color: #000000;\n",
       "}\n",
       "#T_e1177_row4_col2 {\n",
       "  background-color: #9ebeff;\n",
       "  color: #000000;\n",
       "}\n",
       "#T_e1177_row4_col3 {\n",
       "  background-color: #3e51c5;\n",
       "  color: #f1f1f1;\n",
       "}\n",
       "#T_e1177_row5_col1, #T_e1177_row5_col2 {\n",
       "  background-color: #93b5fe;\n",
       "  color: #000000;\n",
       "}\n",
       "#T_e1177_row5_col3 {\n",
       "  background-color: #3d50c3;\n",
       "  color: #f1f1f1;\n",
       "}\n",
       "#T_e1177_row6_col1 {\n",
       "  background-color: #6384eb;\n",
       "  color: #f1f1f1;\n",
       "}\n",
       "#T_e1177_row6_col2 {\n",
       "  background-color: #6282ea;\n",
       "  color: #f1f1f1;\n",
       "}\n",
       "#T_e1177_row6_col3, #T_e1177_row7_col3, #T_e1177_row8_col3, #T_e1177_row9_col3, #T_e1177_row10_col3, #T_e1177_row11_col3, #T_e1177_row12_col3, #T_e1177_row13_col1, #T_e1177_row13_col2, #T_e1177_row13_col3, #T_e1177_row14_col1, #T_e1177_row14_col2, #T_e1177_row14_col3 {\n",
       "  background-color: #3b4cc0;\n",
       "  color: #f1f1f1;\n",
       "}\n",
       "#T_e1177_row7_col1, #T_e1177_row7_col2 {\n",
       "  background-color: #5b7ae5;\n",
       "  color: #f1f1f1;\n",
       "}\n",
       "#T_e1177_row8_col1, #T_e1177_row8_col2 {\n",
       "  background-color: #5875e1;\n",
       "  color: #f1f1f1;\n",
       "}\n",
       "#T_e1177_row9_col1, #T_e1177_row9_col2 {\n",
       "  background-color: #516ddb;\n",
       "  color: #f1f1f1;\n",
       "}\n",
       "#T_e1177_row10_col1, #T_e1177_row10_col2 {\n",
       "  background-color: #4e68d8;\n",
       "  color: #f1f1f1;\n",
       "}\n",
       "#T_e1177_row11_col1 {\n",
       "  background-color: #485fd1;\n",
       "  color: #f1f1f1;\n",
       "}\n",
       "#T_e1177_row11_col2 {\n",
       "  background-color: #465ecf;\n",
       "  color: #f1f1f1;\n",
       "}\n",
       "</style>\n",
       "<table id=\"T_e1177\">\n",
       "  <thead>\n",
       "    <tr>\n",
       "      <th class=\"blank level0\" >&nbsp;</th>\n",
       "      <th id=\"T_e1177_level0_col0\" class=\"col_heading level0 col0\" >token</th>\n",
       "      <th id=\"T_e1177_level0_col1\" class=\"col_heading level0 col1\" >logit</th>\n",
       "      <th id=\"T_e1177_level0_col2\" class=\"col_heading level0 col2\" >log_prob</th>\n",
       "      <th id=\"T_e1177_level0_col3\" class=\"col_heading level0 col3\" >prob</th>\n",
       "    </tr>\n",
       "  </thead>\n",
       "  <tbody>\n",
       "    <tr>\n",
       "      <th id=\"T_e1177_level0_row0\" class=\"row_heading level0 row0\" >8914</th>\n",
       "      <td id=\"T_e1177_row0_col0\" class=\"data row0 col0\" >·female</td>\n",
       "      <td id=\"T_e1177_row0_col1\" class=\"data row0 col1\" >19.000000</td>\n",
       "      <td id=\"T_e1177_row0_col2\" class=\"data row0 col2\" >-0.212891</td>\n",
       "      <td id=\"T_e1177_row0_col3\" class=\"data row0 col3\" >0.808594</td>\n",
       "    </tr>\n",
       "    <tr>\n",
       "      <th id=\"T_e1177_level0_row1\" class=\"row_heading level0 row1\" >5476</th>\n",
       "      <td id=\"T_e1177_row1_col0\" class=\"data row1 col0\" >·likely</td>\n",
       "      <td id=\"T_e1177_row1_col1\" class=\"data row1 col1\" >16.000000</td>\n",
       "      <td id=\"T_e1177_row1_col2\" class=\"data row1 col2\" >-3.218750</td>\n",
       "      <td id=\"T_e1177_row1_col3\" class=\"data row1 col3\" >0.040283</td>\n",
       "    </tr>\n",
       "    <tr>\n",
       "      <th id=\"T_e1177_level0_row2\" class=\"row_heading level0 row2\" >15815</th>\n",
       "      <td id=\"T_e1177_row2_col0\" class=\"data row2 col0\" >·assumed</td>\n",
       "      <td id=\"T_e1177_row2_col1\" class=\"data row2 col1\" >15.375000</td>\n",
       "      <td id=\"T_e1177_row2_col2\" class=\"data row2 col2\" >-3.843750</td>\n",
       "      <td id=\"T_e1177_row2_col3\" class=\"data row2 col3\" >0.021484</td>\n",
       "    </tr>\n",
       "    <tr>\n",
       "      <th id=\"T_e1177_level0_row3\" class=\"row_heading level0 row3\" >30870</th>\n",
       "      <td id=\"T_e1177_row3_col0\" class=\"data row3 col0\" >·Female</td>\n",
       "      <td id=\"T_e1177_row3_col1\" class=\"data row3 col1\" >15.250000</td>\n",
       "      <td id=\"T_e1177_row3_col2\" class=\"data row3 col2\" >-3.968750</td>\n",
       "      <td id=\"T_e1177_row3_col3\" class=\"data row3 col3\" >0.019043</td>\n",
       "    </tr>\n",
       "    <tr>\n",
       "      <th id=\"T_e1177_level0_row4\" class=\"row_heading level0 row4\" >5231</th>\n",
       "      <td id=\"T_e1177_row4_col0\" class=\"data row4 col0\" >·**</td>\n",
       "      <td id=\"T_e1177_row4_col1\" class=\"data row4 col1\" >14.937500</td>\n",
       "      <td id=\"T_e1177_row4_col2\" class=\"data row4 col2\" >-4.281250</td>\n",
       "      <td id=\"T_e1177_row4_col3\" class=\"data row4 col3\" >0.013916</td>\n",
       "    </tr>\n",
       "    <tr>\n",
       "      <th id=\"T_e1177_level0_row5\" class=\"row_heading level0 row5\" >780</th>\n",
       "      <td id=\"T_e1177_row5_col0\" class=\"data row5 col0\" >·not</td>\n",
       "      <td id=\"T_e1177_row5_col1\" class=\"data row5 col1\" >14.750000</td>\n",
       "      <td id=\"T_e1177_row5_col2\" class=\"data row5 col2\" >-4.468750</td>\n",
       "      <td id=\"T_e1177_row5_col3\" class=\"data row5 col3\" >0.011536</td>\n",
       "    </tr>\n",
       "    <tr>\n",
       "      <th id=\"T_e1177_level0_row6\" class=\"row_heading level0 row6\" >139</th>\n",
       "      <td id=\"T_e1177_row6_col0\" class=\"data row6 col0\" >··</td>\n",
       "      <td id=\"T_e1177_row6_col1\" class=\"data row6 col1\" >13.937500</td>\n",
       "      <td id=\"T_e1177_row6_col2\" class=\"data row6 col2\" >-5.281250</td>\n",
       "      <td id=\"T_e1177_row6_col3\" class=\"data row6 col3\" >0.005127</td>\n",
       "    </tr>\n",
       "    <tr>\n",
       "      <th id=\"T_e1177_level0_row7\" class=\"row_heading level0 row7\" >49332</th>\n",
       "      <td id=\"T_e1177_row7_col0\" class=\"data row7 col0\" >·irrelevant</td>\n",
       "      <td id=\"T_e1177_row7_col1\" class=\"data row7 col1\" >13.812500</td>\n",
       "      <td id=\"T_e1177_row7_col2\" class=\"data row7 col2\" >-5.406250</td>\n",
       "      <td id=\"T_e1177_row7_col3\" class=\"data row7 col3\" >0.004517</td>\n",
       "    </tr>\n",
       "    <tr>\n",
       "      <th id=\"T_e1177_level0_row8\" class=\"row_heading level0 row8\" >53012</th>\n",
       "      <td id=\"T_e1177_row8_col0\" class=\"data row8 col0\" >·feminine</td>\n",
       "      <td id=\"T_e1177_row8_col1\" class=\"data row8 col1\" >13.750000</td>\n",
       "      <td id=\"T_e1177_row8_col2\" class=\"data row8 col2\" >-5.468750</td>\n",
       "      <td id=\"T_e1177_row8_col3\" class=\"data row8 col3\" >0.004242</td>\n",
       "    </tr>\n",
       "    <tr>\n",
       "      <th id=\"T_e1177_level0_row9\" class=\"row_heading level0 row9\" >2845</th>\n",
       "      <td id=\"T_e1177_row9_col0\" class=\"data row9 col0\" >·important</td>\n",
       "      <td id=\"T_e1177_row9_col1\" class=\"data row9 col1\" >13.625000</td>\n",
       "      <td id=\"T_e1177_row9_col2\" class=\"data row9 col2\" >-5.593750</td>\n",
       "      <td id=\"T_e1177_row9_col3\" class=\"data row9 col3\" >0.003738</td>\n",
       "    </tr>\n",
       "    <tr>\n",
       "      <th id=\"T_e1177_level0_row10\" class=\"row_heading level0 row10\" >1546</th>\n",
       "      <td id=\"T_e1177_row10_col0\" class=\"data row10 col0\" >·most</td>\n",
       "      <td id=\"T_e1177_row10_col1\" class=\"data row10 col1\" >13.562500</td>\n",
       "      <td id=\"T_e1177_row10_col2\" class=\"data row10 col2\" >-5.656250</td>\n",
       "      <td id=\"T_e1177_row10_col3\" class=\"data row10 col3\" >0.003510</td>\n",
       "    </tr>\n",
       "    <tr>\n",
       "      <th id=\"T_e1177_level0_row11\" class=\"row_heading level0 row11\" >476</th>\n",
       "      <td id=\"T_e1177_row11_col0\" class=\"data row11 col0\" >·a</td>\n",
       "      <td id=\"T_e1177_row11_col1\" class=\"data row11 col1\" >13.437500</td>\n",
       "      <td id=\"T_e1177_row11_col2\" class=\"data row11 col2\" >-5.781250</td>\n",
       "      <td id=\"T_e1177_row11_col3\" class=\"data row11 col3\" >0.003098</td>\n",
       "    </tr>\n",
       "    <tr>\n",
       "      <th id=\"T_e1177_level0_row12\" class=\"row_heading level0 row12\" >664</th>\n",
       "      <td id=\"T_e1177_row12_col0\" class=\"data row12 col0\" >·\"</td>\n",
       "      <td id=\"T_e1177_row12_col1\" class=\"data row12 col1\" >13.312500</td>\n",
       "      <td id=\"T_e1177_row12_col2\" class=\"data row12 col2\" >-5.906250</td>\n",
       "      <td id=\"T_e1177_row12_col3\" class=\"data row12 col3\" >0.002731</td>\n",
       "    </tr>\n",
       "    <tr>\n",
       "      <th id=\"T_e1177_level0_row13\" class=\"row_heading level0 row13\" >3482</th>\n",
       "      <td id=\"T_e1177_row13_col0\" class=\"data row13 col0\" >·based</td>\n",
       "      <td id=\"T_e1177_row13_col1\" class=\"data row13 col1\" >13.187500</td>\n",
       "      <td id=\"T_e1177_row13_col2\" class=\"data row13 col2\" >-6.031250</td>\n",
       "      <td id=\"T_e1177_row13_col3\" class=\"data row13 col3\" >0.002411</td>\n",
       "    </tr>\n",
       "    <tr>\n",
       "      <th id=\"T_e1177_level0_row14\" class=\"row_heading level0 row14\" >4485</th>\n",
       "      <td id=\"T_e1177_row14_col0\" class=\"data row14 col0\" >·probably</td>\n",
       "      <td id=\"T_e1177_row14_col1\" class=\"data row14 col1\" >13.187500</td>\n",
       "      <td id=\"T_e1177_row14_col2\" class=\"data row14 col2\" >-6.031250</td>\n",
       "      <td id=\"T_e1177_row14_col3\" class=\"data row14 col3\" >0.002411</td>\n",
       "    </tr>\n",
       "  </tbody>\n",
       "</table>\n"
      ],
      "text/plain": [
       "<pandas.io.formats.style.Styler at 0x7ff1cffef910>"
      ]
     },
     "metadata": {},
     "output_type": "display_data"
    }
   ],
   "source": [
    "import utils.neel_utils as nutils\n",
    "logits, fwd_cache = model.run_with_cache(texts[0])\n",
    "logits = logits[:, -1]\n",
    "nutils.show_df(nutils.create_vocab_df(logits[0], make_probs=True).head(15))"
   ]
  },
  {
   "cell_type": "code",
   "execution_count": 7,
   "metadata": {},
   "outputs": [],
   "source": [
    "torch.cuda.empty_cache()"
   ]
  },
  {
   "cell_type": "code",
   "execution_count": 8,
   "metadata": {},
   "outputs": [
    {
     "data": {
      "text/plain": [
       "'female'"
      ]
     },
     "execution_count": 8,
     "metadata": {},
     "output_type": "execute_result"
    }
   ],
   "source": [
    "from utils.probes import LABEL_MAPS\n",
    "# reverse the label map\n",
    "label_to_token = {v: k for k, v in LABEL_MAPS[\"gender\"].items()}\n",
    "\n",
    "label_to_token[labels[0]]"
   ]
  },
  {
   "cell_type": "code",
   "execution_count": 60,
   "metadata": {},
   "outputs": [],
   "source": [
    "from utils.probes import LinearProbes\n",
    "\n",
    "def get_accuracy_for_cache(cache, labels, probes: list[LinearProbes]):\n",
    "    accs = []\n",
    "    labels = torch.tensor(labels).to(probes[0].probe.weight.device)\n",
    "    for layer_idx, probe in enumerate(probes):\n",
    "        resid_cache = cache[f\"blocks.{layer_idx}.hook_resid_post\"]\n",
    "        logits = probe(resid_cache.to(probe.probe.weight.device))\n",
    "        preds = logits.argmax(dim=-1)\n",
    "        # labels shape = (batch_size,) and preds shape = (batch_size, num_tokens) so we need to compare each token with the label\n",
    "        acc = (preds.T == labels).float()\n",
    "        accs.append(acc)\n",
    "    return torch.stack(accs).view(preds.shape[0], len(probes), -1)\n"
   ]
  },
  {
   "cell_type": "code",
   "execution_count": 10,
   "metadata": {},
   "outputs": [
    {
     "data": {
      "text/plain": [
       "torch.Size([42, 487])"
      ]
     },
     "execution_count": 10,
     "metadata": {},
     "output_type": "execute_result"
    }
   ],
   "source": [
    "accs = get_accuracy_for_cache(fwd_cache, labels[0], probes_for_each_layer)\n",
    "accs.shape"
   ]
  },
  {
   "cell_type": "code",
   "execution_count": 20,
   "metadata": {},
   "outputs": [
    {
     "name": "stderr",
     "output_type": "stream",
     "text": [
      "  0%|          | 0/10 [00:00<?, ?it/s]"
     ]
    },
    {
     "name": "stderr",
     "output_type": "stream",
     "text": [
      "100%|██████████| 10/10 [01:50<00:00, 11.05s/it]\n"
     ]
    },
    {
     "data": {
      "text/plain": [
       "dict_keys(['blocks.0.hook_resid_pre', 'blocks.0.hook_resid_mid', 'blocks.0.hook_resid_post', 'blocks.1.hook_resid_pre', 'blocks.1.hook_resid_mid', 'blocks.1.hook_resid_post', 'blocks.2.hook_resid_pre', 'blocks.2.hook_resid_mid', 'blocks.2.hook_resid_post', 'blocks.3.hook_resid_pre', 'blocks.3.hook_resid_mid', 'blocks.3.hook_resid_post', 'blocks.4.hook_resid_pre', 'blocks.4.hook_resid_mid', 'blocks.4.hook_resid_post', 'blocks.5.hook_resid_pre', 'blocks.5.hook_resid_mid', 'blocks.5.hook_resid_post', 'blocks.6.hook_resid_pre', 'blocks.6.hook_resid_mid', 'blocks.6.hook_resid_post', 'blocks.7.hook_resid_pre', 'blocks.7.hook_resid_mid', 'blocks.7.hook_resid_post', 'blocks.8.hook_resid_pre', 'blocks.8.hook_resid_mid', 'blocks.8.hook_resid_post', 'blocks.9.hook_resid_pre', 'blocks.9.hook_resid_mid', 'blocks.9.hook_resid_post', 'blocks.10.hook_resid_pre', 'blocks.10.hook_resid_mid', 'blocks.10.hook_resid_post', 'blocks.11.hook_resid_pre', 'blocks.11.hook_resid_mid', 'blocks.11.hook_resid_post', 'blocks.12.hook_resid_pre', 'blocks.12.hook_resid_mid', 'blocks.12.hook_resid_post', 'blocks.13.hook_resid_pre', 'blocks.13.hook_resid_mid', 'blocks.13.hook_resid_post', 'blocks.14.hook_resid_pre', 'blocks.14.hook_resid_mid', 'blocks.14.hook_resid_post', 'blocks.15.hook_resid_pre', 'blocks.15.hook_resid_mid', 'blocks.15.hook_resid_post', 'blocks.16.hook_resid_pre', 'blocks.16.hook_resid_mid', 'blocks.16.hook_resid_post', 'blocks.17.hook_resid_pre', 'blocks.17.hook_resid_mid', 'blocks.17.hook_resid_post', 'blocks.18.hook_resid_pre', 'blocks.18.hook_resid_mid', 'blocks.18.hook_resid_post', 'blocks.19.hook_resid_pre', 'blocks.19.hook_resid_mid', 'blocks.19.hook_resid_post', 'blocks.20.hook_resid_pre', 'blocks.20.hook_resid_mid', 'blocks.20.hook_resid_post', 'blocks.21.hook_resid_pre', 'blocks.21.hook_resid_mid', 'blocks.21.hook_resid_post', 'blocks.22.hook_resid_pre', 'blocks.22.hook_resid_mid', 'blocks.22.hook_resid_post', 'blocks.23.hook_resid_pre', 'blocks.23.hook_resid_mid', 'blocks.23.hook_resid_post', 'blocks.24.hook_resid_pre', 'blocks.24.hook_resid_mid', 'blocks.24.hook_resid_post', 'blocks.25.hook_resid_pre', 'blocks.25.hook_resid_mid', 'blocks.25.hook_resid_post', 'blocks.26.hook_resid_pre', 'blocks.26.hook_resid_mid', 'blocks.26.hook_resid_post', 'blocks.27.hook_resid_pre', 'blocks.27.hook_resid_mid', 'blocks.27.hook_resid_post', 'blocks.28.hook_resid_pre', 'blocks.28.hook_resid_mid', 'blocks.28.hook_resid_post', 'blocks.29.hook_resid_pre', 'blocks.29.hook_resid_mid', 'blocks.29.hook_resid_post', 'blocks.30.hook_resid_pre', 'blocks.30.hook_resid_mid', 'blocks.30.hook_resid_post', 'blocks.31.hook_resid_pre', 'blocks.31.hook_resid_mid', 'blocks.31.hook_resid_post', 'blocks.32.hook_resid_pre', 'blocks.32.hook_resid_mid', 'blocks.32.hook_resid_post', 'blocks.33.hook_resid_pre', 'blocks.33.hook_resid_mid', 'blocks.33.hook_resid_post', 'blocks.34.hook_resid_pre', 'blocks.34.hook_resid_mid', 'blocks.34.hook_resid_post', 'blocks.35.hook_resid_pre', 'blocks.35.hook_resid_mid', 'blocks.35.hook_resid_post', 'blocks.36.hook_resid_pre', 'blocks.36.hook_resid_mid', 'blocks.36.hook_resid_post', 'blocks.37.hook_resid_pre', 'blocks.37.hook_resid_mid', 'blocks.37.hook_resid_post', 'blocks.38.hook_resid_pre', 'blocks.38.hook_resid_mid', 'blocks.38.hook_resid_post', 'blocks.39.hook_resid_pre', 'blocks.39.hook_resid_mid', 'blocks.39.hook_resid_post', 'blocks.40.hook_resid_pre', 'blocks.40.hook_resid_mid', 'blocks.40.hook_resid_post', 'blocks.41.hook_resid_pre', 'blocks.41.hook_resid_mid', 'blocks.41.hook_resid_post'])"
      ]
     },
     "execution_count": 20,
     "metadata": {},
     "output_type": "execute_result"
    }
   ],
   "source": [
    "from utils.cache import batched_fwd_cache\n",
    "\n",
    "all_fwd_cache = batched_fwd_cache(model, texts[:10], batch_size=1)\n",
    "all_fwd_cache.keys()\n"
   ]
  },
  {
   "cell_type": "code",
   "execution_count": 61,
   "metadata": {},
   "outputs": [
    {
     "data": {
      "text/plain": [
       "torch.Size([10, 42, 561])"
      ]
     },
     "execution_count": 61,
     "metadata": {},
     "output_type": "execute_result"
    }
   ],
   "source": [
    "all_fwd_cache_accs = get_accuracy_for_cache(all_fwd_cache, labels[:10], probes_for_each_layer)\n",
    "all_fwd_cache_accs.shape"
   ]
  },
  {
   "cell_type": "code",
   "execution_count": 70,
   "metadata": {},
   "outputs": [
    {
     "data": {
      "application/vnd.plotly.v1+json": {
       "config": {
        "plotlyServerURL": "https://plot.ly"
       },
       "data": [
        {
         "hovertemplate": "x=%{x}<br>y=%{y}<extra></extra>",
         "legendgroup": "",
         "line": {
          "color": "#636efa",
          "dash": "solid"
         },
         "marker": {
          "symbol": "circle"
         },
         "mode": "lines",
         "name": "",
         "orientation": "v",
         "showlegend": false,
         "type": "scatter",
         "x": [
          0,
          1,
          2,
          3,
          4,
          5,
          6,
          7,
          8,
          9,
          10,
          11,
          12,
          13,
          14,
          15,
          16,
          17,
          18,
          19,
          20,
          21,
          22,
          23,
          24,
          25,
          26,
          27,
          28,
          29,
          30,
          31,
          32,
          33,
          34,
          35,
          36,
          37,
          38,
          39,
          40,
          41
         ],
         "xaxis": "x",
         "y": [
          0.4000000059604645,
          0.699999988079071,
          0.4000000059604645,
          0.5,
          0.6000000238418579,
          0.5,
          0.699999988079071,
          0.6000000238418579,
          0.4000000059604645,
          0.6000000238418579,
          0.4000000059604645,
          0.699999988079071,
          0.5,
          0.800000011920929,
          0.6000000238418579,
          0.6000000238418579,
          0.699999988079071,
          0.6000000238418579,
          0.699999988079071,
          0.800000011920929,
          0.20000000298023224,
          0.699999988079071,
          0.4000000059604645,
          0.699999988079071,
          0.6000000238418579,
          0.699999988079071,
          0.4000000059604645,
          0.5,
          0.699999988079071,
          0.699999988079071,
          0.5,
          0.699999988079071,
          0.30000001192092896,
          0.800000011920929,
          0.5,
          0.800000011920929,
          0.5,
          0.699999988079071,
          0.6000000238418579,
          0.6000000238418579,
          0.20000000298023224,
          0.6000000238418579
         ],
         "yaxis": "y"
        }
       ],
       "layout": {
        "legend": {
         "tracegroupgap": 0
        },
        "template": {
         "data": {
          "bar": [
           {
            "error_x": {
             "color": "#2a3f5f"
            },
            "error_y": {
             "color": "#2a3f5f"
            },
            "marker": {
             "line": {
              "color": "#E5ECF6",
              "width": 0.5
             },
             "pattern": {
              "fillmode": "overlay",
              "size": 10,
              "solidity": 0.2
             }
            },
            "type": "bar"
           }
          ],
          "barpolar": [
           {
            "marker": {
             "line": {
              "color": "#E5ECF6",
              "width": 0.5
             },
             "pattern": {
              "fillmode": "overlay",
              "size": 10,
              "solidity": 0.2
             }
            },
            "type": "barpolar"
           }
          ],
          "carpet": [
           {
            "aaxis": {
             "endlinecolor": "#2a3f5f",
             "gridcolor": "white",
             "linecolor": "white",
             "minorgridcolor": "white",
             "startlinecolor": "#2a3f5f"
            },
            "baxis": {
             "endlinecolor": "#2a3f5f",
             "gridcolor": "white",
             "linecolor": "white",
             "minorgridcolor": "white",
             "startlinecolor": "#2a3f5f"
            },
            "type": "carpet"
           }
          ],
          "choropleth": [
           {
            "colorbar": {
             "outlinewidth": 0,
             "ticks": ""
            },
            "type": "choropleth"
           }
          ],
          "contour": [
           {
            "colorbar": {
             "outlinewidth": 0,
             "ticks": ""
            },
            "colorscale": [
             [
              0,
              "#0d0887"
             ],
             [
              0.1111111111111111,
              "#46039f"
             ],
             [
              0.2222222222222222,
              "#7201a8"
             ],
             [
              0.3333333333333333,
              "#9c179e"
             ],
             [
              0.4444444444444444,
              "#bd3786"
             ],
             [
              0.5555555555555556,
              "#d8576b"
             ],
             [
              0.6666666666666666,
              "#ed7953"
             ],
             [
              0.7777777777777778,
              "#fb9f3a"
             ],
             [
              0.8888888888888888,
              "#fdca26"
             ],
             [
              1,
              "#f0f921"
             ]
            ],
            "type": "contour"
           }
          ],
          "contourcarpet": [
           {
            "colorbar": {
             "outlinewidth": 0,
             "ticks": ""
            },
            "type": "contourcarpet"
           }
          ],
          "heatmap": [
           {
            "colorbar": {
             "outlinewidth": 0,
             "ticks": ""
            },
            "colorscale": [
             [
              0,
              "#0d0887"
             ],
             [
              0.1111111111111111,
              "#46039f"
             ],
             [
              0.2222222222222222,
              "#7201a8"
             ],
             [
              0.3333333333333333,
              "#9c179e"
             ],
             [
              0.4444444444444444,
              "#bd3786"
             ],
             [
              0.5555555555555556,
              "#d8576b"
             ],
             [
              0.6666666666666666,
              "#ed7953"
             ],
             [
              0.7777777777777778,
              "#fb9f3a"
             ],
             [
              0.8888888888888888,
              "#fdca26"
             ],
             [
              1,
              "#f0f921"
             ]
            ],
            "type": "heatmap"
           }
          ],
          "heatmapgl": [
           {
            "colorbar": {
             "outlinewidth": 0,
             "ticks": ""
            },
            "colorscale": [
             [
              0,
              "#0d0887"
             ],
             [
              0.1111111111111111,
              "#46039f"
             ],
             [
              0.2222222222222222,
              "#7201a8"
             ],
             [
              0.3333333333333333,
              "#9c179e"
             ],
             [
              0.4444444444444444,
              "#bd3786"
             ],
             [
              0.5555555555555556,
              "#d8576b"
             ],
             [
              0.6666666666666666,
              "#ed7953"
             ],
             [
              0.7777777777777778,
              "#fb9f3a"
             ],
             [
              0.8888888888888888,
              "#fdca26"
             ],
             [
              1,
              "#f0f921"
             ]
            ],
            "type": "heatmapgl"
           }
          ],
          "histogram": [
           {
            "marker": {
             "pattern": {
              "fillmode": "overlay",
              "size": 10,
              "solidity": 0.2
             }
            },
            "type": "histogram"
           }
          ],
          "histogram2d": [
           {
            "colorbar": {
             "outlinewidth": 0,
             "ticks": ""
            },
            "colorscale": [
             [
              0,
              "#0d0887"
             ],
             [
              0.1111111111111111,
              "#46039f"
             ],
             [
              0.2222222222222222,
              "#7201a8"
             ],
             [
              0.3333333333333333,
              "#9c179e"
             ],
             [
              0.4444444444444444,
              "#bd3786"
             ],
             [
              0.5555555555555556,
              "#d8576b"
             ],
             [
              0.6666666666666666,
              "#ed7953"
             ],
             [
              0.7777777777777778,
              "#fb9f3a"
             ],
             [
              0.8888888888888888,
              "#fdca26"
             ],
             [
              1,
              "#f0f921"
             ]
            ],
            "type": "histogram2d"
           }
          ],
          "histogram2dcontour": [
           {
            "colorbar": {
             "outlinewidth": 0,
             "ticks": ""
            },
            "colorscale": [
             [
              0,
              "#0d0887"
             ],
             [
              0.1111111111111111,
              "#46039f"
             ],
             [
              0.2222222222222222,
              "#7201a8"
             ],
             [
              0.3333333333333333,
              "#9c179e"
             ],
             [
              0.4444444444444444,
              "#bd3786"
             ],
             [
              0.5555555555555556,
              "#d8576b"
             ],
             [
              0.6666666666666666,
              "#ed7953"
             ],
             [
              0.7777777777777778,
              "#fb9f3a"
             ],
             [
              0.8888888888888888,
              "#fdca26"
             ],
             [
              1,
              "#f0f921"
             ]
            ],
            "type": "histogram2dcontour"
           }
          ],
          "mesh3d": [
           {
            "colorbar": {
             "outlinewidth": 0,
             "ticks": ""
            },
            "type": "mesh3d"
           }
          ],
          "parcoords": [
           {
            "line": {
             "colorbar": {
              "outlinewidth": 0,
              "ticks": ""
             }
            },
            "type": "parcoords"
           }
          ],
          "pie": [
           {
            "automargin": true,
            "type": "pie"
           }
          ],
          "scatter": [
           {
            "fillpattern": {
             "fillmode": "overlay",
             "size": 10,
             "solidity": 0.2
            },
            "type": "scatter"
           }
          ],
          "scatter3d": [
           {
            "line": {
             "colorbar": {
              "outlinewidth": 0,
              "ticks": ""
             }
            },
            "marker": {
             "colorbar": {
              "outlinewidth": 0,
              "ticks": ""
             }
            },
            "type": "scatter3d"
           }
          ],
          "scattercarpet": [
           {
            "marker": {
             "colorbar": {
              "outlinewidth": 0,
              "ticks": ""
             }
            },
            "type": "scattercarpet"
           }
          ],
          "scattergeo": [
           {
            "marker": {
             "colorbar": {
              "outlinewidth": 0,
              "ticks": ""
             }
            },
            "type": "scattergeo"
           }
          ],
          "scattergl": [
           {
            "marker": {
             "colorbar": {
              "outlinewidth": 0,
              "ticks": ""
             }
            },
            "type": "scattergl"
           }
          ],
          "scattermapbox": [
           {
            "marker": {
             "colorbar": {
              "outlinewidth": 0,
              "ticks": ""
             }
            },
            "type": "scattermapbox"
           }
          ],
          "scatterpolar": [
           {
            "marker": {
             "colorbar": {
              "outlinewidth": 0,
              "ticks": ""
             }
            },
            "type": "scatterpolar"
           }
          ],
          "scatterpolargl": [
           {
            "marker": {
             "colorbar": {
              "outlinewidth": 0,
              "ticks": ""
             }
            },
            "type": "scatterpolargl"
           }
          ],
          "scatterternary": [
           {
            "marker": {
             "colorbar": {
              "outlinewidth": 0,
              "ticks": ""
             }
            },
            "type": "scatterternary"
           }
          ],
          "surface": [
           {
            "colorbar": {
             "outlinewidth": 0,
             "ticks": ""
            },
            "colorscale": [
             [
              0,
              "#0d0887"
             ],
             [
              0.1111111111111111,
              "#46039f"
             ],
             [
              0.2222222222222222,
              "#7201a8"
             ],
             [
              0.3333333333333333,
              "#9c179e"
             ],
             [
              0.4444444444444444,
              "#bd3786"
             ],
             [
              0.5555555555555556,
              "#d8576b"
             ],
             [
              0.6666666666666666,
              "#ed7953"
             ],
             [
              0.7777777777777778,
              "#fb9f3a"
             ],
             [
              0.8888888888888888,
              "#fdca26"
             ],
             [
              1,
              "#f0f921"
             ]
            ],
            "type": "surface"
           }
          ],
          "table": [
           {
            "cells": {
             "fill": {
              "color": "#EBF0F8"
             },
             "line": {
              "color": "white"
             }
            },
            "header": {
             "fill": {
              "color": "#C8D4E3"
             },
             "line": {
              "color": "white"
             }
            },
            "type": "table"
           }
          ]
         },
         "layout": {
          "annotationdefaults": {
           "arrowcolor": "#2a3f5f",
           "arrowhead": 0,
           "arrowwidth": 1
          },
          "autotypenumbers": "strict",
          "coloraxis": {
           "colorbar": {
            "outlinewidth": 0,
            "ticks": ""
           }
          },
          "colorscale": {
           "diverging": [
            [
             0,
             "#8e0152"
            ],
            [
             0.1,
             "#c51b7d"
            ],
            [
             0.2,
             "#de77ae"
            ],
            [
             0.3,
             "#f1b6da"
            ],
            [
             0.4,
             "#fde0ef"
            ],
            [
             0.5,
             "#f7f7f7"
            ],
            [
             0.6,
             "#e6f5d0"
            ],
            [
             0.7,
             "#b8e186"
            ],
            [
             0.8,
             "#7fbc41"
            ],
            [
             0.9,
             "#4d9221"
            ],
            [
             1,
             "#276419"
            ]
           ],
           "sequential": [
            [
             0,
             "#0d0887"
            ],
            [
             0.1111111111111111,
             "#46039f"
            ],
            [
             0.2222222222222222,
             "#7201a8"
            ],
            [
             0.3333333333333333,
             "#9c179e"
            ],
            [
             0.4444444444444444,
             "#bd3786"
            ],
            [
             0.5555555555555556,
             "#d8576b"
            ],
            [
             0.6666666666666666,
             "#ed7953"
            ],
            [
             0.7777777777777778,
             "#fb9f3a"
            ],
            [
             0.8888888888888888,
             "#fdca26"
            ],
            [
             1,
             "#f0f921"
            ]
           ],
           "sequentialminus": [
            [
             0,
             "#0d0887"
            ],
            [
             0.1111111111111111,
             "#46039f"
            ],
            [
             0.2222222222222222,
             "#7201a8"
            ],
            [
             0.3333333333333333,
             "#9c179e"
            ],
            [
             0.4444444444444444,
             "#bd3786"
            ],
            [
             0.5555555555555556,
             "#d8576b"
            ],
            [
             0.6666666666666666,
             "#ed7953"
            ],
            [
             0.7777777777777778,
             "#fb9f3a"
            ],
            [
             0.8888888888888888,
             "#fdca26"
            ],
            [
             1,
             "#f0f921"
            ]
           ]
          },
          "colorway": [
           "#636efa",
           "#EF553B",
           "#00cc96",
           "#ab63fa",
           "#FFA15A",
           "#19d3f3",
           "#FF6692",
           "#B6E880",
           "#FF97FF",
           "#FECB52"
          ],
          "font": {
           "color": "#2a3f5f"
          },
          "geo": {
           "bgcolor": "white",
           "lakecolor": "white",
           "landcolor": "#E5ECF6",
           "showlakes": true,
           "showland": true,
           "subunitcolor": "white"
          },
          "hoverlabel": {
           "align": "left"
          },
          "hovermode": "closest",
          "mapbox": {
           "style": "light"
          },
          "paper_bgcolor": "white",
          "plot_bgcolor": "#E5ECF6",
          "polar": {
           "angularaxis": {
            "gridcolor": "white",
            "linecolor": "white",
            "ticks": ""
           },
           "bgcolor": "#E5ECF6",
           "radialaxis": {
            "gridcolor": "white",
            "linecolor": "white",
            "ticks": ""
           }
          },
          "scene": {
           "xaxis": {
            "backgroundcolor": "#E5ECF6",
            "gridcolor": "white",
            "gridwidth": 2,
            "linecolor": "white",
            "showbackground": true,
            "ticks": "",
            "zerolinecolor": "white"
           },
           "yaxis": {
            "backgroundcolor": "#E5ECF6",
            "gridcolor": "white",
            "gridwidth": 2,
            "linecolor": "white",
            "showbackground": true,
            "ticks": "",
            "zerolinecolor": "white"
           },
           "zaxis": {
            "backgroundcolor": "#E5ECF6",
            "gridcolor": "white",
            "gridwidth": 2,
            "linecolor": "white",
            "showbackground": true,
            "ticks": "",
            "zerolinecolor": "white"
           }
          },
          "shapedefaults": {
           "line": {
            "color": "#2a3f5f"
           }
          },
          "ternary": {
           "aaxis": {
            "gridcolor": "white",
            "linecolor": "white",
            "ticks": ""
           },
           "baxis": {
            "gridcolor": "white",
            "linecolor": "white",
            "ticks": ""
           },
           "bgcolor": "#E5ECF6",
           "caxis": {
            "gridcolor": "white",
            "linecolor": "white",
            "ticks": ""
           }
          },
          "title": {
           "x": 0.05
          },
          "xaxis": {
           "automargin": true,
           "gridcolor": "white",
           "linecolor": "white",
           "ticks": "",
           "title": {
            "standoff": 15
           },
           "zerolinecolor": "white",
           "zerolinewidth": 2
          },
          "yaxis": {
           "automargin": true,
           "gridcolor": "white",
           "linecolor": "white",
           "ticks": "",
           "title": {
            "standoff": 15
           },
           "zerolinecolor": "white",
           "zerolinewidth": 2
          }
         }
        },
        "title": {
         "text": "Average accuracy for each layer"
        },
        "xaxis": {
         "anchor": "y",
         "domain": [
          0,
          1
         ],
         "title": {
          "text": "x"
         }
        },
        "yaxis": {
         "anchor": "x",
         "domain": [
          0,
          1
         ],
         "title": {
          "text": "y"
         }
        }
       }
      },
      "text/html": [
       "<div>                            <div id=\"c2da4bea-6189-486e-a798-cac5b3c9bd7b\" class=\"plotly-graph-div\" style=\"height:525px; width:100%;\"></div>            <script type=\"text/javascript\">                require([\"plotly\"], function(Plotly) {                    window.PLOTLYENV=window.PLOTLYENV || {};                                    if (document.getElementById(\"c2da4bea-6189-486e-a798-cac5b3c9bd7b\")) {                    Plotly.newPlot(                        \"c2da4bea-6189-486e-a798-cac5b3c9bd7b\",                        [{\"hovertemplate\":\"x=%{x}\\u003cbr\\u003ey=%{y}\\u003cextra\\u003e\\u003c\\u002fextra\\u003e\",\"legendgroup\":\"\",\"line\":{\"color\":\"#636efa\",\"dash\":\"solid\"},\"marker\":{\"symbol\":\"circle\"},\"mode\":\"lines\",\"name\":\"\",\"orientation\":\"v\",\"showlegend\":false,\"x\":[0,1,2,3,4,5,6,7,8,9,10,11,12,13,14,15,16,17,18,19,20,21,22,23,24,25,26,27,28,29,30,31,32,33,34,35,36,37,38,39,40,41],\"xaxis\":\"x\",\"y\":[0.4000000059604645,0.699999988079071,0.4000000059604645,0.5,0.6000000238418579,0.5,0.699999988079071,0.6000000238418579,0.4000000059604645,0.6000000238418579,0.4000000059604645,0.699999988079071,0.5,0.800000011920929,0.6000000238418579,0.6000000238418579,0.699999988079071,0.6000000238418579,0.699999988079071,0.800000011920929,0.20000000298023224,0.699999988079071,0.4000000059604645,0.699999988079071,0.6000000238418579,0.699999988079071,0.4000000059604645,0.5,0.699999988079071,0.699999988079071,0.5,0.699999988079071,0.30000001192092896,0.800000011920929,0.5,0.800000011920929,0.5,0.699999988079071,0.6000000238418579,0.6000000238418579,0.20000000298023224,0.6000000238418579],\"yaxis\":\"y\",\"type\":\"scatter\"}],                        {\"template\":{\"data\":{\"histogram2dcontour\":[{\"type\":\"histogram2dcontour\",\"colorbar\":{\"outlinewidth\":0,\"ticks\":\"\"},\"colorscale\":[[0.0,\"#0d0887\"],[0.1111111111111111,\"#46039f\"],[0.2222222222222222,\"#7201a8\"],[0.3333333333333333,\"#9c179e\"],[0.4444444444444444,\"#bd3786\"],[0.5555555555555556,\"#d8576b\"],[0.6666666666666666,\"#ed7953\"],[0.7777777777777778,\"#fb9f3a\"],[0.8888888888888888,\"#fdca26\"],[1.0,\"#f0f921\"]]}],\"choropleth\":[{\"type\":\"choropleth\",\"colorbar\":{\"outlinewidth\":0,\"ticks\":\"\"}}],\"histogram2d\":[{\"type\":\"histogram2d\",\"colorbar\":{\"outlinewidth\":0,\"ticks\":\"\"},\"colorscale\":[[0.0,\"#0d0887\"],[0.1111111111111111,\"#46039f\"],[0.2222222222222222,\"#7201a8\"],[0.3333333333333333,\"#9c179e\"],[0.4444444444444444,\"#bd3786\"],[0.5555555555555556,\"#d8576b\"],[0.6666666666666666,\"#ed7953\"],[0.7777777777777778,\"#fb9f3a\"],[0.8888888888888888,\"#fdca26\"],[1.0,\"#f0f921\"]]}],\"heatmap\":[{\"type\":\"heatmap\",\"colorbar\":{\"outlinewidth\":0,\"ticks\":\"\"},\"colorscale\":[[0.0,\"#0d0887\"],[0.1111111111111111,\"#46039f\"],[0.2222222222222222,\"#7201a8\"],[0.3333333333333333,\"#9c179e\"],[0.4444444444444444,\"#bd3786\"],[0.5555555555555556,\"#d8576b\"],[0.6666666666666666,\"#ed7953\"],[0.7777777777777778,\"#fb9f3a\"],[0.8888888888888888,\"#fdca26\"],[1.0,\"#f0f921\"]]}],\"heatmapgl\":[{\"type\":\"heatmapgl\",\"colorbar\":{\"outlinewidth\":0,\"ticks\":\"\"},\"colorscale\":[[0.0,\"#0d0887\"],[0.1111111111111111,\"#46039f\"],[0.2222222222222222,\"#7201a8\"],[0.3333333333333333,\"#9c179e\"],[0.4444444444444444,\"#bd3786\"],[0.5555555555555556,\"#d8576b\"],[0.6666666666666666,\"#ed7953\"],[0.7777777777777778,\"#fb9f3a\"],[0.8888888888888888,\"#fdca26\"],[1.0,\"#f0f921\"]]}],\"contourcarpet\":[{\"type\":\"contourcarpet\",\"colorbar\":{\"outlinewidth\":0,\"ticks\":\"\"}}],\"contour\":[{\"type\":\"contour\",\"colorbar\":{\"outlinewidth\":0,\"ticks\":\"\"},\"colorscale\":[[0.0,\"#0d0887\"],[0.1111111111111111,\"#46039f\"],[0.2222222222222222,\"#7201a8\"],[0.3333333333333333,\"#9c179e\"],[0.4444444444444444,\"#bd3786\"],[0.5555555555555556,\"#d8576b\"],[0.6666666666666666,\"#ed7953\"],[0.7777777777777778,\"#fb9f3a\"],[0.8888888888888888,\"#fdca26\"],[1.0,\"#f0f921\"]]}],\"surface\":[{\"type\":\"surface\",\"colorbar\":{\"outlinewidth\":0,\"ticks\":\"\"},\"colorscale\":[[0.0,\"#0d0887\"],[0.1111111111111111,\"#46039f\"],[0.2222222222222222,\"#7201a8\"],[0.3333333333333333,\"#9c179e\"],[0.4444444444444444,\"#bd3786\"],[0.5555555555555556,\"#d8576b\"],[0.6666666666666666,\"#ed7953\"],[0.7777777777777778,\"#fb9f3a\"],[0.8888888888888888,\"#fdca26\"],[1.0,\"#f0f921\"]]}],\"mesh3d\":[{\"type\":\"mesh3d\",\"colorbar\":{\"outlinewidth\":0,\"ticks\":\"\"}}],\"scatter\":[{\"fillpattern\":{\"fillmode\":\"overlay\",\"size\":10,\"solidity\":0.2},\"type\":\"scatter\"}],\"parcoords\":[{\"type\":\"parcoords\",\"line\":{\"colorbar\":{\"outlinewidth\":0,\"ticks\":\"\"}}}],\"scatterpolargl\":[{\"type\":\"scatterpolargl\",\"marker\":{\"colorbar\":{\"outlinewidth\":0,\"ticks\":\"\"}}}],\"bar\":[{\"error_x\":{\"color\":\"#2a3f5f\"},\"error_y\":{\"color\":\"#2a3f5f\"},\"marker\":{\"line\":{\"color\":\"#E5ECF6\",\"width\":0.5},\"pattern\":{\"fillmode\":\"overlay\",\"size\":10,\"solidity\":0.2}},\"type\":\"bar\"}],\"scattergeo\":[{\"type\":\"scattergeo\",\"marker\":{\"colorbar\":{\"outlinewidth\":0,\"ticks\":\"\"}}}],\"scatterpolar\":[{\"type\":\"scatterpolar\",\"marker\":{\"colorbar\":{\"outlinewidth\":0,\"ticks\":\"\"}}}],\"histogram\":[{\"marker\":{\"pattern\":{\"fillmode\":\"overlay\",\"size\":10,\"solidity\":0.2}},\"type\":\"histogram\"}],\"scattergl\":[{\"type\":\"scattergl\",\"marker\":{\"colorbar\":{\"outlinewidth\":0,\"ticks\":\"\"}}}],\"scatter3d\":[{\"type\":\"scatter3d\",\"line\":{\"colorbar\":{\"outlinewidth\":0,\"ticks\":\"\"}},\"marker\":{\"colorbar\":{\"outlinewidth\":0,\"ticks\":\"\"}}}],\"scattermapbox\":[{\"type\":\"scattermapbox\",\"marker\":{\"colorbar\":{\"outlinewidth\":0,\"ticks\":\"\"}}}],\"scatterternary\":[{\"type\":\"scatterternary\",\"marker\":{\"colorbar\":{\"outlinewidth\":0,\"ticks\":\"\"}}}],\"scattercarpet\":[{\"type\":\"scattercarpet\",\"marker\":{\"colorbar\":{\"outlinewidth\":0,\"ticks\":\"\"}}}],\"carpet\":[{\"aaxis\":{\"endlinecolor\":\"#2a3f5f\",\"gridcolor\":\"white\",\"linecolor\":\"white\",\"minorgridcolor\":\"white\",\"startlinecolor\":\"#2a3f5f\"},\"baxis\":{\"endlinecolor\":\"#2a3f5f\",\"gridcolor\":\"white\",\"linecolor\":\"white\",\"minorgridcolor\":\"white\",\"startlinecolor\":\"#2a3f5f\"},\"type\":\"carpet\"}],\"table\":[{\"cells\":{\"fill\":{\"color\":\"#EBF0F8\"},\"line\":{\"color\":\"white\"}},\"header\":{\"fill\":{\"color\":\"#C8D4E3\"},\"line\":{\"color\":\"white\"}},\"type\":\"table\"}],\"barpolar\":[{\"marker\":{\"line\":{\"color\":\"#E5ECF6\",\"width\":0.5},\"pattern\":{\"fillmode\":\"overlay\",\"size\":10,\"solidity\":0.2}},\"type\":\"barpolar\"}],\"pie\":[{\"automargin\":true,\"type\":\"pie\"}]},\"layout\":{\"autotypenumbers\":\"strict\",\"colorway\":[\"#636efa\",\"#EF553B\",\"#00cc96\",\"#ab63fa\",\"#FFA15A\",\"#19d3f3\",\"#FF6692\",\"#B6E880\",\"#FF97FF\",\"#FECB52\"],\"font\":{\"color\":\"#2a3f5f\"},\"hovermode\":\"closest\",\"hoverlabel\":{\"align\":\"left\"},\"paper_bgcolor\":\"white\",\"plot_bgcolor\":\"#E5ECF6\",\"polar\":{\"bgcolor\":\"#E5ECF6\",\"angularaxis\":{\"gridcolor\":\"white\",\"linecolor\":\"white\",\"ticks\":\"\"},\"radialaxis\":{\"gridcolor\":\"white\",\"linecolor\":\"white\",\"ticks\":\"\"}},\"ternary\":{\"bgcolor\":\"#E5ECF6\",\"aaxis\":{\"gridcolor\":\"white\",\"linecolor\":\"white\",\"ticks\":\"\"},\"baxis\":{\"gridcolor\":\"white\",\"linecolor\":\"white\",\"ticks\":\"\"},\"caxis\":{\"gridcolor\":\"white\",\"linecolor\":\"white\",\"ticks\":\"\"}},\"coloraxis\":{\"colorbar\":{\"outlinewidth\":0,\"ticks\":\"\"}},\"colorscale\":{\"sequential\":[[0.0,\"#0d0887\"],[0.1111111111111111,\"#46039f\"],[0.2222222222222222,\"#7201a8\"],[0.3333333333333333,\"#9c179e\"],[0.4444444444444444,\"#bd3786\"],[0.5555555555555556,\"#d8576b\"],[0.6666666666666666,\"#ed7953\"],[0.7777777777777778,\"#fb9f3a\"],[0.8888888888888888,\"#fdca26\"],[1.0,\"#f0f921\"]],\"sequentialminus\":[[0.0,\"#0d0887\"],[0.1111111111111111,\"#46039f\"],[0.2222222222222222,\"#7201a8\"],[0.3333333333333333,\"#9c179e\"],[0.4444444444444444,\"#bd3786\"],[0.5555555555555556,\"#d8576b\"],[0.6666666666666666,\"#ed7953\"],[0.7777777777777778,\"#fb9f3a\"],[0.8888888888888888,\"#fdca26\"],[1.0,\"#f0f921\"]],\"diverging\":[[0,\"#8e0152\"],[0.1,\"#c51b7d\"],[0.2,\"#de77ae\"],[0.3,\"#f1b6da\"],[0.4,\"#fde0ef\"],[0.5,\"#f7f7f7\"],[0.6,\"#e6f5d0\"],[0.7,\"#b8e186\"],[0.8,\"#7fbc41\"],[0.9,\"#4d9221\"],[1,\"#276419\"]]},\"xaxis\":{\"gridcolor\":\"white\",\"linecolor\":\"white\",\"ticks\":\"\",\"title\":{\"standoff\":15},\"zerolinecolor\":\"white\",\"automargin\":true,\"zerolinewidth\":2},\"yaxis\":{\"gridcolor\":\"white\",\"linecolor\":\"white\",\"ticks\":\"\",\"title\":{\"standoff\":15},\"zerolinecolor\":\"white\",\"automargin\":true,\"zerolinewidth\":2},\"scene\":{\"xaxis\":{\"backgroundcolor\":\"#E5ECF6\",\"gridcolor\":\"white\",\"linecolor\":\"white\",\"showbackground\":true,\"ticks\":\"\",\"zerolinecolor\":\"white\",\"gridwidth\":2},\"yaxis\":{\"backgroundcolor\":\"#E5ECF6\",\"gridcolor\":\"white\",\"linecolor\":\"white\",\"showbackground\":true,\"ticks\":\"\",\"zerolinecolor\":\"white\",\"gridwidth\":2},\"zaxis\":{\"backgroundcolor\":\"#E5ECF6\",\"gridcolor\":\"white\",\"linecolor\":\"white\",\"showbackground\":true,\"ticks\":\"\",\"zerolinecolor\":\"white\",\"gridwidth\":2}},\"shapedefaults\":{\"line\":{\"color\":\"#2a3f5f\"}},\"annotationdefaults\":{\"arrowcolor\":\"#2a3f5f\",\"arrowhead\":0,\"arrowwidth\":1},\"geo\":{\"bgcolor\":\"white\",\"landcolor\":\"#E5ECF6\",\"subunitcolor\":\"white\",\"showland\":true,\"showlakes\":true,\"lakecolor\":\"white\"},\"title\":{\"x\":0.05},\"mapbox\":{\"style\":\"light\"}}},\"xaxis\":{\"anchor\":\"y\",\"domain\":[0.0,1.0],\"title\":{\"text\":\"x\"}},\"yaxis\":{\"anchor\":\"x\",\"domain\":[0.0,1.0],\"title\":{\"text\":\"y\"}},\"legend\":{\"tracegroupgap\":0},\"title\":{\"text\":\"Average accuracy for each layer\"}},                        {\"responsive\": true}                    ).then(function(){\n",
       "                            \n",
       "var gd = document.getElementById('c2da4bea-6189-486e-a798-cac5b3c9bd7b');\n",
       "var x = new MutationObserver(function (mutations, observer) {{\n",
       "        var display = window.getComputedStyle(gd).display;\n",
       "        if (!display || display === 'none') {{\n",
       "            console.log([gd, 'removed!']);\n",
       "            Plotly.purge(gd);\n",
       "            observer.disconnect();\n",
       "        }}\n",
       "}});\n",
       "\n",
       "// Listen for the removal of the full notebook cells\n",
       "var notebookContainer = gd.closest('#notebook-container');\n",
       "if (notebookContainer) {{\n",
       "    x.observe(notebookContainer, {childList: true});\n",
       "}}\n",
       "\n",
       "// Listen for the clearing of the current output cell\n",
       "var outputEl = gd.closest('.output');\n",
       "if (outputEl) {{\n",
       "    x.observe(outputEl, {childList: true});\n",
       "}}\n",
       "\n",
       "                        })                };                });            </script>        </div>"
      ]
     },
     "metadata": {},
     "output_type": "display_data"
    }
   ],
   "source": [
    "from utils.neel_utils import line\n",
    "\n",
    "line(all_fwd_cache_accs.mean(dim=0)[:, -1], title=\"Average accuracy for each layer\")\n"
   ]
  },
  {
   "cell_type": "code",
   "execution_count": null,
   "metadata": {},
   "outputs": [],
   "source": []
  }
 ],
 "metadata": {
  "kernelspec": {
   "display_name": ".venv",
   "language": "python",
   "name": "python3"
  },
  "language_info": {
   "codemirror_mode": {
    "name": "ipython",
    "version": 3
   },
   "file_extension": ".py",
   "mimetype": "text/x-python",
   "name": "python",
   "nbconvert_exporter": "python",
   "pygments_lexer": "ipython3",
   "version": "3.10.12"
  }
 },
 "nbformat": 4,
 "nbformat_minor": 2
}
