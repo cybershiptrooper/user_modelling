{
 "cells": [
  {
   "cell_type": "markdown",
   "metadata": {},
   "source": [
    "### Load everything"
   ]
  },
  {
   "cell_type": "code",
   "execution_count": 2,
   "metadata": {},
   "outputs": [],
   "source": [
    "%load_ext autoreload\n",
    "%autoreload 2\n"
   ]
  },
  {
   "cell_type": "code",
   "execution_count": 3,
   "metadata": {},
   "outputs": [],
   "source": [
    "# config\n",
    "\n",
    "attribute = \"gender\"\n",
    "skipped_prompts = [2, 49]\n",
    "probe_layer = 26"
   ]
  },
  {
   "cell_type": "code",
   "execution_count": 4,
   "metadata": {},
   "outputs": [],
   "source": [
    "import pickle\n",
    "\n",
    "all_clean_attn_attrs = pickle.load(open(\"notebooks/results/all_clean_attn_attrs_thresholded.pkl\", \"rb\"))\n",
    "\n",
    "all_attn_AP_scores = pickle.load(open(\"notebooks/results/all_attn_AP_scores.pkl\", \"rb\"))\n",
    "all_labelled_tokens = pickle.load(open(\"notebooks/results/labelled_tokens.pkl\", \"rb\"))\n",
    "\n",
    "all_head_path_attrs = pickle.load(open(\"notebooks/results/head_path_attrs.pkl\", \"rb\"))\n",
    "all_head_out_attrs = pickle.load(open(\"notebooks/results/head_out_attrs.pkl\", \"rb\"))\n",
    "head_labels = pickle.load(open(\"notebooks/results/head_labels.pkl\", \"rb\"))\n",
    "\n",
    "start_labels = head_labels[\"start_labels\"]\n",
    "end_labels = head_labels[\"end_labels\"]"
   ]
  },
  {
   "cell_type": "code",
   "execution_count": 5,
   "metadata": {},
   "outputs": [
    {
     "name": "stderr",
     "output_type": "stream",
     "text": [
      "/Users/cybershiptrooper/src/interpretability/user_modelling/.venv/lib/python3.11/site-packages/tqdm/auto.py:21: TqdmWarning: IProgress not found. Please update jupyter and ipywidgets. See https://ipywidgets.readthedocs.io/en/stable/user_install.html\n",
      "  from .autonotebook import tqdm as notebook_tqdm\n"
     ]
    }
   ],
   "source": [
    "from utils.probes import load_dataset\n",
    "texts, labels = load_dataset(attribute)"
   ]
  },
  {
   "cell_type": "code",
   "execution_count": 6,
   "metadata": {},
   "outputs": [],
   "source": [
    "import torch\n",
    "import einops\n",
    "\n",
    "def get_sum_head_vector_attrs(all_attn_AP_scores, layers: list[int], pos_slice: slice | None = None):\n",
    "    all_sum_head_vector_attrs = {}\n",
    "    for attn_score in all_attn_AP_scores:\n",
    "        for key, value in attn_score.items():\n",
    "            n_heads = 8 if key in [\"k\", \"v\"] else 16\n",
    "            if key not in all_sum_head_vector_attrs:\n",
    "                all_sum_head_vector_attrs[key] = []\n",
    "            sum_head_vector_attr = einops.reduce(\n",
    "                value if pos_slice is None else value[pos_slice],\n",
    "                \"(layer head) pos -> layer head\",\n",
    "                \"sum\",\n",
    "                layer=len(layers),\n",
    "                head=n_heads,\n",
    "            )\n",
    "            all_sum_head_vector_attrs[key].append(sum_head_vector_attr)\n",
    "\n",
    "    for key, value in all_sum_head_vector_attrs.items():\n",
    "        all_sum_head_vector_attrs[key] = torch.stack(value, dim=0)\n",
    "    return all_sum_head_vector_attrs"
   ]
  },
  {
   "cell_type": "code",
   "execution_count": 7,
   "metadata": {},
   "outputs": [
    {
     "name": "stderr",
     "output_type": "stream",
     "text": [
      "50it [00:02, 17.95it/s]\n",
      "50it [00:00, 2204.67it/s]\n",
      "50it [00:02, 18.53it/s]\n",
      "50it [00:00, 10024.63it/s]\n",
      "50it [00:02, 17.34it/s]\n",
      "50it [00:00, 19676.79it/s]\n"
     ]
    }
   ],
   "source": [
    "from typing import Literal\n",
    "from tqdm import tqdm\n",
    "from utils.index import Ix\n",
    "\n",
    "def make_mean_head_attrs(all_head_path_attrs, all_head_out_attrs, half: Literal[\"first\", \"second\", \"both\"] = \"both\"):\n",
    "    if half == \"first\":\n",
    "        pos_slice = Ix[:, :, :-9].as_index\n",
    "    elif half == \"second\":\n",
    "        pos_slice = Ix[:, :, -10:].as_index\n",
    "    else:\n",
    "        pos_slice = Ix[:, :, :].as_index\n",
    "    mean_head_path_attrs = []\n",
    "    for i, head_path_attr in tqdm(enumerate(all_head_path_attrs)):\n",
    "        if i in skipped_prompts:\n",
    "            continue\n",
    "        mean_head_path_attrs.append(head_path_attr.to_dense()[pos_slice].sum(-1))\n",
    "\n",
    "    mean_head_path_attrs = torch.stack(mean_head_path_attrs, dim=0)\n",
    "    mean_head_path_attrs = mean_head_path_attrs.mean(dim=0)\n",
    "    mean_head_out_attrs = []\n",
    "    for i, head_out_attr in tqdm(enumerate(all_head_out_attrs)):\n",
    "        if i in skipped_prompts:\n",
    "            continue\n",
    "        mean_head_out_attrs.append(head_out_attr.to_dense()[pos_slice[1:]].sum(-1))\n",
    "\n",
    "    mean_head_out_attrs = torch.stack(mean_head_out_attrs, dim=0)\n",
    "    mean_head_out_attrs = mean_head_out_attrs.mean(dim=0)\n",
    "\n",
    "    return mean_head_path_attrs, mean_head_out_attrs\n",
    "\n",
    "head_path_attrs_first_half, head_out_attrs_first_half = make_mean_head_attrs(all_head_path_attrs, all_head_out_attrs, \"first\")\n",
    "head_path_attrs_second_half, head_out_attrs_second_half = make_mean_head_attrs(all_head_path_attrs, all_head_out_attrs, \"second\")\n",
    "head_path_attrs, head_out_attrs = make_mean_head_attrs(all_head_path_attrs, all_head_out_attrs, \"both\")"
   ]
  },
  {
   "cell_type": "code",
   "execution_count": 8,
   "metadata": {},
   "outputs": [],
   "source": [
    "from utils.index import Ix\n",
    "\n",
    "def get_sum_head_vector_attrs(all_attn_AP_scores, layers: list[int], pos_slice: slice | None = None):\n",
    "    all_sum_head_vector_attrs = {}\n",
    "    for attn_score in all_attn_AP_scores:\n",
    "        for key, value in attn_score.items():\n",
    "            n_heads = 8 if key in [\"k\", \"v\"] else 16\n",
    "            if key not in all_sum_head_vector_attrs:\n",
    "                all_sum_head_vector_attrs[key] = []\n",
    "            sum_head_vector_attr = einops.reduce(\n",
    "                value if pos_slice is None else value[pos_slice],\n",
    "                \"(layer head) pos -> layer head\",\n",
    "                \"sum\",\n",
    "                layer=len(layers),\n",
    "                head=n_heads,\n",
    "            )\n",
    "            all_sum_head_vector_attrs[key].append(sum_head_vector_attr)\n",
    "\n",
    "    for key, value in all_sum_head_vector_attrs.items():\n",
    "        all_sum_head_vector_attrs[key] = torch.stack(value, dim=0)\n",
    "    return all_sum_head_vector_attrs\n",
    "LAYERS = list(range(probe_layer + 1))\n",
    "all_sum_head_vector_attrs = get_sum_head_vector_attrs(all_attn_AP_scores, LAYERS)\n",
    "sum_head_vectors_first_half = get_sum_head_vector_attrs(all_attn_AP_scores, LAYERS, pos_slice=Ix[:, :-9].as_index)\n",
    "sum_head_vectors_second_half = get_sum_head_vector_attrs(all_attn_AP_scores, LAYERS, pos_slice=Ix[:, -10:].as_index)"
   ]
  },
  {
   "cell_type": "markdown",
   "metadata": {},
   "source": [
    "### Plot stuff"
   ]
  },
  {
   "cell_type": "code",
   "execution_count": 9,
   "metadata": {},
   "outputs": [],
   "source": [
    "from utils.plots import (\n",
    "    plot_top_head_path_attrs,\n",
    "    plot_qkv_head_path_attrs,\n",
    "    plot_interesting_heads,\n",
    "    get_contributions,\n",
    "    get_contributions_for_each_layer\n",
    ")\n",
    "from utils.neel_plotly import imshow\n",
    "from functools import partial\n",
    "\n",
    "plot_top_head_path_attrs = partial(\n",
    "    plot_top_head_path_attrs, start_labels=start_labels, end_labels=end_labels\n",
    ")\n",
    "plot_interesting_heads = partial(plot_interesting_heads, probe_layer=probe_layer)\n",
    "get_contributions = partial(\n",
    "    get_contributions,\n",
    "    probe_layer=probe_layer,\n",
    "    skipped_prompts=skipped_prompts,\n",
    "    all_labelled_tokens=all_labelled_tokens,\n",
    "    texts=texts,\n",
    "    labels=labels,\n",
    ")\n"
   ]
  },
  {
   "cell_type": "code",
   "execution_count": 10,
   "metadata": {},
   "outputs": [
    {
     "data": {
      "application/vnd.plotly.v1+json": {
       "config": {
        "plotlyServerURL": "https://plot.ly"
       },
       "data": [
        {
         "coloraxis": "coloraxis",
         "hovertemplate": "x: %{x}<br>y: %{y}<br>color: %{z}<extra></extra>",
         "name": "0",
         "type": "heatmap",
         "xaxis": "x",
         "yaxis": "y",
         "z": [
          [
           0.0019073486,
           -0.11425781,
           -0.21679688,
           0.07519531,
           0.017089844,
           -0.036865234,
           0.09472656,
           0.0019226074
          ],
          [
           0.01928711,
           -0.10253906,
           0.012451172,
           0.12402344,
           -0.103027344,
           0.07324219,
           0.0119018555,
           0.111816406
          ],
          [
           -0.28125,
           0.053466797,
           -0.038085938,
           0.037353516,
           0.020507812,
           0.026123047,
           -0.010559082,
           0.21386719
          ],
          [
           -0.029907227,
           -0.17480469,
           0.32226562,
           -0.17773438,
           -0.04272461,
           0.030029297,
           -0.0068359375,
           0.014099121
          ],
          [
           -0.07421875,
           0.06225586,
           -0.087890625,
           0.47070312,
           -0.053955078,
           0.087890625,
           -0.020629883,
           0.11230469
          ],
          [
           -0.12158203,
           0.018310547,
           0.038085938,
           -0.10449219,
           -0.021118164,
           0.08984375,
           0.03173828,
           0.057861328
          ],
          [
           -0.041015625,
           -0.21289062,
           -0.123535156,
           0.28710938,
           -0.42382812,
           -0.2734375,
           -0.051513672,
           -0.01373291
          ],
          [
           0.14550781,
           -0.14355469,
           -0.030883789,
           0.11328125,
           0.005279541,
           -0.10595703,
           0.029296875,
           -0.018676758
          ],
          [
           -0.07910156,
           -0.21875,
           -0.16113281,
           0.2421875,
           0.0063476562,
           -0.08935547,
           -0.05419922,
           0.119628906
          ],
          [
           0.25585938,
           0.42382812,
           -0.05517578,
           -0.041015625,
           -0.15429688,
           -0.034179688,
           0.036132812,
           -0.6953125
          ],
          [
           -0.20996094,
           0.39648438,
           0.19921875,
           0.48046875,
           -0.33984375,
           -0.053222656,
           0.24609375,
           -0.27929688
          ],
          [
           -0.017578125,
           -0.3828125,
           -0.055419922,
           -0.18359375,
           0.36914062,
           0.36328125,
           0.040527344,
           0.43554688
          ],
          [
           1.5546875,
           -0.12158203,
           0.044677734,
           -0.036865234,
           0.19433594,
           0.18945312,
           0.6328125,
           -0.17773438
          ],
          [
           -0.4765625,
           0.12011719,
           0.10205078,
           -0.14648438,
           0.06542969,
           0.12011719,
           -0.43164062,
           -0.10644531
          ],
          [
           -1.546875,
           -0.0703125,
           -0.029541016,
           -0.57421875,
           0.79296875,
           -0.17089844,
           -0.24609375,
           0.107421875
          ],
          [
           0.09472656,
           0.3828125,
           1.3046875,
           -0.25,
           -0.77734375,
           -0.15136719,
           2.5,
           0.9453125
          ],
          [
           0.21777344,
           -0.28710938,
           -0.06982422,
           0.25390625,
           -0.22558594,
           0.31054688,
           0.22265625,
           0.51171875
          ],
          [
           -0.006713867,
           0.18164062,
           0.10107422,
           0.24511719,
           1,
           -0.11816406,
           -0.12060547,
           -0.5703125
          ],
          [
           0.040771484,
           -0.84375,
           0.12890625,
           -2.109375,
           -0.40820312,
           -0.13769531,
           0.66015625,
           0.4765625
          ],
          [
           0.19238281,
           0.6640625,
           -0.11230469,
           0.6640625,
           -0.11621094,
           0.057373047,
           -0.092285156,
           -0.041503906
          ],
          [
           0.3046875,
           0.48046875,
           0.41210938,
           -0.58203125,
           0.78125,
           -0.17480469,
           0.58203125,
           0.6484375
          ],
          [
           -0.3359375,
           -0.2734375,
           0.6171875,
           -0.53125,
           -1.625,
           -0.35546875,
           0.4296875,
           0.049316406
          ],
          [
           0.13769531,
           0.46289062,
           0.15039062,
           0.13671875,
           -0.068359375,
           0.328125,
           1.171875,
           0.46679688
          ],
          [
           0.07421875,
           0.63671875,
           -0.06347656,
           0.11816406,
           0.5703125,
           -0.08691406,
           -1.0546875,
           -0.42773438
          ],
          [
           -0.032226562,
           0.33398438,
           0.092285156,
           0.33203125,
           0.040527344,
           2.578125,
           -0.029296875,
           -0.08544922
          ],
          [
           -3.296875,
           -0.80078125,
           -0.002105713,
           -2.375,
           0.609375,
           -0.41015625,
           0.026367188,
           0.27929688
          ],
          [
           -0.028930664,
           -2.6875,
           -7.46875,
           -0.015136719,
           0.09277344,
           1.2734375,
           -1.5546875,
           0.03466797
          ]
         ]
        }
       ],
       "layout": {
        "coloraxis": {
         "cmid": 0,
         "colorscale": [
          [
           0,
           "rgb(103,0,31)"
          ],
          [
           0.1,
           "rgb(178,24,43)"
          ],
          [
           0.2,
           "rgb(214,96,77)"
          ],
          [
           0.3,
           "rgb(244,165,130)"
          ],
          [
           0.4,
           "rgb(253,219,199)"
          ],
          [
           0.5,
           "rgb(247,247,247)"
          ],
          [
           0.6,
           "rgb(209,229,240)"
          ],
          [
           0.7,
           "rgb(146,197,222)"
          ],
          [
           0.8,
           "rgb(67,147,195)"
          ],
          [
           0.9,
           "rgb(33,102,172)"
          ],
          [
           1,
           "rgb(5,48,97)"
          ]
         ]
        },
        "template": {
         "data": {
          "bar": [
           {
            "error_x": {
             "color": "#2a3f5f"
            },
            "error_y": {
             "color": "#2a3f5f"
            },
            "marker": {
             "line": {
              "color": "#E5ECF6",
              "width": 0.5
             },
             "pattern": {
              "fillmode": "overlay",
              "size": 10,
              "solidity": 0.2
             }
            },
            "type": "bar"
           }
          ],
          "barpolar": [
           {
            "marker": {
             "line": {
              "color": "#E5ECF6",
              "width": 0.5
             },
             "pattern": {
              "fillmode": "overlay",
              "size": 10,
              "solidity": 0.2
             }
            },
            "type": "barpolar"
           }
          ],
          "carpet": [
           {
            "aaxis": {
             "endlinecolor": "#2a3f5f",
             "gridcolor": "white",
             "linecolor": "white",
             "minorgridcolor": "white",
             "startlinecolor": "#2a3f5f"
            },
            "baxis": {
             "endlinecolor": "#2a3f5f",
             "gridcolor": "white",
             "linecolor": "white",
             "minorgridcolor": "white",
             "startlinecolor": "#2a3f5f"
            },
            "type": "carpet"
           }
          ],
          "choropleth": [
           {
            "colorbar": {
             "outlinewidth": 0,
             "ticks": ""
            },
            "type": "choropleth"
           }
          ],
          "contour": [
           {
            "colorbar": {
             "outlinewidth": 0,
             "ticks": ""
            },
            "colorscale": [
             [
              0,
              "#0d0887"
             ],
             [
              0.1111111111111111,
              "#46039f"
             ],
             [
              0.2222222222222222,
              "#7201a8"
             ],
             [
              0.3333333333333333,
              "#9c179e"
             ],
             [
              0.4444444444444444,
              "#bd3786"
             ],
             [
              0.5555555555555556,
              "#d8576b"
             ],
             [
              0.6666666666666666,
              "#ed7953"
             ],
             [
              0.7777777777777778,
              "#fb9f3a"
             ],
             [
              0.8888888888888888,
              "#fdca26"
             ],
             [
              1,
              "#f0f921"
             ]
            ],
            "type": "contour"
           }
          ],
          "contourcarpet": [
           {
            "colorbar": {
             "outlinewidth": 0,
             "ticks": ""
            },
            "type": "contourcarpet"
           }
          ],
          "heatmap": [
           {
            "colorbar": {
             "outlinewidth": 0,
             "ticks": ""
            },
            "colorscale": [
             [
              0,
              "#0d0887"
             ],
             [
              0.1111111111111111,
              "#46039f"
             ],
             [
              0.2222222222222222,
              "#7201a8"
             ],
             [
              0.3333333333333333,
              "#9c179e"
             ],
             [
              0.4444444444444444,
              "#bd3786"
             ],
             [
              0.5555555555555556,
              "#d8576b"
             ],
             [
              0.6666666666666666,
              "#ed7953"
             ],
             [
              0.7777777777777778,
              "#fb9f3a"
             ],
             [
              0.8888888888888888,
              "#fdca26"
             ],
             [
              1,
              "#f0f921"
             ]
            ],
            "type": "heatmap"
           }
          ],
          "heatmapgl": [
           {
            "colorbar": {
             "outlinewidth": 0,
             "ticks": ""
            },
            "colorscale": [
             [
              0,
              "#0d0887"
             ],
             [
              0.1111111111111111,
              "#46039f"
             ],
             [
              0.2222222222222222,
              "#7201a8"
             ],
             [
              0.3333333333333333,
              "#9c179e"
             ],
             [
              0.4444444444444444,
              "#bd3786"
             ],
             [
              0.5555555555555556,
              "#d8576b"
             ],
             [
              0.6666666666666666,
              "#ed7953"
             ],
             [
              0.7777777777777778,
              "#fb9f3a"
             ],
             [
              0.8888888888888888,
              "#fdca26"
             ],
             [
              1,
              "#f0f921"
             ]
            ],
            "type": "heatmapgl"
           }
          ],
          "histogram": [
           {
            "marker": {
             "pattern": {
              "fillmode": "overlay",
              "size": 10,
              "solidity": 0.2
             }
            },
            "type": "histogram"
           }
          ],
          "histogram2d": [
           {
            "colorbar": {
             "outlinewidth": 0,
             "ticks": ""
            },
            "colorscale": [
             [
              0,
              "#0d0887"
             ],
             [
              0.1111111111111111,
              "#46039f"
             ],
             [
              0.2222222222222222,
              "#7201a8"
             ],
             [
              0.3333333333333333,
              "#9c179e"
             ],
             [
              0.4444444444444444,
              "#bd3786"
             ],
             [
              0.5555555555555556,
              "#d8576b"
             ],
             [
              0.6666666666666666,
              "#ed7953"
             ],
             [
              0.7777777777777778,
              "#fb9f3a"
             ],
             [
              0.8888888888888888,
              "#fdca26"
             ],
             [
              1,
              "#f0f921"
             ]
            ],
            "type": "histogram2d"
           }
          ],
          "histogram2dcontour": [
           {
            "colorbar": {
             "outlinewidth": 0,
             "ticks": ""
            },
            "colorscale": [
             [
              0,
              "#0d0887"
             ],
             [
              0.1111111111111111,
              "#46039f"
             ],
             [
              0.2222222222222222,
              "#7201a8"
             ],
             [
              0.3333333333333333,
              "#9c179e"
             ],
             [
              0.4444444444444444,
              "#bd3786"
             ],
             [
              0.5555555555555556,
              "#d8576b"
             ],
             [
              0.6666666666666666,
              "#ed7953"
             ],
             [
              0.7777777777777778,
              "#fb9f3a"
             ],
             [
              0.8888888888888888,
              "#fdca26"
             ],
             [
              1,
              "#f0f921"
             ]
            ],
            "type": "histogram2dcontour"
           }
          ],
          "mesh3d": [
           {
            "colorbar": {
             "outlinewidth": 0,
             "ticks": ""
            },
            "type": "mesh3d"
           }
          ],
          "parcoords": [
           {
            "line": {
             "colorbar": {
              "outlinewidth": 0,
              "ticks": ""
             }
            },
            "type": "parcoords"
           }
          ],
          "pie": [
           {
            "automargin": true,
            "type": "pie"
           }
          ],
          "scatter": [
           {
            "fillpattern": {
             "fillmode": "overlay",
             "size": 10,
             "solidity": 0.2
            },
            "type": "scatter"
           }
          ],
          "scatter3d": [
           {
            "line": {
             "colorbar": {
              "outlinewidth": 0,
              "ticks": ""
             }
            },
            "marker": {
             "colorbar": {
              "outlinewidth": 0,
              "ticks": ""
             }
            },
            "type": "scatter3d"
           }
          ],
          "scattercarpet": [
           {
            "marker": {
             "colorbar": {
              "outlinewidth": 0,
              "ticks": ""
             }
            },
            "type": "scattercarpet"
           }
          ],
          "scattergeo": [
           {
            "marker": {
             "colorbar": {
              "outlinewidth": 0,
              "ticks": ""
             }
            },
            "type": "scattergeo"
           }
          ],
          "scattergl": [
           {
            "marker": {
             "colorbar": {
              "outlinewidth": 0,
              "ticks": ""
             }
            },
            "type": "scattergl"
           }
          ],
          "scattermapbox": [
           {
            "marker": {
             "colorbar": {
              "outlinewidth": 0,
              "ticks": ""
             }
            },
            "type": "scattermapbox"
           }
          ],
          "scatterpolar": [
           {
            "marker": {
             "colorbar": {
              "outlinewidth": 0,
              "ticks": ""
             }
            },
            "type": "scatterpolar"
           }
          ],
          "scatterpolargl": [
           {
            "marker": {
             "colorbar": {
              "outlinewidth": 0,
              "ticks": ""
             }
            },
            "type": "scatterpolargl"
           }
          ],
          "scatterternary": [
           {
            "marker": {
             "colorbar": {
              "outlinewidth": 0,
              "ticks": ""
             }
            },
            "type": "scatterternary"
           }
          ],
          "surface": [
           {
            "colorbar": {
             "outlinewidth": 0,
             "ticks": ""
            },
            "colorscale": [
             [
              0,
              "#0d0887"
             ],
             [
              0.1111111111111111,
              "#46039f"
             ],
             [
              0.2222222222222222,
              "#7201a8"
             ],
             [
              0.3333333333333333,
              "#9c179e"
             ],
             [
              0.4444444444444444,
              "#bd3786"
             ],
             [
              0.5555555555555556,
              "#d8576b"
             ],
             [
              0.6666666666666666,
              "#ed7953"
             ],
             [
              0.7777777777777778,
              "#fb9f3a"
             ],
             [
              0.8888888888888888,
              "#fdca26"
             ],
             [
              1,
              "#f0f921"
             ]
            ],
            "type": "surface"
           }
          ],
          "table": [
           {
            "cells": {
             "fill": {
              "color": "#EBF0F8"
             },
             "line": {
              "color": "white"
             }
            },
            "header": {
             "fill": {
              "color": "#C8D4E3"
             },
             "line": {
              "color": "white"
             }
            },
            "type": "table"
           }
          ]
         },
         "layout": {
          "annotationdefaults": {
           "arrowcolor": "#2a3f5f",
           "arrowhead": 0,
           "arrowwidth": 1
          },
          "autotypenumbers": "strict",
          "coloraxis": {
           "colorbar": {
            "outlinewidth": 0,
            "ticks": ""
           }
          },
          "colorscale": {
           "diverging": [
            [
             0,
             "#8e0152"
            ],
            [
             0.1,
             "#c51b7d"
            ],
            [
             0.2,
             "#de77ae"
            ],
            [
             0.3,
             "#f1b6da"
            ],
            [
             0.4,
             "#fde0ef"
            ],
            [
             0.5,
             "#f7f7f7"
            ],
            [
             0.6,
             "#e6f5d0"
            ],
            [
             0.7,
             "#b8e186"
            ],
            [
             0.8,
             "#7fbc41"
            ],
            [
             0.9,
             "#4d9221"
            ],
            [
             1,
             "#276419"
            ]
           ],
           "sequential": [
            [
             0,
             "#0d0887"
            ],
            [
             0.1111111111111111,
             "#46039f"
            ],
            [
             0.2222222222222222,
             "#7201a8"
            ],
            [
             0.3333333333333333,
             "#9c179e"
            ],
            [
             0.4444444444444444,
             "#bd3786"
            ],
            [
             0.5555555555555556,
             "#d8576b"
            ],
            [
             0.6666666666666666,
             "#ed7953"
            ],
            [
             0.7777777777777778,
             "#fb9f3a"
            ],
            [
             0.8888888888888888,
             "#fdca26"
            ],
            [
             1,
             "#f0f921"
            ]
           ],
           "sequentialminus": [
            [
             0,
             "#0d0887"
            ],
            [
             0.1111111111111111,
             "#46039f"
            ],
            [
             0.2222222222222222,
             "#7201a8"
            ],
            [
             0.3333333333333333,
             "#9c179e"
            ],
            [
             0.4444444444444444,
             "#bd3786"
            ],
            [
             0.5555555555555556,
             "#d8576b"
            ],
            [
             0.6666666666666666,
             "#ed7953"
            ],
            [
             0.7777777777777778,
             "#fb9f3a"
            ],
            [
             0.8888888888888888,
             "#fdca26"
            ],
            [
             1,
             "#f0f921"
            ]
           ]
          },
          "colorway": [
           "#636efa",
           "#EF553B",
           "#00cc96",
           "#ab63fa",
           "#FFA15A",
           "#19d3f3",
           "#FF6692",
           "#B6E880",
           "#FF97FF",
           "#FECB52"
          ],
          "font": {
           "color": "#2a3f5f"
          },
          "geo": {
           "bgcolor": "white",
           "lakecolor": "white",
           "landcolor": "#E5ECF6",
           "showlakes": true,
           "showland": true,
           "subunitcolor": "white"
          },
          "hoverlabel": {
           "align": "left"
          },
          "hovermode": "closest",
          "mapbox": {
           "style": "light"
          },
          "paper_bgcolor": "white",
          "plot_bgcolor": "#E5ECF6",
          "polar": {
           "angularaxis": {
            "gridcolor": "white",
            "linecolor": "white",
            "ticks": ""
           },
           "bgcolor": "#E5ECF6",
           "radialaxis": {
            "gridcolor": "white",
            "linecolor": "white",
            "ticks": ""
           }
          },
          "scene": {
           "xaxis": {
            "backgroundcolor": "#E5ECF6",
            "gridcolor": "white",
            "gridwidth": 2,
            "linecolor": "white",
            "showbackground": true,
            "ticks": "",
            "zerolinecolor": "white"
           },
           "yaxis": {
            "backgroundcolor": "#E5ECF6",
            "gridcolor": "white",
            "gridwidth": 2,
            "linecolor": "white",
            "showbackground": true,
            "ticks": "",
            "zerolinecolor": "white"
           },
           "zaxis": {
            "backgroundcolor": "#E5ECF6",
            "gridcolor": "white",
            "gridwidth": 2,
            "linecolor": "white",
            "showbackground": true,
            "ticks": "",
            "zerolinecolor": "white"
           }
          },
          "shapedefaults": {
           "line": {
            "color": "#2a3f5f"
           }
          },
          "ternary": {
           "aaxis": {
            "gridcolor": "white",
            "linecolor": "white",
            "ticks": ""
           },
           "baxis": {
            "gridcolor": "white",
            "linecolor": "white",
            "ticks": ""
           },
           "bgcolor": "#E5ECF6",
           "caxis": {
            "gridcolor": "white",
            "linecolor": "white",
            "ticks": ""
           }
          },
          "title": {
           "x": 0.05
          },
          "xaxis": {
           "automargin": true,
           "gridcolor": "white",
           "linecolor": "white",
           "ticks": "",
           "title": {
            "standoff": 15
           },
           "zerolinecolor": "white",
           "zerolinewidth": 2
          },
          "yaxis": {
           "automargin": true,
           "gridcolor": "white",
           "linecolor": "white",
           "ticks": "",
           "title": {
            "standoff": 15
           },
           "zerolinecolor": "white",
           "zerolinewidth": 2
          }
         }
        },
        "title": {
         "text": "Mean Attribution of Key Heads (First Half)"
        },
        "xaxis": {
         "anchor": "y",
         "domain": [
          0,
          1
         ],
         "title": {
          "text": "Latent Index"
         }
        },
        "yaxis": {
         "anchor": "x",
         "autorange": "reversed",
         "domain": [
          0,
          1
         ],
         "title": {
          "text": "Layer"
         }
        }
       }
      }
     },
     "metadata": {},
     "output_type": "display_data"
    },
    {
     "data": {
      "application/vnd.plotly.v1+json": {
       "config": {
        "plotlyServerURL": "https://plot.ly"
       },
       "data": [
        {
         "coloraxis": "coloraxis",
         "hovertemplate": "x: %{x}<br>y: %{y}<br>color: %{z}<extra></extra>",
         "name": "0",
         "type": "heatmap",
         "xaxis": "x",
         "yaxis": "y",
         "z": [
          [
           0.015258789,
           -0.01361084,
           -0.0044555664,
           -0.35351562,
           -0.0043945312,
           0.02319336,
           0.067871094,
           -0.13574219
          ],
          [
           -0.07470703,
           -0.375,
           -0.018432617,
           -0.19921875,
           -0.10449219,
           0.12011719,
           0.027832031,
           -0.122558594
          ],
          [
           0.040039062,
           -0.49414062,
           0.05517578,
           -0.17773438,
           0.39257812,
           -0.075683594,
           -0.15527344,
           -0.41601562
          ],
          [
           0.006713867,
           0.13378906,
           0.009521484,
           0.036865234,
           0.47070312,
           -0.05078125,
           0.1484375,
           0.115234375
          ],
          [
           -0.35351562,
           0.21875,
           -0.115722656,
           -0.041503906,
           -0.38671875,
           0.19042969,
           0.11328125,
           -0.96875
          ],
          [
           -0.041503906,
           -0.421875,
           -0.40820312,
           0.390625,
           -0.01928711,
           0.013244629,
           -1,
           -0.22265625
          ],
          [
           -0.43554688,
           -0.62890625,
           0.57421875,
           -0.115722656,
           0.66015625,
           0.23828125,
           -0.07373047,
           0.15136719
          ],
          [
           -0.011962891,
           0.921875,
           0.19433594,
           2.0625,
           -0.14648438,
           0.005645752,
           0.31445312,
           0.09277344
          ],
          [
           -0.26953125,
           1.1875,
           0.19824219,
           -0.095703125,
           -0.5625,
           0.67578125,
           -0.38867188,
           -0.13964844
          ],
          [
           -0.30273438,
           -0.03149414,
           0.0134887695,
           -0.34765625,
           0.18847656,
           -0.94140625,
           -0.15917969,
           1.03125
          ],
          [
           -0.9609375,
           0.78125,
           0.31640625,
           0.023803711,
           -0.890625,
           1.3046875,
           -0.072753906,
           0.20117188
          ],
          [
           -0.21972656,
           -0.022094727,
           -0.87109375,
           -0.21679688,
           0.62109375,
           0.12597656,
           -0.625,
           0.045898438
          ],
          [
           0.20703125,
           -0.10058594,
           -1.25,
           0.16308594,
           0.0859375,
           -0.18652344,
           -0.8203125,
           -0.13378906
          ],
          [
           1.5625,
           -0.83984375,
           0.019897461,
           0.15136719,
           -0.13769531,
           0.9375,
           -0.10839844,
           -0.45117188
          ],
          [
           1.8046875,
           0.27734375,
           -0.37304688,
           0.36132812,
           0.059326172,
           -0.014160156,
           -1.046875,
           0.042236328
          ],
          [
           -0.027954102,
           -1.4453125,
           -1.0546875,
           -0.21289062,
           0.2421875,
           -3.140625,
           -0.25976562,
           -0.71875
          ],
          [
           0.095703125,
           -1.125,
           1.40625,
           -0.30273438,
           0.4375,
           -0.859375,
           -0.12890625,
           -0.21777344
          ],
          [
           -0.16992188,
           0.78125,
           -0.24804688,
           -0.2265625,
           -0.3203125,
           -0.16601562,
           -0.27929688,
           0.05810547
          ],
          [
           0.15722656,
           1.1328125,
           -0.5546875,
           1.8828125,
           -0.17675781,
           -1.390625,
           1.6328125,
           0.69921875
          ],
          [
           -0.53125,
           0.29882812,
           0.5390625,
           -0.0063171387,
           -0.76171875,
           -0.23535156,
           -0.07714844,
           0.001121521
          ],
          [
           -0.08496094,
           0.008239746,
           0.828125,
           1.1953125,
           -2.875,
           -0.890625,
           -0.94921875,
           -1.7265625
          ],
          [
           1.1171875,
           -1.3125,
           -2.03125,
           0.3359375,
           -0.22167969,
           0.15136719,
           0.85546875,
           0.5
          ],
          [
           -1.0078125,
           -1.2734375,
           0.28320312,
           0.1953125,
           0.19433594,
           0.13964844,
           0.859375,
           -0.921875
          ],
          [
           -0.171875,
           0.484375,
           0.25390625,
           -0.059326172,
           0.21875,
           -1.4453125,
           -0.29101562,
           0.25195312
          ],
          [
           -0.21484375,
           1.8515625,
           -0.97265625,
           -0.059570312,
           -0.39453125,
           0.20605469,
           0.13476562,
           -2.953125
          ],
          [
           2.25,
           0.059570312,
           0.38867188,
           1.3671875,
           -2.859375,
           1.59375,
           0.14453125,
           0.012390137
          ],
          [
           -0.20019531,
           1.578125,
           4.25,
           0.28710938,
           0.1796875,
           -0.068359375,
           -0.79296875,
           0.44335938
          ]
         ]
        }
       ],
       "layout": {
        "coloraxis": {
         "cmid": 0,
         "colorscale": [
          [
           0,
           "rgb(103,0,31)"
          ],
          [
           0.1,
           "rgb(178,24,43)"
          ],
          [
           0.2,
           "rgb(214,96,77)"
          ],
          [
           0.3,
           "rgb(244,165,130)"
          ],
          [
           0.4,
           "rgb(253,219,199)"
          ],
          [
           0.5,
           "rgb(247,247,247)"
          ],
          [
           0.6,
           "rgb(209,229,240)"
          ],
          [
           0.7,
           "rgb(146,197,222)"
          ],
          [
           0.8,
           "rgb(67,147,195)"
          ],
          [
           0.9,
           "rgb(33,102,172)"
          ],
          [
           1,
           "rgb(5,48,97)"
          ]
         ]
        },
        "template": {
         "data": {
          "bar": [
           {
            "error_x": {
             "color": "#2a3f5f"
            },
            "error_y": {
             "color": "#2a3f5f"
            },
            "marker": {
             "line": {
              "color": "#E5ECF6",
              "width": 0.5
             },
             "pattern": {
              "fillmode": "overlay",
              "size": 10,
              "solidity": 0.2
             }
            },
            "type": "bar"
           }
          ],
          "barpolar": [
           {
            "marker": {
             "line": {
              "color": "#E5ECF6",
              "width": 0.5
             },
             "pattern": {
              "fillmode": "overlay",
              "size": 10,
              "solidity": 0.2
             }
            },
            "type": "barpolar"
           }
          ],
          "carpet": [
           {
            "aaxis": {
             "endlinecolor": "#2a3f5f",
             "gridcolor": "white",
             "linecolor": "white",
             "minorgridcolor": "white",
             "startlinecolor": "#2a3f5f"
            },
            "baxis": {
             "endlinecolor": "#2a3f5f",
             "gridcolor": "white",
             "linecolor": "white",
             "minorgridcolor": "white",
             "startlinecolor": "#2a3f5f"
            },
            "type": "carpet"
           }
          ],
          "choropleth": [
           {
            "colorbar": {
             "outlinewidth": 0,
             "ticks": ""
            },
            "type": "choropleth"
           }
          ],
          "contour": [
           {
            "colorbar": {
             "outlinewidth": 0,
             "ticks": ""
            },
            "colorscale": [
             [
              0,
              "#0d0887"
             ],
             [
              0.1111111111111111,
              "#46039f"
             ],
             [
              0.2222222222222222,
              "#7201a8"
             ],
             [
              0.3333333333333333,
              "#9c179e"
             ],
             [
              0.4444444444444444,
              "#bd3786"
             ],
             [
              0.5555555555555556,
              "#d8576b"
             ],
             [
              0.6666666666666666,
              "#ed7953"
             ],
             [
              0.7777777777777778,
              "#fb9f3a"
             ],
             [
              0.8888888888888888,
              "#fdca26"
             ],
             [
              1,
              "#f0f921"
             ]
            ],
            "type": "contour"
           }
          ],
          "contourcarpet": [
           {
            "colorbar": {
             "outlinewidth": 0,
             "ticks": ""
            },
            "type": "contourcarpet"
           }
          ],
          "heatmap": [
           {
            "colorbar": {
             "outlinewidth": 0,
             "ticks": ""
            },
            "colorscale": [
             [
              0,
              "#0d0887"
             ],
             [
              0.1111111111111111,
              "#46039f"
             ],
             [
              0.2222222222222222,
              "#7201a8"
             ],
             [
              0.3333333333333333,
              "#9c179e"
             ],
             [
              0.4444444444444444,
              "#bd3786"
             ],
             [
              0.5555555555555556,
              "#d8576b"
             ],
             [
              0.6666666666666666,
              "#ed7953"
             ],
             [
              0.7777777777777778,
              "#fb9f3a"
             ],
             [
              0.8888888888888888,
              "#fdca26"
             ],
             [
              1,
              "#f0f921"
             ]
            ],
            "type": "heatmap"
           }
          ],
          "heatmapgl": [
           {
            "colorbar": {
             "outlinewidth": 0,
             "ticks": ""
            },
            "colorscale": [
             [
              0,
              "#0d0887"
             ],
             [
              0.1111111111111111,
              "#46039f"
             ],
             [
              0.2222222222222222,
              "#7201a8"
             ],
             [
              0.3333333333333333,
              "#9c179e"
             ],
             [
              0.4444444444444444,
              "#bd3786"
             ],
             [
              0.5555555555555556,
              "#d8576b"
             ],
             [
              0.6666666666666666,
              "#ed7953"
             ],
             [
              0.7777777777777778,
              "#fb9f3a"
             ],
             [
              0.8888888888888888,
              "#fdca26"
             ],
             [
              1,
              "#f0f921"
             ]
            ],
            "type": "heatmapgl"
           }
          ],
          "histogram": [
           {
            "marker": {
             "pattern": {
              "fillmode": "overlay",
              "size": 10,
              "solidity": 0.2
             }
            },
            "type": "histogram"
           }
          ],
          "histogram2d": [
           {
            "colorbar": {
             "outlinewidth": 0,
             "ticks": ""
            },
            "colorscale": [
             [
              0,
              "#0d0887"
             ],
             [
              0.1111111111111111,
              "#46039f"
             ],
             [
              0.2222222222222222,
              "#7201a8"
             ],
             [
              0.3333333333333333,
              "#9c179e"
             ],
             [
              0.4444444444444444,
              "#bd3786"
             ],
             [
              0.5555555555555556,
              "#d8576b"
             ],
             [
              0.6666666666666666,
              "#ed7953"
             ],
             [
              0.7777777777777778,
              "#fb9f3a"
             ],
             [
              0.8888888888888888,
              "#fdca26"
             ],
             [
              1,
              "#f0f921"
             ]
            ],
            "type": "histogram2d"
           }
          ],
          "histogram2dcontour": [
           {
            "colorbar": {
             "outlinewidth": 0,
             "ticks": ""
            },
            "colorscale": [
             [
              0,
              "#0d0887"
             ],
             [
              0.1111111111111111,
              "#46039f"
             ],
             [
              0.2222222222222222,
              "#7201a8"
             ],
             [
              0.3333333333333333,
              "#9c179e"
             ],
             [
              0.4444444444444444,
              "#bd3786"
             ],
             [
              0.5555555555555556,
              "#d8576b"
             ],
             [
              0.6666666666666666,
              "#ed7953"
             ],
             [
              0.7777777777777778,
              "#fb9f3a"
             ],
             [
              0.8888888888888888,
              "#fdca26"
             ],
             [
              1,
              "#f0f921"
             ]
            ],
            "type": "histogram2dcontour"
           }
          ],
          "mesh3d": [
           {
            "colorbar": {
             "outlinewidth": 0,
             "ticks": ""
            },
            "type": "mesh3d"
           }
          ],
          "parcoords": [
           {
            "line": {
             "colorbar": {
              "outlinewidth": 0,
              "ticks": ""
             }
            },
            "type": "parcoords"
           }
          ],
          "pie": [
           {
            "automargin": true,
            "type": "pie"
           }
          ],
          "scatter": [
           {
            "fillpattern": {
             "fillmode": "overlay",
             "size": 10,
             "solidity": 0.2
            },
            "type": "scatter"
           }
          ],
          "scatter3d": [
           {
            "line": {
             "colorbar": {
              "outlinewidth": 0,
              "ticks": ""
             }
            },
            "marker": {
             "colorbar": {
              "outlinewidth": 0,
              "ticks": ""
             }
            },
            "type": "scatter3d"
           }
          ],
          "scattercarpet": [
           {
            "marker": {
             "colorbar": {
              "outlinewidth": 0,
              "ticks": ""
             }
            },
            "type": "scattercarpet"
           }
          ],
          "scattergeo": [
           {
            "marker": {
             "colorbar": {
              "outlinewidth": 0,
              "ticks": ""
             }
            },
            "type": "scattergeo"
           }
          ],
          "scattergl": [
           {
            "marker": {
             "colorbar": {
              "outlinewidth": 0,
              "ticks": ""
             }
            },
            "type": "scattergl"
           }
          ],
          "scattermapbox": [
           {
            "marker": {
             "colorbar": {
              "outlinewidth": 0,
              "ticks": ""
             }
            },
            "type": "scattermapbox"
           }
          ],
          "scatterpolar": [
           {
            "marker": {
             "colorbar": {
              "outlinewidth": 0,
              "ticks": ""
             }
            },
            "type": "scatterpolar"
           }
          ],
          "scatterpolargl": [
           {
            "marker": {
             "colorbar": {
              "outlinewidth": 0,
              "ticks": ""
             }
            },
            "type": "scatterpolargl"
           }
          ],
          "scatterternary": [
           {
            "marker": {
             "colorbar": {
              "outlinewidth": 0,
              "ticks": ""
             }
            },
            "type": "scatterternary"
           }
          ],
          "surface": [
           {
            "colorbar": {
             "outlinewidth": 0,
             "ticks": ""
            },
            "colorscale": [
             [
              0,
              "#0d0887"
             ],
             [
              0.1111111111111111,
              "#46039f"
             ],
             [
              0.2222222222222222,
              "#7201a8"
             ],
             [
              0.3333333333333333,
              "#9c179e"
             ],
             [
              0.4444444444444444,
              "#bd3786"
             ],
             [
              0.5555555555555556,
              "#d8576b"
             ],
             [
              0.6666666666666666,
              "#ed7953"
             ],
             [
              0.7777777777777778,
              "#fb9f3a"
             ],
             [
              0.8888888888888888,
              "#fdca26"
             ],
             [
              1,
              "#f0f921"
             ]
            ],
            "type": "surface"
           }
          ],
          "table": [
           {
            "cells": {
             "fill": {
              "color": "#EBF0F8"
             },
             "line": {
              "color": "white"
             }
            },
            "header": {
             "fill": {
              "color": "#C8D4E3"
             },
             "line": {
              "color": "white"
             }
            },
            "type": "table"
           }
          ]
         },
         "layout": {
          "annotationdefaults": {
           "arrowcolor": "#2a3f5f",
           "arrowhead": 0,
           "arrowwidth": 1
          },
          "autotypenumbers": "strict",
          "coloraxis": {
           "colorbar": {
            "outlinewidth": 0,
            "ticks": ""
           }
          },
          "colorscale": {
           "diverging": [
            [
             0,
             "#8e0152"
            ],
            [
             0.1,
             "#c51b7d"
            ],
            [
             0.2,
             "#de77ae"
            ],
            [
             0.3,
             "#f1b6da"
            ],
            [
             0.4,
             "#fde0ef"
            ],
            [
             0.5,
             "#f7f7f7"
            ],
            [
             0.6,
             "#e6f5d0"
            ],
            [
             0.7,
             "#b8e186"
            ],
            [
             0.8,
             "#7fbc41"
            ],
            [
             0.9,
             "#4d9221"
            ],
            [
             1,
             "#276419"
            ]
           ],
           "sequential": [
            [
             0,
             "#0d0887"
            ],
            [
             0.1111111111111111,
             "#46039f"
            ],
            [
             0.2222222222222222,
             "#7201a8"
            ],
            [
             0.3333333333333333,
             "#9c179e"
            ],
            [
             0.4444444444444444,
             "#bd3786"
            ],
            [
             0.5555555555555556,
             "#d8576b"
            ],
            [
             0.6666666666666666,
             "#ed7953"
            ],
            [
             0.7777777777777778,
             "#fb9f3a"
            ],
            [
             0.8888888888888888,
             "#fdca26"
            ],
            [
             1,
             "#f0f921"
            ]
           ],
           "sequentialminus": [
            [
             0,
             "#0d0887"
            ],
            [
             0.1111111111111111,
             "#46039f"
            ],
            [
             0.2222222222222222,
             "#7201a8"
            ],
            [
             0.3333333333333333,
             "#9c179e"
            ],
            [
             0.4444444444444444,
             "#bd3786"
            ],
            [
             0.5555555555555556,
             "#d8576b"
            ],
            [
             0.6666666666666666,
             "#ed7953"
            ],
            [
             0.7777777777777778,
             "#fb9f3a"
            ],
            [
             0.8888888888888888,
             "#fdca26"
            ],
            [
             1,
             "#f0f921"
            ]
           ]
          },
          "colorway": [
           "#636efa",
           "#EF553B",
           "#00cc96",
           "#ab63fa",
           "#FFA15A",
           "#19d3f3",
           "#FF6692",
           "#B6E880",
           "#FF97FF",
           "#FECB52"
          ],
          "font": {
           "color": "#2a3f5f"
          },
          "geo": {
           "bgcolor": "white",
           "lakecolor": "white",
           "landcolor": "#E5ECF6",
           "showlakes": true,
           "showland": true,
           "subunitcolor": "white"
          },
          "hoverlabel": {
           "align": "left"
          },
          "hovermode": "closest",
          "mapbox": {
           "style": "light"
          },
          "paper_bgcolor": "white",
          "plot_bgcolor": "#E5ECF6",
          "polar": {
           "angularaxis": {
            "gridcolor": "white",
            "linecolor": "white",
            "ticks": ""
           },
           "bgcolor": "#E5ECF6",
           "radialaxis": {
            "gridcolor": "white",
            "linecolor": "white",
            "ticks": ""
           }
          },
          "scene": {
           "xaxis": {
            "backgroundcolor": "#E5ECF6",
            "gridcolor": "white",
            "gridwidth": 2,
            "linecolor": "white",
            "showbackground": true,
            "ticks": "",
            "zerolinecolor": "white"
           },
           "yaxis": {
            "backgroundcolor": "#E5ECF6",
            "gridcolor": "white",
            "gridwidth": 2,
            "linecolor": "white",
            "showbackground": true,
            "ticks": "",
            "zerolinecolor": "white"
           },
           "zaxis": {
            "backgroundcolor": "#E5ECF6",
            "gridcolor": "white",
            "gridwidth": 2,
            "linecolor": "white",
            "showbackground": true,
            "ticks": "",
            "zerolinecolor": "white"
           }
          },
          "shapedefaults": {
           "line": {
            "color": "#2a3f5f"
           }
          },
          "ternary": {
           "aaxis": {
            "gridcolor": "white",
            "linecolor": "white",
            "ticks": ""
           },
           "baxis": {
            "gridcolor": "white",
            "linecolor": "white",
            "ticks": ""
           },
           "bgcolor": "#E5ECF6",
           "caxis": {
            "gridcolor": "white",
            "linecolor": "white",
            "ticks": ""
           }
          },
          "title": {
           "x": 0.05
          },
          "xaxis": {
           "automargin": true,
           "gridcolor": "white",
           "linecolor": "white",
           "ticks": "",
           "title": {
            "standoff": 15
           },
           "zerolinecolor": "white",
           "zerolinewidth": 2
          },
          "yaxis": {
           "automargin": true,
           "gridcolor": "white",
           "linecolor": "white",
           "ticks": "",
           "title": {
            "standoff": 15
           },
           "zerolinecolor": "white",
           "zerolinewidth": 2
          }
         }
        },
        "title": {
         "text": "Mean Attribution of Key Heads (Second Half)"
        },
        "xaxis": {
         "anchor": "y",
         "domain": [
          0,
          1
         ],
         "title": {
          "text": "Latent Index"
         }
        },
        "yaxis": {
         "anchor": "x",
         "autorange": "reversed",
         "domain": [
          0,
          1
         ],
         "title": {
          "text": "Layer"
         }
        }
       }
      }
     },
     "metadata": {},
     "output_type": "display_data"
    }
   ],
   "source": [
    "from utils.neel_plotly import imshow\n",
    "imshow(sum_head_vectors_first_half[\"k\"].mean(dim=0), xaxis=\"Latent Index\", yaxis=\"Layer\", title=\"Mean Attribution of Key Heads (First Half)\")\n",
    "# imshow(sum_head_vectors_first_half[\"k\"].std(dim=0), xaxis=\"Latent Index\", yaxis=\"Layer\", title=\"Std Attribution of Key Heads (First Half)\")\n",
    "imshow(sum_head_vectors_second_half[\"k\"].mean(dim=0), xaxis=\"Latent Index\", yaxis=\"Layer\", title=\"Mean Attribution of Key Heads (Second Half)\")\n",
    "# imshow(sum_head_vectors_first_half[\"q\"].std(dim=0), xaxis=\"Latent Index\", yaxis=\"Layer\", title=\"Std Attribution of Query Heads (First Half)\")"
   ]
  },
  {
   "cell_type": "code",
   "execution_count": 11,
   "metadata": {},
   "outputs": [
    {
     "data": {
      "application/vnd.plotly.v1+json": {
       "config": {
        "plotlyServerURL": "https://plot.ly"
       },
       "data": [
        {
         "hovertemplate": "x=%{x}<br>y=%{y}<extra></extra>",
         "legendgroup": "",
         "line": {
          "color": "#636efa",
          "dash": "solid"
         },
         "marker": {
          "symbol": "circle"
         },
         "mode": "lines",
         "name": "",
         "orientation": "v",
         "showlegend": false,
         "type": "scatter",
         "x": [
          0,
          1,
          2,
          3,
          4,
          5,
          6,
          7,
          8,
          9,
          10,
          11,
          12,
          13,
          14,
          15,
          16,
          17,
          18,
          19,
          20,
          21,
          22,
          23,
          24,
          25,
          26,
          27,
          28,
          29,
          30,
          31,
          32,
          33,
          34,
          35,
          36,
          37,
          38,
          39,
          40,
          41,
          42,
          43,
          44,
          45,
          46,
          47,
          48,
          49,
          50,
          51,
          52,
          53,
          54,
          55,
          56,
          57,
          58,
          59,
          60,
          61,
          62,
          63,
          64,
          65,
          66,
          67,
          68,
          69,
          70,
          71,
          72,
          73,
          74,
          75,
          76,
          77,
          78,
          79,
          80,
          81,
          82,
          83,
          84,
          85,
          86,
          87,
          88,
          89,
          90,
          91,
          92,
          93,
          94,
          95,
          96,
          97,
          98,
          99,
          100,
          101,
          102,
          103,
          104,
          105,
          106,
          107,
          108,
          109,
          110,
          111,
          112,
          113,
          114,
          115,
          116,
          117,
          118,
          119,
          120,
          121,
          122,
          123,
          124,
          125,
          126,
          127,
          128,
          129,
          130,
          131,
          132,
          133,
          134,
          135,
          136,
          137,
          138,
          139,
          140,
          141,
          142,
          143,
          144,
          145,
          146,
          147,
          148,
          149,
          150,
          151,
          152,
          153,
          154,
          155,
          156,
          157,
          158,
          159,
          160,
          161,
          162,
          163,
          164,
          165,
          166,
          167,
          168,
          169,
          170,
          171,
          172,
          173,
          174,
          175,
          176,
          177,
          178,
          179,
          180,
          181,
          182,
          183,
          184,
          185,
          186,
          187,
          188,
          189,
          190,
          191,
          192,
          193,
          194,
          195,
          196,
          197,
          198,
          199,
          200,
          201,
          202,
          203,
          204,
          205,
          206,
          207,
          208,
          209,
          210,
          211,
          212,
          213,
          214,
          215,
          216,
          217,
          218,
          219,
          220,
          221,
          222,
          223,
          224,
          225,
          226,
          227,
          228,
          229,
          230,
          231,
          232,
          233,
          234,
          235,
          236,
          237,
          238,
          239,
          240,
          241,
          242,
          243,
          244,
          245,
          246,
          247,
          248,
          249,
          250,
          251,
          252,
          253,
          254,
          255,
          256,
          257,
          258,
          259,
          260,
          261,
          262,
          263,
          264,
          265,
          266,
          267,
          268,
          269,
          270,
          271,
          272,
          273,
          274,
          275,
          276,
          277,
          278,
          279,
          280,
          281,
          282,
          283,
          284,
          285,
          286,
          287,
          288,
          289,
          290,
          291,
          292,
          293,
          294,
          295,
          296,
          297,
          298,
          299,
          300,
          301,
          302,
          303,
          304,
          305,
          306,
          307,
          308,
          309,
          310,
          311,
          312,
          313,
          314,
          315,
          316,
          317,
          318,
          319,
          320,
          321,
          322,
          323,
          324,
          325,
          326,
          327,
          328,
          329,
          330,
          331,
          332,
          333,
          334,
          335,
          336,
          337,
          338,
          339,
          340,
          341,
          342,
          343,
          344,
          345,
          346,
          347,
          348,
          349,
          350,
          351,
          352,
          353,
          354,
          355,
          356,
          357,
          358,
          359,
          360,
          361,
          362,
          363,
          364,
          365,
          366,
          367,
          368,
          369,
          370,
          371,
          372,
          373,
          374,
          375,
          376,
          377,
          378,
          379,
          380,
          381,
          382,
          383,
          384,
          385,
          386,
          387,
          388,
          389,
          390,
          391,
          392,
          393,
          394,
          395,
          396,
          397,
          398,
          399,
          400,
          401,
          402,
          403,
          404,
          405,
          406,
          407,
          408,
          409,
          410,
          411,
          412,
          413,
          414,
          415,
          416,
          417,
          418,
          419,
          420,
          421,
          422,
          423,
          424,
          425,
          426,
          427,
          428,
          429,
          430,
          431
         ],
         "xaxis": "x",
         "y": [
          0.7734375,
          0.58203125,
          0.56640625,
          0.52734375,
          0.515625,
          0.404296875,
          0.392578125,
          0.3515625,
          0.33984375,
          0.337890625,
          0.328125,
          0.310546875,
          0.287109375,
          0.28125,
          0.275390625,
          0.26171875,
          0.26171875,
          0.259765625,
          0.2578125,
          0.2490234375,
          0.244140625,
          0.2275390625,
          0.224609375,
          0.224609375,
          0.22265625,
          0.2216796875,
          0.2216796875,
          0.2177734375,
          0.2138671875,
          0.2119140625,
          0.197265625,
          0.1953125,
          0.19140625,
          0.1806640625,
          0.1796875,
          0.1787109375,
          0.1787109375,
          0.17578125,
          0.1728515625,
          0.1708984375,
          0.1708984375,
          0.169921875,
          0.169921875,
          0.16796875,
          0.16796875,
          0.166015625,
          0.1650390625,
          0.1640625,
          0.1630859375,
          0.162109375,
          0.1611328125,
          0.1611328125,
          0.16015625,
          0.16015625,
          0.1591796875,
          0.1572265625,
          0.1552734375,
          0.1533203125,
          0.15234375,
          0.1513671875,
          0.1513671875,
          0.1513671875,
          0.150390625,
          0.1494140625,
          0.1494140625,
          0.142578125,
          0.1416015625,
          0.140625,
          0.1376953125,
          0.134765625,
          0.1337890625,
          0.1337890625,
          0.1318359375,
          0.1318359375,
          0.130859375,
          0.130859375,
          0.126953125,
          0.126953125,
          0.12255859375,
          0.1220703125,
          0.12060546875,
          0.11962890625,
          0.119140625,
          0.11572265625,
          0.115234375,
          0.11328125,
          0.11328125,
          0.11328125,
          0.111328125,
          0.10986328125,
          0.109375,
          0.10888671875,
          0.10888671875,
          0.10693359375,
          0.1064453125,
          0.10400390625,
          0.10302734375,
          0.1025390625,
          0.1005859375,
          0.10009765625,
          0.099609375,
          0.09765625,
          0.09521484375,
          0.09423828125,
          0.09228515625,
          0.09228515625,
          0.091796875,
          0.091796875,
          0.09033203125,
          0.08935546875,
          0.08837890625,
          0.08837890625,
          0.087890625,
          0.08740234375,
          0.08740234375,
          0.08642578125,
          0.0859375,
          0.08349609375,
          0.08349609375,
          0.08349609375,
          0.08203125,
          0.0810546875,
          0.0791015625,
          0.07861328125,
          0.078125,
          0.078125,
          0.078125,
          0.07666015625,
          0.076171875,
          0.07568359375,
          0.0751953125,
          0.0751953125,
          0.07470703125,
          0.07470703125,
          0.0732421875,
          0.0732421875,
          0.072265625,
          0.07177734375,
          0.0712890625,
          0.0712890625,
          0.0712890625,
          0.06982421875,
          0.0693359375,
          0.0693359375,
          0.0693359375,
          0.0693359375,
          0.06884765625,
          0.068359375,
          0.068359375,
          0.068359375,
          0.068359375,
          0.0673828125,
          0.0673828125,
          0.06689453125,
          0.06689453125,
          0.06640625,
          0.06640625,
          0.0654296875,
          0.0654296875,
          0.06494140625,
          0.064453125,
          0.06396484375,
          0.06396484375,
          0.062255859375,
          0.06103515625,
          0.06103515625,
          0.060791015625,
          0.060546875,
          0.060546875,
          0.060546875,
          0.060302734375,
          0.060302734375,
          0.06005859375,
          0.0595703125,
          0.0595703125,
          0.059326171875,
          0.05908203125,
          0.05859375,
          0.05859375,
          0.05859375,
          0.058349609375,
          0.058349609375,
          0.057861328125,
          0.056884765625,
          0.056884765625,
          0.05615234375,
          0.055908203125,
          0.0556640625,
          0.0556640625,
          0.055419921875,
          0.055419921875,
          0.055419921875,
          0.0546875,
          0.053955078125,
          0.0517578125,
          0.051513671875,
          0.05126953125,
          0.051025390625,
          0.050537109375,
          0.050537109375,
          0.050537109375,
          0.049560546875,
          0.049560546875,
          0.049072265625,
          0.048583984375,
          0.0478515625,
          0.0478515625,
          0.047607421875,
          0.04736328125,
          0.047119140625,
          0.0458984375,
          0.0458984375,
          0.0458984375,
          0.045654296875,
          0.044921875,
          0.044677734375,
          0.04443359375,
          0.04443359375,
          0.0439453125,
          0.043701171875,
          0.043701171875,
          0.043701171875,
          0.04345703125,
          0.04345703125,
          0.043212890625,
          0.0419921875,
          0.041748046875,
          0.041259765625,
          0.041259765625,
          0.041015625,
          0.040283203125,
          0.039794921875,
          0.039794921875,
          0.039306640625,
          0.038330078125,
          0.0380859375,
          0.0380859375,
          0.03759765625,
          0.037109375,
          0.036376953125,
          0.035888671875,
          0.035400390625,
          0.03515625,
          0.034912109375,
          0.034912109375,
          0.034423828125,
          0.034423828125,
          0.034423828125,
          0.0341796875,
          0.0341796875,
          0.032958984375,
          0.03271484375,
          0.031982421875,
          0.03173828125,
          0.03076171875,
          0.0306396484375,
          0.0303955078125,
          0.0302734375,
          0.029541015625,
          0.0291748046875,
          0.029052734375,
          0.029052734375,
          0.0289306640625,
          0.02880859375,
          0.02880859375,
          0.02880859375,
          0.0284423828125,
          0.028076171875,
          0.028076171875,
          0.02783203125,
          0.027587890625,
          0.027099609375,
          0.0269775390625,
          0.0267333984375,
          0.0264892578125,
          0.0262451171875,
          0.0262451171875,
          0.02587890625,
          0.0255126953125,
          0.0255126953125,
          0.0252685546875,
          0.0250244140625,
          0.0247802734375,
          0.0245361328125,
          0.023681640625,
          0.023193359375,
          0.0224609375,
          0.0223388671875,
          0.0223388671875,
          0.0220947265625,
          0.0220947265625,
          0.021484375,
          0.021240234375,
          0.020751953125,
          0.0205078125,
          0.0201416015625,
          0.02001953125,
          0.0198974609375,
          0.019287109375,
          0.019287109375,
          0.0191650390625,
          0.01904296875,
          0.0189208984375,
          0.0189208984375,
          0.0179443359375,
          0.0179443359375,
          0.0177001953125,
          0.0177001953125,
          0.0177001953125,
          0.017578125,
          0.017333984375,
          0.01708984375,
          0.016845703125,
          0.0164794921875,
          0.016357421875,
          0.0162353515625,
          0.0162353515625,
          0.0162353515625,
          0.015869140625,
          0.0157470703125,
          0.0157470703125,
          0.01556396484375,
          0.015380859375,
          0.015380859375,
          0.0152587890625,
          0.01495361328125,
          0.0147705078125,
          0.0146484375,
          0.01458740234375,
          0.01422119140625,
          0.013916015625,
          0.0130615234375,
          0.012939453125,
          0.0126953125,
          0.01263427734375,
          0.01214599609375,
          0.01202392578125,
          0.01171875,
          0.011474609375,
          0.01141357421875,
          0.01092529296875,
          0.0107421875,
          0.01055908203125,
          0.01025390625,
          0.01007080078125,
          0.00970458984375,
          0.00958251953125,
          0.00921630859375,
          0.0089111328125,
          0.0086669921875,
          0.0086669921875,
          0.00836181640625,
          0.00836181640625,
          0.00830078125,
          0.0078125,
          0.00750732421875,
          0.007415771484375,
          0.006988525390625,
          0.006927490234375,
          0.006805419921875,
          0.00677490234375,
          0.006500244140625,
          0.006439208984375,
          0.00634765625,
          0.00634765625,
          0.0062255859375,
          0.006195068359375,
          0.00592041015625,
          0.005859375,
          0.00555419921875,
          0.004913330078125,
          0.0042724609375,
          0.004241943359375,
          0.004241943359375,
          0.004241943359375,
          0.004150390625,
          0.0040283203125,
          0.0040283203125,
          0.003936767578125,
          0.00390625,
          0.0037384033203125,
          0.0037078857421875,
          0.0031890869140625,
          0.003173828125,
          0.00311279296875,
          0.0030517578125,
          0.002655029296875,
          0.00262451171875,
          0.0023651123046875,
          0.002349853515625,
          0.0021820068359375,
          0.00213623046875,
          0.00213623046875,
          0.0020294189453125,
          0.00194549560546875,
          0.00173187255859375,
          0.001678466796875,
          0.00159454345703125,
          0.00156402587890625,
          0.00152587890625,
          0.0014801025390625,
          0.0013885498046875,
          0.00138092041015625,
          0.00104522705078125,
          0.00089263916015625,
          0.000751495361328125,
          0.000720977783203125,
          0.00057220458984375,
          0.00054931640625,
          0.000499725341796875,
          0.0004863739013671875,
          0.0004863739013671875,
          0.000457763671875,
          0.0004367828369140625,
          0.000263214111328125,
          0.00020694732666015625,
          0,
          0,
          0,
          0,
          0,
          0,
          0,
          0,
          0,
          0,
          0,
          0,
          0,
          0,
          0,
          0
         ],
         "yaxis": "y"
        }
       ],
       "layout": {
        "legend": {
         "tracegroupgap": 0
        },
        "margin": {
         "t": 60
        },
        "template": {
         "data": {
          "bar": [
           {
            "error_x": {
             "color": "#2a3f5f"
            },
            "error_y": {
             "color": "#2a3f5f"
            },
            "marker": {
             "line": {
              "color": "#E5ECF6",
              "width": 0.5
             },
             "pattern": {
              "fillmode": "overlay",
              "size": 10,
              "solidity": 0.2
             }
            },
            "type": "bar"
           }
          ],
          "barpolar": [
           {
            "marker": {
             "line": {
              "color": "#E5ECF6",
              "width": 0.5
             },
             "pattern": {
              "fillmode": "overlay",
              "size": 10,
              "solidity": 0.2
             }
            },
            "type": "barpolar"
           }
          ],
          "carpet": [
           {
            "aaxis": {
             "endlinecolor": "#2a3f5f",
             "gridcolor": "white",
             "linecolor": "white",
             "minorgridcolor": "white",
             "startlinecolor": "#2a3f5f"
            },
            "baxis": {
             "endlinecolor": "#2a3f5f",
             "gridcolor": "white",
             "linecolor": "white",
             "minorgridcolor": "white",
             "startlinecolor": "#2a3f5f"
            },
            "type": "carpet"
           }
          ],
          "choropleth": [
           {
            "colorbar": {
             "outlinewidth": 0,
             "ticks": ""
            },
            "type": "choropleth"
           }
          ],
          "contour": [
           {
            "colorbar": {
             "outlinewidth": 0,
             "ticks": ""
            },
            "colorscale": [
             [
              0,
              "#0d0887"
             ],
             [
              0.1111111111111111,
              "#46039f"
             ],
             [
              0.2222222222222222,
              "#7201a8"
             ],
             [
              0.3333333333333333,
              "#9c179e"
             ],
             [
              0.4444444444444444,
              "#bd3786"
             ],
             [
              0.5555555555555556,
              "#d8576b"
             ],
             [
              0.6666666666666666,
              "#ed7953"
             ],
             [
              0.7777777777777778,
              "#fb9f3a"
             ],
             [
              0.8888888888888888,
              "#fdca26"
             ],
             [
              1,
              "#f0f921"
             ]
            ],
            "type": "contour"
           }
          ],
          "contourcarpet": [
           {
            "colorbar": {
             "outlinewidth": 0,
             "ticks": ""
            },
            "type": "contourcarpet"
           }
          ],
          "heatmap": [
           {
            "colorbar": {
             "outlinewidth": 0,
             "ticks": ""
            },
            "colorscale": [
             [
              0,
              "#0d0887"
             ],
             [
              0.1111111111111111,
              "#46039f"
             ],
             [
              0.2222222222222222,
              "#7201a8"
             ],
             [
              0.3333333333333333,
              "#9c179e"
             ],
             [
              0.4444444444444444,
              "#bd3786"
             ],
             [
              0.5555555555555556,
              "#d8576b"
             ],
             [
              0.6666666666666666,
              "#ed7953"
             ],
             [
              0.7777777777777778,
              "#fb9f3a"
             ],
             [
              0.8888888888888888,
              "#fdca26"
             ],
             [
              1,
              "#f0f921"
             ]
            ],
            "type": "heatmap"
           }
          ],
          "heatmapgl": [
           {
            "colorbar": {
             "outlinewidth": 0,
             "ticks": ""
            },
            "colorscale": [
             [
              0,
              "#0d0887"
             ],
             [
              0.1111111111111111,
              "#46039f"
             ],
             [
              0.2222222222222222,
              "#7201a8"
             ],
             [
              0.3333333333333333,
              "#9c179e"
             ],
             [
              0.4444444444444444,
              "#bd3786"
             ],
             [
              0.5555555555555556,
              "#d8576b"
             ],
             [
              0.6666666666666666,
              "#ed7953"
             ],
             [
              0.7777777777777778,
              "#fb9f3a"
             ],
             [
              0.8888888888888888,
              "#fdca26"
             ],
             [
              1,
              "#f0f921"
             ]
            ],
            "type": "heatmapgl"
           }
          ],
          "histogram": [
           {
            "marker": {
             "pattern": {
              "fillmode": "overlay",
              "size": 10,
              "solidity": 0.2
             }
            },
            "type": "histogram"
           }
          ],
          "histogram2d": [
           {
            "colorbar": {
             "outlinewidth": 0,
             "ticks": ""
            },
            "colorscale": [
             [
              0,
              "#0d0887"
             ],
             [
              0.1111111111111111,
              "#46039f"
             ],
             [
              0.2222222222222222,
              "#7201a8"
             ],
             [
              0.3333333333333333,
              "#9c179e"
             ],
             [
              0.4444444444444444,
              "#bd3786"
             ],
             [
              0.5555555555555556,
              "#d8576b"
             ],
             [
              0.6666666666666666,
              "#ed7953"
             ],
             [
              0.7777777777777778,
              "#fb9f3a"
             ],
             [
              0.8888888888888888,
              "#fdca26"
             ],
             [
              1,
              "#f0f921"
             ]
            ],
            "type": "histogram2d"
           }
          ],
          "histogram2dcontour": [
           {
            "colorbar": {
             "outlinewidth": 0,
             "ticks": ""
            },
            "colorscale": [
             [
              0,
              "#0d0887"
             ],
             [
              0.1111111111111111,
              "#46039f"
             ],
             [
              0.2222222222222222,
              "#7201a8"
             ],
             [
              0.3333333333333333,
              "#9c179e"
             ],
             [
              0.4444444444444444,
              "#bd3786"
             ],
             [
              0.5555555555555556,
              "#d8576b"
             ],
             [
              0.6666666666666666,
              "#ed7953"
             ],
             [
              0.7777777777777778,
              "#fb9f3a"
             ],
             [
              0.8888888888888888,
              "#fdca26"
             ],
             [
              1,
              "#f0f921"
             ]
            ],
            "type": "histogram2dcontour"
           }
          ],
          "mesh3d": [
           {
            "colorbar": {
             "outlinewidth": 0,
             "ticks": ""
            },
            "type": "mesh3d"
           }
          ],
          "parcoords": [
           {
            "line": {
             "colorbar": {
              "outlinewidth": 0,
              "ticks": ""
             }
            },
            "type": "parcoords"
           }
          ],
          "pie": [
           {
            "automargin": true,
            "type": "pie"
           }
          ],
          "scatter": [
           {
            "fillpattern": {
             "fillmode": "overlay",
             "size": 10,
             "solidity": 0.2
            },
            "type": "scatter"
           }
          ],
          "scatter3d": [
           {
            "line": {
             "colorbar": {
              "outlinewidth": 0,
              "ticks": ""
             }
            },
            "marker": {
             "colorbar": {
              "outlinewidth": 0,
              "ticks": ""
             }
            },
            "type": "scatter3d"
           }
          ],
          "scattercarpet": [
           {
            "marker": {
             "colorbar": {
              "outlinewidth": 0,
              "ticks": ""
             }
            },
            "type": "scattercarpet"
           }
          ],
          "scattergeo": [
           {
            "marker": {
             "colorbar": {
              "outlinewidth": 0,
              "ticks": ""
             }
            },
            "type": "scattergeo"
           }
          ],
          "scattergl": [
           {
            "marker": {
             "colorbar": {
              "outlinewidth": 0,
              "ticks": ""
             }
            },
            "type": "scattergl"
           }
          ],
          "scattermapbox": [
           {
            "marker": {
             "colorbar": {
              "outlinewidth": 0,
              "ticks": ""
             }
            },
            "type": "scattermapbox"
           }
          ],
          "scatterpolar": [
           {
            "marker": {
             "colorbar": {
              "outlinewidth": 0,
              "ticks": ""
             }
            },
            "type": "scatterpolar"
           }
          ],
          "scatterpolargl": [
           {
            "marker": {
             "colorbar": {
              "outlinewidth": 0,
              "ticks": ""
             }
            },
            "type": "scatterpolargl"
           }
          ],
          "scatterternary": [
           {
            "marker": {
             "colorbar": {
              "outlinewidth": 0,
              "ticks": ""
             }
            },
            "type": "scatterternary"
           }
          ],
          "surface": [
           {
            "colorbar": {
             "outlinewidth": 0,
             "ticks": ""
            },
            "colorscale": [
             [
              0,
              "#0d0887"
             ],
             [
              0.1111111111111111,
              "#46039f"
             ],
             [
              0.2222222222222222,
              "#7201a8"
             ],
             [
              0.3333333333333333,
              "#9c179e"
             ],
             [
              0.4444444444444444,
              "#bd3786"
             ],
             [
              0.5555555555555556,
              "#d8576b"
             ],
             [
              0.6666666666666666,
              "#ed7953"
             ],
             [
              0.7777777777777778,
              "#fb9f3a"
             ],
             [
              0.8888888888888888,
              "#fdca26"
             ],
             [
              1,
              "#f0f921"
             ]
            ],
            "type": "surface"
           }
          ],
          "table": [
           {
            "cells": {
             "fill": {
              "color": "#EBF0F8"
             },
             "line": {
              "color": "white"
             }
            },
            "header": {
             "fill": {
              "color": "#C8D4E3"
             },
             "line": {
              "color": "white"
             }
            },
            "type": "table"
           }
          ]
         },
         "layout": {
          "annotationdefaults": {
           "arrowcolor": "#2a3f5f",
           "arrowhead": 0,
           "arrowwidth": 1
          },
          "autotypenumbers": "strict",
          "coloraxis": {
           "colorbar": {
            "outlinewidth": 0,
            "ticks": ""
           }
          },
          "colorscale": {
           "diverging": [
            [
             0,
             "#8e0152"
            ],
            [
             0.1,
             "#c51b7d"
            ],
            [
             0.2,
             "#de77ae"
            ],
            [
             0.3,
             "#f1b6da"
            ],
            [
             0.4,
             "#fde0ef"
            ],
            [
             0.5,
             "#f7f7f7"
            ],
            [
             0.6,
             "#e6f5d0"
            ],
            [
             0.7,
             "#b8e186"
            ],
            [
             0.8,
             "#7fbc41"
            ],
            [
             0.9,
             "#4d9221"
            ],
            [
             1,
             "#276419"
            ]
           ],
           "sequential": [
            [
             0,
             "#0d0887"
            ],
            [
             0.1111111111111111,
             "#46039f"
            ],
            [
             0.2222222222222222,
             "#7201a8"
            ],
            [
             0.3333333333333333,
             "#9c179e"
            ],
            [
             0.4444444444444444,
             "#bd3786"
            ],
            [
             0.5555555555555556,
             "#d8576b"
            ],
            [
             0.6666666666666666,
             "#ed7953"
            ],
            [
             0.7777777777777778,
             "#fb9f3a"
            ],
            [
             0.8888888888888888,
             "#fdca26"
            ],
            [
             1,
             "#f0f921"
            ]
           ],
           "sequentialminus": [
            [
             0,
             "#0d0887"
            ],
            [
             0.1111111111111111,
             "#46039f"
            ],
            [
             0.2222222222222222,
             "#7201a8"
            ],
            [
             0.3333333333333333,
             "#9c179e"
            ],
            [
             0.4444444444444444,
             "#bd3786"
            ],
            [
             0.5555555555555556,
             "#d8576b"
            ],
            [
             0.6666666666666666,
             "#ed7953"
            ],
            [
             0.7777777777777778,
             "#fb9f3a"
            ],
            [
             0.8888888888888888,
             "#fdca26"
            ],
            [
             1,
             "#f0f921"
            ]
           ]
          },
          "colorway": [
           "#636efa",
           "#EF553B",
           "#00cc96",
           "#ab63fa",
           "#FFA15A",
           "#19d3f3",
           "#FF6692",
           "#B6E880",
           "#FF97FF",
           "#FECB52"
          ],
          "font": {
           "color": "#2a3f5f"
          },
          "geo": {
           "bgcolor": "white",
           "lakecolor": "white",
           "landcolor": "#E5ECF6",
           "showlakes": true,
           "showland": true,
           "subunitcolor": "white"
          },
          "hoverlabel": {
           "align": "left"
          },
          "hovermode": "closest",
          "mapbox": {
           "style": "light"
          },
          "paper_bgcolor": "white",
          "plot_bgcolor": "#E5ECF6",
          "polar": {
           "angularaxis": {
            "gridcolor": "white",
            "linecolor": "white",
            "ticks": ""
           },
           "bgcolor": "#E5ECF6",
           "radialaxis": {
            "gridcolor": "white",
            "linecolor": "white",
            "ticks": ""
           }
          },
          "scene": {
           "xaxis": {
            "backgroundcolor": "#E5ECF6",
            "gridcolor": "white",
            "gridwidth": 2,
            "linecolor": "white",
            "showbackground": true,
            "ticks": "",
            "zerolinecolor": "white"
           },
           "yaxis": {
            "backgroundcolor": "#E5ECF6",
            "gridcolor": "white",
            "gridwidth": 2,
            "linecolor": "white",
            "showbackground": true,
            "ticks": "",
            "zerolinecolor": "white"
           },
           "zaxis": {
            "backgroundcolor": "#E5ECF6",
            "gridcolor": "white",
            "gridwidth": 2,
            "linecolor": "white",
            "showbackground": true,
            "ticks": "",
            "zerolinecolor": "white"
           }
          },
          "shapedefaults": {
           "line": {
            "color": "#2a3f5f"
           }
          },
          "ternary": {
           "aaxis": {
            "gridcolor": "white",
            "linecolor": "white",
            "ticks": ""
           },
           "baxis": {
            "gridcolor": "white",
            "linecolor": "white",
            "ticks": ""
           },
           "bgcolor": "#E5ECF6",
           "caxis": {
            "gridcolor": "white",
            "linecolor": "white",
            "ticks": ""
           }
          },
          "title": {
           "x": 0.05
          },
          "xaxis": {
           "automargin": true,
           "gridcolor": "white",
           "linecolor": "white",
           "ticks": "",
           "title": {
            "standoff": 15
           },
           "zerolinecolor": "white",
           "zerolinewidth": 2
          },
          "yaxis": {
           "automargin": true,
           "gridcolor": "white",
           "linecolor": "white",
           "ticks": "",
           "title": {
            "standoff": 15
           },
           "zerolinecolor": "white",
           "zerolinewidth": 2
          }
         }
        },
        "xaxis": {
         "anchor": "y",
         "domain": [
          0,
          1
         ],
         "title": {
          "text": "x"
         }
        },
        "yaxis": {
         "anchor": "x",
         "domain": [
          0,
          1
         ],
         "title": {
          "text": "y"
         }
        }
       }
      }
     },
     "metadata": {},
     "output_type": "display_data"
    },
    {
     "data": {
      "application/vnd.plotly.v1+json": {
       "config": {
        "plotlyServerURL": "https://plot.ly"
       },
       "data": [
        {
         "coloraxis": "coloraxis",
         "hovertemplate": "x: %{x}<br>y: %{y}<br>color: %{z}<extra></extra>",
         "name": "0",
         "type": "heatmap",
         "x": [
          "L8H1",
          "L8H9",
          "L9H14",
          "L10H9",
          "L11H8",
          "L14H0",
          "L14H1",
          "L15H9",
          "L15H15",
          "L17H11",
          "L17H12",
          "L18H12",
          "L19H3",
          "L19H12",
          "L20H7",
          "L21H1",
          "L21H9",
          "L21H10",
          "L21H11",
          "L25H0",
          "L25H1",
          "L25H6"
         ],
         "xaxis": "x",
         "y": [
          "L8H1Q",
          "L8H1K",
          "L8H1V",
          "L8H9Q",
          "L8H9K",
          "L8H9V",
          "L9H14Q",
          "L9H14K",
          "L9H14V",
          "L10H9Q",
          "L10H9K",
          "L10H9V",
          "L11H8Q",
          "L11H8K",
          "L11H8V",
          "L14H0Q",
          "L14H0K",
          "L14H0V",
          "L14H1Q",
          "L14H1K",
          "L14H1V",
          "L15H9Q",
          "L15H9K",
          "L15H9V",
          "L15H15Q",
          "L15H15K",
          "L15H15V",
          "L17H11Q",
          "L17H11K",
          "L17H11V",
          "L17H12Q",
          "L17H12K",
          "L17H12V",
          "L18H12Q",
          "L18H12K",
          "L18H12V",
          "L19H3Q",
          "L19H3K",
          "L19H3V",
          "L19H12Q",
          "L19H12K",
          "L19H12V",
          "L20H7Q",
          "L20H7K",
          "L20H7V",
          "L21H1Q",
          "L21H1K",
          "L21H1V",
          "L21H9Q",
          "L21H9K",
          "L21H9V",
          "L21H10Q",
          "L21H10K",
          "L21H10V",
          "L21H11Q",
          "L21H11K",
          "L21H11V",
          "L25H0Q",
          "L25H0K",
          "L25H0V",
          "L25H1Q",
          "L25H1K",
          "L25H1V",
          "L25H6Q",
          "L25H6K",
          "L25H6V"
         ],
         "yaxis": "y",
         "z": [
          [
           0,
           0,
           0,
           0,
           0,
           0,
           0,
           0,
           0,
           0,
           0,
           0,
           0,
           0,
           0,
           0,
           0,
           0,
           0,
           0,
           0,
           0
          ],
          [
           0,
           0,
           0,
           0,
           0,
           0,
           0,
           0,
           0,
           0,
           0,
           0,
           0,
           0,
           0,
           0,
           0,
           0,
           0,
           0,
           0,
           0
          ],
          [
           0,
           0,
           0,
           0,
           0,
           0,
           0,
           0,
           0,
           0,
           0,
           0,
           0,
           0,
           0,
           0,
           0,
           0,
           0,
           0,
           0,
           0
          ],
          [
           0,
           0,
           0,
           0,
           0,
           0,
           0,
           0,
           0,
           0,
           0,
           0,
           0,
           0,
           0,
           0,
           0,
           0,
           0,
           0,
           0,
           0
          ],
          [
           0,
           0,
           0,
           0,
           0,
           0,
           0,
           0,
           0,
           0,
           0,
           0,
           0,
           0,
           0,
           0,
           0,
           0,
           0,
           0,
           0,
           0
          ],
          [
           0,
           0,
           0,
           0,
           0,
           0,
           0,
           0,
           0,
           0,
           0,
           0,
           0,
           0,
           0,
           0,
           0,
           0,
           0,
           0,
           0,
           0
          ],
          [
           -0.0011825562,
           -0.00048828125,
           0,
           0,
           0,
           0,
           0,
           0,
           0,
           0,
           0,
           0,
           0,
           0,
           0,
           0,
           0,
           0,
           0,
           0,
           0,
           0
          ],
          [
           -0.00021235149,
           -0.0006713867,
           0,
           0,
           0,
           0,
           0,
           0,
           0,
           0,
           0,
           0,
           0,
           0,
           0,
           0,
           0,
           0,
           0,
           0,
           0,
           0
          ],
          [
           -0.0002339681,
           0,
           0,
           0,
           0,
           0,
           0,
           0,
           0,
           0,
           0,
           0,
           0,
           0,
           0,
           0,
           0,
           0,
           0,
           0,
           0,
           0
          ],
          [
           -0.000579834,
           -0.0069007874,
           -0.0016454061,
           0,
           0,
           0,
           0,
           0,
           0,
           0,
           0,
           0,
           0,
           0,
           0,
           0,
           0,
           0,
           0,
           0,
           0,
           0
          ],
          [
           0,
           -0.002310435,
           -0.002137502,
           0,
           0,
           0,
           0,
           0,
           0,
           0,
           0,
           0,
           0,
           0,
           0,
           0,
           0,
           0,
           0,
           0,
           0,
           0
          ],
          [
           0,
           -0.00021362305,
           0,
           0,
           0,
           0,
           0,
           0,
           0,
           0,
           0,
           0,
           0,
           0,
           0,
           0,
           0,
           0,
           0,
           0,
           0,
           0
          ],
          [
           0,
           -0.0009969076,
           -0.0013478597,
           -0.0011774699,
           0,
           0,
           0,
           0,
           0,
           0,
           0,
           0,
           0,
           0,
           0,
           0,
           0,
           0,
           0,
           0,
           0,
           0
          ],
          [
           -0.0012079874,
           -0.00315094,
           -0.003314972,
           -0.0057144165,
           0,
           0,
           0,
           0,
           0,
           0,
           0,
           0,
           0,
           0,
           0,
           0,
           0,
           0,
           0,
           0,
           0,
           0
          ],
          [
           0.000319163,
           -0.0015805563,
           -0.0015347799,
           -0.0015055338,
           0,
           0,
           0,
           0,
           0,
           0,
           0,
           0,
           0,
           0,
           0,
           0,
           0,
           0,
           0,
           0,
           0,
           0
          ],
          [
           0,
           0,
           -0.00031407675,
           -0.000415802,
           -0.00044631958,
           0,
           0,
           0,
           0,
           0,
           0,
           0,
           0,
           0,
           0,
           0,
           0,
           0,
           0,
           0,
           0,
           0
          ],
          [
           0,
           0,
           -0.0007502238,
           0,
           0,
           0,
           0,
           0,
           0,
           0,
           0,
           0,
           0,
           0,
           0,
           0,
           0,
           0,
           0,
           0,
           0,
           0
          ],
          [
           0,
           0,
           0,
           0,
           0,
           0,
           0,
           0,
           0,
           0,
           0,
           0,
           0,
           0,
           0,
           0,
           0,
           0,
           0,
           0,
           0,
           0
          ],
          [
           0,
           0,
           -0.00041453043,
           0.0002962748,
           -0.000260671,
           0,
           0,
           0,
           0,
           0,
           0,
           0,
           0,
           0,
           0,
           0,
           0,
           0,
           0,
           0,
           0,
           0
          ],
          [
           0,
           0,
           -0.0007502238,
           0,
           0,
           0,
           0,
           0,
           0,
           0,
           0,
           0,
           0,
           0,
           0,
           0,
           0,
           0,
           0,
           0,
           0,
           0
          ],
          [
           0,
           0,
           0,
           0,
           0,
           0,
           0,
           0,
           0,
           0,
           0,
           0,
           0,
           0,
           0,
           0,
           0,
           0,
           0,
           0,
           0,
           0
          ],
          [
           0,
           -0.00072733563,
           -0.0012207031,
           -0.0009015401,
           0.00028101602,
           0.00044759116,
           0.00082906085,
           0,
           0,
           0,
           0,
           0,
           0,
           0,
           0,
           0,
           0,
           0,
           0,
           0,
           0,
           0
          ],
          [
           0,
           0.00038909912,
           0.0008036296,
           0,
           0.0002632141,
           0,
           0,
           0,
           0,
           0,
           0,
           0,
           0,
           0,
           0,
           0,
           0,
           0,
           0,
           0,
           0,
           0
          ],
          [
           0,
           0,
           0,
           0,
           0.00023142497,
           0,
           0,
           0,
           0,
           0,
           0,
           0,
           0,
           0,
           0,
           0,
           0,
           0,
           0,
           0,
           0,
           0
          ],
          [
           0,
           0,
           0,
           0,
           0,
           0,
           0,
           0,
           0,
           0,
           0,
           0,
           0,
           0,
           0,
           0,
           0,
           0,
           0,
           0,
           0,
           0
          ],
          [
           0,
           0,
           0,
           0,
           0,
           0,
           0,
           0,
           0,
           0,
           0,
           0,
           0,
           0,
           0,
           0,
           0,
           0,
           0,
           0,
           0,
           0
          ],
          [
           -0.000773112,
           0.000386556,
           0.0019327799,
           -0.00013605754,
           -0.00090026855,
           0.0025164287,
           0.000764211,
           0,
           0,
           0,
           0,
           0,
           0,
           0,
           0,
           0,
           0,
           0,
           0,
           0,
           0,
           0
          ],
          [
           0.0004971822,
           0,
           0.00031026205,
           0,
           0,
           0.00008773804,
           0,
           0.00056711835,
           -0.001285553,
           0,
           0,
           0,
           0,
           0,
           0,
           0,
           0,
           0,
           0,
           0,
           0,
           0
          ],
          [
           0,
           0,
           0,
           0,
           0,
           0,
           0,
           0,
           0.00036621094,
           0,
           0,
           0,
           0,
           0,
           0,
           0,
           0,
           0,
           0,
           0,
           0,
           0
          ],
          [
           0,
           0,
           -0.00021362305,
           -0.00021362305,
           0,
           0,
           0,
           0,
           0.00022125244,
           0,
           0,
           0,
           0,
           0,
           0,
           0,
           0,
           0,
           0,
           0,
           0,
           0
          ],
          [
           0,
           0,
           0,
           0,
           0,
           0,
           0.0002568563,
           0,
           -0.0015385946,
           0,
           0,
           0,
           0,
           0,
           0,
           0,
           0,
           0,
           0,
           0,
           0,
           0
          ],
          [
           0,
           0,
           0,
           0,
           -0.00022379558,
           0,
           0,
           0,
           0.0008036296,
           0,
           0,
           0,
           0,
           0,
           0,
           0,
           0,
           0,
           0,
           0,
           0,
           0
          ],
          [
           0.00058237714,
           0,
           -0.0008201599,
           -0.0005950928,
           -0.0002632141,
           -0.0006345113,
           0.00096384686,
           0.00036493936,
           -0.0014076233,
           0,
           0,
           0,
           0,
           0,
           0,
           0,
           0,
           0,
           0,
           0,
           0,
           0
          ],
          [
           0,
           0,
           0,
           0,
           0,
           0,
           0.00024286906,
           0,
           -0.000579834,
           0,
           0,
           0,
           0,
           0,
           0,
           0,
           0,
           0,
           0,
           0,
           0,
           0
          ],
          [
           0,
           0,
           0,
           0,
           0,
           0,
           0,
           0,
           0,
           0,
           0,
           0,
           0,
           0,
           0,
           0,
           0,
           0,
           0,
           0,
           0,
           0
          ],
          [
           0,
           0,
           -0.00023905437,
           0.00023142497,
           0.000012715657,
           -0.00018310547,
           -0.0005950928,
           -0.00095621747,
           0.0026868184,
           0.00081380206,
           0,
           0,
           0,
           0,
           0,
           0,
           0,
           0,
           0,
           0,
           0,
           0
          ],
          [
           0,
           -0.0002568563,
           -0.00056711835,
           -0.00044250488,
           0,
           -0.000726064,
           0,
           -0.0005887349,
           0.00025812784,
           0,
           0,
           0.00051116943,
           0,
           0,
           0,
           0,
           0,
           0,
           0,
           0,
           0,
           0
          ],
          [
           0,
           0,
           0,
           0,
           0,
           -0.00038909912,
           -0.00021616618,
           -0.00022125244,
           0.00021743774,
           0,
           0,
           0,
           0,
           0,
           0,
           0,
           0,
           0,
           0,
           0,
           0,
           0
          ],
          [
           0,
           0,
           0,
           0,
           0,
           0,
           0,
           0,
           0,
           0,
           0,
           0,
           0,
           0,
           0,
           0,
           0,
           0,
           0,
           0,
           0,
           0
          ],
          [
           0,
           0,
           0,
           0,
           0,
           0,
           0,
           0,
           0,
           0,
           0,
           0,
           0,
           0,
           0,
           0,
           0,
           0,
           0,
           0,
           0,
           0
          ],
          [
           0,
           0,
           0,
           0,
           0,
           0,
           0,
           0,
           0,
           0,
           0,
           0,
           0,
           0,
           0,
           0,
           0,
           0,
           0,
           0,
           0,
           0
          ],
          [
           0.0000038146973,
           0,
           -0.00023269653,
           0,
           0,
           0,
           0.00025431314,
           0.0006167094,
           0.00016911824,
           0,
           0,
           0,
           0,
           0,
           0,
           0,
           0,
           0,
           0,
           0,
           0,
           0
          ],
          [
           0,
           0,
           0,
           0,
           0,
           0.00034586588,
           0,
           -0.00034586588,
           0,
           0,
           0,
           0,
           -0.0005925496,
           0,
           0,
           0,
           0,
           0,
           0,
           0,
           0,
           0
          ],
          [
           0,
           0,
           0,
           0,
           0,
           0,
           0,
           0,
           0,
           0,
           0,
           0,
           0,
           0,
           0,
           0,
           0,
           0,
           0,
           0,
           0,
           0
          ],
          [
           0,
           0,
           0,
           0,
           0,
           0,
           0,
           0,
           0,
           0,
           0,
           0,
           0,
           0,
           0,
           0,
           0,
           0,
           0,
           0,
           0,
           0
          ],
          [
           0,
           0,
           0,
           0,
           0,
           0,
           0,
           0,
           0,
           0,
           0,
           0,
           0,
           0,
           0,
           0,
           0,
           0,
           0,
           0,
           0,
           0
          ],
          [
           0,
           0,
           0,
           0,
           0,
           0,
           0,
           0,
           0,
           0,
           0,
           0,
           -0.0002454122,
           -0.0006154378,
           0,
           0,
           0,
           0,
           0,
           0,
           0,
           0
          ],
          [
           -0.0002263387,
           0,
           0,
           0,
           0.00025177002,
           0,
           0,
           0,
           -0.00036875406,
           0,
           0,
           0,
           0,
           -0.0012194315,
           0,
           0,
           0,
           0,
           0,
           0,
           0,
           0
          ],
          [
           0,
           0,
           0,
           0,
           -0.00022125244,
           0,
           0,
           -0.0002746582,
           0,
           0,
           0,
           0.0002263387,
           -0.00039545694,
           0,
           0,
           0,
           0,
           0,
           0,
           0,
           0,
           0
          ],
          [
           0,
           0,
           0,
           0,
           0,
           0.00020853679,
           0,
           0,
           0,
           0,
           0,
           0,
           0,
           0,
           0,
           0,
           0,
           0,
           0,
           0,
           0,
           0
          ],
          [
           0,
           0,
           0,
           0,
           0,
           0,
           0,
           0,
           0,
           0,
           0,
           0,
           0,
           0,
           0,
           0,
           0,
           0,
           0,
           0,
           0,
           0
          ],
          [
           0,
           0,
           0,
           0,
           0,
           0,
           0,
           0,
           0.000222524,
           0,
           0,
           0,
           -0.00021743774,
           0,
           0,
           0,
           0,
           0,
           0,
           0,
           0,
           0
          ],
          [
           0,
           0,
           0,
           0,
           0,
           0,
           0,
           0,
           -0.00023651123,
           0,
           0,
           0,
           -0.00028737387,
           -0.0002708435,
           0,
           0,
           0,
           0,
           0,
           0,
           0,
           0
          ],
          [
           0,
           0,
           0,
           0,
           0,
           0,
           0,
           0,
           0,
           -0.00021235149,
           -0.000445048,
           0,
           0,
           0,
           0,
           0,
           0,
           0,
           0,
           0,
           0,
           0
          ],
          [
           0,
           0,
           0,
           0,
           0,
           0,
           0,
           0,
           0,
           0,
           0,
           0,
           0,
           0,
           0,
           0,
           0,
           0,
           0,
           0,
           0,
           0
          ],
          [
           0,
           0,
           0,
           0,
           0,
           0,
           0,
           0,
           -0.00023651123,
           0,
           0,
           0,
           -0.00028737387,
           -0.0002708435,
           0,
           0,
           0,
           0,
           0,
           0,
           0,
           0
          ],
          [
           0,
           0,
           0,
           0,
           0,
           0,
           0,
           0,
           0,
           -0.00021235149,
           -0.000445048,
           0,
           0,
           0,
           0,
           0,
           0,
           0,
           0,
           0,
           0,
           0
          ],
          [
           0,
           0,
           0,
           0,
           0,
           0,
           0,
           0,
           0,
           0,
           0,
           0,
           0,
           0,
           0,
           0,
           0,
           0,
           0,
           0,
           0,
           0
          ],
          [
           -0.00025431314,
           0,
           0,
           0,
           0,
           0.0002962748,
           0,
           0.00022379558,
           0.00018692017,
           0,
           0,
           0.0002492269,
           0.00023905437,
           -0.0002708435,
           0,
           -0.00026194254,
           0,
           0,
           -0.00024414062,
           0,
           0,
           0
          ],
          [
           0,
           0,
           0,
           0.00025177002,
           0.00024159749,
           0,
           0,
           0,
           0.0002187093,
           0,
           0,
           0,
           0,
           -0.00022125244,
           0,
           -0.00024286906,
           -0.000005086263,
           0,
           0.0005722046,
           0,
           0,
           0
          ],
          [
           0,
           0,
           0,
           -0.000096639,
           0,
           0,
           0,
           0.00022761028,
           -0.00021362305,
           0,
           0,
           0.00036875406,
           -0.0009244283,
           0,
           0.000579834,
           0,
           0.00054295856,
           0,
           0,
           0,
           0,
           0
          ],
          [
           -0.00025431314,
           0,
           0,
           0,
           0,
           0.0002962748,
           0,
           0.00022379558,
           0.00018692017,
           0,
           0,
           0.0002492269,
           0.00023905437,
           -0.0002708435,
           0,
           -0.00026194254,
           0,
           0,
           -0.00024414062,
           0,
           0,
           0
          ],
          [
           0,
           0,
           0,
           0.00025177002,
           0.00024159749,
           0,
           0,
           0,
           0.0002187093,
           0,
           0,
           0,
           0,
           -0.00022125244,
           0,
           -0.00024286906,
           -0.000005086263,
           0,
           0.0005722046,
           0,
           0,
           0
          ],
          [
           0,
           0,
           0,
           0,
           0,
           0,
           0,
           0,
           0,
           0,
           0,
           0,
           0,
           0,
           0,
           0,
           0,
           0,
           0,
           0,
           0,
           0
          ],
          [
           0,
           -0.00038909912,
           0,
           -0.000260671,
           0,
           -0.00037384033,
           0,
           -0.00025812784,
           0.00056711835,
           0,
           0,
           0,
           0.0026741028,
           0.00090789795,
           0,
           0.000764211,
           -0.00036366782,
           0,
           0,
           0,
           0,
           0
          ],
          [
           0,
           0,
           0,
           0,
           0,
           0,
           0,
           0,
           0,
           0.00032552084,
           0,
           0,
           0.00022761028,
           0,
           0,
           0,
           0.00006866455,
           0,
           0,
           0,
           0,
           0
          ]
         ]
        }
       ],
       "layout": {
        "coloraxis": {
         "cmid": 0,
         "colorscale": [
          [
           0,
           "rgb(103,0,31)"
          ],
          [
           0.1,
           "rgb(178,24,43)"
          ],
          [
           0.2,
           "rgb(214,96,77)"
          ],
          [
           0.3,
           "rgb(244,165,130)"
          ],
          [
           0.4,
           "rgb(253,219,199)"
          ],
          [
           0.5,
           "rgb(247,247,247)"
          ],
          [
           0.6,
           "rgb(209,229,240)"
          ],
          [
           0.7,
           "rgb(146,197,222)"
          ],
          [
           0.8,
           "rgb(67,147,195)"
          ],
          [
           0.9,
           "rgb(33,102,172)"
          ],
          [
           1,
           "rgb(5,48,97)"
          ]
         ]
        },
        "template": {
         "data": {
          "bar": [
           {
            "error_x": {
             "color": "#2a3f5f"
            },
            "error_y": {
             "color": "#2a3f5f"
            },
            "marker": {
             "line": {
              "color": "#E5ECF6",
              "width": 0.5
             },
             "pattern": {
              "fillmode": "overlay",
              "size": 10,
              "solidity": 0.2
             }
            },
            "type": "bar"
           }
          ],
          "barpolar": [
           {
            "marker": {
             "line": {
              "color": "#E5ECF6",
              "width": 0.5
             },
             "pattern": {
              "fillmode": "overlay",
              "size": 10,
              "solidity": 0.2
             }
            },
            "type": "barpolar"
           }
          ],
          "carpet": [
           {
            "aaxis": {
             "endlinecolor": "#2a3f5f",
             "gridcolor": "white",
             "linecolor": "white",
             "minorgridcolor": "white",
             "startlinecolor": "#2a3f5f"
            },
            "baxis": {
             "endlinecolor": "#2a3f5f",
             "gridcolor": "white",
             "linecolor": "white",
             "minorgridcolor": "white",
             "startlinecolor": "#2a3f5f"
            },
            "type": "carpet"
           }
          ],
          "choropleth": [
           {
            "colorbar": {
             "outlinewidth": 0,
             "ticks": ""
            },
            "type": "choropleth"
           }
          ],
          "contour": [
           {
            "colorbar": {
             "outlinewidth": 0,
             "ticks": ""
            },
            "colorscale": [
             [
              0,
              "#0d0887"
             ],
             [
              0.1111111111111111,
              "#46039f"
             ],
             [
              0.2222222222222222,
              "#7201a8"
             ],
             [
              0.3333333333333333,
              "#9c179e"
             ],
             [
              0.4444444444444444,
              "#bd3786"
             ],
             [
              0.5555555555555556,
              "#d8576b"
             ],
             [
              0.6666666666666666,
              "#ed7953"
             ],
             [
              0.7777777777777778,
              "#fb9f3a"
             ],
             [
              0.8888888888888888,
              "#fdca26"
             ],
             [
              1,
              "#f0f921"
             ]
            ],
            "type": "contour"
           }
          ],
          "contourcarpet": [
           {
            "colorbar": {
             "outlinewidth": 0,
             "ticks": ""
            },
            "type": "contourcarpet"
           }
          ],
          "heatmap": [
           {
            "colorbar": {
             "outlinewidth": 0,
             "ticks": ""
            },
            "colorscale": [
             [
              0,
              "#0d0887"
             ],
             [
              0.1111111111111111,
              "#46039f"
             ],
             [
              0.2222222222222222,
              "#7201a8"
             ],
             [
              0.3333333333333333,
              "#9c179e"
             ],
             [
              0.4444444444444444,
              "#bd3786"
             ],
             [
              0.5555555555555556,
              "#d8576b"
             ],
             [
              0.6666666666666666,
              "#ed7953"
             ],
             [
              0.7777777777777778,
              "#fb9f3a"
             ],
             [
              0.8888888888888888,
              "#fdca26"
             ],
             [
              1,
              "#f0f921"
             ]
            ],
            "type": "heatmap"
           }
          ],
          "heatmapgl": [
           {
            "colorbar": {
             "outlinewidth": 0,
             "ticks": ""
            },
            "colorscale": [
             [
              0,
              "#0d0887"
             ],
             [
              0.1111111111111111,
              "#46039f"
             ],
             [
              0.2222222222222222,
              "#7201a8"
             ],
             [
              0.3333333333333333,
              "#9c179e"
             ],
             [
              0.4444444444444444,
              "#bd3786"
             ],
             [
              0.5555555555555556,
              "#d8576b"
             ],
             [
              0.6666666666666666,
              "#ed7953"
             ],
             [
              0.7777777777777778,
              "#fb9f3a"
             ],
             [
              0.8888888888888888,
              "#fdca26"
             ],
             [
              1,
              "#f0f921"
             ]
            ],
            "type": "heatmapgl"
           }
          ],
          "histogram": [
           {
            "marker": {
             "pattern": {
              "fillmode": "overlay",
              "size": 10,
              "solidity": 0.2
             }
            },
            "type": "histogram"
           }
          ],
          "histogram2d": [
           {
            "colorbar": {
             "outlinewidth": 0,
             "ticks": ""
            },
            "colorscale": [
             [
              0,
              "#0d0887"
             ],
             [
              0.1111111111111111,
              "#46039f"
             ],
             [
              0.2222222222222222,
              "#7201a8"
             ],
             [
              0.3333333333333333,
              "#9c179e"
             ],
             [
              0.4444444444444444,
              "#bd3786"
             ],
             [
              0.5555555555555556,
              "#d8576b"
             ],
             [
              0.6666666666666666,
              "#ed7953"
             ],
             [
              0.7777777777777778,
              "#fb9f3a"
             ],
             [
              0.8888888888888888,
              "#fdca26"
             ],
             [
              1,
              "#f0f921"
             ]
            ],
            "type": "histogram2d"
           }
          ],
          "histogram2dcontour": [
           {
            "colorbar": {
             "outlinewidth": 0,
             "ticks": ""
            },
            "colorscale": [
             [
              0,
              "#0d0887"
             ],
             [
              0.1111111111111111,
              "#46039f"
             ],
             [
              0.2222222222222222,
              "#7201a8"
             ],
             [
              0.3333333333333333,
              "#9c179e"
             ],
             [
              0.4444444444444444,
              "#bd3786"
             ],
             [
              0.5555555555555556,
              "#d8576b"
             ],
             [
              0.6666666666666666,
              "#ed7953"
             ],
             [
              0.7777777777777778,
              "#fb9f3a"
             ],
             [
              0.8888888888888888,
              "#fdca26"
             ],
             [
              1,
              "#f0f921"
             ]
            ],
            "type": "histogram2dcontour"
           }
          ],
          "mesh3d": [
           {
            "colorbar": {
             "outlinewidth": 0,
             "ticks": ""
            },
            "type": "mesh3d"
           }
          ],
          "parcoords": [
           {
            "line": {
             "colorbar": {
              "outlinewidth": 0,
              "ticks": ""
             }
            },
            "type": "parcoords"
           }
          ],
          "pie": [
           {
            "automargin": true,
            "type": "pie"
           }
          ],
          "scatter": [
           {
            "fillpattern": {
             "fillmode": "overlay",
             "size": 10,
             "solidity": 0.2
            },
            "type": "scatter"
           }
          ],
          "scatter3d": [
           {
            "line": {
             "colorbar": {
              "outlinewidth": 0,
              "ticks": ""
             }
            },
            "marker": {
             "colorbar": {
              "outlinewidth": 0,
              "ticks": ""
             }
            },
            "type": "scatter3d"
           }
          ],
          "scattercarpet": [
           {
            "marker": {
             "colorbar": {
              "outlinewidth": 0,
              "ticks": ""
             }
            },
            "type": "scattercarpet"
           }
          ],
          "scattergeo": [
           {
            "marker": {
             "colorbar": {
              "outlinewidth": 0,
              "ticks": ""
             }
            },
            "type": "scattergeo"
           }
          ],
          "scattergl": [
           {
            "marker": {
             "colorbar": {
              "outlinewidth": 0,
              "ticks": ""
             }
            },
            "type": "scattergl"
           }
          ],
          "scattermapbox": [
           {
            "marker": {
             "colorbar": {
              "outlinewidth": 0,
              "ticks": ""
             }
            },
            "type": "scattermapbox"
           }
          ],
          "scatterpolar": [
           {
            "marker": {
             "colorbar": {
              "outlinewidth": 0,
              "ticks": ""
             }
            },
            "type": "scatterpolar"
           }
          ],
          "scatterpolargl": [
           {
            "marker": {
             "colorbar": {
              "outlinewidth": 0,
              "ticks": ""
             }
            },
            "type": "scatterpolargl"
           }
          ],
          "scatterternary": [
           {
            "marker": {
             "colorbar": {
              "outlinewidth": 0,
              "ticks": ""
             }
            },
            "type": "scatterternary"
           }
          ],
          "surface": [
           {
            "colorbar": {
             "outlinewidth": 0,
             "ticks": ""
            },
            "colorscale": [
             [
              0,
              "#0d0887"
             ],
             [
              0.1111111111111111,
              "#46039f"
             ],
             [
              0.2222222222222222,
              "#7201a8"
             ],
             [
              0.3333333333333333,
              "#9c179e"
             ],
             [
              0.4444444444444444,
              "#bd3786"
             ],
             [
              0.5555555555555556,
              "#d8576b"
             ],
             [
              0.6666666666666666,
              "#ed7953"
             ],
             [
              0.7777777777777778,
              "#fb9f3a"
             ],
             [
              0.8888888888888888,
              "#fdca26"
             ],
             [
              1,
              "#f0f921"
             ]
            ],
            "type": "surface"
           }
          ],
          "table": [
           {
            "cells": {
             "fill": {
              "color": "#EBF0F8"
             },
             "line": {
              "color": "white"
             }
            },
            "header": {
             "fill": {
              "color": "#C8D4E3"
             },
             "line": {
              "color": "white"
             }
            },
            "type": "table"
           }
          ]
         },
         "layout": {
          "annotationdefaults": {
           "arrowcolor": "#2a3f5f",
           "arrowhead": 0,
           "arrowwidth": 1
          },
          "autotypenumbers": "strict",
          "coloraxis": {
           "colorbar": {
            "outlinewidth": 0,
            "ticks": ""
           }
          },
          "colorscale": {
           "diverging": [
            [
             0,
             "#8e0152"
            ],
            [
             0.1,
             "#c51b7d"
            ],
            [
             0.2,
             "#de77ae"
            ],
            [
             0.3,
             "#f1b6da"
            ],
            [
             0.4,
             "#fde0ef"
            ],
            [
             0.5,
             "#f7f7f7"
            ],
            [
             0.6,
             "#e6f5d0"
            ],
            [
             0.7,
             "#b8e186"
            ],
            [
             0.8,
             "#7fbc41"
            ],
            [
             0.9,
             "#4d9221"
            ],
            [
             1,
             "#276419"
            ]
           ],
           "sequential": [
            [
             0,
             "#0d0887"
            ],
            [
             0.1111111111111111,
             "#46039f"
            ],
            [
             0.2222222222222222,
             "#7201a8"
            ],
            [
             0.3333333333333333,
             "#9c179e"
            ],
            [
             0.4444444444444444,
             "#bd3786"
            ],
            [
             0.5555555555555556,
             "#d8576b"
            ],
            [
             0.6666666666666666,
             "#ed7953"
            ],
            [
             0.7777777777777778,
             "#fb9f3a"
            ],
            [
             0.8888888888888888,
             "#fdca26"
            ],
            [
             1,
             "#f0f921"
            ]
           ],
           "sequentialminus": [
            [
             0,
             "#0d0887"
            ],
            [
             0.1111111111111111,
             "#46039f"
            ],
            [
             0.2222222222222222,
             "#7201a8"
            ],
            [
             0.3333333333333333,
             "#9c179e"
            ],
            [
             0.4444444444444444,
             "#bd3786"
            ],
            [
             0.5555555555555556,
             "#d8576b"
            ],
            [
             0.6666666666666666,
             "#ed7953"
            ],
            [
             0.7777777777777778,
             "#fb9f3a"
            ],
            [
             0.8888888888888888,
             "#fdca26"
            ],
            [
             1,
             "#f0f921"
            ]
           ]
          },
          "colorway": [
           "#636efa",
           "#EF553B",
           "#00cc96",
           "#ab63fa",
           "#FFA15A",
           "#19d3f3",
           "#FF6692",
           "#B6E880",
           "#FF97FF",
           "#FECB52"
          ],
          "font": {
           "color": "#2a3f5f"
          },
          "geo": {
           "bgcolor": "white",
           "lakecolor": "white",
           "landcolor": "#E5ECF6",
           "showlakes": true,
           "showland": true,
           "subunitcolor": "white"
          },
          "hoverlabel": {
           "align": "left"
          },
          "hovermode": "closest",
          "mapbox": {
           "style": "light"
          },
          "paper_bgcolor": "white",
          "plot_bgcolor": "#E5ECF6",
          "polar": {
           "angularaxis": {
            "gridcolor": "white",
            "linecolor": "white",
            "ticks": ""
           },
           "bgcolor": "#E5ECF6",
           "radialaxis": {
            "gridcolor": "white",
            "linecolor": "white",
            "ticks": ""
           }
          },
          "scene": {
           "xaxis": {
            "backgroundcolor": "#E5ECF6",
            "gridcolor": "white",
            "gridwidth": 2,
            "linecolor": "white",
            "showbackground": true,
            "ticks": "",
            "zerolinecolor": "white"
           },
           "yaxis": {
            "backgroundcolor": "#E5ECF6",
            "gridcolor": "white",
            "gridwidth": 2,
            "linecolor": "white",
            "showbackground": true,
            "ticks": "",
            "zerolinecolor": "white"
           },
           "zaxis": {
            "backgroundcolor": "#E5ECF6",
            "gridcolor": "white",
            "gridwidth": 2,
            "linecolor": "white",
            "showbackground": true,
            "ticks": "",
            "zerolinecolor": "white"
           }
          },
          "shapedefaults": {
           "line": {
            "color": "#2a3f5f"
           }
          },
          "ternary": {
           "aaxis": {
            "gridcolor": "white",
            "linecolor": "white",
            "ticks": ""
           },
           "baxis": {
            "gridcolor": "white",
            "linecolor": "white",
            "ticks": ""
           },
           "bgcolor": "#E5ECF6",
           "caxis": {
            "gridcolor": "white",
            "linecolor": "white",
            "ticks": ""
           }
          },
          "title": {
           "x": 0.05
          },
          "xaxis": {
           "automargin": true,
           "gridcolor": "white",
           "linecolor": "white",
           "ticks": "",
           "title": {
            "standoff": 15
           },
           "zerolinecolor": "white",
           "zerolinewidth": 2
          },
          "yaxis": {
           "automargin": true,
           "gridcolor": "white",
           "linecolor": "white",
           "ticks": "",
           "title": {
            "standoff": 15
           },
           "zerolinecolor": "white",
           "zerolinewidth": 2
          }
         }
        },
        "title": {
         "text": "Head Path Attribution Patching (Filtered for Top Heads)"
        },
        "xaxis": {
         "anchor": "y",
         "domain": [
          0,
          1
         ],
         "title": {
          "text": "Path Start (Head Output)"
         }
        },
        "yaxis": {
         "anchor": "x",
         "autorange": "reversed",
         "domain": [
          0,
          1
         ],
         "title": {
          "text": "Path End (Head Input)"
         }
        }
       }
      }
     },
     "metadata": {},
     "output_type": "display_data"
    }
   ],
   "source": [
    "top_end_indices, top_start_indices, top_end_labels, top_start_labels = plot_top_head_path_attrs(head_path_attrs_first_half, head_out_attrs_first_half)\n",
    "plot_qkv_head_path_attrs = partial(plot_qkv_head_path_attrs, top_end_indices=top_end_indices, top_start_indices=top_start_indices, top_end_labels=top_end_labels, top_start_labels=top_start_labels)"
   ]
  },
  {
   "cell_type": "code",
   "execution_count": 12,
   "metadata": {},
   "outputs": [
    {
     "data": {
      "application/vnd.plotly.v1+json": {
       "config": {
        "plotlyServerURL": "https://plot.ly"
       },
       "data": [
        {
         "coloraxis": "coloraxis",
         "hovertemplate": "x: %{x}<br>y: %{y}<br>color: %{z}<extra></extra>",
         "name": "0",
         "type": "heatmap",
         "x": [
          "L8H1",
          "L8H9",
          "L9H14",
          "L10H9",
          "L11H8",
          "L14H0",
          "L14H1",
          "L15H9",
          "L15H15",
          "L17H11",
          "L17H12",
          "L18H12",
          "L19H3",
          "L19H12",
          "L20H7",
          "L21H1",
          "L21H9",
          "L21H10",
          "L21H11",
          "L25H0",
          "L25H1",
          "L25H6"
         ],
         "xaxis": "x",
         "y": [
          "L8H1Q",
          "L8H9Q",
          "L9H14Q",
          "L10H9Q",
          "L11H8Q",
          "L14H0Q",
          "L14H1Q",
          "L15H9Q",
          "L15H15Q",
          "L17H11Q",
          "L17H12Q",
          "L18H12Q",
          "L19H3Q",
          "L19H12Q",
          "L20H7Q",
          "L21H1Q",
          "L21H9Q",
          "L21H10Q",
          "L21H11Q",
          "L25H0Q",
          "L25H1Q",
          "L25H6Q"
         ],
         "yaxis": "y",
         "z": [
          [
           0,
           0,
           0,
           0,
           0,
           0,
           0,
           0,
           0,
           0,
           0,
           0,
           0,
           0,
           0,
           0,
           0,
           0,
           0,
           0,
           0,
           0
          ],
          [
           0,
           0,
           0,
           0,
           0,
           0,
           0,
           0,
           0,
           0,
           0,
           0,
           0,
           0,
           0,
           0,
           0,
           0,
           0,
           0,
           0,
           0
          ],
          [
           -0.0011825562,
           -0.00048828125,
           0,
           0,
           0,
           0,
           0,
           0,
           0,
           0,
           0,
           0,
           0,
           0,
           0,
           0,
           0,
           0,
           0,
           0,
           0,
           0
          ],
          [
           -0.000579834,
           -0.0069007874,
           -0.0016454061,
           0,
           0,
           0,
           0,
           0,
           0,
           0,
           0,
           0,
           0,
           0,
           0,
           0,
           0,
           0,
           0,
           0,
           0,
           0
          ],
          [
           0,
           -0.0009969076,
           -0.0013478597,
           -0.0011774699,
           0,
           0,
           0,
           0,
           0,
           0,
           0,
           0,
           0,
           0,
           0,
           0,
           0,
           0,
           0,
           0,
           0,
           0
          ],
          [
           0,
           0,
           -0.00031407675,
           -0.000415802,
           -0.00044631958,
           0,
           0,
           0,
           0,
           0,
           0,
           0,
           0,
           0,
           0,
           0,
           0,
           0,
           0,
           0,
           0,
           0
          ],
          [
           0,
           0,
           -0.00041453043,
           0.0002962748,
           -0.000260671,
           0,
           0,
           0,
           0,
           0,
           0,
           0,
           0,
           0,
           0,
           0,
           0,
           0,
           0,
           0,
           0,
           0
          ],
          [
           0,
           -0.00072733563,
           -0.0012207031,
           -0.0009015401,
           0.00028101602,
           0.00044759116,
           0.00082906085,
           0,
           0,
           0,
           0,
           0,
           0,
           0,
           0,
           0,
           0,
           0,
           0,
           0,
           0,
           0
          ],
          [
           0,
           0,
           0,
           0,
           0,
           0,
           0,
           0,
           0,
           0,
           0,
           0,
           0,
           0,
           0,
           0,
           0,
           0,
           0,
           0,
           0,
           0
          ],
          [
           0.0004971822,
           0,
           0.00031026205,
           0,
           0,
           0.00008773804,
           0,
           0.00056711835,
           -0.001285553,
           0,
           0,
           0,
           0,
           0,
           0,
           0,
           0,
           0,
           0,
           0,
           0,
           0
          ],
          [
           0,
           0,
           0,
           0,
           0,
           0,
           0.0002568563,
           0,
           -0.0015385946,
           0,
           0,
           0,
           0,
           0,
           0,
           0,
           0,
           0,
           0,
           0,
           0,
           0
          ],
          [
           0,
           0,
           0,
           0,
           0,
           0,
           0.00024286906,
           0,
           -0.000579834,
           0,
           0,
           0,
           0,
           0,
           0,
           0,
           0,
           0,
           0,
           0,
           0,
           0
          ],
          [
           0,
           -0.0002568563,
           -0.00056711835,
           -0.00044250488,
           0,
           -0.000726064,
           0,
           -0.0005887349,
           0.00025812784,
           0,
           0,
           0.00051116943,
           0,
           0,
           0,
           0,
           0,
           0,
           0,
           0,
           0,
           0
          ],
          [
           0,
           0,
           0,
           0,
           0,
           0,
           0,
           0,
           0,
           0,
           0,
           0,
           0,
           0,
           0,
           0,
           0,
           0,
           0,
           0,
           0,
           0
          ],
          [
           0,
           0,
           0,
           0,
           0,
           0.00034586588,
           0,
           -0.00034586588,
           0,
           0,
           0,
           0,
           -0.0005925496,
           0,
           0,
           0,
           0,
           0,
           0,
           0,
           0,
           0
          ],
          [
           0,
           0,
           0,
           0,
           0,
           0,
           0,
           0,
           0,
           0,
           0,
           0,
           0,
           0,
           0,
           0,
           0,
           0,
           0,
           0,
           0,
           0
          ],
          [
           0,
           0,
           0,
           0,
           -0.00022125244,
           0,
           0,
           -0.0002746582,
           0,
           0,
           0,
           0.0002263387,
           -0.00039545694,
           0,
           0,
           0,
           0,
           0,
           0,
           0,
           0,
           0
          ],
          [
           0,
           0,
           0,
           0,
           0,
           0,
           0,
           0,
           0.000222524,
           0,
           0,
           0,
           -0.00021743774,
           0,
           0,
           0,
           0,
           0,
           0,
           0,
           0,
           0
          ],
          [
           0,
           0,
           0,
           0,
           0,
           0,
           0,
           0,
           0,
           0,
           0,
           0,
           0,
           0,
           0,
           0,
           0,
           0,
           0,
           0,
           0,
           0
          ],
          [
           0,
           0,
           0,
           0,
           0,
           0,
           0,
           0,
           0,
           0,
           0,
           0,
           0,
           0,
           0,
           0,
           0,
           0,
           0,
           0,
           0,
           0
          ],
          [
           0,
           0,
           0,
           -0.000096639,
           0,
           0,
           0,
           0.00022761028,
           -0.00021362305,
           0,
           0,
           0.00036875406,
           -0.0009244283,
           0,
           0.000579834,
           0,
           0.00054295856,
           0,
           0,
           0,
           0,
           0
          ],
          [
           0,
           0,
           0,
           0,
           0,
           0,
           0,
           0,
           0,
           0,
           0,
           0,
           0,
           0,
           0,
           0,
           0,
           0,
           0,
           0,
           0,
           0
          ]
         ]
        }
       ],
       "layout": {
        "coloraxis": {
         "cmid": 0,
         "colorscale": [
          [
           0,
           "rgb(103,0,31)"
          ],
          [
           0.1,
           "rgb(178,24,43)"
          ],
          [
           0.2,
           "rgb(214,96,77)"
          ],
          [
           0.3,
           "rgb(244,165,130)"
          ],
          [
           0.4,
           "rgb(253,219,199)"
          ],
          [
           0.5,
           "rgb(247,247,247)"
          ],
          [
           0.6,
           "rgb(209,229,240)"
          ],
          [
           0.7,
           "rgb(146,197,222)"
          ],
          [
           0.8,
           "rgb(67,147,195)"
          ],
          [
           0.9,
           "rgb(33,102,172)"
          ],
          [
           1,
           "rgb(5,48,97)"
          ]
         ]
        },
        "template": {
         "data": {
          "bar": [
           {
            "error_x": {
             "color": "#2a3f5f"
            },
            "error_y": {
             "color": "#2a3f5f"
            },
            "marker": {
             "line": {
              "color": "#E5ECF6",
              "width": 0.5
             },
             "pattern": {
              "fillmode": "overlay",
              "size": 10,
              "solidity": 0.2
             }
            },
            "type": "bar"
           }
          ],
          "barpolar": [
           {
            "marker": {
             "line": {
              "color": "#E5ECF6",
              "width": 0.5
             },
             "pattern": {
              "fillmode": "overlay",
              "size": 10,
              "solidity": 0.2
             }
            },
            "type": "barpolar"
           }
          ],
          "carpet": [
           {
            "aaxis": {
             "endlinecolor": "#2a3f5f",
             "gridcolor": "white",
             "linecolor": "white",
             "minorgridcolor": "white",
             "startlinecolor": "#2a3f5f"
            },
            "baxis": {
             "endlinecolor": "#2a3f5f",
             "gridcolor": "white",
             "linecolor": "white",
             "minorgridcolor": "white",
             "startlinecolor": "#2a3f5f"
            },
            "type": "carpet"
           }
          ],
          "choropleth": [
           {
            "colorbar": {
             "outlinewidth": 0,
             "ticks": ""
            },
            "type": "choropleth"
           }
          ],
          "contour": [
           {
            "colorbar": {
             "outlinewidth": 0,
             "ticks": ""
            },
            "colorscale": [
             [
              0,
              "#0d0887"
             ],
             [
              0.1111111111111111,
              "#46039f"
             ],
             [
              0.2222222222222222,
              "#7201a8"
             ],
             [
              0.3333333333333333,
              "#9c179e"
             ],
             [
              0.4444444444444444,
              "#bd3786"
             ],
             [
              0.5555555555555556,
              "#d8576b"
             ],
             [
              0.6666666666666666,
              "#ed7953"
             ],
             [
              0.7777777777777778,
              "#fb9f3a"
             ],
             [
              0.8888888888888888,
              "#fdca26"
             ],
             [
              1,
              "#f0f921"
             ]
            ],
            "type": "contour"
           }
          ],
          "contourcarpet": [
           {
            "colorbar": {
             "outlinewidth": 0,
             "ticks": ""
            },
            "type": "contourcarpet"
           }
          ],
          "heatmap": [
           {
            "colorbar": {
             "outlinewidth": 0,
             "ticks": ""
            },
            "colorscale": [
             [
              0,
              "#0d0887"
             ],
             [
              0.1111111111111111,
              "#46039f"
             ],
             [
              0.2222222222222222,
              "#7201a8"
             ],
             [
              0.3333333333333333,
              "#9c179e"
             ],
             [
              0.4444444444444444,
              "#bd3786"
             ],
             [
              0.5555555555555556,
              "#d8576b"
             ],
             [
              0.6666666666666666,
              "#ed7953"
             ],
             [
              0.7777777777777778,
              "#fb9f3a"
             ],
             [
              0.8888888888888888,
              "#fdca26"
             ],
             [
              1,
              "#f0f921"
             ]
            ],
            "type": "heatmap"
           }
          ],
          "heatmapgl": [
           {
            "colorbar": {
             "outlinewidth": 0,
             "ticks": ""
            },
            "colorscale": [
             [
              0,
              "#0d0887"
             ],
             [
              0.1111111111111111,
              "#46039f"
             ],
             [
              0.2222222222222222,
              "#7201a8"
             ],
             [
              0.3333333333333333,
              "#9c179e"
             ],
             [
              0.4444444444444444,
              "#bd3786"
             ],
             [
              0.5555555555555556,
              "#d8576b"
             ],
             [
              0.6666666666666666,
              "#ed7953"
             ],
             [
              0.7777777777777778,
              "#fb9f3a"
             ],
             [
              0.8888888888888888,
              "#fdca26"
             ],
             [
              1,
              "#f0f921"
             ]
            ],
            "type": "heatmapgl"
           }
          ],
          "histogram": [
           {
            "marker": {
             "pattern": {
              "fillmode": "overlay",
              "size": 10,
              "solidity": 0.2
             }
            },
            "type": "histogram"
           }
          ],
          "histogram2d": [
           {
            "colorbar": {
             "outlinewidth": 0,
             "ticks": ""
            },
            "colorscale": [
             [
              0,
              "#0d0887"
             ],
             [
              0.1111111111111111,
              "#46039f"
             ],
             [
              0.2222222222222222,
              "#7201a8"
             ],
             [
              0.3333333333333333,
              "#9c179e"
             ],
             [
              0.4444444444444444,
              "#bd3786"
             ],
             [
              0.5555555555555556,
              "#d8576b"
             ],
             [
              0.6666666666666666,
              "#ed7953"
             ],
             [
              0.7777777777777778,
              "#fb9f3a"
             ],
             [
              0.8888888888888888,
              "#fdca26"
             ],
             [
              1,
              "#f0f921"
             ]
            ],
            "type": "histogram2d"
           }
          ],
          "histogram2dcontour": [
           {
            "colorbar": {
             "outlinewidth": 0,
             "ticks": ""
            },
            "colorscale": [
             [
              0,
              "#0d0887"
             ],
             [
              0.1111111111111111,
              "#46039f"
             ],
             [
              0.2222222222222222,
              "#7201a8"
             ],
             [
              0.3333333333333333,
              "#9c179e"
             ],
             [
              0.4444444444444444,
              "#bd3786"
             ],
             [
              0.5555555555555556,
              "#d8576b"
             ],
             [
              0.6666666666666666,
              "#ed7953"
             ],
             [
              0.7777777777777778,
              "#fb9f3a"
             ],
             [
              0.8888888888888888,
              "#fdca26"
             ],
             [
              1,
              "#f0f921"
             ]
            ],
            "type": "histogram2dcontour"
           }
          ],
          "mesh3d": [
           {
            "colorbar": {
             "outlinewidth": 0,
             "ticks": ""
            },
            "type": "mesh3d"
           }
          ],
          "parcoords": [
           {
            "line": {
             "colorbar": {
              "outlinewidth": 0,
              "ticks": ""
             }
            },
            "type": "parcoords"
           }
          ],
          "pie": [
           {
            "automargin": true,
            "type": "pie"
           }
          ],
          "scatter": [
           {
            "fillpattern": {
             "fillmode": "overlay",
             "size": 10,
             "solidity": 0.2
            },
            "type": "scatter"
           }
          ],
          "scatter3d": [
           {
            "line": {
             "colorbar": {
              "outlinewidth": 0,
              "ticks": ""
             }
            },
            "marker": {
             "colorbar": {
              "outlinewidth": 0,
              "ticks": ""
             }
            },
            "type": "scatter3d"
           }
          ],
          "scattercarpet": [
           {
            "marker": {
             "colorbar": {
              "outlinewidth": 0,
              "ticks": ""
             }
            },
            "type": "scattercarpet"
           }
          ],
          "scattergeo": [
           {
            "marker": {
             "colorbar": {
              "outlinewidth": 0,
              "ticks": ""
             }
            },
            "type": "scattergeo"
           }
          ],
          "scattergl": [
           {
            "marker": {
             "colorbar": {
              "outlinewidth": 0,
              "ticks": ""
             }
            },
            "type": "scattergl"
           }
          ],
          "scattermapbox": [
           {
            "marker": {
             "colorbar": {
              "outlinewidth": 0,
              "ticks": ""
             }
            },
            "type": "scattermapbox"
           }
          ],
          "scatterpolar": [
           {
            "marker": {
             "colorbar": {
              "outlinewidth": 0,
              "ticks": ""
             }
            },
            "type": "scatterpolar"
           }
          ],
          "scatterpolargl": [
           {
            "marker": {
             "colorbar": {
              "outlinewidth": 0,
              "ticks": ""
             }
            },
            "type": "scatterpolargl"
           }
          ],
          "scatterternary": [
           {
            "marker": {
             "colorbar": {
              "outlinewidth": 0,
              "ticks": ""
             }
            },
            "type": "scatterternary"
           }
          ],
          "surface": [
           {
            "colorbar": {
             "outlinewidth": 0,
             "ticks": ""
            },
            "colorscale": [
             [
              0,
              "#0d0887"
             ],
             [
              0.1111111111111111,
              "#46039f"
             ],
             [
              0.2222222222222222,
              "#7201a8"
             ],
             [
              0.3333333333333333,
              "#9c179e"
             ],
             [
              0.4444444444444444,
              "#bd3786"
             ],
             [
              0.5555555555555556,
              "#d8576b"
             ],
             [
              0.6666666666666666,
              "#ed7953"
             ],
             [
              0.7777777777777778,
              "#fb9f3a"
             ],
             [
              0.8888888888888888,
              "#fdca26"
             ],
             [
              1,
              "#f0f921"
             ]
            ],
            "type": "surface"
           }
          ],
          "table": [
           {
            "cells": {
             "fill": {
              "color": "#EBF0F8"
             },
             "line": {
              "color": "white"
             }
            },
            "header": {
             "fill": {
              "color": "#C8D4E3"
             },
             "line": {
              "color": "white"
             }
            },
            "type": "table"
           }
          ]
         },
         "layout": {
          "annotationdefaults": {
           "arrowcolor": "#2a3f5f",
           "arrowhead": 0,
           "arrowwidth": 1
          },
          "autotypenumbers": "strict",
          "coloraxis": {
           "colorbar": {
            "outlinewidth": 0,
            "ticks": ""
           }
          },
          "colorscale": {
           "diverging": [
            [
             0,
             "#8e0152"
            ],
            [
             0.1,
             "#c51b7d"
            ],
            [
             0.2,
             "#de77ae"
            ],
            [
             0.3,
             "#f1b6da"
            ],
            [
             0.4,
             "#fde0ef"
            ],
            [
             0.5,
             "#f7f7f7"
            ],
            [
             0.6,
             "#e6f5d0"
            ],
            [
             0.7,
             "#b8e186"
            ],
            [
             0.8,
             "#7fbc41"
            ],
            [
             0.9,
             "#4d9221"
            ],
            [
             1,
             "#276419"
            ]
           ],
           "sequential": [
            [
             0,
             "#0d0887"
            ],
            [
             0.1111111111111111,
             "#46039f"
            ],
            [
             0.2222222222222222,
             "#7201a8"
            ],
            [
             0.3333333333333333,
             "#9c179e"
            ],
            [
             0.4444444444444444,
             "#bd3786"
            ],
            [
             0.5555555555555556,
             "#d8576b"
            ],
            [
             0.6666666666666666,
             "#ed7953"
            ],
            [
             0.7777777777777778,
             "#fb9f3a"
            ],
            [
             0.8888888888888888,
             "#fdca26"
            ],
            [
             1,
             "#f0f921"
            ]
           ],
           "sequentialminus": [
            [
             0,
             "#0d0887"
            ],
            [
             0.1111111111111111,
             "#46039f"
            ],
            [
             0.2222222222222222,
             "#7201a8"
            ],
            [
             0.3333333333333333,
             "#9c179e"
            ],
            [
             0.4444444444444444,
             "#bd3786"
            ],
            [
             0.5555555555555556,
             "#d8576b"
            ],
            [
             0.6666666666666666,
             "#ed7953"
            ],
            [
             0.7777777777777778,
             "#fb9f3a"
            ],
            [
             0.8888888888888888,
             "#fdca26"
            ],
            [
             1,
             "#f0f921"
            ]
           ]
          },
          "colorway": [
           "#636efa",
           "#EF553B",
           "#00cc96",
           "#ab63fa",
           "#FFA15A",
           "#19d3f3",
           "#FF6692",
           "#B6E880",
           "#FF97FF",
           "#FECB52"
          ],
          "font": {
           "color": "#2a3f5f"
          },
          "geo": {
           "bgcolor": "white",
           "lakecolor": "white",
           "landcolor": "#E5ECF6",
           "showlakes": true,
           "showland": true,
           "subunitcolor": "white"
          },
          "hoverlabel": {
           "align": "left"
          },
          "hovermode": "closest",
          "mapbox": {
           "style": "light"
          },
          "paper_bgcolor": "white",
          "plot_bgcolor": "#E5ECF6",
          "polar": {
           "angularaxis": {
            "gridcolor": "white",
            "linecolor": "white",
            "ticks": ""
           },
           "bgcolor": "#E5ECF6",
           "radialaxis": {
            "gridcolor": "white",
            "linecolor": "white",
            "ticks": ""
           }
          },
          "scene": {
           "xaxis": {
            "backgroundcolor": "#E5ECF6",
            "gridcolor": "white",
            "gridwidth": 2,
            "linecolor": "white",
            "showbackground": true,
            "ticks": "",
            "zerolinecolor": "white"
           },
           "yaxis": {
            "backgroundcolor": "#E5ECF6",
            "gridcolor": "white",
            "gridwidth": 2,
            "linecolor": "white",
            "showbackground": true,
            "ticks": "",
            "zerolinecolor": "white"
           },
           "zaxis": {
            "backgroundcolor": "#E5ECF6",
            "gridcolor": "white",
            "gridwidth": 2,
            "linecolor": "white",
            "showbackground": true,
            "ticks": "",
            "zerolinecolor": "white"
           }
          },
          "shapedefaults": {
           "line": {
            "color": "#2a3f5f"
           }
          },
          "ternary": {
           "aaxis": {
            "gridcolor": "white",
            "linecolor": "white",
            "ticks": ""
           },
           "baxis": {
            "gridcolor": "white",
            "linecolor": "white",
            "ticks": ""
           },
           "bgcolor": "#E5ECF6",
           "caxis": {
            "gridcolor": "white",
            "linecolor": "white",
            "ticks": ""
           }
          },
          "title": {
           "x": 0.05
          },
          "xaxis": {
           "automargin": true,
           "gridcolor": "white",
           "linecolor": "white",
           "ticks": "",
           "title": {
            "standoff": 15
           },
           "zerolinecolor": "white",
           "zerolinewidth": 2
          },
          "yaxis": {
           "automargin": true,
           "gridcolor": "white",
           "linecolor": "white",
           "ticks": "",
           "title": {
            "standoff": 15
           },
           "zerolinecolor": "white",
           "zerolinewidth": 2
          }
         }
        },
        "title": {
         "text": "Head Path to Query Attribution Patching (Filtered for Top Heads)"
        },
        "xaxis": {
         "anchor": "y",
         "domain": [
          0,
          1
         ],
         "title": {
          "text": "Path Start (Head Output)"
         }
        },
        "yaxis": {
         "anchor": "x",
         "autorange": "reversed",
         "domain": [
          0,
          1
         ],
         "title": {
          "text": "Path End (Head Input)"
         }
        }
       }
      }
     },
     "metadata": {},
     "output_type": "display_data"
    },
    {
     "data": {
      "application/vnd.plotly.v1+json": {
       "config": {
        "plotlyServerURL": "https://plot.ly"
       },
       "data": [
        {
         "coloraxis": "coloraxis",
         "hovertemplate": "x: %{x}<br>y: %{y}<br>color: %{z}<extra></extra>",
         "name": "0",
         "type": "heatmap",
         "x": [
          "L8H1",
          "L8H9",
          "L9H14",
          "L10H9",
          "L11H8",
          "L14H0",
          "L14H1",
          "L15H9",
          "L15H15",
          "L17H11",
          "L17H12",
          "L18H12",
          "L19H3",
          "L19H12",
          "L20H7",
          "L21H1",
          "L21H9",
          "L21H10",
          "L21H11",
          "L25H0",
          "L25H1",
          "L25H6"
         ],
         "xaxis": "x",
         "y": [
          "L8H1K",
          "L8H9K",
          "L9H14K",
          "L10H9K",
          "L11H8K",
          "L14H0K",
          "L14H1K",
          "L15H9K",
          "L15H15K",
          "L17H11K",
          "L17H12K",
          "L18H12K",
          "L19H3K",
          "L19H12K",
          "L20H7K",
          "L21H1K",
          "L21H9K",
          "L21H10K",
          "L21H11K",
          "L25H0K",
          "L25H1K",
          "L25H6K"
         ],
         "yaxis": "y",
         "z": [
          [
           0,
           0,
           0,
           0,
           0,
           0,
           0,
           0,
           0,
           0,
           0,
           0,
           0,
           0,
           0,
           0,
           0,
           0,
           0,
           0,
           0,
           0
          ],
          [
           0,
           0,
           0,
           0,
           0,
           0,
           0,
           0,
           0,
           0,
           0,
           0,
           0,
           0,
           0,
           0,
           0,
           0,
           0,
           0,
           0,
           0
          ],
          [
           -0.00021235149,
           -0.0006713867,
           0,
           0,
           0,
           0,
           0,
           0,
           0,
           0,
           0,
           0,
           0,
           0,
           0,
           0,
           0,
           0,
           0,
           0,
           0,
           0
          ],
          [
           0,
           -0.002310435,
           -0.002137502,
           0,
           0,
           0,
           0,
           0,
           0,
           0,
           0,
           0,
           0,
           0,
           0,
           0,
           0,
           0,
           0,
           0,
           0,
           0
          ],
          [
           -0.0012079874,
           -0.00315094,
           -0.003314972,
           -0.0057144165,
           0,
           0,
           0,
           0,
           0,
           0,
           0,
           0,
           0,
           0,
           0,
           0,
           0,
           0,
           0,
           0,
           0,
           0
          ],
          [
           0,
           0,
           -0.0007502238,
           0,
           0,
           0,
           0,
           0,
           0,
           0,
           0,
           0,
           0,
           0,
           0,
           0,
           0,
           0,
           0,
           0,
           0,
           0
          ],
          [
           0,
           0,
           -0.0007502238,
           0,
           0,
           0,
           0,
           0,
           0,
           0,
           0,
           0,
           0,
           0,
           0,
           0,
           0,
           0,
           0,
           0,
           0,
           0
          ],
          [
           0,
           0.00038909912,
           0.0008036296,
           0,
           0.0002632141,
           0,
           0,
           0,
           0,
           0,
           0,
           0,
           0,
           0,
           0,
           0,
           0,
           0,
           0,
           0,
           0,
           0
          ],
          [
           0,
           0,
           0,
           0,
           0,
           0,
           0,
           0,
           0,
           0,
           0,
           0,
           0,
           0,
           0,
           0,
           0,
           0,
           0,
           0,
           0,
           0
          ],
          [
           0,
           0,
           0,
           0,
           0,
           0,
           0,
           0,
           0.00036621094,
           0,
           0,
           0,
           0,
           0,
           0,
           0,
           0,
           0,
           0,
           0,
           0,
           0
          ],
          [
           0,
           0,
           0,
           0,
           -0.00022379558,
           0,
           0,
           0,
           0.0008036296,
           0,
           0,
           0,
           0,
           0,
           0,
           0,
           0,
           0,
           0,
           0,
           0,
           0
          ],
          [
           0,
           0,
           0,
           0,
           0,
           0,
           0,
           0,
           0,
           0,
           0,
           0,
           0,
           0,
           0,
           0,
           0,
           0,
           0,
           0,
           0,
           0
          ],
          [
           0,
           0,
           0,
           0,
           0,
           -0.00038909912,
           -0.00021616618,
           -0.00022125244,
           0.00021743774,
           0,
           0,
           0,
           0,
           0,
           0,
           0,
           0,
           0,
           0,
           0,
           0,
           0
          ],
          [
           0,
           0,
           0,
           0,
           0,
           0,
           0,
           0,
           0,
           0,
           0,
           0,
           0,
           0,
           0,
           0,
           0,
           0,
           0,
           0,
           0,
           0
          ],
          [
           0,
           0,
           0,
           0,
           0,
           0,
           0,
           0,
           0,
           0,
           0,
           0,
           0,
           0,
           0,
           0,
           0,
           0,
           0,
           0,
           0,
           0
          ],
          [
           0,
           0,
           0,
           0,
           0,
           0,
           0,
           0,
           0,
           0,
           0,
           0,
           -0.0002454122,
           -0.0006154378,
           0,
           0,
           0,
           0,
           0,
           0,
           0,
           0
          ],
          [
           0,
           0,
           0,
           0,
           0,
           0.00020853679,
           0,
           0,
           0,
           0,
           0,
           0,
           0,
           0,
           0,
           0,
           0,
           0,
           0,
           0,
           0,
           0
          ],
          [
           0,
           0,
           0,
           0,
           0,
           0,
           0,
           0,
           -0.00023651123,
           0,
           0,
           0,
           -0.00028737387,
           -0.0002708435,
           0,
           0,
           0,
           0,
           0,
           0,
           0,
           0
          ],
          [
           0,
           0,
           0,
           0,
           0,
           0,
           0,
           0,
           -0.00023651123,
           0,
           0,
           0,
           -0.00028737387,
           -0.0002708435,
           0,
           0,
           0,
           0,
           0,
           0,
           0,
           0
          ],
          [
           -0.00025431314,
           0,
           0,
           0,
           0,
           0.0002962748,
           0,
           0.00022379558,
           0.00018692017,
           0,
           0,
           0.0002492269,
           0.00023905437,
           -0.0002708435,
           0,
           -0.00026194254,
           0,
           0,
           -0.00024414062,
           0,
           0,
           0
          ],
          [
           -0.00025431314,
           0,
           0,
           0,
           0,
           0.0002962748,
           0,
           0.00022379558,
           0.00018692017,
           0,
           0,
           0.0002492269,
           0.00023905437,
           -0.0002708435,
           0,
           -0.00026194254,
           0,
           0,
           -0.00024414062,
           0,
           0,
           0
          ],
          [
           0,
           -0.00038909912,
           0,
           -0.000260671,
           0,
           -0.00037384033,
           0,
           -0.00025812784,
           0.00056711835,
           0,
           0,
           0,
           0.0026741028,
           0.00090789795,
           0,
           0.000764211,
           -0.00036366782,
           0,
           0,
           0,
           0,
           0
          ]
         ]
        }
       ],
       "layout": {
        "coloraxis": {
         "cmid": 0,
         "colorscale": [
          [
           0,
           "rgb(103,0,31)"
          ],
          [
           0.1,
           "rgb(178,24,43)"
          ],
          [
           0.2,
           "rgb(214,96,77)"
          ],
          [
           0.3,
           "rgb(244,165,130)"
          ],
          [
           0.4,
           "rgb(253,219,199)"
          ],
          [
           0.5,
           "rgb(247,247,247)"
          ],
          [
           0.6,
           "rgb(209,229,240)"
          ],
          [
           0.7,
           "rgb(146,197,222)"
          ],
          [
           0.8,
           "rgb(67,147,195)"
          ],
          [
           0.9,
           "rgb(33,102,172)"
          ],
          [
           1,
           "rgb(5,48,97)"
          ]
         ]
        },
        "template": {
         "data": {
          "bar": [
           {
            "error_x": {
             "color": "#2a3f5f"
            },
            "error_y": {
             "color": "#2a3f5f"
            },
            "marker": {
             "line": {
              "color": "#E5ECF6",
              "width": 0.5
             },
             "pattern": {
              "fillmode": "overlay",
              "size": 10,
              "solidity": 0.2
             }
            },
            "type": "bar"
           }
          ],
          "barpolar": [
           {
            "marker": {
             "line": {
              "color": "#E5ECF6",
              "width": 0.5
             },
             "pattern": {
              "fillmode": "overlay",
              "size": 10,
              "solidity": 0.2
             }
            },
            "type": "barpolar"
           }
          ],
          "carpet": [
           {
            "aaxis": {
             "endlinecolor": "#2a3f5f",
             "gridcolor": "white",
             "linecolor": "white",
             "minorgridcolor": "white",
             "startlinecolor": "#2a3f5f"
            },
            "baxis": {
             "endlinecolor": "#2a3f5f",
             "gridcolor": "white",
             "linecolor": "white",
             "minorgridcolor": "white",
             "startlinecolor": "#2a3f5f"
            },
            "type": "carpet"
           }
          ],
          "choropleth": [
           {
            "colorbar": {
             "outlinewidth": 0,
             "ticks": ""
            },
            "type": "choropleth"
           }
          ],
          "contour": [
           {
            "colorbar": {
             "outlinewidth": 0,
             "ticks": ""
            },
            "colorscale": [
             [
              0,
              "#0d0887"
             ],
             [
              0.1111111111111111,
              "#46039f"
             ],
             [
              0.2222222222222222,
              "#7201a8"
             ],
             [
              0.3333333333333333,
              "#9c179e"
             ],
             [
              0.4444444444444444,
              "#bd3786"
             ],
             [
              0.5555555555555556,
              "#d8576b"
             ],
             [
              0.6666666666666666,
              "#ed7953"
             ],
             [
              0.7777777777777778,
              "#fb9f3a"
             ],
             [
              0.8888888888888888,
              "#fdca26"
             ],
             [
              1,
              "#f0f921"
             ]
            ],
            "type": "contour"
           }
          ],
          "contourcarpet": [
           {
            "colorbar": {
             "outlinewidth": 0,
             "ticks": ""
            },
            "type": "contourcarpet"
           }
          ],
          "heatmap": [
           {
            "colorbar": {
             "outlinewidth": 0,
             "ticks": ""
            },
            "colorscale": [
             [
              0,
              "#0d0887"
             ],
             [
              0.1111111111111111,
              "#46039f"
             ],
             [
              0.2222222222222222,
              "#7201a8"
             ],
             [
              0.3333333333333333,
              "#9c179e"
             ],
             [
              0.4444444444444444,
              "#bd3786"
             ],
             [
              0.5555555555555556,
              "#d8576b"
             ],
             [
              0.6666666666666666,
              "#ed7953"
             ],
             [
              0.7777777777777778,
              "#fb9f3a"
             ],
             [
              0.8888888888888888,
              "#fdca26"
             ],
             [
              1,
              "#f0f921"
             ]
            ],
            "type": "heatmap"
           }
          ],
          "heatmapgl": [
           {
            "colorbar": {
             "outlinewidth": 0,
             "ticks": ""
            },
            "colorscale": [
             [
              0,
              "#0d0887"
             ],
             [
              0.1111111111111111,
              "#46039f"
             ],
             [
              0.2222222222222222,
              "#7201a8"
             ],
             [
              0.3333333333333333,
              "#9c179e"
             ],
             [
              0.4444444444444444,
              "#bd3786"
             ],
             [
              0.5555555555555556,
              "#d8576b"
             ],
             [
              0.6666666666666666,
              "#ed7953"
             ],
             [
              0.7777777777777778,
              "#fb9f3a"
             ],
             [
              0.8888888888888888,
              "#fdca26"
             ],
             [
              1,
              "#f0f921"
             ]
            ],
            "type": "heatmapgl"
           }
          ],
          "histogram": [
           {
            "marker": {
             "pattern": {
              "fillmode": "overlay",
              "size": 10,
              "solidity": 0.2
             }
            },
            "type": "histogram"
           }
          ],
          "histogram2d": [
           {
            "colorbar": {
             "outlinewidth": 0,
             "ticks": ""
            },
            "colorscale": [
             [
              0,
              "#0d0887"
             ],
             [
              0.1111111111111111,
              "#46039f"
             ],
             [
              0.2222222222222222,
              "#7201a8"
             ],
             [
              0.3333333333333333,
              "#9c179e"
             ],
             [
              0.4444444444444444,
              "#bd3786"
             ],
             [
              0.5555555555555556,
              "#d8576b"
             ],
             [
              0.6666666666666666,
              "#ed7953"
             ],
             [
              0.7777777777777778,
              "#fb9f3a"
             ],
             [
              0.8888888888888888,
              "#fdca26"
             ],
             [
              1,
              "#f0f921"
             ]
            ],
            "type": "histogram2d"
           }
          ],
          "histogram2dcontour": [
           {
            "colorbar": {
             "outlinewidth": 0,
             "ticks": ""
            },
            "colorscale": [
             [
              0,
              "#0d0887"
             ],
             [
              0.1111111111111111,
              "#46039f"
             ],
             [
              0.2222222222222222,
              "#7201a8"
             ],
             [
              0.3333333333333333,
              "#9c179e"
             ],
             [
              0.4444444444444444,
              "#bd3786"
             ],
             [
              0.5555555555555556,
              "#d8576b"
             ],
             [
              0.6666666666666666,
              "#ed7953"
             ],
             [
              0.7777777777777778,
              "#fb9f3a"
             ],
             [
              0.8888888888888888,
              "#fdca26"
             ],
             [
              1,
              "#f0f921"
             ]
            ],
            "type": "histogram2dcontour"
           }
          ],
          "mesh3d": [
           {
            "colorbar": {
             "outlinewidth": 0,
             "ticks": ""
            },
            "type": "mesh3d"
           }
          ],
          "parcoords": [
           {
            "line": {
             "colorbar": {
              "outlinewidth": 0,
              "ticks": ""
             }
            },
            "type": "parcoords"
           }
          ],
          "pie": [
           {
            "automargin": true,
            "type": "pie"
           }
          ],
          "scatter": [
           {
            "fillpattern": {
             "fillmode": "overlay",
             "size": 10,
             "solidity": 0.2
            },
            "type": "scatter"
           }
          ],
          "scatter3d": [
           {
            "line": {
             "colorbar": {
              "outlinewidth": 0,
              "ticks": ""
             }
            },
            "marker": {
             "colorbar": {
              "outlinewidth": 0,
              "ticks": ""
             }
            },
            "type": "scatter3d"
           }
          ],
          "scattercarpet": [
           {
            "marker": {
             "colorbar": {
              "outlinewidth": 0,
              "ticks": ""
             }
            },
            "type": "scattercarpet"
           }
          ],
          "scattergeo": [
           {
            "marker": {
             "colorbar": {
              "outlinewidth": 0,
              "ticks": ""
             }
            },
            "type": "scattergeo"
           }
          ],
          "scattergl": [
           {
            "marker": {
             "colorbar": {
              "outlinewidth": 0,
              "ticks": ""
             }
            },
            "type": "scattergl"
           }
          ],
          "scattermapbox": [
           {
            "marker": {
             "colorbar": {
              "outlinewidth": 0,
              "ticks": ""
             }
            },
            "type": "scattermapbox"
           }
          ],
          "scatterpolar": [
           {
            "marker": {
             "colorbar": {
              "outlinewidth": 0,
              "ticks": ""
             }
            },
            "type": "scatterpolar"
           }
          ],
          "scatterpolargl": [
           {
            "marker": {
             "colorbar": {
              "outlinewidth": 0,
              "ticks": ""
             }
            },
            "type": "scatterpolargl"
           }
          ],
          "scatterternary": [
           {
            "marker": {
             "colorbar": {
              "outlinewidth": 0,
              "ticks": ""
             }
            },
            "type": "scatterternary"
           }
          ],
          "surface": [
           {
            "colorbar": {
             "outlinewidth": 0,
             "ticks": ""
            },
            "colorscale": [
             [
              0,
              "#0d0887"
             ],
             [
              0.1111111111111111,
              "#46039f"
             ],
             [
              0.2222222222222222,
              "#7201a8"
             ],
             [
              0.3333333333333333,
              "#9c179e"
             ],
             [
              0.4444444444444444,
              "#bd3786"
             ],
             [
              0.5555555555555556,
              "#d8576b"
             ],
             [
              0.6666666666666666,
              "#ed7953"
             ],
             [
              0.7777777777777778,
              "#fb9f3a"
             ],
             [
              0.8888888888888888,
              "#fdca26"
             ],
             [
              1,
              "#f0f921"
             ]
            ],
            "type": "surface"
           }
          ],
          "table": [
           {
            "cells": {
             "fill": {
              "color": "#EBF0F8"
             },
             "line": {
              "color": "white"
             }
            },
            "header": {
             "fill": {
              "color": "#C8D4E3"
             },
             "line": {
              "color": "white"
             }
            },
            "type": "table"
           }
          ]
         },
         "layout": {
          "annotationdefaults": {
           "arrowcolor": "#2a3f5f",
           "arrowhead": 0,
           "arrowwidth": 1
          },
          "autotypenumbers": "strict",
          "coloraxis": {
           "colorbar": {
            "outlinewidth": 0,
            "ticks": ""
           }
          },
          "colorscale": {
           "diverging": [
            [
             0,
             "#8e0152"
            ],
            [
             0.1,
             "#c51b7d"
            ],
            [
             0.2,
             "#de77ae"
            ],
            [
             0.3,
             "#f1b6da"
            ],
            [
             0.4,
             "#fde0ef"
            ],
            [
             0.5,
             "#f7f7f7"
            ],
            [
             0.6,
             "#e6f5d0"
            ],
            [
             0.7,
             "#b8e186"
            ],
            [
             0.8,
             "#7fbc41"
            ],
            [
             0.9,
             "#4d9221"
            ],
            [
             1,
             "#276419"
            ]
           ],
           "sequential": [
            [
             0,
             "#0d0887"
            ],
            [
             0.1111111111111111,
             "#46039f"
            ],
            [
             0.2222222222222222,
             "#7201a8"
            ],
            [
             0.3333333333333333,
             "#9c179e"
            ],
            [
             0.4444444444444444,
             "#bd3786"
            ],
            [
             0.5555555555555556,
             "#d8576b"
            ],
            [
             0.6666666666666666,
             "#ed7953"
            ],
            [
             0.7777777777777778,
             "#fb9f3a"
            ],
            [
             0.8888888888888888,
             "#fdca26"
            ],
            [
             1,
             "#f0f921"
            ]
           ],
           "sequentialminus": [
            [
             0,
             "#0d0887"
            ],
            [
             0.1111111111111111,
             "#46039f"
            ],
            [
             0.2222222222222222,
             "#7201a8"
            ],
            [
             0.3333333333333333,
             "#9c179e"
            ],
            [
             0.4444444444444444,
             "#bd3786"
            ],
            [
             0.5555555555555556,
             "#d8576b"
            ],
            [
             0.6666666666666666,
             "#ed7953"
            ],
            [
             0.7777777777777778,
             "#fb9f3a"
            ],
            [
             0.8888888888888888,
             "#fdca26"
            ],
            [
             1,
             "#f0f921"
            ]
           ]
          },
          "colorway": [
           "#636efa",
           "#EF553B",
           "#00cc96",
           "#ab63fa",
           "#FFA15A",
           "#19d3f3",
           "#FF6692",
           "#B6E880",
           "#FF97FF",
           "#FECB52"
          ],
          "font": {
           "color": "#2a3f5f"
          },
          "geo": {
           "bgcolor": "white",
           "lakecolor": "white",
           "landcolor": "#E5ECF6",
           "showlakes": true,
           "showland": true,
           "subunitcolor": "white"
          },
          "hoverlabel": {
           "align": "left"
          },
          "hovermode": "closest",
          "mapbox": {
           "style": "light"
          },
          "paper_bgcolor": "white",
          "plot_bgcolor": "#E5ECF6",
          "polar": {
           "angularaxis": {
            "gridcolor": "white",
            "linecolor": "white",
            "ticks": ""
           },
           "bgcolor": "#E5ECF6",
           "radialaxis": {
            "gridcolor": "white",
            "linecolor": "white",
            "ticks": ""
           }
          },
          "scene": {
           "xaxis": {
            "backgroundcolor": "#E5ECF6",
            "gridcolor": "white",
            "gridwidth": 2,
            "linecolor": "white",
            "showbackground": true,
            "ticks": "",
            "zerolinecolor": "white"
           },
           "yaxis": {
            "backgroundcolor": "#E5ECF6",
            "gridcolor": "white",
            "gridwidth": 2,
            "linecolor": "white",
            "showbackground": true,
            "ticks": "",
            "zerolinecolor": "white"
           },
           "zaxis": {
            "backgroundcolor": "#E5ECF6",
            "gridcolor": "white",
            "gridwidth": 2,
            "linecolor": "white",
            "showbackground": true,
            "ticks": "",
            "zerolinecolor": "white"
           }
          },
          "shapedefaults": {
           "line": {
            "color": "#2a3f5f"
           }
          },
          "ternary": {
           "aaxis": {
            "gridcolor": "white",
            "linecolor": "white",
            "ticks": ""
           },
           "baxis": {
            "gridcolor": "white",
            "linecolor": "white",
            "ticks": ""
           },
           "bgcolor": "#E5ECF6",
           "caxis": {
            "gridcolor": "white",
            "linecolor": "white",
            "ticks": ""
           }
          },
          "title": {
           "x": 0.05
          },
          "xaxis": {
           "automargin": true,
           "gridcolor": "white",
           "linecolor": "white",
           "ticks": "",
           "title": {
            "standoff": 15
           },
           "zerolinecolor": "white",
           "zerolinewidth": 2
          },
          "yaxis": {
           "automargin": true,
           "gridcolor": "white",
           "linecolor": "white",
           "ticks": "",
           "title": {
            "standoff": 15
           },
           "zerolinecolor": "white",
           "zerolinewidth": 2
          }
         }
        },
        "title": {
         "text": "Head Path to Key Attribution Patching (Filtered for Top Heads)"
        },
        "xaxis": {
         "anchor": "y",
         "domain": [
          0,
          1
         ],
         "title": {
          "text": "Path Start (Head Output)"
         }
        },
        "yaxis": {
         "anchor": "x",
         "autorange": "reversed",
         "domain": [
          0,
          1
         ],
         "title": {
          "text": "Path End (Head Input)"
         }
        }
       }
      }
     },
     "metadata": {},
     "output_type": "display_data"
    },
    {
     "data": {
      "application/vnd.plotly.v1+json": {
       "config": {
        "plotlyServerURL": "https://plot.ly"
       },
       "data": [
        {
         "coloraxis": "coloraxis",
         "hovertemplate": "x: %{x}<br>y: %{y}<br>color: %{z}<extra></extra>",
         "name": "0",
         "type": "heatmap",
         "x": [
          "L8H1",
          "L8H9",
          "L9H14",
          "L10H9",
          "L11H8",
          "L14H0",
          "L14H1",
          "L15H9",
          "L15H15",
          "L17H11",
          "L17H12",
          "L18H12",
          "L19H3",
          "L19H12",
          "L20H7",
          "L21H1",
          "L21H9",
          "L21H10",
          "L21H11",
          "L25H0",
          "L25H1",
          "L25H6"
         ],
         "xaxis": "x",
         "y": [
          "L8H1V",
          "L8H9V",
          "L9H14V",
          "L10H9V",
          "L11H8V",
          "L14H0V",
          "L14H1V",
          "L15H9V",
          "L15H15V",
          "L17H11V",
          "L17H12V",
          "L18H12V",
          "L19H3V",
          "L19H12V",
          "L20H7V",
          "L21H1V",
          "L21H9V",
          "L21H10V",
          "L21H11V",
          "L25H0V",
          "L25H1V",
          "L25H6V"
         ],
         "yaxis": "y",
         "z": [
          [
           0,
           0,
           0,
           0,
           0,
           0,
           0,
           0,
           0,
           0,
           0,
           0,
           0,
           0,
           0,
           0,
           0,
           0,
           0,
           0,
           0,
           0
          ],
          [
           0,
           0,
           0,
           0,
           0,
           0,
           0,
           0,
           0,
           0,
           0,
           0,
           0,
           0,
           0,
           0,
           0,
           0,
           0,
           0,
           0,
           0
          ],
          [
           -0.0002339681,
           0,
           0,
           0,
           0,
           0,
           0,
           0,
           0,
           0,
           0,
           0,
           0,
           0,
           0,
           0,
           0,
           0,
           0,
           0,
           0,
           0
          ],
          [
           0,
           -0.00021362305,
           0,
           0,
           0,
           0,
           0,
           0,
           0,
           0,
           0,
           0,
           0,
           0,
           0,
           0,
           0,
           0,
           0,
           0,
           0,
           0
          ],
          [
           0.000319163,
           -0.0015805563,
           -0.0015347799,
           -0.0015055338,
           0,
           0,
           0,
           0,
           0,
           0,
           0,
           0,
           0,
           0,
           0,
           0,
           0,
           0,
           0,
           0,
           0,
           0
          ],
          [
           0,
           0,
           0,
           0,
           0,
           0,
           0,
           0,
           0,
           0,
           0,
           0,
           0,
           0,
           0,
           0,
           0,
           0,
           0,
           0,
           0,
           0
          ],
          [
           0,
           0,
           0,
           0,
           0,
           0,
           0,
           0,
           0,
           0,
           0,
           0,
           0,
           0,
           0,
           0,
           0,
           0,
           0,
           0,
           0,
           0
          ],
          [
           0,
           0,
           0,
           0,
           0.00023142497,
           0,
           0,
           0,
           0,
           0,
           0,
           0,
           0,
           0,
           0,
           0,
           0,
           0,
           0,
           0,
           0,
           0
          ],
          [
           -0.000773112,
           0.000386556,
           0.0019327799,
           -0.00013605754,
           -0.00090026855,
           0.0025164287,
           0.000764211,
           0,
           0,
           0,
           0,
           0,
           0,
           0,
           0,
           0,
           0,
           0,
           0,
           0,
           0,
           0
          ],
          [
           0,
           0,
           -0.00021362305,
           -0.00021362305,
           0,
           0,
           0,
           0,
           0.00022125244,
           0,
           0,
           0,
           0,
           0,
           0,
           0,
           0,
           0,
           0,
           0,
           0,
           0
          ],
          [
           0.00058237714,
           0,
           -0.0008201599,
           -0.0005950928,
           -0.0002632141,
           -0.0006345113,
           0.00096384686,
           0.00036493936,
           -0.0014076233,
           0,
           0,
           0,
           0,
           0,
           0,
           0,
           0,
           0,
           0,
           0,
           0,
           0
          ],
          [
           0,
           0,
           -0.00023905437,
           0.00023142497,
           0.000012715657,
           -0.00018310547,
           -0.0005950928,
           -0.00095621747,
           0.0026868184,
           0.00081380206,
           0,
           0,
           0,
           0,
           0,
           0,
           0,
           0,
           0,
           0,
           0,
           0
          ],
          [
           0,
           0,
           0,
           0,
           0,
           0,
           0,
           0,
           0,
           0,
           0,
           0,
           0,
           0,
           0,
           0,
           0,
           0,
           0,
           0,
           0,
           0
          ],
          [
           0.0000038146973,
           0,
           -0.00023269653,
           0,
           0,
           0,
           0.00025431314,
           0.0006167094,
           0.00016911824,
           0,
           0,
           0,
           0,
           0,
           0,
           0,
           0,
           0,
           0,
           0,
           0,
           0
          ],
          [
           0,
           0,
           0,
           0,
           0,
           0,
           0,
           0,
           0,
           0,
           0,
           0,
           0,
           0,
           0,
           0,
           0,
           0,
           0,
           0,
           0,
           0
          ],
          [
           -0.0002263387,
           0,
           0,
           0,
           0.00025177002,
           0,
           0,
           0,
           -0.00036875406,
           0,
           0,
           0,
           0,
           -0.0012194315,
           0,
           0,
           0,
           0,
           0,
           0,
           0,
           0
          ],
          [
           0,
           0,
           0,
           0,
           0,
           0,
           0,
           0,
           0,
           0,
           0,
           0,
           0,
           0,
           0,
           0,
           0,
           0,
           0,
           0,
           0,
           0
          ],
          [
           0,
           0,
           0,
           0,
           0,
           0,
           0,
           0,
           0,
           -0.00021235149,
           -0.000445048,
           0,
           0,
           0,
           0,
           0,
           0,
           0,
           0,
           0,
           0,
           0
          ],
          [
           0,
           0,
           0,
           0,
           0,
           0,
           0,
           0,
           0,
           -0.00021235149,
           -0.000445048,
           0,
           0,
           0,
           0,
           0,
           0,
           0,
           0,
           0,
           0,
           0
          ],
          [
           0,
           0,
           0,
           0.00025177002,
           0.00024159749,
           0,
           0,
           0,
           0.0002187093,
           0,
           0,
           0,
           0,
           -0.00022125244,
           0,
           -0.00024286906,
           -0.000005086263,
           0,
           0.0005722046,
           0,
           0,
           0
          ],
          [
           0,
           0,
           0,
           0.00025177002,
           0.00024159749,
           0,
           0,
           0,
           0.0002187093,
           0,
           0,
           0,
           0,
           -0.00022125244,
           0,
           -0.00024286906,
           -0.000005086263,
           0,
           0.0005722046,
           0,
           0,
           0
          ],
          [
           0,
           0,
           0,
           0,
           0,
           0,
           0,
           0,
           0,
           0.00032552084,
           0,
           0,
           0.00022761028,
           0,
           0,
           0,
           0.00006866455,
           0,
           0,
           0,
           0,
           0
          ]
         ]
        }
       ],
       "layout": {
        "coloraxis": {
         "cmid": 0,
         "colorscale": [
          [
           0,
           "rgb(103,0,31)"
          ],
          [
           0.1,
           "rgb(178,24,43)"
          ],
          [
           0.2,
           "rgb(214,96,77)"
          ],
          [
           0.3,
           "rgb(244,165,130)"
          ],
          [
           0.4,
           "rgb(253,219,199)"
          ],
          [
           0.5,
           "rgb(247,247,247)"
          ],
          [
           0.6,
           "rgb(209,229,240)"
          ],
          [
           0.7,
           "rgb(146,197,222)"
          ],
          [
           0.8,
           "rgb(67,147,195)"
          ],
          [
           0.9,
           "rgb(33,102,172)"
          ],
          [
           1,
           "rgb(5,48,97)"
          ]
         ]
        },
        "template": {
         "data": {
          "bar": [
           {
            "error_x": {
             "color": "#2a3f5f"
            },
            "error_y": {
             "color": "#2a3f5f"
            },
            "marker": {
             "line": {
              "color": "#E5ECF6",
              "width": 0.5
             },
             "pattern": {
              "fillmode": "overlay",
              "size": 10,
              "solidity": 0.2
             }
            },
            "type": "bar"
           }
          ],
          "barpolar": [
           {
            "marker": {
             "line": {
              "color": "#E5ECF6",
              "width": 0.5
             },
             "pattern": {
              "fillmode": "overlay",
              "size": 10,
              "solidity": 0.2
             }
            },
            "type": "barpolar"
           }
          ],
          "carpet": [
           {
            "aaxis": {
             "endlinecolor": "#2a3f5f",
             "gridcolor": "white",
             "linecolor": "white",
             "minorgridcolor": "white",
             "startlinecolor": "#2a3f5f"
            },
            "baxis": {
             "endlinecolor": "#2a3f5f",
             "gridcolor": "white",
             "linecolor": "white",
             "minorgridcolor": "white",
             "startlinecolor": "#2a3f5f"
            },
            "type": "carpet"
           }
          ],
          "choropleth": [
           {
            "colorbar": {
             "outlinewidth": 0,
             "ticks": ""
            },
            "type": "choropleth"
           }
          ],
          "contour": [
           {
            "colorbar": {
             "outlinewidth": 0,
             "ticks": ""
            },
            "colorscale": [
             [
              0,
              "#0d0887"
             ],
             [
              0.1111111111111111,
              "#46039f"
             ],
             [
              0.2222222222222222,
              "#7201a8"
             ],
             [
              0.3333333333333333,
              "#9c179e"
             ],
             [
              0.4444444444444444,
              "#bd3786"
             ],
             [
              0.5555555555555556,
              "#d8576b"
             ],
             [
              0.6666666666666666,
              "#ed7953"
             ],
             [
              0.7777777777777778,
              "#fb9f3a"
             ],
             [
              0.8888888888888888,
              "#fdca26"
             ],
             [
              1,
              "#f0f921"
             ]
            ],
            "type": "contour"
           }
          ],
          "contourcarpet": [
           {
            "colorbar": {
             "outlinewidth": 0,
             "ticks": ""
            },
            "type": "contourcarpet"
           }
          ],
          "heatmap": [
           {
            "colorbar": {
             "outlinewidth": 0,
             "ticks": ""
            },
            "colorscale": [
             [
              0,
              "#0d0887"
             ],
             [
              0.1111111111111111,
              "#46039f"
             ],
             [
              0.2222222222222222,
              "#7201a8"
             ],
             [
              0.3333333333333333,
              "#9c179e"
             ],
             [
              0.4444444444444444,
              "#bd3786"
             ],
             [
              0.5555555555555556,
              "#d8576b"
             ],
             [
              0.6666666666666666,
              "#ed7953"
             ],
             [
              0.7777777777777778,
              "#fb9f3a"
             ],
             [
              0.8888888888888888,
              "#fdca26"
             ],
             [
              1,
              "#f0f921"
             ]
            ],
            "type": "heatmap"
           }
          ],
          "heatmapgl": [
           {
            "colorbar": {
             "outlinewidth": 0,
             "ticks": ""
            },
            "colorscale": [
             [
              0,
              "#0d0887"
             ],
             [
              0.1111111111111111,
              "#46039f"
             ],
             [
              0.2222222222222222,
              "#7201a8"
             ],
             [
              0.3333333333333333,
              "#9c179e"
             ],
             [
              0.4444444444444444,
              "#bd3786"
             ],
             [
              0.5555555555555556,
              "#d8576b"
             ],
             [
              0.6666666666666666,
              "#ed7953"
             ],
             [
              0.7777777777777778,
              "#fb9f3a"
             ],
             [
              0.8888888888888888,
              "#fdca26"
             ],
             [
              1,
              "#f0f921"
             ]
            ],
            "type": "heatmapgl"
           }
          ],
          "histogram": [
           {
            "marker": {
             "pattern": {
              "fillmode": "overlay",
              "size": 10,
              "solidity": 0.2
             }
            },
            "type": "histogram"
           }
          ],
          "histogram2d": [
           {
            "colorbar": {
             "outlinewidth": 0,
             "ticks": ""
            },
            "colorscale": [
             [
              0,
              "#0d0887"
             ],
             [
              0.1111111111111111,
              "#46039f"
             ],
             [
              0.2222222222222222,
              "#7201a8"
             ],
             [
              0.3333333333333333,
              "#9c179e"
             ],
             [
              0.4444444444444444,
              "#bd3786"
             ],
             [
              0.5555555555555556,
              "#d8576b"
             ],
             [
              0.6666666666666666,
              "#ed7953"
             ],
             [
              0.7777777777777778,
              "#fb9f3a"
             ],
             [
              0.8888888888888888,
              "#fdca26"
             ],
             [
              1,
              "#f0f921"
             ]
            ],
            "type": "histogram2d"
           }
          ],
          "histogram2dcontour": [
           {
            "colorbar": {
             "outlinewidth": 0,
             "ticks": ""
            },
            "colorscale": [
             [
              0,
              "#0d0887"
             ],
             [
              0.1111111111111111,
              "#46039f"
             ],
             [
              0.2222222222222222,
              "#7201a8"
             ],
             [
              0.3333333333333333,
              "#9c179e"
             ],
             [
              0.4444444444444444,
              "#bd3786"
             ],
             [
              0.5555555555555556,
              "#d8576b"
             ],
             [
              0.6666666666666666,
              "#ed7953"
             ],
             [
              0.7777777777777778,
              "#fb9f3a"
             ],
             [
              0.8888888888888888,
              "#fdca26"
             ],
             [
              1,
              "#f0f921"
             ]
            ],
            "type": "histogram2dcontour"
           }
          ],
          "mesh3d": [
           {
            "colorbar": {
             "outlinewidth": 0,
             "ticks": ""
            },
            "type": "mesh3d"
           }
          ],
          "parcoords": [
           {
            "line": {
             "colorbar": {
              "outlinewidth": 0,
              "ticks": ""
             }
            },
            "type": "parcoords"
           }
          ],
          "pie": [
           {
            "automargin": true,
            "type": "pie"
           }
          ],
          "scatter": [
           {
            "fillpattern": {
             "fillmode": "overlay",
             "size": 10,
             "solidity": 0.2
            },
            "type": "scatter"
           }
          ],
          "scatter3d": [
           {
            "line": {
             "colorbar": {
              "outlinewidth": 0,
              "ticks": ""
             }
            },
            "marker": {
             "colorbar": {
              "outlinewidth": 0,
              "ticks": ""
             }
            },
            "type": "scatter3d"
           }
          ],
          "scattercarpet": [
           {
            "marker": {
             "colorbar": {
              "outlinewidth": 0,
              "ticks": ""
             }
            },
            "type": "scattercarpet"
           }
          ],
          "scattergeo": [
           {
            "marker": {
             "colorbar": {
              "outlinewidth": 0,
              "ticks": ""
             }
            },
            "type": "scattergeo"
           }
          ],
          "scattergl": [
           {
            "marker": {
             "colorbar": {
              "outlinewidth": 0,
              "ticks": ""
             }
            },
            "type": "scattergl"
           }
          ],
          "scattermapbox": [
           {
            "marker": {
             "colorbar": {
              "outlinewidth": 0,
              "ticks": ""
             }
            },
            "type": "scattermapbox"
           }
          ],
          "scatterpolar": [
           {
            "marker": {
             "colorbar": {
              "outlinewidth": 0,
              "ticks": ""
             }
            },
            "type": "scatterpolar"
           }
          ],
          "scatterpolargl": [
           {
            "marker": {
             "colorbar": {
              "outlinewidth": 0,
              "ticks": ""
             }
            },
            "type": "scatterpolargl"
           }
          ],
          "scatterternary": [
           {
            "marker": {
             "colorbar": {
              "outlinewidth": 0,
              "ticks": ""
             }
            },
            "type": "scatterternary"
           }
          ],
          "surface": [
           {
            "colorbar": {
             "outlinewidth": 0,
             "ticks": ""
            },
            "colorscale": [
             [
              0,
              "#0d0887"
             ],
             [
              0.1111111111111111,
              "#46039f"
             ],
             [
              0.2222222222222222,
              "#7201a8"
             ],
             [
              0.3333333333333333,
              "#9c179e"
             ],
             [
              0.4444444444444444,
              "#bd3786"
             ],
             [
              0.5555555555555556,
              "#d8576b"
             ],
             [
              0.6666666666666666,
              "#ed7953"
             ],
             [
              0.7777777777777778,
              "#fb9f3a"
             ],
             [
              0.8888888888888888,
              "#fdca26"
             ],
             [
              1,
              "#f0f921"
             ]
            ],
            "type": "surface"
           }
          ],
          "table": [
           {
            "cells": {
             "fill": {
              "color": "#EBF0F8"
             },
             "line": {
              "color": "white"
             }
            },
            "header": {
             "fill": {
              "color": "#C8D4E3"
             },
             "line": {
              "color": "white"
             }
            },
            "type": "table"
           }
          ]
         },
         "layout": {
          "annotationdefaults": {
           "arrowcolor": "#2a3f5f",
           "arrowhead": 0,
           "arrowwidth": 1
          },
          "autotypenumbers": "strict",
          "coloraxis": {
           "colorbar": {
            "outlinewidth": 0,
            "ticks": ""
           }
          },
          "colorscale": {
           "diverging": [
            [
             0,
             "#8e0152"
            ],
            [
             0.1,
             "#c51b7d"
            ],
            [
             0.2,
             "#de77ae"
            ],
            [
             0.3,
             "#f1b6da"
            ],
            [
             0.4,
             "#fde0ef"
            ],
            [
             0.5,
             "#f7f7f7"
            ],
            [
             0.6,
             "#e6f5d0"
            ],
            [
             0.7,
             "#b8e186"
            ],
            [
             0.8,
             "#7fbc41"
            ],
            [
             0.9,
             "#4d9221"
            ],
            [
             1,
             "#276419"
            ]
           ],
           "sequential": [
            [
             0,
             "#0d0887"
            ],
            [
             0.1111111111111111,
             "#46039f"
            ],
            [
             0.2222222222222222,
             "#7201a8"
            ],
            [
             0.3333333333333333,
             "#9c179e"
            ],
            [
             0.4444444444444444,
             "#bd3786"
            ],
            [
             0.5555555555555556,
             "#d8576b"
            ],
            [
             0.6666666666666666,
             "#ed7953"
            ],
            [
             0.7777777777777778,
             "#fb9f3a"
            ],
            [
             0.8888888888888888,
             "#fdca26"
            ],
            [
             1,
             "#f0f921"
            ]
           ],
           "sequentialminus": [
            [
             0,
             "#0d0887"
            ],
            [
             0.1111111111111111,
             "#46039f"
            ],
            [
             0.2222222222222222,
             "#7201a8"
            ],
            [
             0.3333333333333333,
             "#9c179e"
            ],
            [
             0.4444444444444444,
             "#bd3786"
            ],
            [
             0.5555555555555556,
             "#d8576b"
            ],
            [
             0.6666666666666666,
             "#ed7953"
            ],
            [
             0.7777777777777778,
             "#fb9f3a"
            ],
            [
             0.8888888888888888,
             "#fdca26"
            ],
            [
             1,
             "#f0f921"
            ]
           ]
          },
          "colorway": [
           "#636efa",
           "#EF553B",
           "#00cc96",
           "#ab63fa",
           "#FFA15A",
           "#19d3f3",
           "#FF6692",
           "#B6E880",
           "#FF97FF",
           "#FECB52"
          ],
          "font": {
           "color": "#2a3f5f"
          },
          "geo": {
           "bgcolor": "white",
           "lakecolor": "white",
           "landcolor": "#E5ECF6",
           "showlakes": true,
           "showland": true,
           "subunitcolor": "white"
          },
          "hoverlabel": {
           "align": "left"
          },
          "hovermode": "closest",
          "mapbox": {
           "style": "light"
          },
          "paper_bgcolor": "white",
          "plot_bgcolor": "#E5ECF6",
          "polar": {
           "angularaxis": {
            "gridcolor": "white",
            "linecolor": "white",
            "ticks": ""
           },
           "bgcolor": "#E5ECF6",
           "radialaxis": {
            "gridcolor": "white",
            "linecolor": "white",
            "ticks": ""
           }
          },
          "scene": {
           "xaxis": {
            "backgroundcolor": "#E5ECF6",
            "gridcolor": "white",
            "gridwidth": 2,
            "linecolor": "white",
            "showbackground": true,
            "ticks": "",
            "zerolinecolor": "white"
           },
           "yaxis": {
            "backgroundcolor": "#E5ECF6",
            "gridcolor": "white",
            "gridwidth": 2,
            "linecolor": "white",
            "showbackground": true,
            "ticks": "",
            "zerolinecolor": "white"
           },
           "zaxis": {
            "backgroundcolor": "#E5ECF6",
            "gridcolor": "white",
            "gridwidth": 2,
            "linecolor": "white",
            "showbackground": true,
            "ticks": "",
            "zerolinecolor": "white"
           }
          },
          "shapedefaults": {
           "line": {
            "color": "#2a3f5f"
           }
          },
          "ternary": {
           "aaxis": {
            "gridcolor": "white",
            "linecolor": "white",
            "ticks": ""
           },
           "baxis": {
            "gridcolor": "white",
            "linecolor": "white",
            "ticks": ""
           },
           "bgcolor": "#E5ECF6",
           "caxis": {
            "gridcolor": "white",
            "linecolor": "white",
            "ticks": ""
           }
          },
          "title": {
           "x": 0.05
          },
          "xaxis": {
           "automargin": true,
           "gridcolor": "white",
           "linecolor": "white",
           "ticks": "",
           "title": {
            "standoff": 15
           },
           "zerolinecolor": "white",
           "zerolinewidth": 2
          },
          "yaxis": {
           "automargin": true,
           "gridcolor": "white",
           "linecolor": "white",
           "ticks": "",
           "title": {
            "standoff": 15
           },
           "zerolinecolor": "white",
           "zerolinewidth": 2
          }
         }
        },
        "title": {
         "text": "Head Path to Value Attribution Patching (Filtered for Top Heads)"
        },
        "xaxis": {
         "anchor": "y",
         "domain": [
          0,
          1
         ],
         "title": {
          "text": "Path Start (Head Output)"
         }
        },
        "yaxis": {
         "anchor": "x",
         "autorange": "reversed",
         "domain": [
          0,
          1
         ],
         "title": {
          "text": "Path End (Head Input)"
         }
        }
       }
      }
     },
     "metadata": {},
     "output_type": "display_data"
    }
   ],
   "source": [
    "plot_qkv_head_path_attrs(head_path_attrs_first_half)"
   ]
  },
  {
   "cell_type": "code",
   "execution_count": 13,
   "metadata": {},
   "outputs": [
    {
     "data": {
      "application/vnd.plotly.v1+json": {
       "config": {
        "plotlyServerURL": "https://plot.ly"
       },
       "data": [
        {
         "coloraxis": "coloraxis",
         "hovertemplate": "x: %{x}<br>y: %{y}<br>color: %{z}<extra></extra>",
         "name": "0",
         "type": "heatmap",
         "xaxis": "x",
         "yaxis": "y",
         "z": [
          [
           -0.017564138,
           -0.038098652,
           -0.007311503,
           0.0028737385,
           0.007659912,
           0.0060068765,
           0.001449585,
           0.003692627,
           0,
           0.0005009969,
           -0.004533132,
           0.0006980896,
           0.0019353231,
           -0.0019086202,
           -0.007727305,
           -0.009662628
          ],
          [
           0.0058670044,
           -0.0008239746,
           -0.0005874634,
           -0.0025685627,
           -0.00562795,
           0.00034077963,
           -0.0018107096,
           -0.0015424093,
           -0.00034332275,
           -0.0060221353,
           -0.0014750162,
           0.0005645752,
           -0.00008392334,
           0,
           0.00053532916,
           0.00015004475
          ],
          [
           -0.0012207031,
           0,
           0.00071461994,
           -0.00027211508,
           -0.0031433105,
           -0.00008010864,
           -0.0016988119,
           -0.006380717,
           -0.0076878867,
           0.00080998737,
           -0.00009409586,
           -0.00027592978,
           0,
           -0.0019505819,
           -0.00056966144,
           0.0016110739
          ],
          [
           0.0004679362,
           -0.0011393229,
           -0.0033543904,
           0.0002263387,
           -0.005859375,
           -0.0012410482,
           0,
           0.00034332275,
           0.00038401285,
           -0.0006128947,
           -0.0010414124,
           -0.0005251567,
           0.0021387737,
           -0.00095621747,
           -0.00044631958,
           0
          ],
          [
           -0.0007527669,
           0.002726237,
           -0.0010325114,
           -0.00054423016,
           -0.0025431316,
           -0.00026575723,
           -0.01461792,
           -0.0007527669,
           -0.0012156168,
           0.0025100708,
           -0.00011189779,
           -0.0015157064,
           0.00079345703,
           -0.00022888184,
           0,
           0.0004908244
          ],
          [
           0.0004679362,
           -0.0010732015,
           0.00010935465,
           -0.0043640137,
           -0.00023905437,
           -0.00015385945,
           -0.00037638345,
           -0.00090026855,
           0.0055796304,
           -0.012379964,
           0,
           -0.009073894,
           0.00017801921,
           0.0010655721,
           -0.0025087993,
           0.0008506775
          ],
          [
           0.0007171631,
           -0.00051116943,
           -0.025689444,
           -0.014588674,
           0.0019378662,
           0.0022443135,
           -0.00062179565,
           -0.0044161477,
           0.0082804365,
           -0.0010871887,
           -0.00039291382,
           -0.008536021,
           -0.0035120647,
           0.0007870992,
           0.00022379558,
           -0.00046284994
          ],
          [
           -0.00060272217,
           -0.0015360514,
           -0.0018246969,
           -0.0016619364,
           -0.00018056233,
           -0.0018386841,
           0.0059013367,
           -0.0030390422,
           -0.00061798096,
           -0.0001970927,
           -0.0009816488,
           -0.0008087158,
           -0.00017293294,
           0.0018094381,
           -0.00091171265,
           -0.0007425944
          ],
          [
           0,
           0,
           0,
           0,
           0,
           0,
           0,
           0,
           0,
           0,
           0,
           0,
           0,
           0,
           0,
           0
          ],
          [
           0,
           0,
           0,
           0,
           0,
           0,
           0,
           0,
           0,
           0,
           0,
           0,
           0,
           0,
           0,
           0
          ],
          [
           0,
           0,
           0,
           0,
           0,
           0,
           0,
           0,
           0,
           0,
           0,
           0,
           0,
           0,
           0,
           0
          ],
          [
           0,
           0,
           0,
           0,
           0,
           0,
           0,
           0,
           0,
           0,
           0,
           0,
           0,
           0,
           0,
           0
          ],
          [
           0,
           0,
           0,
           0,
           0,
           0,
           0,
           0,
           0,
           0,
           0,
           0,
           0,
           0,
           0,
           0
          ],
          [
           0,
           0,
           0,
           0,
           0,
           0,
           0,
           0,
           0,
           0,
           0,
           0,
           0,
           0,
           0,
           0
          ],
          [
           0,
           0,
           0,
           0,
           0,
           0,
           0,
           0,
           0,
           0,
           0,
           0,
           0,
           0,
           0,
           0
          ],
          [
           0,
           0,
           0,
           0,
           0,
           0,
           0,
           0,
           0,
           0,
           0,
           0,
           0,
           0,
           0,
           0
          ],
          [
           0,
           0,
           0,
           0,
           0,
           0,
           0,
           0,
           0,
           0,
           0,
           0,
           0,
           0,
           0,
           0
          ],
          [
           0,
           0,
           0,
           0,
           0,
           0,
           0,
           0,
           0,
           0,
           0,
           0,
           0,
           0,
           0,
           0
          ],
          [
           0,
           0,
           0,
           0,
           0,
           0,
           0,
           0,
           0,
           0,
           0,
           0,
           0,
           0,
           0,
           0
          ],
          [
           0,
           0,
           0,
           0,
           0,
           0,
           0,
           0,
           0,
           0,
           0,
           0,
           0,
           0,
           0,
           0
          ],
          [
           0,
           0,
           0,
           0,
           0,
           0,
           0,
           0,
           0,
           0,
           0,
           0,
           0,
           0,
           0,
           0
          ],
          [
           0,
           0,
           0,
           0,
           0,
           0,
           0,
           0,
           0,
           0,
           0,
           0,
           0,
           0,
           0,
           0
          ],
          [
           0,
           0,
           0,
           0,
           0,
           0,
           0,
           0,
           0,
           0,
           0,
           0,
           0,
           0,
           0,
           0
          ],
          [
           0,
           0,
           0,
           0,
           0,
           0,
           0,
           0,
           0,
           0,
           0,
           0,
           0,
           0,
           0,
           0
          ],
          [
           0,
           0,
           0,
           0,
           0,
           0,
           0,
           0,
           0,
           0,
           0,
           0,
           0,
           0,
           0,
           0
          ],
          [
           0,
           0,
           0,
           0,
           0,
           0,
           0,
           0,
           0,
           0,
           0,
           0,
           0,
           0,
           0,
           0
          ],
          [
           0,
           0,
           0,
           0,
           0,
           0,
           0,
           0,
           0,
           0,
           0,
           0,
           0,
           0,
           0,
           0
          ]
         ]
        },
        {
         "coloraxis": "coloraxis",
         "hovertemplate": "x: %{x}<br>y: %{y}<br>color: %{z}<extra></extra>",
         "name": "1",
         "type": "heatmap",
         "xaxis": "x2",
         "yaxis": "y2",
         "z": [
          [
           0.0032730103,
           0.0044937134,
           -0.005455017,
           0.00025812784,
           -0.00039291382,
           -0.00071461994,
           -0.0006395976,
           -0.0035692852,
           0,
           0.00009409586,
           0.00034332275,
           -0.00022379558,
           0.0006637573,
           -0.00031280518,
           -0.002708435,
           0.0023142498
          ],
          [
           -0.0009460449,
           0.0006128947,
           0,
           -0.00066884357,
           -0.001344045,
           0,
           0,
           0.00057729083,
           0,
           -0.00045013428,
           -0.00021235149,
           0.00063323975,
           0,
           0,
           0.00029500326,
           0.00146993
          ],
          [
           -0.00032552084,
           -0.00032170615,
           0.00015004475,
           0.000029246012,
           0.0014343262,
           0.0010732015,
           -0.0010910034,
           -0.00043614706,
           -0.0013580322,
           0.0007870992,
           0.0005683899,
           0,
           -0.00032806396,
           -0.00003306071,
           -0.00044631958,
           -0.000012715657
          ],
          [
           0,
           0,
           -0.00017547607,
           0.00054423016,
           -0.00067647296,
           -0.00048319498,
           -0.0007362366,
           0.0015004476,
           0.00083287555,
           0,
           -0.00026830038,
           -0.00032552084,
           0.00040690103,
           -0.00060272217,
           -0.00014241536,
           0.00024414062
          ],
          [
           0,
           -0.00038782755,
           -0.0006306966,
           -0.0007527669,
           0.00011952718,
           0.0002263387,
           0.00008646647,
           0.0014444987,
           0.0011202494,
           0,
           0.0004272461,
           0,
           -0.0016860962,
           0,
           -0.00025431314,
           0.00034586588
          ],
          [
           0.0007680257,
           0.00020853679,
           -0.00071970624,
           -0.0008875529,
           0.0010286967,
           0.00023778279,
           0.0011800131,
           0,
           -0.00069681805,
           -0.0007603963,
           -0.00039927164,
           0.0004933675,
           0.0006701152,
           -0.0030097961,
           -0.00034968057,
           -0.00021998088
          ],
          [
           0.00058237714,
           0,
           0.00029500326,
           0.0011049906,
           0.0025749207,
           -0.00067647296,
           0.0006434123,
           0.00038401285,
           0.0004272461,
           0,
           -0.0030619304,
           0.00019200642,
           -0.00032170615,
           -0.00415802,
           0.0002670288,
           0
          ],
          [
           0,
           -0.00032043457,
           0.0018666586,
           -0.000811259,
           0,
           0,
           -0.00401179,
           -0.000005086263,
           0,
           0,
           0,
           0,
           0.0019518534,
           -0.002515157,
           0,
           -0.00008265177
          ],
          [
           0,
           0,
           0,
           0,
           0,
           0,
           0,
           0,
           0,
           0,
           0,
           0,
           0,
           0,
           0,
           0
          ],
          [
           0,
           0,
           0,
           0,
           0,
           0,
           0,
           0,
           0,
           0,
           0,
           0,
           0,
           0,
           0,
           0
          ],
          [
           0,
           0,
           0,
           0,
           0,
           0,
           0,
           0,
           0,
           0,
           0,
           0,
           0,
           0,
           0,
           0
          ],
          [
           0,
           0,
           0,
           0,
           0,
           0,
           0,
           0,
           0,
           0,
           0,
           0,
           0,
           0,
           0,
           0
          ],
          [
           0,
           0,
           0,
           0,
           0,
           0,
           0,
           0,
           0,
           0,
           0,
           0,
           0,
           0,
           0,
           0
          ],
          [
           0,
           0,
           0,
           0,
           0,
           0,
           0,
           0,
           0,
           0,
           0,
           0,
           0,
           0,
           0,
           0
          ],
          [
           0,
           0,
           0,
           0,
           0,
           0,
           0,
           0,
           0,
           0,
           0,
           0,
           0,
           0,
           0,
           0
          ],
          [
           0,
           0,
           0,
           0,
           0,
           0,
           0,
           0,
           0,
           0,
           0,
           0,
           0,
           0,
           0,
           0
          ],
          [
           0,
           0,
           0,
           0,
           0,
           0,
           0,
           0,
           0,
           0,
           0,
           0,
           0,
           0,
           0,
           0
          ],
          [
           0,
           0,
           0,
           0,
           0,
           0,
           0,
           0,
           0,
           0,
           0,
           0,
           0,
           0,
           0,
           0
          ],
          [
           0,
           0,
           0,
           0,
           0,
           0,
           0,
           0,
           0,
           0,
           0,
           0,
           0,
           0,
           0,
           0
          ],
          [
           0,
           0,
           0,
           0,
           0,
           0,
           0,
           0,
           0,
           0,
           0,
           0,
           0,
           0,
           0,
           0
          ],
          [
           0,
           0,
           0,
           0,
           0,
           0,
           0,
           0,
           0,
           0,
           0,
           0,
           0,
           0,
           0,
           0
          ],
          [
           0,
           0,
           0,
           0,
           0,
           0,
           0,
           0,
           0,
           0,
           0,
           0,
           0,
           0,
           0,
           0
          ],
          [
           0,
           0,
           0,
           0,
           0,
           0,
           0,
           0,
           0,
           0,
           0,
           0,
           0,
           0,
           0,
           0
          ],
          [
           0,
           0,
           0,
           0,
           0,
           0,
           0,
           0,
           0,
           0,
           0,
           0,
           0,
           0,
           0,
           0
          ],
          [
           0,
           0,
           0,
           0,
           0,
           0,
           0,
           0,
           0,
           0,
           0,
           0,
           0,
           0,
           0,
           0
          ],
          [
           0,
           0,
           0,
           0,
           0,
           0,
           0,
           0,
           0,
           0,
           0,
           0,
           0,
           0,
           0,
           0
          ],
          [
           0,
           0,
           0,
           0,
           0,
           0,
           0,
           0,
           0,
           0,
           0,
           0,
           0,
           0,
           0,
           0
          ]
         ]
        },
        {
         "coloraxis": "coloraxis",
         "hovertemplate": "x: %{x}<br>y: %{y}<br>color: %{z}<extra></extra>",
         "name": "2",
         "type": "heatmap",
         "xaxis": "x3",
         "yaxis": "y3",
         "z": [
          [
           -0.0049972534,
           0.0015258789,
           -0.0032831829,
           -0.0047047934,
           0.0008722941,
           -0.0038350422,
           -0.0009536743,
           0.000055948894,
           -0.00026830038,
           0.0004717509,
           -0.0014750162,
           0.0002339681,
           -0.00007120768,
           0,
           -0.003634135,
           -0.001150767
          ],
          [
           -0.0005493164,
           0,
           0.00022125244,
           0.00080617267,
           0.0039164224,
           0,
           -0.00028355917,
           0.0012664795,
           0.00024286906,
           -0.0009104411,
           0.0006663005,
           0.00029500326,
           0.000036875408,
           0,
           0.00032552084,
           -0.00022379558
          ],
          [
           0.00091552734,
           0.0010375977,
           0.003751119,
           -0.0009765625,
           -0.0009791056,
           -0.0005302429,
           -0.0012435913,
           -0.0005060832,
           -0.0018819174,
           0.0008748372,
           0.002072652,
           0.0006663005,
           0,
           0.00021616618,
           0.0029500325,
           -0.0011037191
          ],
          [
           0,
           0.0002492269,
           -0.00027974448,
           -0.0004018148,
           0.00068537396,
           -0.00015004475,
           -0.00048065186,
           0,
           -0.0010147095,
           0,
           -0.00027974448,
           0.00042470297,
           0.00001780192,
           0,
           0.0002301534,
           -0.000091552734
          ],
          [
           0,
           0.0007616679,
           -0.0007578532,
           0.00046666464,
           0.001490275,
           -0.00042978922,
           -0.0011978149,
           -0.00005086263,
           -0.00013860066,
           0.000089009605,
           0.00031661987,
           0.0002187093,
           0.000038146973,
           0,
           0.00034713745,
           0.000062306724
          ],
          [
           0.00020853679,
           0,
           -0.00033315024,
           -0.00021616618,
           0.00029500326,
           0.0014063517,
           0.0024973552,
           -0.00024286906,
           -0.00048065186,
           0.0017547607,
           -0.0007985433,
           0.0014851888,
           0.0008239746,
           0.000260671,
           0.0006306966,
           0
          ],
          [
           -0.00031280518,
           0,
           -0.007369995,
           -0.0018386841,
           0.00022379558,
           0.00015767415,
           0.000078837074,
           -0.0019480387,
           0.0010528564,
           0,
           -0.0004043579,
           0.000045776367,
           -0.0018513998,
           0.00021998088,
           0,
           -0.00043996176
          ],
          [
           0,
           0,
           0.0013173422,
           0.00007120768,
           0,
           0,
           -0.0047976174,
           -0.001584371,
           0,
           0.00053151447,
           0,
           0,
           0.001276652,
           -0.0004971822,
           0.00029118857,
           0.00096384686
          ],
          [
           0,
           0,
           0,
           0,
           0,
           0,
           0,
           0,
           0,
           0,
           0,
           0,
           0,
           0,
           0,
           0
          ],
          [
           0,
           0,
           0,
           0,
           0,
           0,
           0,
           0,
           0,
           0,
           0,
           0,
           0,
           0,
           0,
           0
          ],
          [
           0,
           0,
           0,
           0,
           0,
           0,
           0,
           0,
           0,
           0,
           0,
           0,
           0,
           0,
           0,
           0
          ],
          [
           0,
           0,
           0,
           0,
           0,
           0,
           0,
           0,
           0,
           0,
           0,
           0,
           0,
           0,
           0,
           0
          ],
          [
           0,
           0,
           0,
           0,
           0,
           0,
           0,
           0,
           0,
           0,
           0,
           0,
           0,
           0,
           0,
           0
          ],
          [
           0,
           0,
           0,
           0,
           0,
           0,
           0,
           0,
           0,
           0,
           0,
           0,
           0,
           0,
           0,
           0
          ],
          [
           0,
           0,
           0,
           0,
           0,
           0,
           0,
           0,
           0,
           0,
           0,
           0,
           0,
           0,
           0,
           0
          ],
          [
           0,
           0,
           0,
           0,
           0,
           0,
           0,
           0,
           0,
           0,
           0,
           0,
           0,
           0,
           0,
           0
          ],
          [
           0,
           0,
           0,
           0,
           0,
           0,
           0,
           0,
           0,
           0,
           0,
           0,
           0,
           0,
           0,
           0
          ],
          [
           0,
           0,
           0,
           0,
           0,
           0,
           0,
           0,
           0,
           0,
           0,
           0,
           0,
           0,
           0,
           0
          ],
          [
           0,
           0,
           0,
           0,
           0,
           0,
           0,
           0,
           0,
           0,
           0,
           0,
           0,
           0,
           0,
           0
          ],
          [
           0,
           0,
           0,
           0,
           0,
           0,
           0,
           0,
           0,
           0,
           0,
           0,
           0,
           0,
           0,
           0
          ],
          [
           0,
           0,
           0,
           0,
           0,
           0,
           0,
           0,
           0,
           0,
           0,
           0,
           0,
           0,
           0,
           0
          ],
          [
           0,
           0,
           0,
           0,
           0,
           0,
           0,
           0,
           0,
           0,
           0,
           0,
           0,
           0,
           0,
           0
          ],
          [
           0,
           0,
           0,
           0,
           0,
           0,
           0,
           0,
           0,
           0,
           0,
           0,
           0,
           0,
           0,
           0
          ],
          [
           0,
           0,
           0,
           0,
           0,
           0,
           0,
           0,
           0,
           0,
           0,
           0,
           0,
           0,
           0,
           0
          ],
          [
           0,
           0,
           0,
           0,
           0,
           0,
           0,
           0,
           0,
           0,
           0,
           0,
           0,
           0,
           0,
           0
          ],
          [
           0,
           0,
           0,
           0,
           0,
           0,
           0,
           0,
           0,
           0,
           0,
           0,
           0,
           0,
           0,
           0
          ],
          [
           0,
           0,
           0,
           0,
           0,
           0,
           0,
           0,
           0,
           0,
           0,
           0,
           0,
           0,
           0,
           0
          ]
         ]
        },
        {
         "coloraxis": "coloraxis",
         "hovertemplate": "x: %{x}<br>y: %{y}<br>color: %{z}<extra></extra>",
         "name": "3",
         "type": "heatmap",
         "xaxis": "x4",
         "yaxis": "y4",
         "z": [
          [
           0,
           0,
           0,
           0,
           0,
           0,
           0,
           0,
           0,
           0,
           0,
           0,
           0,
           0,
           0,
           0
          ],
          [
           0,
           0,
           0,
           0,
           0,
           0,
           0,
           0,
           0,
           0,
           0,
           0,
           0,
           0,
           0,
           0
          ],
          [
           0,
           0,
           0,
           0,
           0,
           0,
           0,
           0,
           0,
           0,
           0,
           0,
           0,
           0,
           0,
           0
          ],
          [
           0,
           0,
           0,
           0,
           0,
           0,
           0,
           0,
           0,
           0,
           0,
           0,
           0,
           0,
           0,
           0
          ],
          [
           0,
           0,
           0,
           0,
           0,
           0,
           0,
           0,
           0,
           0,
           0,
           0,
           0,
           0,
           0,
           0
          ],
          [
           0,
           0,
           0,
           0,
           0,
           0,
           0,
           0,
           0,
           0,
           0,
           0,
           0,
           0,
           0,
           0
          ],
          [
           0,
           0,
           0,
           0,
           0,
           0,
           0,
           0,
           0,
           0,
           0,
           0,
           0,
           0,
           0,
           0
          ],
          [
           0,
           0,
           0,
           0,
           0,
           0,
           0,
           0,
           0,
           0,
           0,
           0,
           0,
           0,
           0,
           0
          ],
          [
           0,
           0,
           0,
           0,
           0,
           0,
           0,
           0,
           0,
           0,
           0,
           0,
           0,
           0,
           0,
           0
          ],
          [
           0.00003560384,
           -0.00035858154,
           0.0041020713,
           0.0009778341,
           0,
           0,
           -0.000012715657,
           0,
           0,
           0,
           -0.0025482178,
           0,
           -0.0011253357,
           -0.008631389,
           -0.00048828125,
           -0.0004895528
          ],
          [
           0,
           0,
           -0.0006128947,
           0.0009384155,
           0,
           0,
           -0.00082906085,
           -0.0004374186,
           0.00017929077,
           -0.0069007874,
           0,
           0,
           0,
           0,
           -0.0023905437,
           0.0002746582
          ],
          [
           0,
           0,
           0,
           0,
           0,
           0,
           0,
           -0.00025812784,
           -0.0009969076,
           -0.0011698405,
           0,
           0,
           0,
           0,
           0.0002962748,
           0
          ],
          [
           -0.0024172466,
           0.000986735,
           0.0011342367,
           0,
           0,
           0,
           0,
           0,
           0,
           0,
           0,
           0.0002263387,
           -0.00023142497,
           0,
           0,
           0
          ],
          [
           0,
           0,
           0,
           0,
           0,
           0,
           0,
           0,
           0,
           0,
           0,
           0,
           0,
           0,
           0,
           0
          ],
          [
           0,
           0,
           0,
           0,
           0,
           0,
           0,
           0,
           0,
           0,
           0,
           0,
           -0.00020853679,
           0,
           -0.00021107991,
           0
          ],
          [
           0,
           0,
           0.00024159749,
           0,
           0.0004348755,
           0,
           0,
           0,
           0.00020980835,
           -0.00072733563,
           -0.0005874634,
           0,
           -0.00021998088,
           -0.0003229777,
           -0.00021743774,
           0
          ],
          [
           0,
           0,
           0,
           0,
           0,
           0,
           0,
           0,
           0,
           0,
           0,
           0,
           0,
           0,
           0,
           0
          ],
          [
           0,
           0,
           0.0003077189,
           0,
           0,
           0,
           0.0002593994,
           0,
           0.00024032593,
           0.00023142497,
           0,
           0,
           0,
           0,
           0,
           0
          ],
          [
           0,
           0,
           0.00036112466,
           0,
           0,
           0.00043233237,
           0.0005963643,
           0,
           0,
           0,
           0,
           0,
           0,
           0,
           0,
           0
          ],
          [
           0,
           0,
           0,
           -0.0002568563,
           0,
           0,
           0,
           0,
           0,
           0,
           0,
           0,
           0,
           0,
           0,
           0
          ],
          [
           0,
           0,
           0,
           0,
           0,
           0,
           0,
           0,
           0,
           0,
           0,
           0,
           0,
           0,
           0,
           0
          ],
          [
           0,
           0,
           0,
           0,
           0,
           0,
           0,
           0,
           0,
           0,
           0,
           0,
           0,
           0,
           0,
           0
          ],
          [
           0,
           0,
           0,
           0,
           0,
           0,
           0,
           0,
           0,
           0,
           0,
           0,
           0,
           0,
           0,
           0
          ],
          [
           0,
           0,
           0,
           0,
           0,
           0,
           0,
           0,
           0,
           0,
           0,
           0,
           0,
           0,
           0,
           0
          ],
          [
           0,
           0,
           0,
           0,
           0,
           0,
           0,
           0,
           0,
           0,
           0,
           -0.00024032593,
           0,
           0,
           0,
           0
          ],
          [
           0,
           0,
           0,
           0,
           0,
           0,
           0,
           0,
           0,
           0,
           0,
           0,
           0,
           0,
           0,
           0
          ],
          [
           0,
           0,
           0,
           0,
           0,
           0,
           0,
           0,
           0,
           0,
           0,
           0,
           0,
           0,
           0,
           0
          ]
         ]
        },
        {
         "coloraxis": "coloraxis",
         "hovertemplate": "x: %{x}<br>y: %{y}<br>color: %{z}<extra></extra>",
         "name": "4",
         "type": "heatmap",
         "xaxis": "x5",
         "yaxis": "y5",
         "z": [
          [
           0,
           0,
           0,
           0,
           0,
           0,
           0,
           0,
           0,
           0,
           0,
           0,
           0,
           0,
           0,
           0
          ],
          [
           0,
           0,
           0,
           0,
           0,
           0,
           0,
           0,
           0,
           0,
           0,
           0,
           0,
           0,
           0,
           0
          ],
          [
           0,
           0,
           0,
           0,
           0,
           0,
           0,
           0,
           0,
           0,
           0,
           0,
           0,
           0,
           0,
           0
          ],
          [
           0,
           0,
           0,
           0,
           0,
           0,
           0,
           0,
           0,
           0,
           0,
           0,
           0,
           0,
           0,
           0
          ],
          [
           0,
           0,
           0,
           0,
           0,
           0,
           0,
           0,
           0,
           0,
           0,
           0,
           0,
           0,
           0,
           0
          ],
          [
           0,
           0,
           0,
           0,
           0,
           0,
           0,
           0,
           0,
           0,
           0,
           0,
           0,
           0,
           0,
           0
          ],
          [
           0,
           0,
           0,
           0,
           0,
           0,
           0,
           0,
           0,
           0,
           0,
           0,
           0,
           0,
           0,
           0
          ],
          [
           0,
           0,
           0,
           0,
           0,
           0,
           0,
           0,
           0,
           0,
           0,
           0,
           0,
           0,
           0,
           0
          ],
          [
           0,
           0,
           0,
           0,
           0,
           0,
           0,
           0,
           0,
           0,
           0,
           0,
           0,
           0,
           0,
           0
          ],
          [
           0,
           0,
           -0.0023969014,
           -0.0023969014,
           0,
           0,
           0,
           0,
           0,
           0,
           0.00023142497,
           0.00023142497,
           0.000222524,
           0.000222524,
           -0.0006713867,
           -0.0006713867
          ],
          [
           0,
           0,
           0.0012919108,
           0.0012919108,
           0,
           0,
           -0.0006497701,
           -0.0006497701,
           -0.002310435,
           -0.002310435,
           0,
           0,
           0,
           0,
           -0.000541687,
           -0.000541687
          ],
          [
           0,
           0,
           0,
           0,
           0,
           0,
           0,
           0,
           -0.00315094,
           -0.00315094,
           0,
           0,
           0,
           0,
           0.00040690103,
           0.00040690103
          ],
          [
           -0.00056711835,
           -0.00056711835,
           0,
           0,
           0,
           0,
           0,
           0,
           0,
           0,
           0,
           0,
           0,
           0,
           0,
           0
          ],
          [
           0,
           0,
           0,
           0,
           0,
           0,
           0,
           0,
           0,
           0,
           0,
           0,
           0,
           0,
           0,
           0
          ],
          [
           0,
           0,
           0,
           0,
           0,
           0,
           0,
           0,
           0,
           0,
           0,
           0,
           0.00021743774,
           0.00021743774,
           0,
           0
          ],
          [
           0,
           0,
           0,
           0,
           0,
           0,
           0,
           0,
           0.00038909912,
           0.00038909912,
           -0.00025177002,
           -0.00025177002,
           -0.0012512207,
           -0.0012512207,
           0,
           0
          ],
          [
           0,
           0,
           0,
           0,
           0,
           0,
           0,
           0,
           0,
           0,
           0,
           0,
           0,
           0,
           0.0003789266,
           0.0003789266
          ],
          [
           0,
           0,
           0,
           0,
           0,
           0,
           0,
           0,
           0,
           0,
           0,
           0,
           0,
           0,
           0,
           0
          ],
          [
           0,
           0,
           0,
           0,
           0,
           0,
           0,
           0,
           0,
           0,
           0,
           0,
           0,
           0,
           0,
           0
          ],
          [
           0,
           0,
           0,
           0,
           0,
           0,
           0,
           0,
           0,
           0,
           0,
           0,
           0,
           0,
           0,
           0
          ],
          [
           0,
           0,
           0,
           0,
           0,
           0,
           0,
           0,
           0,
           0,
           0,
           0,
           0,
           0,
           0,
           0
          ],
          [
           0,
           0,
           0,
           0,
           0,
           0,
           0,
           0,
           0,
           0,
           0,
           0,
           0,
           0,
           0,
           0
          ],
          [
           0,
           0,
           0,
           0,
           0,
           0,
           0,
           0,
           0,
           0,
           0,
           0,
           0,
           0,
           0,
           0
          ],
          [
           0,
           0,
           0,
           0,
           0,
           0,
           0,
           0,
           0,
           0,
           0,
           0,
           0,
           0,
           0.00039164224,
           0.00039164224
          ],
          [
           0,
           0,
           0,
           0,
           0,
           0,
           0,
           0,
           0,
           0,
           -0.0005722046,
           -0.0005722046,
           0,
           0,
           0,
           0
          ],
          [
           0,
           0,
           0,
           0,
           0,
           0,
           -0.00038909912,
           -0.00038909912,
           0,
           0,
           0,
           0,
           0,
           0,
           0,
           0
          ],
          [
           0,
           0,
           0,
           0,
           0,
           0,
           0,
           0,
           0,
           0,
           0,
           0,
           0,
           0,
           0,
           0
          ]
         ]
        },
        {
         "coloraxis": "coloraxis",
         "hovertemplate": "x: %{x}<br>y: %{y}<br>color: %{z}<extra></extra>",
         "name": "5",
         "type": "heatmap",
         "xaxis": "x6",
         "yaxis": "y6",
         "z": [
          [
           0,
           0,
           0,
           0,
           0,
           0,
           0,
           0,
           0,
           0,
           0,
           0,
           0,
           0,
           0,
           0
          ],
          [
           0,
           0,
           0,
           0,
           0,
           0,
           0,
           0,
           0,
           0,
           0,
           0,
           0,
           0,
           0,
           0
          ],
          [
           0,
           0,
           0,
           0,
           0,
           0,
           0,
           0,
           0,
           0,
           0,
           0,
           0,
           0,
           0,
           0
          ],
          [
           0,
           0,
           0,
           0,
           0,
           0,
           0,
           0,
           0,
           0,
           0,
           0,
           0,
           0,
           0,
           0
          ],
          [
           0,
           0,
           0,
           0,
           0,
           0,
           0,
           0,
           0,
           0,
           0,
           0,
           0,
           0,
           0,
           0
          ],
          [
           0,
           0,
           0,
           0,
           0,
           0,
           0,
           0,
           0,
           0,
           0,
           0,
           0,
           0,
           0,
           0
          ],
          [
           0,
           0,
           0,
           0,
           0,
           0,
           0,
           0,
           0,
           0,
           0,
           0,
           0,
           0,
           0,
           0
          ],
          [
           0,
           0,
           0,
           0,
           0,
           0,
           0,
           0,
           0,
           0,
           0,
           0,
           0,
           0,
           0,
           0
          ],
          [
           0,
           0,
           0,
           0,
           0,
           0,
           0,
           0,
           0,
           0,
           0,
           0,
           0,
           0,
           0,
           0
          ],
          [
           0,
           0,
           0.0006205241,
           0.0006205241,
           0.0004374186,
           0.0004374186,
           0,
           0,
           0,
           0,
           0,
           0,
           0.00031789145,
           0.00031789145,
           0,
           0
          ],
          [
           0.00026575723,
           0.00026575723,
           -0.00020980835,
           -0.00020980835,
           0.00021489461,
           0.00021489461,
           0,
           0,
           -0.00021362305,
           -0.00021362305,
           0,
           0,
           -0.00020980835,
           -0.00020980835,
           -0.0010566711,
           -0.0010566711
          ],
          [
           0,
           0,
           0,
           0,
           -0.0002492269,
           -0.0002492269,
           0,
           0,
           -0.0015805563,
           -0.0015805563,
           0,
           0,
           0.00019836426,
           0.00019836426,
           0,
           0
          ],
          [
           0.00041707358,
           0.00041707358,
           0,
           0,
           0,
           0,
           -0.00015894572,
           -0.00015894572,
           0,
           0,
           0,
           0,
           0,
           0,
           0,
           0
          ],
          [
           0,
           0,
           0,
           0,
           0,
           0,
           0,
           0,
           0,
           0,
           0,
           0,
           0,
           0,
           0,
           0
          ],
          [
           0,
           0,
           0,
           0,
           0,
           0,
           0,
           0,
           -0.00026194254,
           -0.00026194254,
           0,
           0,
           0,
           0,
           0,
           0
          ],
          [
           0,
           0,
           0,
           0,
           0,
           0,
           0,
           0,
           0,
           0,
           -0.000445048,
           -0.000445048,
           0.00022125244,
           0.00022125244,
           0.000386556,
           0.000386556
          ],
          [
           0,
           0,
           0,
           0,
           0,
           0,
           0,
           0,
           0,
           0,
           0,
           0,
           0,
           0,
           0,
           0
          ],
          [
           0,
           0,
           0,
           0,
           0,
           0,
           -0.0010299683,
           -0.0010299683,
           0,
           0,
           0,
           0,
           0,
           0,
           0,
           0
          ],
          [
           0,
           0,
           0,
           0,
           0,
           0,
           0,
           0,
           0,
           0,
           0,
           0,
           0,
           0,
           0,
           0
          ],
          [
           0,
           0,
           0,
           0,
           0,
           0,
           0,
           0,
           0,
           0,
           0,
           0,
           0,
           0,
           0,
           0
          ],
          [
           0,
           0,
           0,
           0,
           0,
           0,
           0,
           0,
           0,
           0,
           0,
           0,
           0,
           0,
           0,
           0
          ],
          [
           0,
           0,
           0,
           0,
           0,
           0,
           0,
           0,
           0,
           0,
           0,
           0,
           0,
           0,
           0,
           0
          ],
          [
           0,
           0,
           0,
           0,
           0,
           0,
           0,
           0,
           0,
           0,
           0,
           0,
           0,
           0,
           0,
           0
          ],
          [
           0,
           0,
           0,
           0,
           0,
           0,
           0,
           0,
           0,
           0,
           0,
           0,
           0,
           0,
           0,
           0
          ],
          [
           0,
           0,
           0,
           0,
           -0.00042470297,
           -0.00042470297,
           0,
           0,
           0,
           0,
           0,
           0,
           0,
           0,
           0,
           0
          ],
          [
           0,
           0,
           0,
           0,
           0,
           0,
           0,
           0,
           0,
           0,
           0,
           0,
           0,
           0,
           0,
           0
          ],
          [
           0,
           0,
           0,
           0,
           0,
           0,
           0,
           0,
           0,
           0,
           0,
           0,
           0,
           0,
           0,
           0
          ]
         ]
        }
       ],
       "layout": {
        "annotations": [
         {
          "font": {},
          "showarrow": false,
          "text": "Query (In)",
          "x": 0.075,
          "xanchor": "center",
          "xref": "paper",
          "y": 1,
          "yanchor": "bottom",
          "yref": "paper"
         },
         {
          "font": {},
          "showarrow": false,
          "text": "Key (In)",
          "x": 0.24499999999999997,
          "xanchor": "center",
          "xref": "paper",
          "y": 1,
          "yanchor": "bottom",
          "yref": "paper"
         },
         {
          "font": {},
          "showarrow": false,
          "text": "Value (In)",
          "x": 0.415,
          "xanchor": "center",
          "xref": "paper",
          "y": 1,
          "yanchor": "bottom",
          "yref": "paper"
         },
         {
          "font": {},
          "showarrow": false,
          "text": "Query (Out)",
          "x": 0.585,
          "xanchor": "center",
          "xref": "paper",
          "y": 1,
          "yanchor": "bottom",
          "yref": "paper"
         },
         {
          "font": {},
          "showarrow": false,
          "text": "Key (Out)",
          "x": 0.7549999999999999,
          "xanchor": "center",
          "xref": "paper",
          "y": 1,
          "yanchor": "bottom",
          "yref": "paper"
         },
         {
          "font": {},
          "showarrow": false,
          "text": "Value (Out)",
          "x": 0.925,
          "xanchor": "center",
          "xref": "paper",
          "y": 1,
          "yanchor": "bottom",
          "yref": "paper"
         }
        ],
        "coloraxis": {
         "cmid": 0,
         "colorscale": [
          [
           0,
           "rgb(103,0,31)"
          ],
          [
           0.1,
           "rgb(178,24,43)"
          ],
          [
           0.2,
           "rgb(214,96,77)"
          ],
          [
           0.3,
           "rgb(244,165,130)"
          ],
          [
           0.4,
           "rgb(253,219,199)"
          ],
          [
           0.5,
           "rgb(247,247,247)"
          ],
          [
           0.6,
           "rgb(209,229,240)"
          ],
          [
           0.7,
           "rgb(146,197,222)"
          ],
          [
           0.8,
           "rgb(67,147,195)"
          ],
          [
           0.9,
           "rgb(33,102,172)"
          ],
          [
           1,
           "rgb(5,48,97)"
          ]
         ]
        },
        "template": {
         "data": {
          "bar": [
           {
            "error_x": {
             "color": "#2a3f5f"
            },
            "error_y": {
             "color": "#2a3f5f"
            },
            "marker": {
             "line": {
              "color": "#E5ECF6",
              "width": 0.5
             },
             "pattern": {
              "fillmode": "overlay",
              "size": 10,
              "solidity": 0.2
             }
            },
            "type": "bar"
           }
          ],
          "barpolar": [
           {
            "marker": {
             "line": {
              "color": "#E5ECF6",
              "width": 0.5
             },
             "pattern": {
              "fillmode": "overlay",
              "size": 10,
              "solidity": 0.2
             }
            },
            "type": "barpolar"
           }
          ],
          "carpet": [
           {
            "aaxis": {
             "endlinecolor": "#2a3f5f",
             "gridcolor": "white",
             "linecolor": "white",
             "minorgridcolor": "white",
             "startlinecolor": "#2a3f5f"
            },
            "baxis": {
             "endlinecolor": "#2a3f5f",
             "gridcolor": "white",
             "linecolor": "white",
             "minorgridcolor": "white",
             "startlinecolor": "#2a3f5f"
            },
            "type": "carpet"
           }
          ],
          "choropleth": [
           {
            "colorbar": {
             "outlinewidth": 0,
             "ticks": ""
            },
            "type": "choropleth"
           }
          ],
          "contour": [
           {
            "colorbar": {
             "outlinewidth": 0,
             "ticks": ""
            },
            "colorscale": [
             [
              0,
              "#0d0887"
             ],
             [
              0.1111111111111111,
              "#46039f"
             ],
             [
              0.2222222222222222,
              "#7201a8"
             ],
             [
              0.3333333333333333,
              "#9c179e"
             ],
             [
              0.4444444444444444,
              "#bd3786"
             ],
             [
              0.5555555555555556,
              "#d8576b"
             ],
             [
              0.6666666666666666,
              "#ed7953"
             ],
             [
              0.7777777777777778,
              "#fb9f3a"
             ],
             [
              0.8888888888888888,
              "#fdca26"
             ],
             [
              1,
              "#f0f921"
             ]
            ],
            "type": "contour"
           }
          ],
          "contourcarpet": [
           {
            "colorbar": {
             "outlinewidth": 0,
             "ticks": ""
            },
            "type": "contourcarpet"
           }
          ],
          "heatmap": [
           {
            "colorbar": {
             "outlinewidth": 0,
             "ticks": ""
            },
            "colorscale": [
             [
              0,
              "#0d0887"
             ],
             [
              0.1111111111111111,
              "#46039f"
             ],
             [
              0.2222222222222222,
              "#7201a8"
             ],
             [
              0.3333333333333333,
              "#9c179e"
             ],
             [
              0.4444444444444444,
              "#bd3786"
             ],
             [
              0.5555555555555556,
              "#d8576b"
             ],
             [
              0.6666666666666666,
              "#ed7953"
             ],
             [
              0.7777777777777778,
              "#fb9f3a"
             ],
             [
              0.8888888888888888,
              "#fdca26"
             ],
             [
              1,
              "#f0f921"
             ]
            ],
            "type": "heatmap"
           }
          ],
          "heatmapgl": [
           {
            "colorbar": {
             "outlinewidth": 0,
             "ticks": ""
            },
            "colorscale": [
             [
              0,
              "#0d0887"
             ],
             [
              0.1111111111111111,
              "#46039f"
             ],
             [
              0.2222222222222222,
              "#7201a8"
             ],
             [
              0.3333333333333333,
              "#9c179e"
             ],
             [
              0.4444444444444444,
              "#bd3786"
             ],
             [
              0.5555555555555556,
              "#d8576b"
             ],
             [
              0.6666666666666666,
              "#ed7953"
             ],
             [
              0.7777777777777778,
              "#fb9f3a"
             ],
             [
              0.8888888888888888,
              "#fdca26"
             ],
             [
              1,
              "#f0f921"
             ]
            ],
            "type": "heatmapgl"
           }
          ],
          "histogram": [
           {
            "marker": {
             "pattern": {
              "fillmode": "overlay",
              "size": 10,
              "solidity": 0.2
             }
            },
            "type": "histogram"
           }
          ],
          "histogram2d": [
           {
            "colorbar": {
             "outlinewidth": 0,
             "ticks": ""
            },
            "colorscale": [
             [
              0,
              "#0d0887"
             ],
             [
              0.1111111111111111,
              "#46039f"
             ],
             [
              0.2222222222222222,
              "#7201a8"
             ],
             [
              0.3333333333333333,
              "#9c179e"
             ],
             [
              0.4444444444444444,
              "#bd3786"
             ],
             [
              0.5555555555555556,
              "#d8576b"
             ],
             [
              0.6666666666666666,
              "#ed7953"
             ],
             [
              0.7777777777777778,
              "#fb9f3a"
             ],
             [
              0.8888888888888888,
              "#fdca26"
             ],
             [
              1,
              "#f0f921"
             ]
            ],
            "type": "histogram2d"
           }
          ],
          "histogram2dcontour": [
           {
            "colorbar": {
             "outlinewidth": 0,
             "ticks": ""
            },
            "colorscale": [
             [
              0,
              "#0d0887"
             ],
             [
              0.1111111111111111,
              "#46039f"
             ],
             [
              0.2222222222222222,
              "#7201a8"
             ],
             [
              0.3333333333333333,
              "#9c179e"
             ],
             [
              0.4444444444444444,
              "#bd3786"
             ],
             [
              0.5555555555555556,
              "#d8576b"
             ],
             [
              0.6666666666666666,
              "#ed7953"
             ],
             [
              0.7777777777777778,
              "#fb9f3a"
             ],
             [
              0.8888888888888888,
              "#fdca26"
             ],
             [
              1,
              "#f0f921"
             ]
            ],
            "type": "histogram2dcontour"
           }
          ],
          "mesh3d": [
           {
            "colorbar": {
             "outlinewidth": 0,
             "ticks": ""
            },
            "type": "mesh3d"
           }
          ],
          "parcoords": [
           {
            "line": {
             "colorbar": {
              "outlinewidth": 0,
              "ticks": ""
             }
            },
            "type": "parcoords"
           }
          ],
          "pie": [
           {
            "automargin": true,
            "type": "pie"
           }
          ],
          "scatter": [
           {
            "fillpattern": {
             "fillmode": "overlay",
             "size": 10,
             "solidity": 0.2
            },
            "type": "scatter"
           }
          ],
          "scatter3d": [
           {
            "line": {
             "colorbar": {
              "outlinewidth": 0,
              "ticks": ""
             }
            },
            "marker": {
             "colorbar": {
              "outlinewidth": 0,
              "ticks": ""
             }
            },
            "type": "scatter3d"
           }
          ],
          "scattercarpet": [
           {
            "marker": {
             "colorbar": {
              "outlinewidth": 0,
              "ticks": ""
             }
            },
            "type": "scattercarpet"
           }
          ],
          "scattergeo": [
           {
            "marker": {
             "colorbar": {
              "outlinewidth": 0,
              "ticks": ""
             }
            },
            "type": "scattergeo"
           }
          ],
          "scattergl": [
           {
            "marker": {
             "colorbar": {
              "outlinewidth": 0,
              "ticks": ""
             }
            },
            "type": "scattergl"
           }
          ],
          "scattermapbox": [
           {
            "marker": {
             "colorbar": {
              "outlinewidth": 0,
              "ticks": ""
             }
            },
            "type": "scattermapbox"
           }
          ],
          "scatterpolar": [
           {
            "marker": {
             "colorbar": {
              "outlinewidth": 0,
              "ticks": ""
             }
            },
            "type": "scatterpolar"
           }
          ],
          "scatterpolargl": [
           {
            "marker": {
             "colorbar": {
              "outlinewidth": 0,
              "ticks": ""
             }
            },
            "type": "scatterpolargl"
           }
          ],
          "scatterternary": [
           {
            "marker": {
             "colorbar": {
              "outlinewidth": 0,
              "ticks": ""
             }
            },
            "type": "scatterternary"
           }
          ],
          "surface": [
           {
            "colorbar": {
             "outlinewidth": 0,
             "ticks": ""
            },
            "colorscale": [
             [
              0,
              "#0d0887"
             ],
             [
              0.1111111111111111,
              "#46039f"
             ],
             [
              0.2222222222222222,
              "#7201a8"
             ],
             [
              0.3333333333333333,
              "#9c179e"
             ],
             [
              0.4444444444444444,
              "#bd3786"
             ],
             [
              0.5555555555555556,
              "#d8576b"
             ],
             [
              0.6666666666666666,
              "#ed7953"
             ],
             [
              0.7777777777777778,
              "#fb9f3a"
             ],
             [
              0.8888888888888888,
              "#fdca26"
             ],
             [
              1,
              "#f0f921"
             ]
            ],
            "type": "surface"
           }
          ],
          "table": [
           {
            "cells": {
             "fill": {
              "color": "#EBF0F8"
             },
             "line": {
              "color": "white"
             }
            },
            "header": {
             "fill": {
              "color": "#C8D4E3"
             },
             "line": {
              "color": "white"
             }
            },
            "type": "table"
           }
          ]
         },
         "layout": {
          "annotationdefaults": {
           "arrowcolor": "#2a3f5f",
           "arrowhead": 0,
           "arrowwidth": 1
          },
          "autotypenumbers": "strict",
          "coloraxis": {
           "colorbar": {
            "outlinewidth": 0,
            "ticks": ""
           }
          },
          "colorscale": {
           "diverging": [
            [
             0,
             "#8e0152"
            ],
            [
             0.1,
             "#c51b7d"
            ],
            [
             0.2,
             "#de77ae"
            ],
            [
             0.3,
             "#f1b6da"
            ],
            [
             0.4,
             "#fde0ef"
            ],
            [
             0.5,
             "#f7f7f7"
            ],
            [
             0.6,
             "#e6f5d0"
            ],
            [
             0.7,
             "#b8e186"
            ],
            [
             0.8,
             "#7fbc41"
            ],
            [
             0.9,
             "#4d9221"
            ],
            [
             1,
             "#276419"
            ]
           ],
           "sequential": [
            [
             0,
             "#0d0887"
            ],
            [
             0.1111111111111111,
             "#46039f"
            ],
            [
             0.2222222222222222,
             "#7201a8"
            ],
            [
             0.3333333333333333,
             "#9c179e"
            ],
            [
             0.4444444444444444,
             "#bd3786"
            ],
            [
             0.5555555555555556,
             "#d8576b"
            ],
            [
             0.6666666666666666,
             "#ed7953"
            ],
            [
             0.7777777777777778,
             "#fb9f3a"
            ],
            [
             0.8888888888888888,
             "#fdca26"
            ],
            [
             1,
             "#f0f921"
            ]
           ],
           "sequentialminus": [
            [
             0,
             "#0d0887"
            ],
            [
             0.1111111111111111,
             "#46039f"
            ],
            [
             0.2222222222222222,
             "#7201a8"
            ],
            [
             0.3333333333333333,
             "#9c179e"
            ],
            [
             0.4444444444444444,
             "#bd3786"
            ],
            [
             0.5555555555555556,
             "#d8576b"
            ],
            [
             0.6666666666666666,
             "#ed7953"
            ],
            [
             0.7777777777777778,
             "#fb9f3a"
            ],
            [
             0.8888888888888888,
             "#fdca26"
            ],
            [
             1,
             "#f0f921"
            ]
           ]
          },
          "colorway": [
           "#636efa",
           "#EF553B",
           "#00cc96",
           "#ab63fa",
           "#FFA15A",
           "#19d3f3",
           "#FF6692",
           "#B6E880",
           "#FF97FF",
           "#FECB52"
          ],
          "font": {
           "color": "#2a3f5f"
          },
          "geo": {
           "bgcolor": "white",
           "lakecolor": "white",
           "landcolor": "#E5ECF6",
           "showlakes": true,
           "showland": true,
           "subunitcolor": "white"
          },
          "hoverlabel": {
           "align": "left"
          },
          "hovermode": "closest",
          "mapbox": {
           "style": "light"
          },
          "paper_bgcolor": "white",
          "plot_bgcolor": "#E5ECF6",
          "polar": {
           "angularaxis": {
            "gridcolor": "white",
            "linecolor": "white",
            "ticks": ""
           },
           "bgcolor": "#E5ECF6",
           "radialaxis": {
            "gridcolor": "white",
            "linecolor": "white",
            "ticks": ""
           }
          },
          "scene": {
           "xaxis": {
            "backgroundcolor": "#E5ECF6",
            "gridcolor": "white",
            "gridwidth": 2,
            "linecolor": "white",
            "showbackground": true,
            "ticks": "",
            "zerolinecolor": "white"
           },
           "yaxis": {
            "backgroundcolor": "#E5ECF6",
            "gridcolor": "white",
            "gridwidth": 2,
            "linecolor": "white",
            "showbackground": true,
            "ticks": "",
            "zerolinecolor": "white"
           },
           "zaxis": {
            "backgroundcolor": "#E5ECF6",
            "gridcolor": "white",
            "gridwidth": 2,
            "linecolor": "white",
            "showbackground": true,
            "ticks": "",
            "zerolinecolor": "white"
           }
          },
          "shapedefaults": {
           "line": {
            "color": "#2a3f5f"
           }
          },
          "ternary": {
           "aaxis": {
            "gridcolor": "white",
            "linecolor": "white",
            "ticks": ""
           },
           "baxis": {
            "gridcolor": "white",
            "linecolor": "white",
            "ticks": ""
           },
           "bgcolor": "#E5ECF6",
           "caxis": {
            "gridcolor": "white",
            "linecolor": "white",
            "ticks": ""
           }
          },
          "title": {
           "x": 0.05
          },
          "xaxis": {
           "automargin": true,
           "gridcolor": "white",
           "linecolor": "white",
           "ticks": "",
           "title": {
            "standoff": 15
           },
           "zerolinecolor": "white",
           "zerolinewidth": 2
          },
          "yaxis": {
           "automargin": true,
           "gridcolor": "white",
           "linecolor": "white",
           "ticks": "",
           "title": {
            "standoff": 15
           },
           "zerolinecolor": "white",
           "zerolinewidth": 2
          }
         }
        },
        "title": {
         "text": "Input and Output Paths for head L8H9"
        },
        "xaxis": {
         "anchor": "y",
         "domain": [
          0,
          0.15
         ],
         "title": {
          "text": "Head"
         }
        },
        "xaxis2": {
         "anchor": "y2",
         "domain": [
          0.16999999999999998,
          0.31999999999999995
         ],
         "matches": "x",
         "title": {
          "text": "Head"
         }
        },
        "xaxis3": {
         "anchor": "y3",
         "domain": [
          0.33999999999999997,
          0.49
         ],
         "matches": "x",
         "title": {
          "text": "Head"
         }
        },
        "xaxis4": {
         "anchor": "y4",
         "domain": [
          0.51,
          0.66
         ],
         "matches": "x",
         "title": {
          "text": "Head"
         }
        },
        "xaxis5": {
         "anchor": "y5",
         "domain": [
          0.6799999999999999,
          0.83
         ],
         "matches": "x",
         "title": {
          "text": "Head"
         }
        },
        "xaxis6": {
         "anchor": "y6",
         "domain": [
          0.85,
          1
         ],
         "matches": "x",
         "title": {
          "text": "Head"
         }
        },
        "yaxis": {
         "anchor": "x",
         "autorange": "reversed",
         "domain": [
          0,
          1
         ],
         "title": {
          "text": "Layer"
         }
        },
        "yaxis2": {
         "anchor": "x2",
         "domain": [
          0,
          1
         ],
         "matches": "y",
         "showticklabels": false
        },
        "yaxis3": {
         "anchor": "x3",
         "domain": [
          0,
          1
         ],
         "matches": "y",
         "showticklabels": false
        },
        "yaxis4": {
         "anchor": "x4",
         "domain": [
          0,
          1
         ],
         "matches": "y",
         "showticklabels": false
        },
        "yaxis5": {
         "anchor": "x5",
         "domain": [
          0,
          1
         ],
         "matches": "y",
         "showticklabels": false
        },
        "yaxis6": {
         "anchor": "x6",
         "domain": [
          0,
          1
         ],
         "matches": "y",
         "showticklabels": false
        }
       }
      }
     },
     "metadata": {},
     "output_type": "display_data"
    },
    {
     "data": {
      "application/vnd.plotly.v1+json": {
       "config": {
        "plotlyServerURL": "https://plot.ly"
       },
       "data": [
        {
         "coloraxis": "coloraxis",
         "hovertemplate": "x: %{x}<br>y: %{y}<br>color: %{z}<extra></extra>",
         "name": "0",
         "type": "heatmap",
         "xaxis": "x",
         "yaxis": "y",
         "z": [
          [
           0,
           0,
           0,
           0,
           0,
           0,
           0,
           0,
           0,
           0,
           0,
           0,
           0,
           0,
           0,
           0
          ],
          [
           0,
           0,
           0,
           0,
           0,
           0,
           0,
           0,
           0,
           0,
           0,
           0,
           0,
           0,
           0,
           0
          ],
          [
           0,
           0,
           0,
           0,
           0,
           0,
           0,
           0,
           0,
           0,
           0,
           0,
           0,
           0,
           0,
           0
          ],
          [
           0,
           0,
           0,
           0,
           0,
           0,
           0,
           0,
           0,
           0,
           0,
           0,
           0,
           0,
           0,
           0
          ],
          [
           0,
           0,
           0,
           0,
           0,
           0,
           0,
           0,
           0,
           0,
           0,
           0,
           0,
           0,
           0,
           0
          ],
          [
           0,
           0,
           0,
           0,
           0,
           0,
           0,
           0,
           0,
           0,
           0,
           0,
           0,
           0,
           0,
           0
          ],
          [
           0,
           0,
           0,
           0,
           0,
           0,
           0,
           0,
           0,
           0,
           0,
           0,
           0,
           0,
           0,
           0
          ],
          [
           0,
           0,
           0,
           0,
           0,
           0,
           0,
           0,
           0,
           0,
           0,
           0,
           0,
           0,
           0,
           0
          ],
          [
           0,
           0,
           0,
           0,
           0,
           0,
           0,
           0,
           0,
           0,
           0,
           0,
           0,
           0,
           0,
           0
          ],
          [
           0,
           0,
           0,
           0,
           0,
           0,
           0,
           0,
           0,
           0,
           0,
           0,
           0,
           0,
           0,
           0
          ],
          [
           0,
           0,
           0,
           0,
           0,
           0,
           0,
           0,
           0,
           0,
           0,
           0,
           0,
           0,
           0,
           0
          ],
          [
           0,
           0,
           0,
           0,
           0,
           0,
           0,
           0,
           0,
           0,
           0,
           0,
           0,
           0,
           0,
           0
          ],
          [
           0,
           0,
           0,
           0,
           0,
           0,
           0,
           0,
           0,
           0,
           0,
           0,
           0,
           0,
           0,
           0
          ],
          [
           0,
           0,
           0,
           0,
           0,
           0,
           0,
           0,
           0,
           0,
           0,
           0,
           0,
           0,
           0,
           0
          ],
          [
           0,
           0,
           0,
           0,
           0,
           0,
           0,
           0,
           0,
           0,
           0,
           0,
           0,
           0,
           0,
           0
          ],
          [
           0,
           0,
           0,
           0,
           0,
           0,
           0,
           0,
           0,
           0,
           0,
           0,
           0,
           0,
           0,
           0
          ],
          [
           0,
           0,
           0,
           0,
           0,
           0,
           0,
           0,
           0,
           0,
           0,
           0,
           0,
           0,
           0,
           0
          ],
          [
           0,
           0,
           0,
           0,
           0,
           0,
           0,
           0,
           0,
           0,
           0,
           0,
           0,
           0,
           0,
           0
          ],
          [
           0,
           0,
           0,
           0,
           0,
           0,
           0,
           0,
           0,
           0,
           0,
           0,
           0,
           0,
           0,
           0
          ],
          [
           0,
           0,
           0,
           0,
           0,
           0,
           0,
           0,
           0,
           0,
           0,
           0,
           0,
           0,
           0,
           0
          ],
          [
           0,
           0,
           0,
           0,
           0,
           0,
           0,
           0,
           0,
           0,
           0,
           0,
           0,
           0,
           0,
           0
          ],
          [
           0,
           0,
           0,
           0,
           0,
           0,
           0,
           0,
           0,
           0,
           0,
           0,
           0,
           0,
           0,
           0
          ],
          [
           0,
           0,
           0,
           0,
           0,
           0,
           0,
           0,
           0,
           0,
           0,
           0,
           0,
           0,
           0,
           0
          ],
          [
           0,
           0,
           0,
           0,
           0,
           0,
           0,
           0,
           0,
           0,
           0,
           0,
           0,
           0,
           0,
           0
          ],
          [
           0,
           0,
           0,
           0,
           0,
           0,
           0,
           0,
           0,
           0,
           0,
           0,
           0,
           0,
           0,
           0
          ],
          [
           0,
           0,
           0,
           0,
           0,
           0,
           0,
           0,
           0,
           0,
           0,
           0,
           0,
           0,
           0,
           0
          ],
          [
           0,
           0,
           0,
           0,
           0,
           0,
           0,
           0,
           0,
           0,
           0,
           0,
           0,
           0,
           0,
           0
          ]
         ]
        },
        {
         "coloraxis": "coloraxis",
         "hovertemplate": "x: %{x}<br>y: %{y}<br>color: %{z}<extra></extra>",
         "name": "1",
         "type": "heatmap",
         "xaxis": "x2",
         "yaxis": "y2",
         "z": [
          [
           0,
           0,
           0,
           0,
           0,
           0,
           0,
           0,
           0,
           0,
           0,
           0,
           0,
           0,
           0,
           0
          ],
          [
           0,
           0,
           0,
           0,
           0,
           0,
           0,
           0,
           0,
           0,
           0,
           0,
           0,
           0,
           0,
           0
          ],
          [
           0,
           0,
           0,
           0,
           0,
           0,
           0,
           0,
           0,
           0,
           0,
           0,
           0,
           0,
           0,
           0
          ],
          [
           0,
           0,
           0,
           0,
           0,
           0,
           0,
           0,
           0,
           0,
           0,
           0,
           0,
           0,
           0,
           0
          ],
          [
           0,
           0,
           0,
           0,
           0,
           0,
           0,
           0,
           0,
           0,
           0,
           0,
           0,
           0,
           0,
           0
          ],
          [
           0,
           0,
           0,
           0,
           0,
           0,
           0,
           0,
           0,
           0,
           0,
           0,
           0,
           0,
           0,
           0
          ],
          [
           0,
           0,
           0,
           0,
           0,
           0,
           0,
           0,
           0,
           0,
           0,
           0,
           0,
           0,
           0,
           0
          ],
          [
           0,
           0,
           0,
           0,
           0,
           0,
           0,
           0,
           0,
           0,
           0,
           0,
           0,
           0,
           0,
           0
          ],
          [
           0,
           0,
           0,
           0,
           0,
           0,
           0,
           0,
           0,
           0,
           0,
           0,
           0,
           0,
           0,
           0
          ],
          [
           0,
           0,
           0,
           0,
           0,
           0,
           0,
           0,
           0,
           0,
           0,
           0,
           0,
           0,
           0,
           0
          ],
          [
           0,
           0,
           0,
           0,
           0,
           0,
           0,
           0,
           0,
           0,
           0,
           0,
           0,
           0,
           0,
           0
          ],
          [
           0,
           0,
           0,
           0,
           0,
           0,
           0,
           0,
           0,
           0,
           0,
           0,
           0,
           0,
           0,
           0
          ],
          [
           0,
           0,
           0,
           0,
           0,
           0,
           0,
           0,
           0,
           0,
           0,
           0,
           0,
           0,
           0,
           0
          ],
          [
           0,
           0,
           0,
           0,
           0,
           0,
           0,
           0,
           0,
           0,
           0,
           0,
           0,
           0,
           0,
           0
          ],
          [
           0,
           0,
           0,
           0,
           0,
           0,
           0,
           0,
           0,
           0,
           0,
           0,
           0,
           0,
           0,
           0
          ],
          [
           0,
           0,
           0,
           0,
           0,
           0,
           0,
           0,
           0,
           0,
           0,
           0,
           0,
           0,
           0,
           0
          ],
          [
           0,
           0,
           0,
           0,
           0,
           0,
           0,
           0,
           0,
           0,
           0,
           0,
           0,
           0,
           0,
           0
          ],
          [
           0,
           0,
           0,
           0,
           0,
           0,
           0,
           0,
           0,
           0,
           0,
           0,
           0,
           0,
           0,
           0
          ],
          [
           0,
           0,
           0,
           0,
           0,
           0,
           0,
           0,
           0,
           0,
           0,
           0,
           0,
           0,
           0,
           0
          ],
          [
           0,
           0,
           0,
           0,
           0,
           0,
           0,
           0,
           0,
           0,
           0,
           0,
           0,
           0,
           0,
           0
          ],
          [
           0,
           0,
           0,
           0,
           0,
           0,
           0,
           0,
           0,
           0,
           0,
           0,
           0,
           0,
           0,
           0
          ],
          [
           0,
           0,
           0,
           0,
           0,
           0,
           0,
           0,
           0,
           0,
           0,
           0,
           0,
           0,
           0,
           0
          ],
          [
           0,
           0,
           0,
           0,
           0,
           0,
           0,
           0,
           0,
           0,
           0,
           0,
           0,
           0,
           0,
           0
          ],
          [
           0,
           0,
           0,
           0,
           0,
           0,
           0,
           0,
           0,
           0,
           0,
           0,
           0,
           0,
           0,
           0
          ],
          [
           0,
           0,
           0,
           0,
           0,
           0,
           0,
           0,
           0,
           0,
           0,
           0,
           0,
           0,
           0,
           0
          ],
          [
           0,
           0,
           0,
           0,
           0,
           0,
           0,
           0,
           0,
           0,
           0,
           0,
           0,
           0,
           0,
           0
          ],
          [
           0,
           0,
           0,
           0,
           0,
           0,
           0,
           0,
           0,
           0,
           0,
           0,
           0,
           0,
           0,
           0
          ]
         ]
        },
        {
         "coloraxis": "coloraxis",
         "hovertemplate": "x: %{x}<br>y: %{y}<br>color: %{z}<extra></extra>",
         "name": "2",
         "type": "heatmap",
         "xaxis": "x3",
         "yaxis": "y3",
         "z": [
          [
           0,
           0,
           0,
           0,
           0,
           0,
           0,
           0,
           0,
           0,
           0,
           0,
           0,
           0,
           0,
           0
          ],
          [
           0,
           0,
           0,
           0,
           0,
           0,
           0,
           0,
           0,
           0,
           0,
           0,
           0,
           0,
           0,
           0
          ],
          [
           0,
           0,
           0,
           0,
           0,
           0,
           0,
           0,
           0,
           0,
           0,
           0,
           0,
           0,
           0,
           0
          ],
          [
           0,
           0,
           0,
           0,
           0,
           0,
           0,
           0,
           0,
           0,
           0,
           0,
           0,
           0,
           0,
           0
          ],
          [
           0,
           0,
           0,
           0,
           0,
           0,
           0,
           0,
           0,
           0,
           0,
           0,
           0,
           0,
           0,
           0
          ],
          [
           0,
           0,
           0,
           0,
           0,
           0,
           0,
           0,
           0,
           0,
           0,
           0,
           0,
           0,
           0,
           0
          ],
          [
           0,
           0,
           0,
           0,
           0,
           0,
           0,
           0,
           0,
           0,
           0,
           0,
           0,
           0,
           0,
           0
          ],
          [
           0,
           0,
           0,
           0,
           0,
           0,
           0,
           0,
           0,
           0,
           0,
           0,
           0,
           0,
           0,
           0
          ],
          [
           0,
           0,
           0,
           0,
           0,
           0,
           0,
           0,
           0,
           0,
           0,
           0,
           0,
           0,
           0,
           0
          ],
          [
           0,
           0,
           0,
           0,
           0,
           0,
           0,
           0,
           0,
           0,
           0,
           0,
           0,
           0,
           0,
           0
          ],
          [
           0,
           0,
           0,
           0,
           0,
           0,
           0,
           0,
           0,
           0,
           0,
           0,
           0,
           0,
           0,
           0
          ],
          [
           0,
           0,
           0,
           0,
           0,
           0,
           0,
           0,
           0,
           0,
           0,
           0,
           0,
           0,
           0,
           0
          ],
          [
           0,
           0,
           0,
           0,
           0,
           0,
           0,
           0,
           0,
           0,
           0,
           0,
           0,
           0,
           0,
           0
          ],
          [
           0,
           0,
           0,
           0,
           0,
           0,
           0,
           0,
           0,
           0,
           0,
           0,
           0,
           0,
           0,
           0
          ],
          [
           0,
           0,
           0,
           0,
           0,
           0,
           0,
           0,
           0,
           0,
           0,
           0,
           0,
           0,
           0,
           0
          ],
          [
           0,
           0,
           0,
           0,
           0,
           0,
           0,
           0,
           0,
           0,
           0,
           0,
           0,
           0,
           0,
           0
          ],
          [
           0,
           0,
           0,
           0,
           0,
           0,
           0,
           0,
           0,
           0,
           0,
           0,
           0,
           0,
           0,
           0
          ],
          [
           0,
           0,
           0,
           0,
           0,
           0,
           0,
           0,
           0,
           0,
           0,
           0,
           0,
           0,
           0,
           0
          ],
          [
           0,
           0,
           0,
           0,
           0,
           0,
           0,
           0,
           0,
           0,
           0,
           0,
           0,
           0,
           0,
           0
          ],
          [
           0,
           0,
           0,
           0,
           0,
           0,
           0,
           0,
           0,
           0,
           0,
           0,
           0,
           0,
           0,
           0
          ],
          [
           0,
           0,
           0,
           0,
           0,
           0,
           0,
           0,
           0,
           0,
           0,
           0,
           0,
           0,
           0,
           0
          ],
          [
           0,
           0,
           0,
           0,
           0,
           0,
           0,
           0,
           0,
           0,
           0,
           0,
           0,
           0,
           0,
           0
          ],
          [
           0,
           0,
           0,
           0,
           0,
           0,
           0,
           0,
           0,
           0,
           0,
           0,
           0,
           0,
           0,
           0
          ],
          [
           0,
           0,
           0,
           0,
           0,
           0,
           0,
           0,
           0,
           0,
           0,
           0,
           0,
           0,
           0,
           0
          ],
          [
           0,
           0,
           0,
           0,
           0,
           0,
           0,
           0,
           0,
           0,
           0,
           0,
           0,
           0,
           0,
           0
          ],
          [
           0,
           0,
           0,
           0,
           0,
           0,
           0,
           0,
           0,
           0,
           0,
           0,
           0,
           0,
           0,
           0
          ],
          [
           0,
           0,
           0,
           0,
           0,
           0,
           0,
           0,
           0,
           0,
           0,
           0,
           0,
           0,
           0,
           0
          ]
         ]
        },
        {
         "coloraxis": "coloraxis",
         "hovertemplate": "x: %{x}<br>y: %{y}<br>color: %{z}<extra></extra>",
         "name": "3",
         "type": "heatmap",
         "xaxis": "x4",
         "yaxis": "y4",
         "z": [
          [
           0,
           0,
           0,
           0,
           0,
           0,
           0,
           0,
           0,
           0,
           0,
           0,
           0,
           0,
           0,
           0
          ],
          [
           0,
           0,
           0,
           0,
           0,
           0,
           0,
           0,
           0,
           0,
           0,
           0,
           0,
           0,
           0,
           0
          ],
          [
           0,
           0,
           0,
           0,
           0,
           0,
           0,
           0,
           0,
           0,
           0,
           0,
           0,
           0,
           0,
           0
          ],
          [
           0,
           0,
           0,
           0,
           0,
           0,
           0,
           0,
           0,
           0,
           0,
           0,
           0,
           0,
           0,
           0
          ],
          [
           0,
           0,
           0,
           0,
           0,
           0,
           0,
           0,
           0,
           0,
           0,
           0,
           0,
           0,
           0,
           0
          ],
          [
           0,
           0,
           0,
           0,
           0,
           0,
           0,
           0,
           0,
           0,
           0,
           0,
           0,
           0,
           0,
           0
          ],
          [
           0,
           0,
           0,
           0,
           0,
           0,
           0,
           0,
           0,
           0,
           0,
           0,
           0,
           0,
           0,
           0
          ],
          [
           0,
           0,
           0,
           0,
           0,
           0,
           0,
           0,
           0,
           0,
           0,
           0,
           0,
           0,
           0,
           0
          ],
          [
           0,
           0,
           0,
           0,
           0,
           0,
           0,
           0,
           0,
           0,
           0,
           0,
           0,
           0,
           0,
           0
          ],
          [
           0,
           0,
           0,
           0,
           0,
           0,
           0,
           0,
           0,
           0,
           0,
           0,
           0,
           0,
           0,
           0
          ],
          [
           0,
           0,
           0,
           0,
           0,
           0,
           0,
           0,
           0,
           0,
           0,
           0,
           0,
           0,
           0,
           0
          ],
          [
           0,
           0,
           0,
           0,
           0,
           0,
           0,
           0,
           0,
           0,
           0,
           0,
           0,
           0,
           0,
           0
          ],
          [
           0,
           0,
           0,
           0,
           0,
           0,
           0,
           0,
           0,
           0,
           0,
           0,
           0,
           0,
           0,
           0
          ],
          [
           0,
           0,
           0,
           0,
           0,
           0,
           0,
           0,
           0,
           0,
           0,
           0,
           0,
           0,
           0,
           0
          ],
          [
           0,
           0,
           0,
           0,
           0,
           0,
           0,
           0,
           0,
           0,
           0,
           0,
           0,
           0,
           0,
           0
          ],
          [
           0,
           0,
           0,
           0,
           0,
           0,
           0,
           0,
           0,
           0,
           0,
           0,
           0,
           0,
           0,
           0
          ],
          [
           0,
           0,
           0,
           0,
           0,
           0,
           0,
           0,
           0,
           0,
           0,
           0,
           0,
           0,
           0,
           0
          ],
          [
           0,
           0,
           0,
           0,
           0,
           0,
           0,
           0,
           0,
           0,
           0,
           0,
           0,
           0,
           0,
           0
          ],
          [
           0,
           0,
           0,
           0,
           0,
           0,
           0,
           0,
           0,
           0,
           0,
           0,
           0,
           0,
           0,
           0
          ],
          [
           0,
           0,
           0,
           0,
           0,
           0,
           0,
           0,
           0,
           0,
           0,
           0,
           0,
           0,
           0,
           0
          ],
          [
           0,
           0,
           0,
           0,
           0,
           0,
           0,
           0,
           0,
           0,
           0,
           0,
           0,
           0,
           0,
           0
          ],
          [
           0,
           0,
           0,
           0,
           0,
           0,
           0,
           0,
           0,
           0,
           0,
           0,
           0,
           0,
           0,
           0
          ],
          [
           0,
           0,
           0,
           0,
           0,
           0,
           0,
           0,
           0,
           0,
           0,
           0,
           0,
           0,
           0,
           0
          ],
          [
           0,
           0,
           0,
           0,
           0,
           0,
           0,
           0,
           0,
           0,
           0,
           0,
           0,
           0,
           0,
           0
          ],
          [
           0,
           0,
           0,
           0,
           0,
           0,
           0,
           0,
           0,
           0,
           0,
           0,
           0,
           0,
           0,
           0
          ],
          [
           0,
           0,
           0,
           0,
           0,
           0,
           0,
           0,
           0,
           0,
           0,
           0,
           0,
           0,
           0,
           0
          ],
          [
           0,
           0,
           0,
           0,
           0,
           0,
           0,
           0,
           0,
           0,
           0,
           0,
           0,
           0,
           0,
           0
          ]
         ]
        },
        {
         "coloraxis": "coloraxis",
         "hovertemplate": "x: %{x}<br>y: %{y}<br>color: %{z}<extra></extra>",
         "name": "4",
         "type": "heatmap",
         "xaxis": "x5",
         "yaxis": "y5",
         "z": [
          [
           0,
           0,
           0,
           0,
           0,
           0,
           0,
           0,
           0,
           0,
           0,
           0,
           0,
           0,
           0,
           0
          ],
          [
           0,
           0,
           0,
           0,
           0,
           0,
           0,
           0,
           0,
           0,
           0,
           0,
           0,
           0,
           0,
           0
          ],
          [
           0,
           0,
           0,
           0,
           0,
           0,
           0,
           0,
           0,
           0,
           0,
           0,
           0,
           0,
           0,
           0
          ],
          [
           0,
           0,
           0,
           0,
           0,
           0,
           0,
           0,
           0,
           0,
           0,
           0,
           0,
           0,
           0,
           0
          ],
          [
           0,
           0,
           0,
           0,
           0,
           0,
           0,
           0,
           0,
           0,
           0,
           0,
           0,
           0,
           0,
           0
          ],
          [
           0,
           0,
           0,
           0,
           0,
           0,
           0,
           0,
           0,
           0,
           0,
           0,
           0,
           0,
           0,
           0
          ],
          [
           0,
           0,
           0,
           0,
           0,
           0,
           0,
           0,
           0,
           0,
           0,
           0,
           0,
           0,
           0,
           0
          ],
          [
           0,
           0,
           0,
           0,
           0,
           0,
           0,
           0,
           0,
           0,
           0,
           0,
           0,
           0,
           0,
           0
          ],
          [
           0,
           0,
           0,
           0,
           0,
           0,
           0,
           0,
           0,
           0,
           0,
           0,
           0,
           0,
           0,
           0
          ],
          [
           0,
           0,
           0,
           0,
           0,
           0,
           0,
           0,
           0,
           0,
           0,
           0,
           0,
           0,
           0,
           0
          ],
          [
           0,
           0,
           0,
           0,
           0,
           0,
           0,
           0,
           0,
           0,
           0,
           0,
           0,
           0,
           0,
           0
          ],
          [
           0,
           0,
           0,
           0,
           0,
           0,
           0,
           0,
           0,
           0,
           0,
           0,
           0,
           0,
           0,
           0
          ],
          [
           0,
           0,
           0,
           0,
           0,
           0,
           0,
           0,
           0,
           0,
           0,
           0,
           0,
           0,
           0,
           0
          ],
          [
           0,
           0,
           0,
           0,
           0,
           0,
           0,
           0,
           0,
           0,
           0,
           0,
           0,
           0,
           0,
           0
          ],
          [
           0,
           0,
           0,
           0,
           0,
           0,
           0,
           0,
           0,
           0,
           0,
           0,
           0,
           0,
           0,
           0
          ],
          [
           0,
           0,
           0,
           0,
           0,
           0,
           0,
           0,
           0,
           0,
           0,
           0,
           0,
           0,
           0,
           0
          ],
          [
           0,
           0,
           0,
           0,
           0,
           0,
           0,
           0,
           0,
           0,
           0,
           0,
           0,
           0,
           0,
           0
          ],
          [
           0,
           0,
           0,
           0,
           0,
           0,
           0,
           0,
           0,
           0,
           0,
           0,
           0,
           0,
           0,
           0
          ],
          [
           0,
           0,
           0,
           0,
           0,
           0,
           0,
           0,
           0,
           0,
           0,
           0,
           0,
           0,
           0,
           0
          ],
          [
           0,
           0,
           0,
           0,
           0,
           0,
           0,
           0,
           0,
           0,
           0,
           0,
           0,
           0,
           0,
           0
          ],
          [
           0,
           0,
           0,
           0,
           0,
           0,
           0,
           0,
           0,
           0,
           0,
           0,
           0,
           0,
           0,
           0
          ],
          [
           0,
           0,
           0,
           0,
           0,
           0,
           0,
           0,
           0,
           0,
           0,
           0,
           0,
           0,
           0,
           0
          ],
          [
           0,
           0,
           0,
           0,
           0,
           0,
           0,
           0,
           0,
           0,
           0,
           0,
           0,
           0,
           0,
           0
          ],
          [
           0,
           0,
           0,
           0,
           0,
           0,
           0,
           0,
           0,
           0,
           0,
           0,
           0,
           0,
           0,
           0
          ],
          [
           0,
           0,
           0,
           0,
           0,
           0,
           0,
           0,
           0,
           0,
           0,
           0,
           0,
           0,
           0,
           0
          ],
          [
           0,
           0,
           0,
           0,
           0,
           0,
           0,
           0,
           0,
           0,
           0,
           0,
           0,
           0,
           0,
           0
          ],
          [
           0,
           0,
           0,
           0,
           0,
           0,
           0,
           0,
           0,
           0,
           0,
           0,
           0,
           0,
           0,
           0
          ]
         ]
        },
        {
         "coloraxis": "coloraxis",
         "hovertemplate": "x: %{x}<br>y: %{y}<br>color: %{z}<extra></extra>",
         "name": "5",
         "type": "heatmap",
         "xaxis": "x6",
         "yaxis": "y6",
         "z": [
          [
           0,
           0,
           0,
           0,
           0,
           0,
           0,
           0,
           0,
           0,
           0,
           0,
           0,
           0,
           0,
           0
          ],
          [
           0,
           0,
           0,
           0,
           0,
           0,
           0,
           0,
           0,
           0,
           0,
           0,
           0,
           0,
           0,
           0
          ],
          [
           0,
           0,
           0,
           0,
           0,
           0,
           0,
           0,
           0,
           0,
           0,
           0,
           0,
           0,
           0,
           0
          ],
          [
           0,
           0,
           0,
           0,
           0,
           0,
           0,
           0,
           0,
           0,
           0,
           0,
           0,
           0,
           0,
           0
          ],
          [
           0,
           0,
           0,
           0,
           0,
           0,
           0,
           0,
           0,
           0,
           0,
           0,
           0,
           0,
           0,
           0
          ],
          [
           0,
           0,
           0,
           0,
           0,
           0,
           0,
           0,
           0,
           0,
           0,
           0,
           0,
           0,
           0,
           0
          ],
          [
           0,
           0,
           0,
           0,
           0,
           0,
           0,
           0,
           0,
           0,
           0,
           0,
           0,
           0,
           0,
           0
          ],
          [
           0,
           0,
           0,
           0,
           0,
           0,
           0,
           0,
           0,
           0,
           0,
           0,
           0,
           0,
           0,
           0
          ],
          [
           0,
           0,
           0,
           0,
           0,
           0,
           0,
           0,
           0,
           0,
           0,
           0,
           0,
           0,
           0,
           0
          ],
          [
           0,
           0,
           0,
           0,
           0,
           0,
           0,
           0,
           0,
           0,
           0,
           0,
           0,
           0,
           0,
           0
          ],
          [
           0,
           0,
           0,
           0,
           0,
           0,
           0,
           0,
           0,
           0,
           0,
           0,
           0,
           0,
           0,
           0
          ],
          [
           0,
           0,
           0,
           0,
           0,
           0,
           0,
           0,
           0,
           0,
           0,
           0,
           0,
           0,
           0,
           0
          ],
          [
           0,
           0,
           0,
           0,
           0,
           0,
           0,
           0,
           0,
           0,
           0,
           0,
           0,
           0,
           0,
           0
          ],
          [
           0,
           0,
           0,
           0,
           0,
           0,
           0,
           0,
           0,
           0,
           0,
           0,
           0,
           0,
           0,
           0
          ],
          [
           0,
           0,
           0,
           0,
           0,
           0,
           0,
           0,
           0,
           0,
           0,
           0,
           0,
           0,
           0,
           0
          ],
          [
           0,
           0,
           0,
           0,
           0,
           0,
           0,
           0,
           0,
           0,
           0,
           0,
           0,
           0,
           0,
           0
          ],
          [
           0,
           0,
           0,
           0,
           0,
           0,
           0,
           0,
           0,
           0,
           0,
           0,
           0,
           0,
           0,
           0
          ],
          [
           0,
           0,
           0,
           0,
           0,
           0,
           0,
           0,
           0,
           0,
           0,
           0,
           0,
           0,
           0,
           0
          ],
          [
           0,
           0,
           0,
           0,
           0,
           0,
           0,
           0,
           0,
           0,
           0,
           0,
           0,
           0,
           0,
           0
          ],
          [
           0,
           0,
           0,
           0,
           0,
           0,
           0,
           0,
           0,
           0,
           0,
           0,
           0,
           0,
           0,
           0
          ],
          [
           0,
           0,
           0,
           0,
           0,
           0,
           0,
           0,
           0,
           0,
           0,
           0,
           0,
           0,
           0,
           0
          ],
          [
           0,
           0,
           0,
           0,
           0,
           0,
           0,
           0,
           0,
           0,
           0,
           0,
           0,
           0,
           0,
           0
          ],
          [
           0,
           0,
           0,
           0,
           0,
           0,
           0,
           0,
           0,
           0,
           0,
           0,
           0,
           0,
           0,
           0
          ],
          [
           0,
           0,
           0,
           0,
           0,
           0,
           0,
           0,
           0,
           0,
           0,
           0,
           0,
           0,
           0,
           0
          ],
          [
           0,
           0,
           0,
           0,
           0,
           0,
           0,
           0,
           0,
           0,
           0,
           0,
           0,
           0,
           0,
           0
          ],
          [
           0,
           0,
           0,
           0,
           0,
           0,
           0,
           0,
           0,
           0,
           0,
           0,
           0,
           0,
           0,
           0
          ],
          [
           0,
           0,
           0,
           0,
           0,
           0,
           0,
           0,
           0,
           0,
           0,
           0,
           0,
           0,
           0,
           0
          ]
         ]
        }
       ],
       "layout": {
        "annotations": [
         {
          "font": {},
          "showarrow": false,
          "text": "Query (In)",
          "x": 0.075,
          "xanchor": "center",
          "xref": "paper",
          "y": 1,
          "yanchor": "bottom",
          "yref": "paper"
         },
         {
          "font": {},
          "showarrow": false,
          "text": "Key (In)",
          "x": 0.24499999999999997,
          "xanchor": "center",
          "xref": "paper",
          "y": 1,
          "yanchor": "bottom",
          "yref": "paper"
         },
         {
          "font": {},
          "showarrow": false,
          "text": "Value (In)",
          "x": 0.415,
          "xanchor": "center",
          "xref": "paper",
          "y": 1,
          "yanchor": "bottom",
          "yref": "paper"
         },
         {
          "font": {},
          "showarrow": false,
          "text": "Query (Out)",
          "x": 0.585,
          "xanchor": "center",
          "xref": "paper",
          "y": 1,
          "yanchor": "bottom",
          "yref": "paper"
         },
         {
          "font": {},
          "showarrow": false,
          "text": "Key (Out)",
          "x": 0.7549999999999999,
          "xanchor": "center",
          "xref": "paper",
          "y": 1,
          "yanchor": "bottom",
          "yref": "paper"
         },
         {
          "font": {},
          "showarrow": false,
          "text": "Value (Out)",
          "x": 0.925,
          "xanchor": "center",
          "xref": "paper",
          "y": 1,
          "yanchor": "bottom",
          "yref": "paper"
         }
        ],
        "coloraxis": {
         "cmid": 0,
         "colorscale": [
          [
           0,
           "rgb(103,0,31)"
          ],
          [
           0.1,
           "rgb(178,24,43)"
          ],
          [
           0.2,
           "rgb(214,96,77)"
          ],
          [
           0.3,
           "rgb(244,165,130)"
          ],
          [
           0.4,
           "rgb(253,219,199)"
          ],
          [
           0.5,
           "rgb(247,247,247)"
          ],
          [
           0.6,
           "rgb(209,229,240)"
          ],
          [
           0.7,
           "rgb(146,197,222)"
          ],
          [
           0.8,
           "rgb(67,147,195)"
          ],
          [
           0.9,
           "rgb(33,102,172)"
          ],
          [
           1,
           "rgb(5,48,97)"
          ]
         ]
        },
        "template": {
         "data": {
          "bar": [
           {
            "error_x": {
             "color": "#2a3f5f"
            },
            "error_y": {
             "color": "#2a3f5f"
            },
            "marker": {
             "line": {
              "color": "#E5ECF6",
              "width": 0.5
             },
             "pattern": {
              "fillmode": "overlay",
              "size": 10,
              "solidity": 0.2
             }
            },
            "type": "bar"
           }
          ],
          "barpolar": [
           {
            "marker": {
             "line": {
              "color": "#E5ECF6",
              "width": 0.5
             },
             "pattern": {
              "fillmode": "overlay",
              "size": 10,
              "solidity": 0.2
             }
            },
            "type": "barpolar"
           }
          ],
          "carpet": [
           {
            "aaxis": {
             "endlinecolor": "#2a3f5f",
             "gridcolor": "white",
             "linecolor": "white",
             "minorgridcolor": "white",
             "startlinecolor": "#2a3f5f"
            },
            "baxis": {
             "endlinecolor": "#2a3f5f",
             "gridcolor": "white",
             "linecolor": "white",
             "minorgridcolor": "white",
             "startlinecolor": "#2a3f5f"
            },
            "type": "carpet"
           }
          ],
          "choropleth": [
           {
            "colorbar": {
             "outlinewidth": 0,
             "ticks": ""
            },
            "type": "choropleth"
           }
          ],
          "contour": [
           {
            "colorbar": {
             "outlinewidth": 0,
             "ticks": ""
            },
            "colorscale": [
             [
              0,
              "#0d0887"
             ],
             [
              0.1111111111111111,
              "#46039f"
             ],
             [
              0.2222222222222222,
              "#7201a8"
             ],
             [
              0.3333333333333333,
              "#9c179e"
             ],
             [
              0.4444444444444444,
              "#bd3786"
             ],
             [
              0.5555555555555556,
              "#d8576b"
             ],
             [
              0.6666666666666666,
              "#ed7953"
             ],
             [
              0.7777777777777778,
              "#fb9f3a"
             ],
             [
              0.8888888888888888,
              "#fdca26"
             ],
             [
              1,
              "#f0f921"
             ]
            ],
            "type": "contour"
           }
          ],
          "contourcarpet": [
           {
            "colorbar": {
             "outlinewidth": 0,
             "ticks": ""
            },
            "type": "contourcarpet"
           }
          ],
          "heatmap": [
           {
            "colorbar": {
             "outlinewidth": 0,
             "ticks": ""
            },
            "colorscale": [
             [
              0,
              "#0d0887"
             ],
             [
              0.1111111111111111,
              "#46039f"
             ],
             [
              0.2222222222222222,
              "#7201a8"
             ],
             [
              0.3333333333333333,
              "#9c179e"
             ],
             [
              0.4444444444444444,
              "#bd3786"
             ],
             [
              0.5555555555555556,
              "#d8576b"
             ],
             [
              0.6666666666666666,
              "#ed7953"
             ],
             [
              0.7777777777777778,
              "#fb9f3a"
             ],
             [
              0.8888888888888888,
              "#fdca26"
             ],
             [
              1,
              "#f0f921"
             ]
            ],
            "type": "heatmap"
           }
          ],
          "heatmapgl": [
           {
            "colorbar": {
             "outlinewidth": 0,
             "ticks": ""
            },
            "colorscale": [
             [
              0,
              "#0d0887"
             ],
             [
              0.1111111111111111,
              "#46039f"
             ],
             [
              0.2222222222222222,
              "#7201a8"
             ],
             [
              0.3333333333333333,
              "#9c179e"
             ],
             [
              0.4444444444444444,
              "#bd3786"
             ],
             [
              0.5555555555555556,
              "#d8576b"
             ],
             [
              0.6666666666666666,
              "#ed7953"
             ],
             [
              0.7777777777777778,
              "#fb9f3a"
             ],
             [
              0.8888888888888888,
              "#fdca26"
             ],
             [
              1,
              "#f0f921"
             ]
            ],
            "type": "heatmapgl"
           }
          ],
          "histogram": [
           {
            "marker": {
             "pattern": {
              "fillmode": "overlay",
              "size": 10,
              "solidity": 0.2
             }
            },
            "type": "histogram"
           }
          ],
          "histogram2d": [
           {
            "colorbar": {
             "outlinewidth": 0,
             "ticks": ""
            },
            "colorscale": [
             [
              0,
              "#0d0887"
             ],
             [
              0.1111111111111111,
              "#46039f"
             ],
             [
              0.2222222222222222,
              "#7201a8"
             ],
             [
              0.3333333333333333,
              "#9c179e"
             ],
             [
              0.4444444444444444,
              "#bd3786"
             ],
             [
              0.5555555555555556,
              "#d8576b"
             ],
             [
              0.6666666666666666,
              "#ed7953"
             ],
             [
              0.7777777777777778,
              "#fb9f3a"
             ],
             [
              0.8888888888888888,
              "#fdca26"
             ],
             [
              1,
              "#f0f921"
             ]
            ],
            "type": "histogram2d"
           }
          ],
          "histogram2dcontour": [
           {
            "colorbar": {
             "outlinewidth": 0,
             "ticks": ""
            },
            "colorscale": [
             [
              0,
              "#0d0887"
             ],
             [
              0.1111111111111111,
              "#46039f"
             ],
             [
              0.2222222222222222,
              "#7201a8"
             ],
             [
              0.3333333333333333,
              "#9c179e"
             ],
             [
              0.4444444444444444,
              "#bd3786"
             ],
             [
              0.5555555555555556,
              "#d8576b"
             ],
             [
              0.6666666666666666,
              "#ed7953"
             ],
             [
              0.7777777777777778,
              "#fb9f3a"
             ],
             [
              0.8888888888888888,
              "#fdca26"
             ],
             [
              1,
              "#f0f921"
             ]
            ],
            "type": "histogram2dcontour"
           }
          ],
          "mesh3d": [
           {
            "colorbar": {
             "outlinewidth": 0,
             "ticks": ""
            },
            "type": "mesh3d"
           }
          ],
          "parcoords": [
           {
            "line": {
             "colorbar": {
              "outlinewidth": 0,
              "ticks": ""
             }
            },
            "type": "parcoords"
           }
          ],
          "pie": [
           {
            "automargin": true,
            "type": "pie"
           }
          ],
          "scatter": [
           {
            "fillpattern": {
             "fillmode": "overlay",
             "size": 10,
             "solidity": 0.2
            },
            "type": "scatter"
           }
          ],
          "scatter3d": [
           {
            "line": {
             "colorbar": {
              "outlinewidth": 0,
              "ticks": ""
             }
            },
            "marker": {
             "colorbar": {
              "outlinewidth": 0,
              "ticks": ""
             }
            },
            "type": "scatter3d"
           }
          ],
          "scattercarpet": [
           {
            "marker": {
             "colorbar": {
              "outlinewidth": 0,
              "ticks": ""
             }
            },
            "type": "scattercarpet"
           }
          ],
          "scattergeo": [
           {
            "marker": {
             "colorbar": {
              "outlinewidth": 0,
              "ticks": ""
             }
            },
            "type": "scattergeo"
           }
          ],
          "scattergl": [
           {
            "marker": {
             "colorbar": {
              "outlinewidth": 0,
              "ticks": ""
             }
            },
            "type": "scattergl"
           }
          ],
          "scattermapbox": [
           {
            "marker": {
             "colorbar": {
              "outlinewidth": 0,
              "ticks": ""
             }
            },
            "type": "scattermapbox"
           }
          ],
          "scatterpolar": [
           {
            "marker": {
             "colorbar": {
              "outlinewidth": 0,
              "ticks": ""
             }
            },
            "type": "scatterpolar"
           }
          ],
          "scatterpolargl": [
           {
            "marker": {
             "colorbar": {
              "outlinewidth": 0,
              "ticks": ""
             }
            },
            "type": "scatterpolargl"
           }
          ],
          "scatterternary": [
           {
            "marker": {
             "colorbar": {
              "outlinewidth": 0,
              "ticks": ""
             }
            },
            "type": "scatterternary"
           }
          ],
          "surface": [
           {
            "colorbar": {
             "outlinewidth": 0,
             "ticks": ""
            },
            "colorscale": [
             [
              0,
              "#0d0887"
             ],
             [
              0.1111111111111111,
              "#46039f"
             ],
             [
              0.2222222222222222,
              "#7201a8"
             ],
             [
              0.3333333333333333,
              "#9c179e"
             ],
             [
              0.4444444444444444,
              "#bd3786"
             ],
             [
              0.5555555555555556,
              "#d8576b"
             ],
             [
              0.6666666666666666,
              "#ed7953"
             ],
             [
              0.7777777777777778,
              "#fb9f3a"
             ],
             [
              0.8888888888888888,
              "#fdca26"
             ],
             [
              1,
              "#f0f921"
             ]
            ],
            "type": "surface"
           }
          ],
          "table": [
           {
            "cells": {
             "fill": {
              "color": "#EBF0F8"
             },
             "line": {
              "color": "white"
             }
            },
            "header": {
             "fill": {
              "color": "#C8D4E3"
             },
             "line": {
              "color": "white"
             }
            },
            "type": "table"
           }
          ]
         },
         "layout": {
          "annotationdefaults": {
           "arrowcolor": "#2a3f5f",
           "arrowhead": 0,
           "arrowwidth": 1
          },
          "autotypenumbers": "strict",
          "coloraxis": {
           "colorbar": {
            "outlinewidth": 0,
            "ticks": ""
           }
          },
          "colorscale": {
           "diverging": [
            [
             0,
             "#8e0152"
            ],
            [
             0.1,
             "#c51b7d"
            ],
            [
             0.2,
             "#de77ae"
            ],
            [
             0.3,
             "#f1b6da"
            ],
            [
             0.4,
             "#fde0ef"
            ],
            [
             0.5,
             "#f7f7f7"
            ],
            [
             0.6,
             "#e6f5d0"
            ],
            [
             0.7,
             "#b8e186"
            ],
            [
             0.8,
             "#7fbc41"
            ],
            [
             0.9,
             "#4d9221"
            ],
            [
             1,
             "#276419"
            ]
           ],
           "sequential": [
            [
             0,
             "#0d0887"
            ],
            [
             0.1111111111111111,
             "#46039f"
            ],
            [
             0.2222222222222222,
             "#7201a8"
            ],
            [
             0.3333333333333333,
             "#9c179e"
            ],
            [
             0.4444444444444444,
             "#bd3786"
            ],
            [
             0.5555555555555556,
             "#d8576b"
            ],
            [
             0.6666666666666666,
             "#ed7953"
            ],
            [
             0.7777777777777778,
             "#fb9f3a"
            ],
            [
             0.8888888888888888,
             "#fdca26"
            ],
            [
             1,
             "#f0f921"
            ]
           ],
           "sequentialminus": [
            [
             0,
             "#0d0887"
            ],
            [
             0.1111111111111111,
             "#46039f"
            ],
            [
             0.2222222222222222,
             "#7201a8"
            ],
            [
             0.3333333333333333,
             "#9c179e"
            ],
            [
             0.4444444444444444,
             "#bd3786"
            ],
            [
             0.5555555555555556,
             "#d8576b"
            ],
            [
             0.6666666666666666,
             "#ed7953"
            ],
            [
             0.7777777777777778,
             "#fb9f3a"
            ],
            [
             0.8888888888888888,
             "#fdca26"
            ],
            [
             1,
             "#f0f921"
            ]
           ]
          },
          "colorway": [
           "#636efa",
           "#EF553B",
           "#00cc96",
           "#ab63fa",
           "#FFA15A",
           "#19d3f3",
           "#FF6692",
           "#B6E880",
           "#FF97FF",
           "#FECB52"
          ],
          "font": {
           "color": "#2a3f5f"
          },
          "geo": {
           "bgcolor": "white",
           "lakecolor": "white",
           "landcolor": "#E5ECF6",
           "showlakes": true,
           "showland": true,
           "subunitcolor": "white"
          },
          "hoverlabel": {
           "align": "left"
          },
          "hovermode": "closest",
          "mapbox": {
           "style": "light"
          },
          "paper_bgcolor": "white",
          "plot_bgcolor": "#E5ECF6",
          "polar": {
           "angularaxis": {
            "gridcolor": "white",
            "linecolor": "white",
            "ticks": ""
           },
           "bgcolor": "#E5ECF6",
           "radialaxis": {
            "gridcolor": "white",
            "linecolor": "white",
            "ticks": ""
           }
          },
          "scene": {
           "xaxis": {
            "backgroundcolor": "#E5ECF6",
            "gridcolor": "white",
            "gridwidth": 2,
            "linecolor": "white",
            "showbackground": true,
            "ticks": "",
            "zerolinecolor": "white"
           },
           "yaxis": {
            "backgroundcolor": "#E5ECF6",
            "gridcolor": "white",
            "gridwidth": 2,
            "linecolor": "white",
            "showbackground": true,
            "ticks": "",
            "zerolinecolor": "white"
           },
           "zaxis": {
            "backgroundcolor": "#E5ECF6",
            "gridcolor": "white",
            "gridwidth": 2,
            "linecolor": "white",
            "showbackground": true,
            "ticks": "",
            "zerolinecolor": "white"
           }
          },
          "shapedefaults": {
           "line": {
            "color": "#2a3f5f"
           }
          },
          "ternary": {
           "aaxis": {
            "gridcolor": "white",
            "linecolor": "white",
            "ticks": ""
           },
           "baxis": {
            "gridcolor": "white",
            "linecolor": "white",
            "ticks": ""
           },
           "bgcolor": "#E5ECF6",
           "caxis": {
            "gridcolor": "white",
            "linecolor": "white",
            "ticks": ""
           }
          },
          "title": {
           "x": 0.05
          },
          "xaxis": {
           "automargin": true,
           "gridcolor": "white",
           "linecolor": "white",
           "ticks": "",
           "title": {
            "standoff": 15
           },
           "zerolinecolor": "white",
           "zerolinewidth": 2
          },
          "yaxis": {
           "automargin": true,
           "gridcolor": "white",
           "linecolor": "white",
           "ticks": "",
           "title": {
            "standoff": 15
           },
           "zerolinecolor": "white",
           "zerolinewidth": 2
          }
         }
        },
        "title": {
         "text": "Input and Output Paths for head L26H2"
        },
        "xaxis": {
         "anchor": "y",
         "domain": [
          0,
          0.15
         ],
         "title": {
          "text": "Head"
         }
        },
        "xaxis2": {
         "anchor": "y2",
         "domain": [
          0.16999999999999998,
          0.31999999999999995
         ],
         "matches": "x",
         "title": {
          "text": "Head"
         }
        },
        "xaxis3": {
         "anchor": "y3",
         "domain": [
          0.33999999999999997,
          0.49
         ],
         "matches": "x",
         "title": {
          "text": "Head"
         }
        },
        "xaxis4": {
         "anchor": "y4",
         "domain": [
          0.51,
          0.66
         ],
         "matches": "x",
         "title": {
          "text": "Head"
         }
        },
        "xaxis5": {
         "anchor": "y5",
         "domain": [
          0.6799999999999999,
          0.83
         ],
         "matches": "x",
         "title": {
          "text": "Head"
         }
        },
        "xaxis6": {
         "anchor": "y6",
         "domain": [
          0.85,
          1
         ],
         "matches": "x",
         "title": {
          "text": "Head"
         }
        },
        "yaxis": {
         "anchor": "x",
         "autorange": "reversed",
         "domain": [
          0,
          1
         ],
         "title": {
          "text": "Layer"
         }
        },
        "yaxis2": {
         "anchor": "x2",
         "domain": [
          0,
          1
         ],
         "matches": "y",
         "showticklabels": false
        },
        "yaxis3": {
         "anchor": "x3",
         "domain": [
          0,
          1
         ],
         "matches": "y",
         "showticklabels": false
        },
        "yaxis4": {
         "anchor": "x4",
         "domain": [
          0,
          1
         ],
         "matches": "y",
         "showticklabels": false
        },
        "yaxis5": {
         "anchor": "x5",
         "domain": [
          0,
          1
         ],
         "matches": "y",
         "showticklabels": false
        },
        "yaxis6": {
         "anchor": "x6",
         "domain": [
          0,
          1
         ],
         "matches": "y",
         "showticklabels": false
        }
       }
      }
     },
     "metadata": {},
     "output_type": "display_data"
    }
   ],
   "source": [
    "# interesting_heads = [\n",
    "#     (26, 9),\n",
    "#     (25, 14),\n",
    "#     (22, 9),\n",
    "#     (25, 8)\n",
    "# ]\n",
    "\n",
    "interesting_heads = [\n",
    "    (8, 9),\n",
    "    # (10, 9),\n",
    "    # (19, 3),\n",
    "    # (25, 6)\n",
    "    (26, 2)\n",
    "]\n",
    "\n",
    "plot_interesting_heads(head_path_attrs_first_half, interesting_heads)\n"
   ]
  },
  {
   "cell_type": "code",
   "execution_count": 14,
   "metadata": {},
   "outputs": [],
   "source": [
    "head = 9\n",
    "layer = 8\n",
    "# get_contributions(all_attn_AP_scores, layer, head, max_prompts_to_show=15)"
   ]
  },
  {
   "cell_type": "code",
   "execution_count": 15,
   "metadata": {},
   "outputs": [
    {
     "data": {
      "text/plain": [
       "torch.Size([216, 333])"
      ]
     },
     "execution_count": 15,
     "metadata": {},
     "output_type": "execute_result"
    }
   ],
   "source": [
    "all_attn_AP_scores[3][\"k\"].shape"
   ]
  },
  {
   "cell_type": "code",
   "execution_count": 54,
   "metadata": {},
   "outputs": [
    {
     "data": {
      "application/vnd.plotly.v1+json": {
       "config": {
        "plotlyServerURL": "https://plot.ly"
       },
       "data": [
        {
         "hovertemplate": "Color=0<br>x=%{x}<br>y=%{y}<extra></extra>",
         "legendgroup": "0",
         "line": {
          "color": "#636efa",
          "dash": "solid"
         },
         "marker": {
          "symbol": "circle"
         },
         "mode": "lines",
         "name": "0",
         "showlegend": true,
         "type": "scattergl",
         "x": [
          "<bos>/0",
          "<start_of_turn>/1",
          "user/2",
          "↩\n/3",
          "Hi/4",
          ",/5",
          "·I/6",
          "·have/7",
          "·a/8",
          "·question/9",
          "·for/10",
          "·you/11",
          "./12",
          "·Can/13",
          "·you/14",
          "·recommend/15",
          "·a/16",
          "·good/17",
          "·restaurant/18",
          "·for/19",
          "·a/20",
          "·date/21",
          "·night/22",
          "?/23",
          "<end_of_turn>/24",
          "↩\n/25",
          "<start_of_turn>/26",
          "model/27",
          "↩\n/28",
          "Of/29",
          "·course/30",
          "!/31",
          "·I/32",
          "·can/33",
          "·help/34",
          "·with/35",
          "·that/36",
          "./37",
          "·Are/38",
          "·you/39",
          "·looking/40",
          "·for/41",
          "·a/42",
          "·specific/43",
          "·type/44",
          "·of/45",
          "·cuisine/46",
          "·or/47",
          "·any/48",
          "·particular/49",
          "·location/50",
          "?/51",
          "<end_of_turn>/52",
          "↩\n/53",
          "<start_of_turn>/54",
          "user/55",
          "↩\n/56",
          "Hmm/57",
          ",/58",
          "·I/59",
          "'/60",
          "d/61",
          "·like/62",
          "·to/63",
          "·go/64",
          "·to/65",
          "·a/66",
          "·place/67",
          "·that/68",
          "·serves/69",
          "·Italian/70",
          "·cuisine/71",
          "./72",
          "·And/73",
          "·preferably/74",
          "·in/75",
          "·a/76",
          "·romantic/77",
          "·setting/78",
          "./79",
          "<end_of_turn>/80",
          "↩\n/81",
          "<start_of_turn>/82",
          "model/83",
          "↩\n/84",
          "Sure/85",
          "·thing/86",
          "!/87",
          "·I/88",
          "·have/89",
          "·just/90",
          "·the/91",
          "·place/92",
          "·for/93",
          "·you/94",
          "./95",
          "·A/96",
          "·highly/97",
          "·recommended/98",
          "·Italian/99",
          "·restaurant/100",
          "·for/101",
          "·a/102",
          "·romantic/103",
          "·date/104",
          "·night/105",
          "·is/106",
          "·\"/107",
          "La/108",
          "·Tratt/109",
          "oria/110",
          "\"./111",
          "·It/112",
          "'/113",
          "s/114",
          "·located/115",
          "·in/116",
          "·the/117",
          "·heart/118",
          "·of/119",
          "·the/120",
          "·city/121",
          "·and/122",
          "·has/123",
          "·a/124",
          "·cozy/125",
          "·ambiance/126",
          "·with/127",
          "·dim/128",
          "·lights/129",
          "·and/130",
          "·candle/131",
          "lit/132",
          "·tables/133",
          "./134",
          "·The/135",
          "·menu/136",
          "·offers/137",
          "·a/138",
          "·wide/139",
          "·variety/140",
          "·of/141",
          "·delicious/142",
          "·Italian/143",
          "·dishes/144",
          "./145",
          "·It/146",
          "'/147",
          "s/148",
          "·perfect/149",
          "·for/150",
          "·creating/151",
          "·a/152",
          "·special/153",
          "·atmosphere/154",
          "·for/155",
          "·your/156",
          "·date/157",
          "./158",
          "<end_of_turn>/159",
          "↩\n/160",
          "<start_of_turn>/161",
          "user/162",
          "↩\n/163",
          "That/164",
          "·sounds/165",
          "·fantastic/166",
          "!/167",
          "·Is/168",
          "·it/169",
          "·usually/170",
          "·busy/171",
          "·on/172",
          "·Saturday/173",
          "·evenings/174",
          "?/175",
          "<end_of_turn>/176",
          "↩\n/177",
          "<start_of_turn>/178",
          "model/179",
          "↩\n/180",
          "Satur/181",
          "days/182",
          "·can/183",
          "·get/184",
          "·quite/185",
          "·busy/186",
          ",/187",
          "·especially/188",
          "·for/189",
          "·romantic/190",
          "·dinner/191",
          "·dates/192",
          "./193",
          "·I/194",
          "·would/195",
          "·recommend/196",
          "·making/197",
          "·a/198",
          "·reservation/199",
          "·in/200",
          "·advance/201",
          "·to/202",
          "·secure/203",
          "·a/204",
          "·table/205",
          "./206",
          "·Would/207",
          "·you/208",
          "·like/209",
          "·me/210",
          "·to/211",
          "·provide/212",
          "·their/213",
          "·contact/214",
          "·information/215",
          "·so/216",
          "·you/217",
          "·can/218",
          "·make/219",
          "·a/220",
          "·reservation/221",
          "?/222",
          "<end_of_turn>/223",
          "↩\n/224",
          "<start_of_turn>/225",
          "user/226",
          "↩\n/227",
          "Yes/228",
          ",/229",
          "·please/230",
          "!/231",
          "·That/232",
          "·would/233",
          "·be/234",
          "·great/235",
          "./236",
          "<end_of_turn>/237",
          "↩\n/238",
          "<start_of_turn>/239",
          "model/240",
          "↩\n/241",
          "Certainly/242",
          "!/243",
          "·Here/244",
          "·is/245",
          "·the/246",
          "·contact/247",
          "·information/248",
          "·for/249",
          "·\"/250",
          "La/251",
          "·Tratt/252",
          "oria/253",
          "\":/254",
          "↩\n/255",
          "-/256",
          "·Phone/257",
          ":/258",
          "·+/259",
          "1/260",
          "·(/261",
          "1/262",
          "2/263",
          "3/264",
          ")/265",
          "·/266",
          "4/267",
          "5/268",
          "6/269",
          "-/270",
          "7/271",
          "8/272",
          "9/273",
          "0/274",
          "↩\n/275",
          "-/276",
          "·Email/277",
          ":/278",
          "·info/279",
          "@/280",
          "lat/281",
          "ratt/282",
          "oria/283",
          "./284",
          "com/285",
          "↩\n/286",
          "-/287",
          "·Website/288",
          ":/289",
          "·www/290",
          "./291",
          "lat/292",
          "ratt/293",
          "oria/294",
          "./295",
          "com/296",
          "<end_of_turn>/297",
          "↩\n/298",
          "<start_of_turn>/299",
          "user/300",
          "↩\n/301",
          "Thank/302",
          "·you/303",
          "·so/304",
          "·much/305",
          "!/306",
          "·I/307",
          "'/308",
          "ll/309",
          "·make/310",
          "·sure/311",
          "·to/312",
          "·contact/313",
          "·them/314",
          "·and/315",
          "·reserve/316",
          "·a/317",
          "·table/318",
          "./319",
          "<end_of_turn>/320",
          "↩\n/321",
          "<start_of_turn>/322",
          "model/323"
         ],
         "xaxis": "x",
         "y": [
          0,
          0.00009489059448242188,
          -0.00060272216796875,
          -0.00030517578125,
          0.0012054443359375,
          0.005096435546875,
          -0.0068359375,
          -0.01190185546875,
          -0.0003681182861328125,
          -0.00121307373046875,
          0.00579833984375,
          0.00146484375,
          0.00787353515625,
          -0.0012664794921875,
          -0.00127410888671875,
          0.01348876953125,
          0.0034332275390625,
          0.0037994384765625,
          0.035888671875,
          -0.00177764892578125,
          -0.03564453125,
          -0.11865234375,
          -0.01226806640625,
          0.0054931640625,
          0.12255859375,
          0.005096435546875,
          -0.01263427734375,
          -0.15625,
          -0.01019287109375,
          0.00089263916015625,
          0.004669189453125,
          0.0004062652587890625,
          0.02490234375,
          0.00182342529296875,
          0.00008678436279296875,
          0.002197265625,
          -0.000018477439880371094,
          0.00994873046875,
          0.0014190673828125,
          0.004547119140625,
          -0.004241943359375,
          -0.00055694580078125,
          -0.00579833984375,
          -0.0023956298828125,
          0.001434326171875,
          0.000736236572265625,
          0.00140380859375,
          -0.00384521484375,
          -0.00543212890625,
          -0.005126953125,
          0.008544921875,
          0.0250244140625,
          -0.2392578125,
          -0.0157470703125,
          -0.0162353515625,
          0.004150390625,
          0.015869140625,
          -0.0006103515625,
          -0.0068359375,
          0.0390625,
          0.0145263671875,
          -0.00098419189453125,
          -0.002227783203125,
          -0.0037384033203125,
          0.00714111328125,
          0.006072998046875,
          -0.00070953369140625,
          -0.00040435791015625,
          -0.0025787353515625,
          0.00579833984375,
          0.005645751953125,
          0.011474609375,
          0.00384521484375,
          -0.01483154296875,
          0.006256103515625,
          0.000537872314453125,
          0.0008544921875,
          -0.07666015625,
          0.0023040771484375,
          -0.0001010894775390625,
          -0.0281982421875,
          -0.00836181640625,
          -0.020751953125,
          -0.080078125,
          -0.041259765625,
          -0.005828857421875,
          0.00531005859375,
          -0.0250244140625,
          0.022705078125,
          0.01263427734375,
          -0.0000209808349609375,
          -0.0033721923828125,
          -0.0036468505859375,
          -0.005615234375,
          -0.002593994140625,
          0.0026702880859375,
          0.010986328125,
          0.0025634765625,
          -0.002197265625,
          -0.01202392578125,
          0.00115966796875,
          0.0191650390625,
          0.0081787109375,
          -0.03466796875,
          0.12353515625,
          0.04345703125,
          0.01470947265625,
          -0.0037078857421875,
          -0.004974365234375,
          -0.0194091796875,
          -0.0264892578125,
          -0.0047607421875,
          0.01336669921875,
          0.00775146484375,
          0.01171875,
          -0.004669189453125,
          -0.00201416015625,
          0.0029754638671875,
          -0.00506591796875,
          0.00107574462890625,
          -0.0164794921875,
          0.009033203125,
          0.00139617919921875,
          0.000039577484130859375,
          -0.00106048583984375,
          -0.0013427734375,
          -0.00201416015625,
          -0.002410888671875,
          -0.004608154296875,
          0.0018310546875,
          -0.002166748046875,
          0.00104522705078125,
          0.0030975341796875,
          0.0027618408203125,
          -0.01531982421875,
          0.00927734375,
          0.00543212890625,
          0.002471923828125,
          0.001068115234375,
          0.00018024444580078125,
          0.0009765625,
          0.00026702880859375,
          -0.0030364990234375,
          0.003662109375,
          0.0062255859375,
          0.0137939453125,
          -0.005157470703125,
          -0.01531982421875,
          0.003631591796875,
          -0.002227783203125,
          0.006439208984375,
          -0.005523681640625,
          0.002197265625,
          0.00469970703125,
          0.006927490234375,
          -0.034912109375,
          0.031494140625,
          0.0849609375,
          0.0013580322265625,
          0.01226806640625,
          0.01129150390625,
          -0.0031280517578125,
          -0.0673828125,
          -0.0113525390625,
          0.0037841796875,
          0.0037994384765625,
          -0.0069580078125,
          -0.0311279296875,
          0.01458740234375,
          0.00592041015625,
          0.019775390625,
          -0.00885009765625,
          0.001373291015625,
          -0.0225830078125,
          -0.006378173828125,
          -0.0034332275390625,
          -0.050537109375,
          -0.0028839111328125,
          -0.00146484375,
          -0.10986328125,
          -0.03662109375,
          0.0091552734375,
          0.01123046875,
          0.005096435546875,
          0.0024566650390625,
          0.0019683837890625,
          0.012451171875,
          -0.00347900390625,
          -0.002166748046875,
          0.004852294921875,
          -0.0634765625,
          0.004119873046875,
          0.036376953125,
          0.00180816650390625,
          -0.0224609375,
          -0.000530242919921875,
          -0.0101318359375,
          -0.00162506103515625,
          -0.003936767578125,
          0.0002384185791015625,
          0.00014209747314453125,
          -0.00021648406982421875,
          -0.0012054443359375,
          0.00408935546875,
          0.0001583099365234375,
          -0.00799560546875,
          0.000270843505859375,
          0.0079345703125,
          0.0007781982421875,
          -0.005096435546875,
          -0.028076171875,
          -0.021484375,
          0.002410888671875,
          -0.01544189453125,
          -0.01348876953125,
          -0.017822265625,
          0.009521484375,
          0.046142578125,
          -0.00148773193359375,
          0.01507568359375,
          -0.0003910064697265625,
          0.041748046875,
          -0.004608154296875,
          -0.044189453125,
          -0.00714111328125,
          0.006317138671875,
          -0.048583984375,
          0.01141357421875,
          -0.00162506103515625,
          -0.002044677734375,
          -0.0115966796875,
          -0.00933837890625,
          -0.033203125,
          -0.06640625,
          -0.0150146484375,
          -0.01153564453125,
          0.0003337860107421875,
          -0.033203125,
          -0.023193359375,
          0.016845703125,
          0.00390625,
          -0.0184326171875,
          0.01458740234375,
          0.000732421875,
          -0.0034942626953125,
          -0.0001354217529296875,
          -0.0038909912109375,
          0.025634765625,
          0.03369140625,
          0.0223388671875,
          -0.06884765625,
          0.0068359375,
          0.0277099609375,
          -0.026123046875,
          -0.083984375,
          -0.053955078125,
          -0.0263671875,
          -0.006591796875,
          0.00421142578125,
          0.000274658203125,
          -0.0057373046875,
          0.00909423828125,
          0.00830078125,
          0.0034332275390625,
          0.00567626953125,
          0.004852294921875,
          -0.00286865234375,
          0.0026397705078125,
          0.0012359619140625,
          0.0034637451171875,
          0.00115203857421875,
          0.0023956298828125,
          0.00098419189453125,
          0.0014190673828125,
          -0.0020904541015625,
          0.00250244140625,
          -0.01434326171875,
          0.00341796875,
          0.0031890869140625,
          0.0017242431640625,
          -0.00445556640625,
          -0.0615234375,
          -0.01708984375,
          -0.06884765625,
          -0.0189208984375,
          -0.00162506103515625,
          -0.01007080078125,
          -0.00139617919921875,
          0.01263427734375,
          0.00131988525390625,
          0.0078125,
          0.008544921875,
          0.0235595703125,
          -0.0296630859375,
          0.00347900390625,
          0.01177978515625,
          -0.01123046875,
          0.00457763671875,
          -0.0277099609375,
          -0.1572265625,
          0.359375,
          0.1171875,
          0.1083984375,
          -0.0208740234375,
          -0.001007080078125,
          -0.054443359375,
          -0.06591796875,
          -0.025146484375,
          -0.02978515625,
          0.000347137451171875,
          0.00244140625,
          -0.01611328125,
          0.0016021728515625,
          0.032470703125,
          0.04443359375,
          0.01080322265625,
          0.09326171875,
          0.01446533203125,
          -0.00153350830078125,
          0.0242919921875,
          0.111328125,
          -0.037353515625,
          0.0311279296875,
          -0.279296875
         ],
         "yaxis": "y"
        },
        {
         "hovertemplate": "Color=1<br>x=%{x}<br>y=%{y}<extra></extra>",
         "legendgroup": "1",
         "line": {
          "color": "#EF553B",
          "dash": "solid"
         },
         "marker": {
          "symbol": "circle"
         },
         "mode": "lines",
         "name": "1",
         "showlegend": true,
         "type": "scattergl",
         "x": [
          "<bos>/0",
          "<start_of_turn>/1",
          "user/2",
          "↩\n/3",
          "Hi/4",
          ",/5",
          "·I/6",
          "·have/7",
          "·a/8",
          "·question/9",
          "·for/10",
          "·you/11",
          "./12",
          "·Can/13",
          "·you/14",
          "·recommend/15",
          "·a/16",
          "·good/17",
          "·restaurant/18",
          "·for/19",
          "·a/20",
          "·date/21",
          "·night/22",
          "?/23",
          "<end_of_turn>/24",
          "↩\n/25",
          "<start_of_turn>/26",
          "model/27",
          "↩\n/28",
          "Of/29",
          "·course/30",
          "!/31",
          "·I/32",
          "·can/33",
          "·help/34",
          "·with/35",
          "·that/36",
          "./37",
          "·Are/38",
          "·you/39",
          "·looking/40",
          "·for/41",
          "·a/42",
          "·specific/43",
          "·type/44",
          "·of/45",
          "·cuisine/46",
          "·or/47",
          "·any/48",
          "·particular/49",
          "·location/50",
          "?/51",
          "<end_of_turn>/52",
          "↩\n/53",
          "<start_of_turn>/54",
          "user/55",
          "↩\n/56",
          "Hmm/57",
          ",/58",
          "·I/59",
          "'/60",
          "d/61",
          "·like/62",
          "·to/63",
          "·go/64",
          "·to/65",
          "·a/66",
          "·place/67",
          "·that/68",
          "·serves/69",
          "·Italian/70",
          "·cuisine/71",
          "./72",
          "·And/73",
          "·preferably/74",
          "·in/75",
          "·a/76",
          "·romantic/77",
          "·setting/78",
          "./79",
          "<end_of_turn>/80",
          "↩\n/81",
          "<start_of_turn>/82",
          "model/83",
          "↩\n/84",
          "Sure/85",
          "·thing/86",
          "!/87",
          "·I/88",
          "·have/89",
          "·just/90",
          "·the/91",
          "·place/92",
          "·for/93",
          "·you/94",
          "./95",
          "·A/96",
          "·highly/97",
          "·recommended/98",
          "·Italian/99",
          "·restaurant/100",
          "·for/101",
          "·a/102",
          "·romantic/103",
          "·date/104",
          "·night/105",
          "·is/106",
          "·\"/107",
          "La/108",
          "·Tratt/109",
          "oria/110",
          "\"./111",
          "·It/112",
          "'/113",
          "s/114",
          "·located/115",
          "·in/116",
          "·the/117",
          "·heart/118",
          "·of/119",
          "·the/120",
          "·city/121",
          "·and/122",
          "·has/123",
          "·a/124",
          "·cozy/125",
          "·ambiance/126",
          "·with/127",
          "·dim/128",
          "·lights/129",
          "·and/130",
          "·candle/131",
          "lit/132",
          "·tables/133",
          "./134",
          "·The/135",
          "·menu/136",
          "·offers/137",
          "·a/138",
          "·wide/139",
          "·variety/140",
          "·of/141",
          "·delicious/142",
          "·Italian/143",
          "·dishes/144",
          "./145",
          "·It/146",
          "'/147",
          "s/148",
          "·perfect/149",
          "·for/150",
          "·creating/151",
          "·a/152",
          "·special/153",
          "·atmosphere/154",
          "·for/155",
          "·your/156",
          "·date/157",
          "./158",
          "<end_of_turn>/159",
          "↩\n/160",
          "<start_of_turn>/161",
          "user/162",
          "↩\n/163",
          "That/164",
          "·sounds/165",
          "·fantastic/166",
          "!/167",
          "·Is/168",
          "·it/169",
          "·usually/170",
          "·busy/171",
          "·on/172",
          "·Saturday/173",
          "·evenings/174",
          "?/175",
          "<end_of_turn>/176",
          "↩\n/177",
          "<start_of_turn>/178",
          "model/179",
          "↩\n/180",
          "Satur/181",
          "days/182",
          "·can/183",
          "·get/184",
          "·quite/185",
          "·busy/186",
          ",/187",
          "·especially/188",
          "·for/189",
          "·romantic/190",
          "·dinner/191",
          "·dates/192",
          "./193",
          "·I/194",
          "·would/195",
          "·recommend/196",
          "·making/197",
          "·a/198",
          "·reservation/199",
          "·in/200",
          "·advance/201",
          "·to/202",
          "·secure/203",
          "·a/204",
          "·table/205",
          "./206",
          "·Would/207",
          "·you/208",
          "·like/209",
          "·me/210",
          "·to/211",
          "·provide/212",
          "·their/213",
          "·contact/214",
          "·information/215",
          "·so/216",
          "·you/217",
          "·can/218",
          "·make/219",
          "·a/220",
          "·reservation/221",
          "?/222",
          "<end_of_turn>/223",
          "↩\n/224",
          "<start_of_turn>/225",
          "user/226",
          "↩\n/227",
          "Yes/228",
          ",/229",
          "·please/230",
          "!/231",
          "·That/232",
          "·would/233",
          "·be/234",
          "·great/235",
          "./236",
          "<end_of_turn>/237",
          "↩\n/238",
          "<start_of_turn>/239",
          "model/240",
          "↩\n/241",
          "Certainly/242",
          "!/243",
          "·Here/244",
          "·is/245",
          "·the/246",
          "·contact/247",
          "·information/248",
          "·for/249",
          "·\"/250",
          "La/251",
          "·Tratt/252",
          "oria/253",
          "\":/254",
          "↩\n/255",
          "-/256",
          "·Phone/257",
          ":/258",
          "·+/259",
          "1/260",
          "·(/261",
          "1/262",
          "2/263",
          "3/264",
          ")/265",
          "·/266",
          "4/267",
          "5/268",
          "6/269",
          "-/270",
          "7/271",
          "8/272",
          "9/273",
          "0/274",
          "↩\n/275",
          "-/276",
          "·Email/277",
          ":/278",
          "·info/279",
          "@/280",
          "lat/281",
          "ratt/282",
          "oria/283",
          "./284",
          "com/285",
          "↩\n/286",
          "-/287",
          "·Website/288",
          ":/289",
          "·www/290",
          "./291",
          "lat/292",
          "ratt/293",
          "oria/294",
          "./295",
          "com/296",
          "<end_of_turn>/297",
          "↩\n/298",
          "<start_of_turn>/299",
          "user/300",
          "↩\n/301",
          "Thank/302",
          "·you/303",
          "·so/304",
          "·much/305",
          "!/306",
          "·I/307",
          "'/308",
          "ll/309",
          "·make/310",
          "·sure/311",
          "·to/312",
          "·contact/313",
          "·them/314",
          "·and/315",
          "·reserve/316",
          "·a/317",
          "·table/318",
          "./319",
          "<end_of_turn>/320",
          "↩\n/321",
          "<start_of_turn>/322",
          "model/323"
         ],
         "xaxis": "x",
         "y": [
          0,
          -0.00003528594970703125,
          0.000148773193359375,
          0.001190185546875,
          -0.00238037109375,
          0.0098876953125,
          -0.0118408203125,
          -0.022705078125,
          -0.005126953125,
          0.0203857421875,
          -0.0166015625,
          -0.0341796875,
          0.00170135498046875,
          0.0042724609375,
          0.0289306640625,
          -0.0281982421875,
          -0.010009765625,
          -0.0185546875,
          0.0189208984375,
          -0.008056640625,
          -0.08544921875,
          -0.06201171875,
          -0.10107421875,
          0.016357421875,
          -0.015869140625,
          0.0291748046875,
          0.0027618408203125,
          -0.0245361328125,
          -0.0033416748046875,
          0.006134033203125,
          -0.01116943359375,
          0.01190185546875,
          -0.032958984375,
          0.00341796875,
          0.00775146484375,
          -0.005401611328125,
          0.011962890625,
          -0.00885009765625,
          0.00653076171875,
          0.0186767578125,
          0.0037841796875,
          -0.01104736328125,
          -0.0091552734375,
          0.0028533935546875,
          0.006256103515625,
          0.006927490234375,
          -0.01019287109375,
          0.00136566162109375,
          -0.0186767578125,
          0.01544189453125,
          0.01239013671875,
          -0.046875,
          -0.0294189453125,
          0.01129150390625,
          -0.00762939453125,
          -0.12255859375,
          -0.0130615234375,
          -0.00830078125,
          0.030517578125,
          -0.1337890625,
          -0.02783203125,
          -0.008056640625,
          0.0113525390625,
          -0.0033111572265625,
          -0.0167236328125,
          -0.002532958984375,
          -0.00469970703125,
          0.005615234375,
          0.010009765625,
          -0.00494384765625,
          0.04150390625,
          -0.0225830078125,
          -0.018798828125,
          -0.01007080078125,
          -0.0235595703125,
          0.00994873046875,
          0.00179290771484375,
          0.047607421875,
          -0.000759124755859375,
          -0.00579833984375,
          0.10009765625,
          -0.0028533935546875,
          -0.00121307373046875,
          -0.125,
          -0.0186767578125,
          -0.015625,
          0.00555419921875,
          0.0294189453125,
          -0.011962890625,
          -0.00823974609375,
          0.0272216796875,
          -0.0140380859375,
          0.02734375,
          0.0194091796875,
          -0.0498046875,
          0.004638671875,
          0.0035400390625,
          -0.00042724609375,
          -0.01556396484375,
          -0.01953125,
          0.00518798828125,
          -0.006378173828125,
          -0.0078125,
          -0.00019073486328125,
          0.0296630859375,
          0.005889892578125,
          0.0166015625,
          0.006988525390625,
          0.003936767578125,
          0.0038299560546875,
          -0.05322265625,
          -0.046630859375,
          -0.0022430419921875,
          -0.00127410888671875,
          0.00469970703125,
          -0.00634765625,
          0.0029449462890625,
          -0.003936767578125,
          -0.00799560546875,
          0.00390625,
          -0.0291748046875,
          -0.0196533203125,
          0.000213623046875,
          0.006011962890625,
          -0.00087738037109375,
          0.0004215240478515625,
          0.014404296875,
          0.000614166259765625,
          -0.006317138671875,
          -0.0021514892578125,
          -0.000514984130859375,
          0.00145721435546875,
          -0.000400543212890625,
          0.00384521484375,
          -0.024658203125,
          0.00009489059448242188,
          0.00092315673828125,
          0.003936767578125,
          0.0012664794921875,
          -0.002532958984375,
          0.025634765625,
          -0.00012159347534179688,
          -0.00665283203125,
          -0.00274658203125,
          -0.005950927734375,
          -0.005035400390625,
          -0.003662109375,
          -0.0194091796875,
          0.0050048828125,
          0.002044677734375,
          0.01611328125,
          -0.006988525390625,
          0.005462646484375,
          0.010498046875,
          0.0179443359375,
          -0.0159912109375,
          -0.10107421875,
          0.125,
          -0.0177001953125,
          0.041259765625,
          0.000728607177734375,
          0.0186767578125,
          -0.251953125,
          -0.0223388671875,
          -0.002197265625,
          0.019287109375,
          -0.0084228515625,
          0.01019287109375,
          0.00025177001953125,
          -0.004119873046875,
          -0.0196533203125,
          -0.07080078125,
          -0.0257568359375,
          -0.006439208984375,
          0.0186767578125,
          0.0322265625,
          -0.004852294921875,
          0.00732421875,
          0.003997802734375,
          -0.006988525390625,
          0.0001926422119140625,
          -0.006805419921875,
          -0.01422119140625,
          -0.0120849609375,
          -0.00537109375,
          -0.0023193359375,
          -0.006256103515625,
          -0.00848388671875,
          -0.00173187255859375,
          0.00750732421875,
          0.0234375,
          0.007354736328125,
          -0.0250244140625,
          0.00714111328125,
          -0.016845703125,
          -0.0113525390625,
          -0.00958251953125,
          -0.0062255859375,
          -0.006805419921875,
          0.0286865234375,
          0.01336669921875,
          0.005706787109375,
          -0.0086669921875,
          0.00897216796875,
          0.005218505859375,
          0.0284423828125,
          0.0233154296875,
          0.01904296875,
          -0.00787353515625,
          -0.05712890625,
          0.0157470703125,
          0.00531005859375,
          -0.06689453125,
          -0.10498046875,
          -0.004974365234375,
          -0.0279541015625,
          -0.02587890625,
          -0.0927734375,
          -0.00225830078125,
          0.01220703125,
          -0.000732421875,
          0.0311279296875,
          -0.0113525390625,
          -0.03369140625,
          0.0014495849609375,
          0.0244140625,
          -0.166015625,
          -0.0439453125,
          0.01141357421875,
          0.0172119140625,
          -0.01336669921875,
          -0.01165771484375,
          -0.005126953125,
          -0.09912109375,
          0.2333984375,
          0.022705078125,
          0.049560546875,
          -0.0216064453125,
          0.0244140625,
          -0.0244140625,
          -0.0184326171875,
          0.0361328125,
          0.0302734375,
          0.0267333984375,
          0.0091552734375,
          -0.010009765625,
          -0.01068115234375,
          0.00127410888671875,
          -0.00057220458984375,
          0.003570556640625,
          -0.015869140625,
          0.018310546875,
          0.01214599609375,
          0.00933837890625,
          0.00176239013671875,
          -0.00006866455078125,
          -0.00885009765625,
          0.02001953125,
          0.002532958984375,
          0.03515625,
          0.0206298828125,
          0.022216796875,
          0.008544921875,
          0.000438690185546875,
          0.06103515625,
          -0.00665283203125,
          0.00286865234375,
          -0.0022430419921875,
          -0.0008087158203125,
          -0.0022430419921875,
          -0.0001983642578125,
          -0.000019669532775878906,
          0.00144195556640625,
          0.00191497802734375,
          -0.00157928466796875,
          -0.00057220458984375,
          0.000885009765625,
          0.01123046875,
          -0.0029144287109375,
          0.002685546875,
          0.01708984375,
          -0.00506591796875,
          -0.00848388671875,
          0.0003604888916015625,
          0.00604248046875,
          0.034423828125,
          0.028564453125,
          0.004852294921875,
          0.00469970703125,
          -0.002960205078125,
          -0.0016937255859375,
          -0.0096435546875,
          0.047119140625,
          0.01544189453125,
          0.034423828125,
          0.005859375,
          0.01416015625,
          -0.07373046875,
          -0.00518798828125,
          0.158203125,
          -0.2041015625,
          -0.06884765625,
          -0.419921875,
          -0.046630859375,
          -0.0224609375,
          -0.08740234375,
          -0.019287109375,
          -0.036376953125,
          0.0028533935546875,
          0.009765625,
          -0.02978515625,
          0.0169677734375,
          0.011962890625,
          -0.00131988525390625,
          -0.010498046875,
          0.005157470703125,
          0.01263427734375,
          0.01251220703125,
          0.01336669921875,
          -0.00946044921875,
          0.1767578125,
          -0.007171630859375,
          -0.08837890625,
          -0.045166015625
         ],
         "yaxis": "y"
        },
        {
         "hovertemplate": "Color=2<br>x=%{x}<br>y=%{y}<extra></extra>",
         "legendgroup": "2",
         "line": {
          "color": "#00cc96",
          "dash": "solid"
         },
         "marker": {
          "symbol": "circle"
         },
         "mode": "lines",
         "name": "2",
         "showlegend": true,
         "type": "scattergl",
         "x": [
          "<bos>/0",
          "<start_of_turn>/1",
          "user/2",
          "↩\n/3",
          "Hi/4",
          ",/5",
          "·I/6",
          "·have/7",
          "·a/8",
          "·question/9",
          "·for/10",
          "·you/11",
          "./12",
          "·Can/13",
          "·you/14",
          "·recommend/15",
          "·a/16",
          "·good/17",
          "·restaurant/18",
          "·for/19",
          "·a/20",
          "·date/21",
          "·night/22",
          "?/23",
          "<end_of_turn>/24",
          "↩\n/25",
          "<start_of_turn>/26",
          "model/27",
          "↩\n/28",
          "Of/29",
          "·course/30",
          "!/31",
          "·I/32",
          "·can/33",
          "·help/34",
          "·with/35",
          "·that/36",
          "./37",
          "·Are/38",
          "·you/39",
          "·looking/40",
          "·for/41",
          "·a/42",
          "·specific/43",
          "·type/44",
          "·of/45",
          "·cuisine/46",
          "·or/47",
          "·any/48",
          "·particular/49",
          "·location/50",
          "?/51",
          "<end_of_turn>/52",
          "↩\n/53",
          "<start_of_turn>/54",
          "user/55",
          "↩\n/56",
          "Hmm/57",
          ",/58",
          "·I/59",
          "'/60",
          "d/61",
          "·like/62",
          "·to/63",
          "·go/64",
          "·to/65",
          "·a/66",
          "·place/67",
          "·that/68",
          "·serves/69",
          "·Italian/70",
          "·cuisine/71",
          "./72",
          "·And/73",
          "·preferably/74",
          "·in/75",
          "·a/76",
          "·romantic/77",
          "·setting/78",
          "./79",
          "<end_of_turn>/80",
          "↩\n/81",
          "<start_of_turn>/82",
          "model/83",
          "↩\n/84",
          "Sure/85",
          "·thing/86",
          "!/87",
          "·I/88",
          "·have/89",
          "·just/90",
          "·the/91",
          "·place/92",
          "·for/93",
          "·you/94",
          "./95",
          "·A/96",
          "·highly/97",
          "·recommended/98",
          "·Italian/99",
          "·restaurant/100",
          "·for/101",
          "·a/102",
          "·romantic/103",
          "·date/104",
          "·night/105",
          "·is/106",
          "·\"/107",
          "La/108",
          "·Tratt/109",
          "oria/110",
          "\"./111",
          "·It/112",
          "'/113",
          "s/114",
          "·located/115",
          "·in/116",
          "·the/117",
          "·heart/118",
          "·of/119",
          "·the/120",
          "·city/121",
          "·and/122",
          "·has/123",
          "·a/124",
          "·cozy/125",
          "·ambiance/126",
          "·with/127",
          "·dim/128",
          "·lights/129",
          "·and/130",
          "·candle/131",
          "lit/132",
          "·tables/133",
          "./134",
          "·The/135",
          "·menu/136",
          "·offers/137",
          "·a/138",
          "·wide/139",
          "·variety/140",
          "·of/141",
          "·delicious/142",
          "·Italian/143",
          "·dishes/144",
          "./145",
          "·It/146",
          "'/147",
          "s/148",
          "·perfect/149",
          "·for/150",
          "·creating/151",
          "·a/152",
          "·special/153",
          "·atmosphere/154",
          "·for/155",
          "·your/156",
          "·date/157",
          "./158",
          "<end_of_turn>/159",
          "↩\n/160",
          "<start_of_turn>/161",
          "user/162",
          "↩\n/163",
          "That/164",
          "·sounds/165",
          "·fantastic/166",
          "!/167",
          "·Is/168",
          "·it/169",
          "·usually/170",
          "·busy/171",
          "·on/172",
          "·Saturday/173",
          "·evenings/174",
          "?/175",
          "<end_of_turn>/176",
          "↩\n/177",
          "<start_of_turn>/178",
          "model/179",
          "↩\n/180",
          "Satur/181",
          "days/182",
          "·can/183",
          "·get/184",
          "·quite/185",
          "·busy/186",
          ",/187",
          "·especially/188",
          "·for/189",
          "·romantic/190",
          "·dinner/191",
          "·dates/192",
          "./193",
          "·I/194",
          "·would/195",
          "·recommend/196",
          "·making/197",
          "·a/198",
          "·reservation/199",
          "·in/200",
          "·advance/201",
          "·to/202",
          "·secure/203",
          "·a/204",
          "·table/205",
          "./206",
          "·Would/207",
          "·you/208",
          "·like/209",
          "·me/210",
          "·to/211",
          "·provide/212",
          "·their/213",
          "·contact/214",
          "·information/215",
          "·so/216",
          "·you/217",
          "·can/218",
          "·make/219",
          "·a/220",
          "·reservation/221",
          "?/222",
          "<end_of_turn>/223",
          "↩\n/224",
          "<start_of_turn>/225",
          "user/226",
          "↩\n/227",
          "Yes/228",
          ",/229",
          "·please/230",
          "!/231",
          "·That/232",
          "·would/233",
          "·be/234",
          "·great/235",
          "./236",
          "<end_of_turn>/237",
          "↩\n/238",
          "<start_of_turn>/239",
          "model/240",
          "↩\n/241",
          "Certainly/242",
          "!/243",
          "·Here/244",
          "·is/245",
          "·the/246",
          "·contact/247",
          "·information/248",
          "·for/249",
          "·\"/250",
          "La/251",
          "·Tratt/252",
          "oria/253",
          "\":/254",
          "↩\n/255",
          "-/256",
          "·Phone/257",
          ":/258",
          "·+/259",
          "1/260",
          "·(/261",
          "1/262",
          "2/263",
          "3/264",
          ")/265",
          "·/266",
          "4/267",
          "5/268",
          "6/269",
          "-/270",
          "7/271",
          "8/272",
          "9/273",
          "0/274",
          "↩\n/275",
          "-/276",
          "·Email/277",
          ":/278",
          "·info/279",
          "@/280",
          "lat/281",
          "ratt/282",
          "oria/283",
          "./284",
          "com/285",
          "↩\n/286",
          "-/287",
          "·Website/288",
          ":/289",
          "·www/290",
          "./291",
          "lat/292",
          "ratt/293",
          "oria/294",
          "./295",
          "com/296",
          "<end_of_turn>/297",
          "↩\n/298",
          "<start_of_turn>/299",
          "user/300",
          "↩\n/301",
          "Thank/302",
          "·you/303",
          "·so/304",
          "·much/305",
          "!/306",
          "·I/307",
          "'/308",
          "ll/309",
          "·make/310",
          "·sure/311",
          "·to/312",
          "·contact/313",
          "·them/314",
          "·and/315",
          "·reserve/316",
          "·a/317",
          "·table/318",
          "./319",
          "<end_of_turn>/320",
          "↩\n/321",
          "<start_of_turn>/322",
          "model/323"
         ],
         "xaxis": "x",
         "y": [
          0,
          -0.0000400543212890625,
          -0.0006561279296875,
          0.0004177093505859375,
          0.004119873046875,
          -0.01043701171875,
          -0.006805419921875,
          -0.028564453125,
          0.00616455078125,
          0.006011962890625,
          -0.0157470703125,
          0.022705078125,
          -0.02685546875,
          0.006439208984375,
          -0.006500244140625,
          0.048828125,
          -0.0238037109375,
          -0.0301513671875,
          0.04248046875,
          0.00823974609375,
          -0.0301513671875,
          0.1279296875,
          0.080078125,
          0.03857421875,
          0.0703125,
          -0.00311279296875,
          0.005035400390625,
          0.041748046875,
          0.004486083984375,
          0.0133056640625,
          -0.0029754638671875,
          0.0054931640625,
          0.0198974609375,
          0.00958251953125,
          -0.0002536773681640625,
          0.004150390625,
          -0.00341796875,
          -0.0029296875,
          0.00433349609375,
          -0.01153564453125,
          -0.0137939453125,
          -0.01068115234375,
          -0.0194091796875,
          -0.003173828125,
          0.000301361083984375,
          -0.002471923828125,
          0.0023345947265625,
          0.00885009765625,
          -0.003387451171875,
          -0.004302978515625,
          0.012451171875,
          -0.0078125,
          -0.021240234375,
          -0.00885009765625,
          -0.0269775390625,
          -0.064453125,
          -0.007659912109375,
          0.0262451171875,
          0.0264892578125,
          -0.068359375,
          -0.003875732421875,
          -0.004730224609375,
          0.005615234375,
          -0.00002372264862060547,
          0.0115966796875,
          0.0125732421875,
          -0.001007080078125,
          -0.0028228759765625,
          -0.0203857421875,
          -0.0206298828125,
          0.044921875,
          -0.00061798095703125,
          -0.026123046875,
          0.00372314453125,
          -0.000308990478515625,
          -0.0057373046875,
          -0.0027008056640625,
          0.016845703125,
          -0.005584716796875,
          0.00439453125,
          -0.0260009765625,
          -0.006256103515625,
          -0.00921630859375,
          0.08349609375,
          0.025634765625,
          0.021484375,
          0.021484375,
          0.0167236328125,
          0.0036468505859375,
          0.00077056884765625,
          -0.01080322265625,
          -0.00136566162109375,
          0.0159912109375,
          0.01361083984375,
          -0.0693359375,
          -0.00311279296875,
          0.0020294189453125,
          -0.00201416015625,
          0.014892578125,
          0.0279541015625,
          0.01385498046875,
          -0.005767822265625,
          -0.01177978515625,
          -0.0284423828125,
          -0.08056640625,
          -0.006805419921875,
          -0.00909423828125,
          -0.00004982948303222656,
          0.034423828125,
          0.035888671875,
          0.0341796875,
          -0.028564453125,
          0.00433349609375,
          0.01287841796875,
          -0.002777099609375,
          0.007354736328125,
          0.00848388671875,
          0.006256103515625,
          0.017333984375,
          0.01556396484375,
          -0.0225830078125,
          0.0155029296875,
          0.004058837890625,
          0.0018768310546875,
          0.000606536865234375,
          0.00122833251953125,
          -0.005859375,
          0.00135040283203125,
          -0.00872802734375,
          -0.004638671875,
          0.004791259765625,
          -0.0096435546875,
          0.0028533935546875,
          -0.0025787353515625,
          0.0194091796875,
          0.007049560546875,
          0.0098876953125,
          0.0003757476806640625,
          0.006591796875,
          -0.0024566650390625,
          0.005096435546875,
          0.00323486328125,
          -0.003082275390625,
          0.0228271484375,
          0.006591796875,
          -0.02294921875,
          0.0019073486328125,
          0.025146484375,
          0.0028076171875,
          -0.01092529296875,
          0.006195068359375,
          -0.006256103515625,
          0.007049560546875,
          0.005706787109375,
          -0.007171630859375,
          0.0220947265625,
          -0.0810546875,
          -0.1474609375,
          -0.01318359375,
          -0.0235595703125,
          -0.0098876953125,
          -0.0103759765625,
          -0.007110595703125,
          0.0255126953125,
          0.01251220703125,
          0.0250244140625,
          0.0361328125,
          0.10546875,
          -0.01123046875,
          -0.00933837890625,
          -0.025390625,
          0.0115966796875,
          -0.01092529296875,
          0.0380859375,
          -0.007293701171875,
          -0.0308837890625,
          0.01043701171875,
          0.0010833740234375,
          0.0113525390625,
          0.04345703125,
          0.0137939453125,
          0.00897216796875,
          0.0184326171875,
          0.004669189453125,
          -0.00180816650390625,
          0.003631591796875,
          -0.002593994140625,
          -0.023681640625,
          0.00506591796875,
          -0.00311279296875,
          -0.09326171875,
          -0.0093994140625,
          -0.0208740234375,
          -0.00927734375,
          0.0498046875,
          0.006011962890625,
          -0.002716064453125,
          -0.015869140625,
          -0.00775146484375,
          -0.013671875,
          -0.00213623046875,
          -0.0020294189453125,
          0.016845703125,
          -0.0009765625,
          -0.0004596710205078125,
          0.01092529296875,
          -0.007598876953125,
          0.006622314453125,
          -0.010009765625,
          0.000015735626220703125,
          -0.0164794921875,
          0.035888671875,
          -0.008056640625,
          -0.01104736328125,
          0.02880859375,
          0.07177734375,
          0.0059814453125,
          -0.25390625,
          0.0028076171875,
          -0.01275634765625,
          0.0294189453125,
          -0.00701904296875,
          -0.036865234375,
          0.0419921875,
          -0.0002269744873046875,
          -0.038330078125,
          0.034423828125,
          -0.00531005859375,
          0.024658203125,
          0.0052490234375,
          -0.003387451171875,
          0.0152587890625,
          -0.02001953125,
          -0.11474609375,
          0.34375,
          0.006011962890625,
          -0.0198974609375,
          0.0238037109375,
          -0.031005859375,
          0.2451171875,
          0.08984375,
          0.06982421875,
          0.04150390625,
          0.0264892578125,
          0.0005950927734375,
          -0.017822265625,
          0.006927490234375,
          -0.00384521484375,
          0.0230712890625,
          0.005523681640625,
          -0.00726318359375,
          0.0262451171875,
          0.01422119140625,
          0.0322265625,
          -0.0027923583984375,
          0.0294189453125,
          -0.01165771484375,
          0.0172119140625,
          0.00408935546875,
          -0.0247802734375,
          -0.0498046875,
          0.024658203125,
          -0.020751953125,
          -0.00897216796875,
          0.02783203125,
          0.01470947265625,
          0.015625,
          0.01263427734375,
          -0.00238037109375,
          0.005645751953125,
          0.012939453125,
          -0.00102996826171875,
          0.00494384765625,
          0.027587890625,
          0.021240234375,
          -0.015869140625,
          -0.00628662109375,
          -0.00762939453125,
          0.000701904296875,
          0.002593994140625,
          -0.0030517578125,
          0.00933837890625,
          0.00323486328125,
          0.02392578125,
          0.00885009765625,
          0.0016937255859375,
          0.00106048583984375,
          -0.00506591796875,
          -0.0032958984375,
          0.00927734375,
          -0.00250244140625,
          0.006805419921875,
          0.006011962890625,
          0.0185546875,
          -0.000965118408203125,
          -0.076171875,
          0.007171630859375,
          0.0625,
          -0.0361328125,
          0.0751953125,
          -0.053955078125,
          0.06689453125,
          -0.146484375,
          -0.0255126953125,
          -0.043701171875,
          -0.1416015625,
          -0.08544921875,
          -0.07421875,
          -0.0115966796875,
          0.02099609375,
          0.0023956298828125,
          -0.041748046875,
          0.0162353515625,
          -0.0322265625,
          -0.00023651123046875,
          0.02001953125,
          -0.045654296875,
          0.01361083984375,
          -0.061279296875,
          -0.041015625,
          0.11767578125,
          -0.01239013671875,
          0.01104736328125,
          -0.169921875
         ],
         "yaxis": "y"
        },
        {
         "hovertemplate": "Color=3<br>x=%{x}<br>y=%{y}<extra></extra>",
         "legendgroup": "3",
         "line": {
          "color": "#ab63fa",
          "dash": "solid"
         },
         "marker": {
          "symbol": "circle"
         },
         "mode": "lines",
         "name": "3",
         "showlegend": true,
         "type": "scattergl",
         "x": [
          "<bos>/0",
          "<start_of_turn>/1",
          "user/2",
          "↩\n/3",
          "Hi/4",
          ",/5",
          "·I/6",
          "·have/7",
          "·a/8",
          "·question/9",
          "·for/10",
          "·you/11",
          "./12",
          "·Can/13",
          "·you/14",
          "·recommend/15",
          "·a/16",
          "·good/17",
          "·restaurant/18",
          "·for/19",
          "·a/20",
          "·date/21",
          "·night/22",
          "?/23",
          "<end_of_turn>/24",
          "↩\n/25",
          "<start_of_turn>/26",
          "model/27",
          "↩\n/28",
          "Of/29",
          "·course/30",
          "!/31",
          "·I/32",
          "·can/33",
          "·help/34",
          "·with/35",
          "·that/36",
          "./37",
          "·Are/38",
          "·you/39",
          "·looking/40",
          "·for/41",
          "·a/42",
          "·specific/43",
          "·type/44",
          "·of/45",
          "·cuisine/46",
          "·or/47",
          "·any/48",
          "·particular/49",
          "·location/50",
          "?/51",
          "<end_of_turn>/52",
          "↩\n/53",
          "<start_of_turn>/54",
          "user/55",
          "↩\n/56",
          "Hmm/57",
          ",/58",
          "·I/59",
          "'/60",
          "d/61",
          "·like/62",
          "·to/63",
          "·go/64",
          "·to/65",
          "·a/66",
          "·place/67",
          "·that/68",
          "·serves/69",
          "·Italian/70",
          "·cuisine/71",
          "./72",
          "·And/73",
          "·preferably/74",
          "·in/75",
          "·a/76",
          "·romantic/77",
          "·setting/78",
          "./79",
          "<end_of_turn>/80",
          "↩\n/81",
          "<start_of_turn>/82",
          "model/83",
          "↩\n/84",
          "Sure/85",
          "·thing/86",
          "!/87",
          "·I/88",
          "·have/89",
          "·just/90",
          "·the/91",
          "·place/92",
          "·for/93",
          "·you/94",
          "./95",
          "·A/96",
          "·highly/97",
          "·recommended/98",
          "·Italian/99",
          "·restaurant/100",
          "·for/101",
          "·a/102",
          "·romantic/103",
          "·date/104",
          "·night/105",
          "·is/106",
          "·\"/107",
          "La/108",
          "·Tratt/109",
          "oria/110",
          "\"./111",
          "·It/112",
          "'/113",
          "s/114",
          "·located/115",
          "·in/116",
          "·the/117",
          "·heart/118",
          "·of/119",
          "·the/120",
          "·city/121",
          "·and/122",
          "·has/123",
          "·a/124",
          "·cozy/125",
          "·ambiance/126",
          "·with/127",
          "·dim/128",
          "·lights/129",
          "·and/130",
          "·candle/131",
          "lit/132",
          "·tables/133",
          "./134",
          "·The/135",
          "·menu/136",
          "·offers/137",
          "·a/138",
          "·wide/139",
          "·variety/140",
          "·of/141",
          "·delicious/142",
          "·Italian/143",
          "·dishes/144",
          "./145",
          "·It/146",
          "'/147",
          "s/148",
          "·perfect/149",
          "·for/150",
          "·creating/151",
          "·a/152",
          "·special/153",
          "·atmosphere/154",
          "·for/155",
          "·your/156",
          "·date/157",
          "./158",
          "<end_of_turn>/159",
          "↩\n/160",
          "<start_of_turn>/161",
          "user/162",
          "↩\n/163",
          "That/164",
          "·sounds/165",
          "·fantastic/166",
          "!/167",
          "·Is/168",
          "·it/169",
          "·usually/170",
          "·busy/171",
          "·on/172",
          "·Saturday/173",
          "·evenings/174",
          "?/175",
          "<end_of_turn>/176",
          "↩\n/177",
          "<start_of_turn>/178",
          "model/179",
          "↩\n/180",
          "Satur/181",
          "days/182",
          "·can/183",
          "·get/184",
          "·quite/185",
          "·busy/186",
          ",/187",
          "·especially/188",
          "·for/189",
          "·romantic/190",
          "·dinner/191",
          "·dates/192",
          "./193",
          "·I/194",
          "·would/195",
          "·recommend/196",
          "·making/197",
          "·a/198",
          "·reservation/199",
          "·in/200",
          "·advance/201",
          "·to/202",
          "·secure/203",
          "·a/204",
          "·table/205",
          "./206",
          "·Would/207",
          "·you/208",
          "·like/209",
          "·me/210",
          "·to/211",
          "·provide/212",
          "·their/213",
          "·contact/214",
          "·information/215",
          "·so/216",
          "·you/217",
          "·can/218",
          "·make/219",
          "·a/220",
          "·reservation/221",
          "?/222",
          "<end_of_turn>/223",
          "↩\n/224",
          "<start_of_turn>/225",
          "user/226",
          "↩\n/227",
          "Yes/228",
          ",/229",
          "·please/230",
          "!/231",
          "·That/232",
          "·would/233",
          "·be/234",
          "·great/235",
          "./236",
          "<end_of_turn>/237",
          "↩\n/238",
          "<start_of_turn>/239",
          "model/240",
          "↩\n/241",
          "Certainly/242",
          "!/243",
          "·Here/244",
          "·is/245",
          "·the/246",
          "·contact/247",
          "·information/248",
          "·for/249",
          "·\"/250",
          "La/251",
          "·Tratt/252",
          "oria/253",
          "\":/254",
          "↩\n/255",
          "-/256",
          "·Phone/257",
          ":/258",
          "·+/259",
          "1/260",
          "·(/261",
          "1/262",
          "2/263",
          "3/264",
          ")/265",
          "·/266",
          "4/267",
          "5/268",
          "6/269",
          "-/270",
          "7/271",
          "8/272",
          "9/273",
          "0/274",
          "↩\n/275",
          "-/276",
          "·Email/277",
          ":/278",
          "·info/279",
          "@/280",
          "lat/281",
          "ratt/282",
          "oria/283",
          "./284",
          "com/285",
          "↩\n/286",
          "-/287",
          "·Website/288",
          ":/289",
          "·www/290",
          "./291",
          "lat/292",
          "ratt/293",
          "oria/294",
          "./295",
          "com/296",
          "<end_of_turn>/297",
          "↩\n/298",
          "<start_of_turn>/299",
          "user/300",
          "↩\n/301",
          "Thank/302",
          "·you/303",
          "·so/304",
          "·much/305",
          "!/306",
          "·I/307",
          "'/308",
          "ll/309",
          "·make/310",
          "·sure/311",
          "·to/312",
          "·contact/313",
          "·them/314",
          "·and/315",
          "·reserve/316",
          "·a/317",
          "·table/318",
          "./319",
          "<end_of_turn>/320",
          "↩\n/321",
          "<start_of_turn>/322",
          "model/323"
         ],
         "xaxis": "x",
         "y": [
          0,
          -0.0001544952392578125,
          0.000518798828125,
          -0.000461578369140625,
          -0.0012664794921875,
          -0.00119781494140625,
          0.0166015625,
          -0.01043701171875,
          0.0030670166015625,
          0.01409912109375,
          -0.0098876953125,
          -0.015869140625,
          -0.0030059814453125,
          0.00013256072998046875,
          -0.027587890625,
          0.007110595703125,
          -0.00506591796875,
          -0.0050048828125,
          -0.0179443359375,
          -0.0302734375,
          -0.001495361328125,
          0.337890625,
          -0.058837890625,
          0.043212890625,
          -0.154296875,
          0.016845703125,
          -0.0064697265625,
          0.022705078125,
          0.007415771484375,
          0.000499725341796875,
          0.003570556640625,
          -0.0186767578125,
          -0.00823974609375,
          -0.003326416015625,
          -0.000705718994140625,
          -0.0021820068359375,
          -0.006011962890625,
          -0.0196533203125,
          -0.0185546875,
          0.036376953125,
          -0.01251220703125,
          -0.0002231597900390625,
          -0.003570556640625,
          -0.00836181640625,
          -0.0001621246337890625,
          0.0018463134765625,
          0.0023345947265625,
          0.00823974609375,
          -0.01422119140625,
          -0.006439208984375,
          0.013916015625,
          0.006500244140625,
          -0.037109375,
          -0.00174713134765625,
          0.0035552978515625,
          -0.0257568359375,
          0.048828125,
          -0.0810546875,
          0.0693359375,
          -0.07568359375,
          -0.01611328125,
          -0.005340576171875,
          -0.031494140625,
          -0.004974365234375,
          -0.00058746337890625,
          -0.003570556640625,
          0.00147247314453125,
          -0.0034027099609375,
          0.00147247314453125,
          -0.00921630859375,
          -0.00531005859375,
          -0.0252685546875,
          0.0036773681640625,
          -0.03466796875,
          -0.0186767578125,
          -0.0269775390625,
          0.0020599365234375,
          0.09423828125,
          -0.037109375,
          -0.01611328125,
          -0.0537109375,
          -0.005035400390625,
          -0.01519775390625,
          0.0081787109375,
          -0.006439208984375,
          0.02978515625,
          0.032470703125,
          -0.000438690185546875,
          -0.01275634765625,
          -0.00164794921875,
          -0.0006866455078125,
          -0.00933837890625,
          0.00173187255859375,
          0.007415771484375,
          -0.034423828125,
          -0.03857421875,
          0.01019287109375,
          0.01422119140625,
          0.0380859375,
          0.016845703125,
          -0.005859375,
          0.000583648681640625,
          -0.0223388671875,
          -0.016845703125,
          0.0177001953125,
          0.002685546875,
          -0.0296630859375,
          0.0037078857421875,
          0.0201416015625,
          -0.013427734375,
          0.0078125,
          0.0274658203125,
          -0.00872802734375,
          -0.00506591796875,
          0.00176239013671875,
          0.00439453125,
          0.0089111328125,
          0.01226806640625,
          0.005096435546875,
          0.01007080078125,
          0.027099609375,
          0.016357421875,
          0.0045166015625,
          -0.000705718994140625,
          -0.00164794921875,
          -0.00482177734375,
          -0.0018157958984375,
          -0.004241943359375,
          -0.001495361328125,
          0.0009765625,
          -0.00064849853515625,
          -0.00909423828125,
          -0.00494384765625,
          -0.00628662109375,
          0.0000858306884765625,
          0.00140380859375,
          -0.00457763671875,
          -0.00030517578125,
          0.002593994140625,
          -0.000911712646484375,
          -0.0111083984375,
          -0.00075531005859375,
          0.000606536865234375,
          0.0036773681640625,
          -0.006561279296875,
          -0.007110595703125,
          -0.005584716796875,
          -0.0537109375,
          -0.005584716796875,
          -0.00244140625,
          0.0001163482666015625,
          -0.00457763671875,
          0.0028839111328125,
          -0.01141357421875,
          -0.013671875,
          -0.01409912109375,
          0.0155029296875,
          0.1630859375,
          -0.036376953125,
          -0.1259765625,
          -0.00665283203125,
          -0.064453125,
          -0.04638671875,
          -0.00180816650390625,
          -0.00124359130859375,
          -0.01171875,
          -0.042724609375,
          -0.0167236328125,
          -0.0034942626953125,
          -0.00689697265625,
          -0.012939453125,
          0.0010986328125,
          0.00933837890625,
          -0.010009765625,
          0.0106201171875,
          -0.02001953125,
          -0.10107421875,
          0.003936767578125,
          0.015625,
          -0.0439453125,
          -0.01031494140625,
          0.004730224609375,
          0.016845703125,
          0.0040283203125,
          0.00927734375,
          0.014404296875,
          0.025634765625,
          0.005096435546875,
          -0.0031890869140625,
          -0.007171630859375,
          0.033447265625,
          0.01531982421875,
          0.006072998046875,
          0.0023193359375,
          -0.0250244140625,
          -0.0036468505859375,
          -0.002166748046875,
          0.00109100341796875,
          0.006622314453125,
          -0.0037841796875,
          0.0123291015625,
          -0.002593994140625,
          0.011474609375,
          0.0002880096435546875,
          0.00193023681640625,
          0.010986328125,
          0.042724609375,
          -0.007110595703125,
          0.09521484375,
          -0.031982421875,
          -0.047119140625,
          -0.0147705078125,
          -0.021728515625,
          -0.038818359375,
          -0.06005859375,
          -0.0220947265625,
          -0.007598876953125,
          0.03564453125,
          -0.00640869140625,
          -0.003814697265625,
          0.062255859375,
          0.019775390625,
          0.0012664794921875,
          0.040771484375,
          -0.0033111572265625,
          -0.01251220703125,
          -0.01177978515625,
          -0.0030975341796875,
          -0.0111083984375,
          -0.0111083984375,
          -0.03466796875,
          -0.015380859375,
          -0.00494384765625,
          0.018310546875,
          -0.103515625,
          -0.0169677734375,
          0.002593994140625,
          -0.03662109375,
          -0.01165771484375,
          0.031494140625,
          0.052734375,
          0.007232666015625,
          0.004669189453125,
          -0.00004863739013671875,
          -0.037353515625,
          -0.02294921875,
          0.002899169921875,
          -0.01556396484375,
          -0.00750732421875,
          -0.00830078125,
          0.029541015625,
          0.021484375,
          0.01373291015625,
          -0.016357421875,
          -0.00958251953125,
          0.0084228515625,
          0.00616455078125,
          -0.005096435546875,
          0.0125732421875,
          -0.0198974609375,
          0.02880859375,
          0.005950927734375,
          0.01104736328125,
          -0.0269775390625,
          0.1015625,
          0.01611328125,
          -0.00933837890625,
          0.0027923583984375,
          -0.000701904296875,
          0.00174713134765625,
          -0.002777099609375,
          0.0040283203125,
          -0.005767822265625,
          0.004058837890625,
          -0.0189208984375,
          -0.0145263671875,
          0.000598907470703125,
          -0.0038604736328125,
          -0.00390625,
          0.00994873046875,
          0.00018596649169921875,
          -0.00121307373046875,
          -0.004364013671875,
          -0.01483154296875,
          0.014404296875,
          -0.006927490234375,
          -0.00010824203491210938,
          0.0025482177734375,
          0.00982666015625,
          0.01312255859375,
          0.0380859375,
          0.09814453125,
          0.0966796875,
          0.0029754638671875,
          -0.0186767578125,
          0.1376953125,
          -0.0025482177734375,
          0.0250244140625,
          0.05322265625,
          -0.1328125,
          0.057861328125,
          -0.002716064453125,
          -0.09423828125,
          -0.0205078125,
          -0.010498046875,
          -0.087890625,
          0.042724609375,
          0.130859375,
          -0.000003337860107421875,
          -0.010009765625,
          -0.027587890625,
          0.0252685546875,
          -0.0263671875,
          0.1328125,
          0.058349609375,
          0.0299072265625,
          0.0291748046875,
          0.0230712890625,
          -0.0206298828125,
          0.0546875,
          0.06298828125,
          -0.00848388671875,
          -0.125,
          0.00543212890625
         ],
         "yaxis": "y"
        },
        {
         "hovertemplate": "Color=4<br>x=%{x}<br>y=%{y}<extra></extra>",
         "legendgroup": "4",
         "line": {
          "color": "#FFA15A",
          "dash": "solid"
         },
         "marker": {
          "symbol": "circle"
         },
         "mode": "lines",
         "name": "4",
         "showlegend": true,
         "type": "scattergl",
         "x": [
          "<bos>/0",
          "<start_of_turn>/1",
          "user/2",
          "↩\n/3",
          "Hi/4",
          ",/5",
          "·I/6",
          "·have/7",
          "·a/8",
          "·question/9",
          "·for/10",
          "·you/11",
          "./12",
          "·Can/13",
          "·you/14",
          "·recommend/15",
          "·a/16",
          "·good/17",
          "·restaurant/18",
          "·for/19",
          "·a/20",
          "·date/21",
          "·night/22",
          "?/23",
          "<end_of_turn>/24",
          "↩\n/25",
          "<start_of_turn>/26",
          "model/27",
          "↩\n/28",
          "Of/29",
          "·course/30",
          "!/31",
          "·I/32",
          "·can/33",
          "·help/34",
          "·with/35",
          "·that/36",
          "./37",
          "·Are/38",
          "·you/39",
          "·looking/40",
          "·for/41",
          "·a/42",
          "·specific/43",
          "·type/44",
          "·of/45",
          "·cuisine/46",
          "·or/47",
          "·any/48",
          "·particular/49",
          "·location/50",
          "?/51",
          "<end_of_turn>/52",
          "↩\n/53",
          "<start_of_turn>/54",
          "user/55",
          "↩\n/56",
          "Hmm/57",
          ",/58",
          "·I/59",
          "'/60",
          "d/61",
          "·like/62",
          "·to/63",
          "·go/64",
          "·to/65",
          "·a/66",
          "·place/67",
          "·that/68",
          "·serves/69",
          "·Italian/70",
          "·cuisine/71",
          "./72",
          "·And/73",
          "·preferably/74",
          "·in/75",
          "·a/76",
          "·romantic/77",
          "·setting/78",
          "./79",
          "<end_of_turn>/80",
          "↩\n/81",
          "<start_of_turn>/82",
          "model/83",
          "↩\n/84",
          "Sure/85",
          "·thing/86",
          "!/87",
          "·I/88",
          "·have/89",
          "·just/90",
          "·the/91",
          "·place/92",
          "·for/93",
          "·you/94",
          "./95",
          "·A/96",
          "·highly/97",
          "·recommended/98",
          "·Italian/99",
          "·restaurant/100",
          "·for/101",
          "·a/102",
          "·romantic/103",
          "·date/104",
          "·night/105",
          "·is/106",
          "·\"/107",
          "La/108",
          "·Tratt/109",
          "oria/110",
          "\"./111",
          "·It/112",
          "'/113",
          "s/114",
          "·located/115",
          "·in/116",
          "·the/117",
          "·heart/118",
          "·of/119",
          "·the/120",
          "·city/121",
          "·and/122",
          "·has/123",
          "·a/124",
          "·cozy/125",
          "·ambiance/126",
          "·with/127",
          "·dim/128",
          "·lights/129",
          "·and/130",
          "·candle/131",
          "lit/132",
          "·tables/133",
          "./134",
          "·The/135",
          "·menu/136",
          "·offers/137",
          "·a/138",
          "·wide/139",
          "·variety/140",
          "·of/141",
          "·delicious/142",
          "·Italian/143",
          "·dishes/144",
          "./145",
          "·It/146",
          "'/147",
          "s/148",
          "·perfect/149",
          "·for/150",
          "·creating/151",
          "·a/152",
          "·special/153",
          "·atmosphere/154",
          "·for/155",
          "·your/156",
          "·date/157",
          "./158",
          "<end_of_turn>/159",
          "↩\n/160",
          "<start_of_turn>/161",
          "user/162",
          "↩\n/163",
          "That/164",
          "·sounds/165",
          "·fantastic/166",
          "!/167",
          "·Is/168",
          "·it/169",
          "·usually/170",
          "·busy/171",
          "·on/172",
          "·Saturday/173",
          "·evenings/174",
          "?/175",
          "<end_of_turn>/176",
          "↩\n/177",
          "<start_of_turn>/178",
          "model/179",
          "↩\n/180",
          "Satur/181",
          "days/182",
          "·can/183",
          "·get/184",
          "·quite/185",
          "·busy/186",
          ",/187",
          "·especially/188",
          "·for/189",
          "·romantic/190",
          "·dinner/191",
          "·dates/192",
          "./193",
          "·I/194",
          "·would/195",
          "·recommend/196",
          "·making/197",
          "·a/198",
          "·reservation/199",
          "·in/200",
          "·advance/201",
          "·to/202",
          "·secure/203",
          "·a/204",
          "·table/205",
          "./206",
          "·Would/207",
          "·you/208",
          "·like/209",
          "·me/210",
          "·to/211",
          "·provide/212",
          "·their/213",
          "·contact/214",
          "·information/215",
          "·so/216",
          "·you/217",
          "·can/218",
          "·make/219",
          "·a/220",
          "·reservation/221",
          "?/222",
          "<end_of_turn>/223",
          "↩\n/224",
          "<start_of_turn>/225",
          "user/226",
          "↩\n/227",
          "Yes/228",
          ",/229",
          "·please/230",
          "!/231",
          "·That/232",
          "·would/233",
          "·be/234",
          "·great/235",
          "./236",
          "<end_of_turn>/237",
          "↩\n/238",
          "<start_of_turn>/239",
          "model/240",
          "↩\n/241",
          "Certainly/242",
          "!/243",
          "·Here/244",
          "·is/245",
          "·the/246",
          "·contact/247",
          "·information/248",
          "·for/249",
          "·\"/250",
          "La/251",
          "·Tratt/252",
          "oria/253",
          "\":/254",
          "↩\n/255",
          "-/256",
          "·Phone/257",
          ":/258",
          "·+/259",
          "1/260",
          "·(/261",
          "1/262",
          "2/263",
          "3/264",
          ")/265",
          "·/266",
          "4/267",
          "5/268",
          "6/269",
          "-/270",
          "7/271",
          "8/272",
          "9/273",
          "0/274",
          "↩\n/275",
          "-/276",
          "·Email/277",
          ":/278",
          "·info/279",
          "@/280",
          "lat/281",
          "ratt/282",
          "oria/283",
          "./284",
          "com/285",
          "↩\n/286",
          "-/287",
          "·Website/288",
          ":/289",
          "·www/290",
          "./291",
          "lat/292",
          "ratt/293",
          "oria/294",
          "./295",
          "com/296",
          "<end_of_turn>/297",
          "↩\n/298",
          "<start_of_turn>/299",
          "user/300",
          "↩\n/301",
          "Thank/302",
          "·you/303",
          "·so/304",
          "·much/305",
          "!/306",
          "·I/307",
          "'/308",
          "ll/309",
          "·make/310",
          "·sure/311",
          "·to/312",
          "·contact/313",
          "·them/314",
          "·and/315",
          "·reserve/316",
          "·a/317",
          "·table/318",
          "./319",
          "<end_of_turn>/320",
          "↩\n/321",
          "<start_of_turn>/322",
          "model/323"
         ],
         "xaxis": "x",
         "y": [
          0,
          -0.000156402587890625,
          -0.000087738037109375,
          0.00006532669067382812,
          0.000438690185546875,
          -0.000827789306640625,
          -0.000659942626953125,
          -0.001556396484375,
          -0.002227783203125,
          -0.0003757476806640625,
          0.0003604888916015625,
          -0.0108642578125,
          0.0125732421875,
          -0.00008487701416015625,
          -0.00970458984375,
          -0.00408935546875,
          -0.002593994140625,
          -0.003204345703125,
          0.004791259765625,
          -0.0299072265625,
          0.000885009765625,
          0.1669921875,
          0.045166015625,
          0.010009765625,
          0.036865234375,
          -0.00897216796875,
          0.008544921875,
          0.0279541015625,
          -0.01513671875,
          0.0036468505859375,
          -0.007232666015625,
          -0.011474609375,
          -0.006988525390625,
          -0.006561279296875,
          -0.007293701171875,
          -0.0001220703125,
          -0.002044677734375,
          -0.007293701171875,
          -0.004791259765625,
          0.01416015625,
          0.0024261474609375,
          -0.006591796875,
          -0.005157470703125,
          0.00189971923828125,
          -0.0036468505859375,
          -0.00433349609375,
          -0.01214599609375,
          -0.0010986328125,
          0.0027313232421875,
          0.000885009765625,
          -0.006195068359375,
          0.002899169921875,
          0.00084686279296875,
          -0.004364013671875,
          0.0030059814453125,
          -0.041259765625,
          -0.003753662109375,
          -0.00150299072265625,
          0.023193359375,
          0.73046875,
          -0.0001983642578125,
          -0.005096435546875,
          -0.0140380859375,
          -0.0027923583984375,
          0.01397705078125,
          -0.00087738037109375,
          -0.003875732421875,
          -0.00299072265625,
          0.00185394287109375,
          -0.00390625,
          0.0029449462890625,
          0.00531005859375,
          -0.0023040771484375,
          -0.00067901611328125,
          0.002227783203125,
          -0.01025390625,
          -0.00034332275390625,
          -0.0021514892578125,
          -0.00103759765625,
          -0.00640869140625,
          -0.014404296875,
          -0.005889892578125,
          -0.00897216796875,
          -0.035888671875,
          -0.01080322265625,
          0.00848388671875,
          0.01068115234375,
          -0.006988525390625,
          -0.01483154296875,
          -0.0093994140625,
          0.0023193359375,
          0.005889892578125,
          0.0184326171875,
          0.0120849609375,
          0.06201171875,
          -0.00811767578125,
          -0.004150390625,
          -0.00390625,
          0.01507568359375,
          0.00286865234375,
          -0.004547119140625,
          -0.00799560546875,
          -0.0167236328125,
          0.00701904296875,
          0.03857421875,
          -0.000537872314453125,
          0.0037078857421875,
          0.01251220703125,
          0.003265380859375,
          0.005767822265625,
          0.019775390625,
          0.048095703125,
          0.0035858154296875,
          -0.00055694580078125,
          -0.002471923828125,
          0.0002269744873046875,
          0.00164031982421875,
          -0.0002841949462890625,
          -0.0009765625,
          0.00347900390625,
          0.004608154296875,
          0.01190185546875,
          0.00154876708984375,
          0.00101470947265625,
          -0.0001926422119140625,
          -0.00250244140625,
          0.00154876708984375,
          -0.000797271728515625,
          0.005523681640625,
          0.0029449462890625,
          0.00021839141845703125,
          -0.0028839111328125,
          -0.00128173828125,
          -0.00162506103515625,
          0.0126953125,
          0.0016937255859375,
          -0.000247955322265625,
          -0.000896453857421875,
          -0.000835418701171875,
          0.00098419189453125,
          0.0018310546875,
          0.0004711151123046875,
          0.000022411346435546875,
          0.0022125244140625,
          0.000499725341796875,
          -0.0023040771484375,
          0.0027618408203125,
          0.006622314453125,
          -0.0003871917724609375,
          -0.005401611328125,
          -0.004119873046875,
          -0.005889892578125,
          -0.001434326171875,
          -0.00738525390625,
          0.00116729736328125,
          -0.021240234375,
          0.23046875,
          0.08544921875,
          -0.002349853515625,
          0.03271484375,
          0.00921630859375,
          -0.0257568359375,
          -0.072265625,
          -0.0155029296875,
          -0.0030517578125,
          -0.00555419921875,
          -0.0089111328125,
          -0.0283203125,
          -0.00640869140625,
          0.00506591796875,
          -0.00299072265625,
          0.002227783203125,
          -0.004364013671875,
          0.0166015625,
          0.01092529296875,
          -0.01190185546875,
          0.01129150390625,
          -0.00164794921875,
          0.00885009765625,
          -0.0732421875,
          -0.020751953125,
          -0.00262451171875,
          -0.00408935546875,
          -0.002838134765625,
          0.000347137451171875,
          0.00144195556640625,
          0.0026092529296875,
          -0.0027313232421875,
          -0.004058837890625,
          0.00005269050598144531,
          0.01397705078125,
          0.00180816650390625,
          0.0213623046875,
          -0.0016021728515625,
          -0.00421142578125,
          0.000591278076171875,
          -0.004913330078125,
          -0.01190185546875,
          0.0118408203125,
          -0.0059814453125,
          0.003570556640625,
          -0.00994873046875,
          0.01068115234375,
          0.00408935546875,
          0.004425048828125,
          0.0174560546875,
          -0.00168609619140625,
          -0.00830078125,
          0.04541015625,
          -0.00136566162109375,
          -0.0242919921875,
          0.00567626953125,
          -0.00360107421875,
          -0.016845703125,
          -0.0125732421875,
          -0.01904296875,
          0.01446533203125,
          0.2060546875,
          -0.00390625,
          0.004364013671875,
          0.004547119140625,
          0.01220703125,
          0.007110595703125,
          -0.0002079010009765625,
          0.0022430419921875,
          -0.01165771484375,
          0.01531982421875,
          0.007476806640625,
          0.0015106201171875,
          0.00110626220703125,
          -0.007537841796875,
          0.00007104873657226562,
          -0.004180908203125,
          -0.005126953125,
          -0.05078125,
          -0.00390625,
          -0.00124359130859375,
          0.01373291015625,
          0.0007476806640625,
          -0.03662109375,
          -0.016357421875,
          -0.016357421875,
          0.0126953125,
          -0.01611328125,
          0.0018310546875,
          -0.0025177001953125,
          0.00384521484375,
          0.00060272216796875,
          -0.00007104873657226562,
          0.0004634857177734375,
          0.053955078125,
          0.09716796875,
          -0.00112152099609375,
          0.021728515625,
          0.0037841796875,
          -0.00555419921875,
          0.000949859619140625,
          -0.00127410888671875,
          -0.0027008056640625,
          -0.00193023681640625,
          -0.009033203125,
          -0.000885009765625,
          0.00445556640625,
          0.09716796875,
          0.1787109375,
          0.00140380859375,
          0.0028228759765625,
          0.00032806396484375,
          -0.011474609375,
          0.010498046875,
          -0.0081787109375,
          -0.006866455078125,
          -0.005767822265625,
          0.031494140625,
          0.0016937255859375,
          -0.00799560546875,
          0.0031585693359375,
          -0.0001926422119140625,
          0.00066375732421875,
          -0.00543212890625,
          -0.0025787353515625,
          -0.00098419189453125,
          0.0020904541015625,
          0.004486083984375,
          0.0189208984375,
          0.00170135498046875,
          -0.0032196044921875,
          0.0014190673828125,
          0.0034942626953125,
          0.00128936767578125,
          0.0137939453125,
          0.016357421875,
          0.11083984375,
          0.053466796875,
          0.0341796875,
          -0.0250244140625,
          0.0038604736328125,
          -0.05224609375,
          0.013916015625,
          -0.020751953125,
          0.1162109375,
          0.0277099609375,
          0.41796875,
          -0.018310546875,
          0.0004444122314453125,
          -0.0147705078125,
          0.001800537109375,
          0.018798828125,
          -0.0087890625,
          0.008056640625,
          0.0033416748046875,
          -0.00167083740234375,
          0.000583648681640625,
          0.0023651123046875,
          -0.00885009765625,
          -0.017822265625,
          0.006500244140625,
          0.007049560546875,
          -0.00323486328125,
          -0.01361083984375,
          -0.138671875,
          0.0247802734375,
          -0.1865234375,
          -0.1787109375
         ],
         "yaxis": "y"
        },
        {
         "hovertemplate": "Color=5<br>x=%{x}<br>y=%{y}<extra></extra>",
         "legendgroup": "5",
         "line": {
          "color": "#19d3f3",
          "dash": "solid"
         },
         "marker": {
          "symbol": "circle"
         },
         "mode": "lines",
         "name": "5",
         "showlegend": true,
         "type": "scattergl",
         "x": [
          "<bos>/0",
          "<start_of_turn>/1",
          "user/2",
          "↩\n/3",
          "Hi/4",
          ",/5",
          "·I/6",
          "·have/7",
          "·a/8",
          "·question/9",
          "·for/10",
          "·you/11",
          "./12",
          "·Can/13",
          "·you/14",
          "·recommend/15",
          "·a/16",
          "·good/17",
          "·restaurant/18",
          "·for/19",
          "·a/20",
          "·date/21",
          "·night/22",
          "?/23",
          "<end_of_turn>/24",
          "↩\n/25",
          "<start_of_turn>/26",
          "model/27",
          "↩\n/28",
          "Of/29",
          "·course/30",
          "!/31",
          "·I/32",
          "·can/33",
          "·help/34",
          "·with/35",
          "·that/36",
          "./37",
          "·Are/38",
          "·you/39",
          "·looking/40",
          "·for/41",
          "·a/42",
          "·specific/43",
          "·type/44",
          "·of/45",
          "·cuisine/46",
          "·or/47",
          "·any/48",
          "·particular/49",
          "·location/50",
          "?/51",
          "<end_of_turn>/52",
          "↩\n/53",
          "<start_of_turn>/54",
          "user/55",
          "↩\n/56",
          "Hmm/57",
          ",/58",
          "·I/59",
          "'/60",
          "d/61",
          "·like/62",
          "·to/63",
          "·go/64",
          "·to/65",
          "·a/66",
          "·place/67",
          "·that/68",
          "·serves/69",
          "·Italian/70",
          "·cuisine/71",
          "./72",
          "·And/73",
          "·preferably/74",
          "·in/75",
          "·a/76",
          "·romantic/77",
          "·setting/78",
          "./79",
          "<end_of_turn>/80",
          "↩\n/81",
          "<start_of_turn>/82",
          "model/83",
          "↩\n/84",
          "Sure/85",
          "·thing/86",
          "!/87",
          "·I/88",
          "·have/89",
          "·just/90",
          "·the/91",
          "·place/92",
          "·for/93",
          "·you/94",
          "./95",
          "·A/96",
          "·highly/97",
          "·recommended/98",
          "·Italian/99",
          "·restaurant/100",
          "·for/101",
          "·a/102",
          "·romantic/103",
          "·date/104",
          "·night/105",
          "·is/106",
          "·\"/107",
          "La/108",
          "·Tratt/109",
          "oria/110",
          "\"./111",
          "·It/112",
          "'/113",
          "s/114",
          "·located/115",
          "·in/116",
          "·the/117",
          "·heart/118",
          "·of/119",
          "·the/120",
          "·city/121",
          "·and/122",
          "·has/123",
          "·a/124",
          "·cozy/125",
          "·ambiance/126",
          "·with/127",
          "·dim/128",
          "·lights/129",
          "·and/130",
          "·candle/131",
          "lit/132",
          "·tables/133",
          "./134",
          "·The/135",
          "·menu/136",
          "·offers/137",
          "·a/138",
          "·wide/139",
          "·variety/140",
          "·of/141",
          "·delicious/142",
          "·Italian/143",
          "·dishes/144",
          "./145",
          "·It/146",
          "'/147",
          "s/148",
          "·perfect/149",
          "·for/150",
          "·creating/151",
          "·a/152",
          "·special/153",
          "·atmosphere/154",
          "·for/155",
          "·your/156",
          "·date/157",
          "./158",
          "<end_of_turn>/159",
          "↩\n/160",
          "<start_of_turn>/161",
          "user/162",
          "↩\n/163",
          "That/164",
          "·sounds/165",
          "·fantastic/166",
          "!/167",
          "·Is/168",
          "·it/169",
          "·usually/170",
          "·busy/171",
          "·on/172",
          "·Saturday/173",
          "·evenings/174",
          "?/175",
          "<end_of_turn>/176",
          "↩\n/177",
          "<start_of_turn>/178",
          "model/179",
          "↩\n/180",
          "Satur/181",
          "days/182",
          "·can/183",
          "·get/184",
          "·quite/185",
          "·busy/186",
          ",/187",
          "·especially/188",
          "·for/189",
          "·romantic/190",
          "·dinner/191",
          "·dates/192",
          "./193",
          "·I/194",
          "·would/195",
          "·recommend/196",
          "·making/197",
          "·a/198",
          "·reservation/199",
          "·in/200",
          "·advance/201",
          "·to/202",
          "·secure/203",
          "·a/204",
          "·table/205",
          "./206",
          "·Would/207",
          "·you/208",
          "·like/209",
          "·me/210",
          "·to/211",
          "·provide/212",
          "·their/213",
          "·contact/214",
          "·information/215",
          "·so/216",
          "·you/217",
          "·can/218",
          "·make/219",
          "·a/220",
          "·reservation/221",
          "?/222",
          "<end_of_turn>/223",
          "↩\n/224",
          "<start_of_turn>/225",
          "user/226",
          "↩\n/227",
          "Yes/228",
          ",/229",
          "·please/230",
          "!/231",
          "·That/232",
          "·would/233",
          "·be/234",
          "·great/235",
          "./236",
          "<end_of_turn>/237",
          "↩\n/238",
          "<start_of_turn>/239",
          "model/240",
          "↩\n/241",
          "Certainly/242",
          "!/243",
          "·Here/244",
          "·is/245",
          "·the/246",
          "·contact/247",
          "·information/248",
          "·for/249",
          "·\"/250",
          "La/251",
          "·Tratt/252",
          "oria/253",
          "\":/254",
          "↩\n/255",
          "-/256",
          "·Phone/257",
          ":/258",
          "·+/259",
          "1/260",
          "·(/261",
          "1/262",
          "2/263",
          "3/264",
          ")/265",
          "·/266",
          "4/267",
          "5/268",
          "6/269",
          "-/270",
          "7/271",
          "8/272",
          "9/273",
          "0/274",
          "↩\n/275",
          "-/276",
          "·Email/277",
          ":/278",
          "·info/279",
          "@/280",
          "lat/281",
          "ratt/282",
          "oria/283",
          "./284",
          "com/285",
          "↩\n/286",
          "-/287",
          "·Website/288",
          ":/289",
          "·www/290",
          "./291",
          "lat/292",
          "ratt/293",
          "oria/294",
          "./295",
          "com/296",
          "<end_of_turn>/297",
          "↩\n/298",
          "<start_of_turn>/299",
          "user/300",
          "↩\n/301",
          "Thank/302",
          "·you/303",
          "·so/304",
          "·much/305",
          "!/306",
          "·I/307",
          "'/308",
          "ll/309",
          "·make/310",
          "·sure/311",
          "·to/312",
          "·contact/313",
          "·them/314",
          "·and/315",
          "·reserve/316",
          "·a/317",
          "·table/318",
          "./319",
          "<end_of_turn>/320",
          "↩\n/321",
          "<start_of_turn>/322",
          "model/323"
         ],
         "xaxis": "x",
         "y": [
          0,
          0.00006198883056640625,
          0.00004482269287109375,
          -0.00014019012451171875,
          -0.00005888938903808594,
          0.00002658367156982422,
          -0.0087890625,
          0.00086212158203125,
          0.00042724609375,
          -0.00041961669921875,
          -0.000057697296142578125,
          -0.00079345703125,
          0.0004749298095703125,
          0.000102996826171875,
          -0.000324249267578125,
          0.00018596649169921875,
          0.0003948211669921875,
          0.00051116943359375,
          0.0023193359375,
          0.0002880096435546875,
          -0.00037384033203125,
          0.007781982421875,
          0.01025390625,
          0.0005645751953125,
          -0.00099945068359375,
          0.0006103515625,
          0.000652313232421875,
          -0.00579833984375,
          0.000904083251953125,
          0.000682830810546875,
          -0.000667572021484375,
          0.00031280517578125,
          0.00179290771484375,
          0.000301361083984375,
          0.0004024505615234375,
          0.0001316070556640625,
          0.00012683868408203125,
          0.00011730194091796875,
          0.00041961669921875,
          0.01416015625,
          -0.00003314018249511719,
          0.00017642974853515625,
          0.0002651214599609375,
          0.00099945068359375,
          0.000644683837890625,
          0.00019741058349609375,
          0.0003604888916015625,
          0.0001392364501953125,
          -0.00021839141845703125,
          0.00010061264038085938,
          0.00013065338134765625,
          0.000293731689453125,
          -0.01104736328125,
          -0.0004863739013671875,
          -0.00157928466796875,
          0.025634765625,
          0.00115203857421875,
          -0.002838134765625,
          -0.00008153915405273438,
          0.44921875,
          -0.00180816650390625,
          0.00013256072998046875,
          0.00007534027099609375,
          0.0003299713134765625,
          0.004730224609375,
          0.00022125244140625,
          0.000614166259765625,
          -0.00015354156494140625,
          0.000028967857360839844,
          -0.00009775161743164062,
          -0.058837890625,
          -0.00014400482177734375,
          -0.001739501953125,
          -0.00005245208740234375,
          0.0001735687255859375,
          -0.000644683837890625,
          0.00058746337890625,
          0.003265380859375,
          -0.000385284423828125,
          -0.001190185546875,
          -0.0004062652587890625,
          0.004638671875,
          -0.010986328125,
          -0.0006866455078125,
          0.00009393692016601562,
          0.0030670166015625,
          0.00543212890625,
          0.00018024444580078125,
          0.000972747802734375,
          0.0002002716064453125,
          0.000579833984375,
          0.000072479248046875,
          -0.0003261566162109375,
          -0.000659942626953125,
          -0.0011138916015625,
          0.000537872314453125,
          0.0000457763671875,
          -0.00020503997802734375,
          0.000286102294921875,
          -0.0087890625,
          -0.0003643035888671875,
          0.00029754638671875,
          -0.00090789794921875,
          -0.0037994384765625,
          0.006134033203125,
          -0.00006246566772460938,
          -0.0003604888916015625,
          0.00140380859375,
          -0.00677490234375,
          -0.00445556640625,
          0.0025177001953125,
          0.00095367431640625,
          -0.000087738037109375,
          -0.000019550323486328125,
          -0.000001519918441772461,
          -0.00035858154296875,
          -0.0086669921875,
          -0.0011444091796875,
          -0.00038909912109375,
          -0.007781982421875,
          -0.00201416015625,
          -0.000011324882507324219,
          0.0001888275146484375,
          0.00007581710815429688,
          0.000052928924560546875,
          0.0003528594970703125,
          -0.0000018700957298278809,
          -0.000133514404296875,
          0.00012302398681640625,
          0.00012683868408203125,
          0.00021457672119140625,
          -0.003082275390625,
          -0.00009298324584960938,
          0.000377655029296875,
          -0.000029921531677246094,
          -0.00008058547973632812,
          -0.00031280517578125,
          -0.0000934600830078125,
          -0.00058746337890625,
          -0.000013589859008789062,
          0.00025177001953125,
          -0.00007677078247070312,
          -0.00002956390380859375,
          -0.00180816650390625,
          -0.000080108642578125,
          -0.00022983551025390625,
          0.0001316070556640625,
          -0.000308990478515625,
          -0.000029087066650390625,
          -0.000152587890625,
          -0.00031280517578125,
          -0.00011014938354492188,
          0.00003457069396972656,
          -0.0028228759765625,
          -0.000017762184143066406,
          -0.00011730194091796875,
          0.275390625,
          0.0021209716796875,
          0.00055694580078125,
          0.009765625,
          0.00921630859375,
          0.016845703125,
          -0.055908203125,
          0.0023345947265625,
          0.00075531005859375,
          -0.0001220703125,
          -0.00145721435546875,
          0.000335693359375,
          0.00048828125,
          0.0020751953125,
          0.0003757476806640625,
          -0.00015544891357421875,
          0.0002956390380859375,
          0.006927490234375,
          0.002105712890625,
          0.0001735687255859375,
          0.0033111572265625,
          0.000850677490234375,
          0.001922607421875,
          0.01031494140625,
          0.000301361083984375,
          0.00113677978515625,
          0.0008544921875,
          -0.000016689300537109375,
          -0.0001201629638671875,
          -0.00011014938354492188,
          0.00017070770263671875,
          -0.000017523765563964844,
          -0.000045299530029296875,
          -0.00004696846008300781,
          -0.000957489013671875,
          0.000469207763671875,
          -0.0010986328125,
          -0.00012493133544921875,
          0.000736236572265625,
          0.0003299713134765625,
          -0.00004220008850097656,
          -0.00018978118896484375,
          0.000949859619140625,
          0.00096893310546875,
          0.0001544952392578125,
          0.000270843505859375,
          0.000012874603271484375,
          0.000020384788513183594,
          -0.000011861324310302734,
          0.0004673004150390625,
          0.000010192394256591797,
          0.000904083251953125,
          -0.0038299560546875,
          0.00058746337890625,
          0.002899169921875,
          -0.00011110305786132812,
          -0.00006103515625,
          -0.0030975341796875,
          -0.00179290771484375,
          0.000823974609375,
          0.00007343292236328125,
          0.037109375,
          0.00005698204040527344,
          -0.000023245811462402344,
          -0.00116729736328125,
          0.00116729736328125,
          -0.00160980224609375,
          -0.00142669677734375,
          0.001800537109375,
          0.01275634765625,
          -0.00469970703125,
          0.00102996826171875,
          0.0001468658447265625,
          0.0002918243408203125,
          -0.002288818359375,
          -0.000762939453125,
          -0.002288818359375,
          0.00115203857421875,
          -0.03759765625,
          -0.00113677978515625,
          0.0002193450927734375,
          0.0009613037109375,
          -0.0001697540283203125,
          -0.004730224609375,
          0.0019989013671875,
          0.000316619873046875,
          0.00121307373046875,
          0.0003719329833984375,
          0.000537872314453125,
          0.0003376007080078125,
          0.00016880035400390625,
          0.00004601478576660156,
          0.0004825592041015625,
          -0.00054168701171875,
          0.00848388671875,
          0.0810546875,
          0.0007781982421875,
          -0.00506591796875,
          0.0001506805419921875,
          0.0000031441450119018555,
          0.0003261566162109375,
          -0.001617431640625,
          -0.00006008148193359375,
          -0.006561279296875,
          -0.002227783203125,
          -0.00060272216796875,
          0.0006561279296875,
          0.0037384033203125,
          0.0177001953125,
          -0.00104522705078125,
          -0.000972747802734375,
          0.0031890869140625,
          0.003875732421875,
          0.00087738037109375,
          0.000591278076171875,
          0.00136566162109375,
          0.005401611328125,
          0.0029449462890625,
          0.0032196044921875,
          0.0010528564453125,
          -0.000054836273193359375,
          -0.00064849853515625,
          -0.00016307830810546875,
          0.00213623046875,
          0.001983642578125,
          0.00494384765625,
          0.003021240234375,
          0.0078125,
          0.00408935546875,
          -0.0004863739013671875,
          0.000823974609375,
          0.00007534027099609375,
          -0.00003719329833984375,
          0.000025987625122070312,
          0.0003814697265625,
          0.00048828125,
          0.0000064373016357421875,
          -0.00970458984375,
          0.004638671875,
          -0.0216064453125,
          0.002044677734375,
          -0.00616455078125,
          0.0035552978515625,
          -0.001312255859375,
          -0.04833984375,
          0.002716064453125,
          0.035400390625,
          -0.042724609375,
          0.00274658203125,
          -0.0966796875,
          -0.004241943359375,
          0.053955078125,
          0.0040283203125,
          -0.000774383544921875,
          0.0004425048828125,
          0.00159454345703125,
          0.0004024505615234375,
          -0.005615234375,
          -0.00445556640625,
          -0.0001354217529296875,
          -0.0022430419921875,
          -0.00115203857421875,
          -0.0014190673828125,
          -0.01458740234375,
          0.051025390625,
          0.000476837158203125,
          -0.011474609375,
          0.007415771484375
         ],
         "yaxis": "y"
        }
       ],
       "layout": {
        "legend": {
         "title": {
          "text": "Color"
         },
         "tracegroupgap": 0
        },
        "template": {
         "data": {
          "bar": [
           {
            "error_x": {
             "color": "#2a3f5f"
            },
            "error_y": {
             "color": "#2a3f5f"
            },
            "marker": {
             "line": {
              "color": "#E5ECF6",
              "width": 0.5
             },
             "pattern": {
              "fillmode": "overlay",
              "size": 10,
              "solidity": 0.2
             }
            },
            "type": "bar"
           }
          ],
          "barpolar": [
           {
            "marker": {
             "line": {
              "color": "#E5ECF6",
              "width": 0.5
             },
             "pattern": {
              "fillmode": "overlay",
              "size": 10,
              "solidity": 0.2
             }
            },
            "type": "barpolar"
           }
          ],
          "carpet": [
           {
            "aaxis": {
             "endlinecolor": "#2a3f5f",
             "gridcolor": "white",
             "linecolor": "white",
             "minorgridcolor": "white",
             "startlinecolor": "#2a3f5f"
            },
            "baxis": {
             "endlinecolor": "#2a3f5f",
             "gridcolor": "white",
             "linecolor": "white",
             "minorgridcolor": "white",
             "startlinecolor": "#2a3f5f"
            },
            "type": "carpet"
           }
          ],
          "choropleth": [
           {
            "colorbar": {
             "outlinewidth": 0,
             "ticks": ""
            },
            "type": "choropleth"
           }
          ],
          "contour": [
           {
            "colorbar": {
             "outlinewidth": 0,
             "ticks": ""
            },
            "colorscale": [
             [
              0,
              "#0d0887"
             ],
             [
              0.1111111111111111,
              "#46039f"
             ],
             [
              0.2222222222222222,
              "#7201a8"
             ],
             [
              0.3333333333333333,
              "#9c179e"
             ],
             [
              0.4444444444444444,
              "#bd3786"
             ],
             [
              0.5555555555555556,
              "#d8576b"
             ],
             [
              0.6666666666666666,
              "#ed7953"
             ],
             [
              0.7777777777777778,
              "#fb9f3a"
             ],
             [
              0.8888888888888888,
              "#fdca26"
             ],
             [
              1,
              "#f0f921"
             ]
            ],
            "type": "contour"
           }
          ],
          "contourcarpet": [
           {
            "colorbar": {
             "outlinewidth": 0,
             "ticks": ""
            },
            "type": "contourcarpet"
           }
          ],
          "heatmap": [
           {
            "colorbar": {
             "outlinewidth": 0,
             "ticks": ""
            },
            "colorscale": [
             [
              0,
              "#0d0887"
             ],
             [
              0.1111111111111111,
              "#46039f"
             ],
             [
              0.2222222222222222,
              "#7201a8"
             ],
             [
              0.3333333333333333,
              "#9c179e"
             ],
             [
              0.4444444444444444,
              "#bd3786"
             ],
             [
              0.5555555555555556,
              "#d8576b"
             ],
             [
              0.6666666666666666,
              "#ed7953"
             ],
             [
              0.7777777777777778,
              "#fb9f3a"
             ],
             [
              0.8888888888888888,
              "#fdca26"
             ],
             [
              1,
              "#f0f921"
             ]
            ],
            "type": "heatmap"
           }
          ],
          "heatmapgl": [
           {
            "colorbar": {
             "outlinewidth": 0,
             "ticks": ""
            },
            "colorscale": [
             [
              0,
              "#0d0887"
             ],
             [
              0.1111111111111111,
              "#46039f"
             ],
             [
              0.2222222222222222,
              "#7201a8"
             ],
             [
              0.3333333333333333,
              "#9c179e"
             ],
             [
              0.4444444444444444,
              "#bd3786"
             ],
             [
              0.5555555555555556,
              "#d8576b"
             ],
             [
              0.6666666666666666,
              "#ed7953"
             ],
             [
              0.7777777777777778,
              "#fb9f3a"
             ],
             [
              0.8888888888888888,
              "#fdca26"
             ],
             [
              1,
              "#f0f921"
             ]
            ],
            "type": "heatmapgl"
           }
          ],
          "histogram": [
           {
            "marker": {
             "pattern": {
              "fillmode": "overlay",
              "size": 10,
              "solidity": 0.2
             }
            },
            "type": "histogram"
           }
          ],
          "histogram2d": [
           {
            "colorbar": {
             "outlinewidth": 0,
             "ticks": ""
            },
            "colorscale": [
             [
              0,
              "#0d0887"
             ],
             [
              0.1111111111111111,
              "#46039f"
             ],
             [
              0.2222222222222222,
              "#7201a8"
             ],
             [
              0.3333333333333333,
              "#9c179e"
             ],
             [
              0.4444444444444444,
              "#bd3786"
             ],
             [
              0.5555555555555556,
              "#d8576b"
             ],
             [
              0.6666666666666666,
              "#ed7953"
             ],
             [
              0.7777777777777778,
              "#fb9f3a"
             ],
             [
              0.8888888888888888,
              "#fdca26"
             ],
             [
              1,
              "#f0f921"
             ]
            ],
            "type": "histogram2d"
           }
          ],
          "histogram2dcontour": [
           {
            "colorbar": {
             "outlinewidth": 0,
             "ticks": ""
            },
            "colorscale": [
             [
              0,
              "#0d0887"
             ],
             [
              0.1111111111111111,
              "#46039f"
             ],
             [
              0.2222222222222222,
              "#7201a8"
             ],
             [
              0.3333333333333333,
              "#9c179e"
             ],
             [
              0.4444444444444444,
              "#bd3786"
             ],
             [
              0.5555555555555556,
              "#d8576b"
             ],
             [
              0.6666666666666666,
              "#ed7953"
             ],
             [
              0.7777777777777778,
              "#fb9f3a"
             ],
             [
              0.8888888888888888,
              "#fdca26"
             ],
             [
              1,
              "#f0f921"
             ]
            ],
            "type": "histogram2dcontour"
           }
          ],
          "mesh3d": [
           {
            "colorbar": {
             "outlinewidth": 0,
             "ticks": ""
            },
            "type": "mesh3d"
           }
          ],
          "parcoords": [
           {
            "line": {
             "colorbar": {
              "outlinewidth": 0,
              "ticks": ""
             }
            },
            "type": "parcoords"
           }
          ],
          "pie": [
           {
            "automargin": true,
            "type": "pie"
           }
          ],
          "scatter": [
           {
            "fillpattern": {
             "fillmode": "overlay",
             "size": 10,
             "solidity": 0.2
            },
            "type": "scatter"
           }
          ],
          "scatter3d": [
           {
            "line": {
             "colorbar": {
              "outlinewidth": 0,
              "ticks": ""
             }
            },
            "marker": {
             "colorbar": {
              "outlinewidth": 0,
              "ticks": ""
             }
            },
            "type": "scatter3d"
           }
          ],
          "scattercarpet": [
           {
            "marker": {
             "colorbar": {
              "outlinewidth": 0,
              "ticks": ""
             }
            },
            "type": "scattercarpet"
           }
          ],
          "scattergeo": [
           {
            "marker": {
             "colorbar": {
              "outlinewidth": 0,
              "ticks": ""
             }
            },
            "type": "scattergeo"
           }
          ],
          "scattergl": [
           {
            "marker": {
             "colorbar": {
              "outlinewidth": 0,
              "ticks": ""
             }
            },
            "type": "scattergl"
           }
          ],
          "scattermapbox": [
           {
            "marker": {
             "colorbar": {
              "outlinewidth": 0,
              "ticks": ""
             }
            },
            "type": "scattermapbox"
           }
          ],
          "scatterpolar": [
           {
            "marker": {
             "colorbar": {
              "outlinewidth": 0,
              "ticks": ""
             }
            },
            "type": "scatterpolar"
           }
          ],
          "scatterpolargl": [
           {
            "marker": {
             "colorbar": {
              "outlinewidth": 0,
              "ticks": ""
             }
            },
            "type": "scatterpolargl"
           }
          ],
          "scatterternary": [
           {
            "marker": {
             "colorbar": {
              "outlinewidth": 0,
              "ticks": ""
             }
            },
            "type": "scatterternary"
           }
          ],
          "surface": [
           {
            "colorbar": {
             "outlinewidth": 0,
             "ticks": ""
            },
            "colorscale": [
             [
              0,
              "#0d0887"
             ],
             [
              0.1111111111111111,
              "#46039f"
             ],
             [
              0.2222222222222222,
              "#7201a8"
             ],
             [
              0.3333333333333333,
              "#9c179e"
             ],
             [
              0.4444444444444444,
              "#bd3786"
             ],
             [
              0.5555555555555556,
              "#d8576b"
             ],
             [
              0.6666666666666666,
              "#ed7953"
             ],
             [
              0.7777777777777778,
              "#fb9f3a"
             ],
             [
              0.8888888888888888,
              "#fdca26"
             ],
             [
              1,
              "#f0f921"
             ]
            ],
            "type": "surface"
           }
          ],
          "table": [
           {
            "cells": {
             "fill": {
              "color": "#EBF0F8"
             },
             "line": {
              "color": "white"
             }
            },
            "header": {
             "fill": {
              "color": "#C8D4E3"
             },
             "line": {
              "color": "white"
             }
            },
            "type": "table"
           }
          ]
         },
         "layout": {
          "annotationdefaults": {
           "arrowcolor": "#2a3f5f",
           "arrowhead": 0,
           "arrowwidth": 1
          },
          "autotypenumbers": "strict",
          "coloraxis": {
           "colorbar": {
            "outlinewidth": 0,
            "ticks": ""
           }
          },
          "colorscale": {
           "diverging": [
            [
             0,
             "#8e0152"
            ],
            [
             0.1,
             "#c51b7d"
            ],
            [
             0.2,
             "#de77ae"
            ],
            [
             0.3,
             "#f1b6da"
            ],
            [
             0.4,
             "#fde0ef"
            ],
            [
             0.5,
             "#f7f7f7"
            ],
            [
             0.6,
             "#e6f5d0"
            ],
            [
             0.7,
             "#b8e186"
            ],
            [
             0.8,
             "#7fbc41"
            ],
            [
             0.9,
             "#4d9221"
            ],
            [
             1,
             "#276419"
            ]
           ],
           "sequential": [
            [
             0,
             "#0d0887"
            ],
            [
             0.1111111111111111,
             "#46039f"
            ],
            [
             0.2222222222222222,
             "#7201a8"
            ],
            [
             0.3333333333333333,
             "#9c179e"
            ],
            [
             0.4444444444444444,
             "#bd3786"
            ],
            [
             0.5555555555555556,
             "#d8576b"
            ],
            [
             0.6666666666666666,
             "#ed7953"
            ],
            [
             0.7777777777777778,
             "#fb9f3a"
            ],
            [
             0.8888888888888888,
             "#fdca26"
            ],
            [
             1,
             "#f0f921"
            ]
           ],
           "sequentialminus": [
            [
             0,
             "#0d0887"
            ],
            [
             0.1111111111111111,
             "#46039f"
            ],
            [
             0.2222222222222222,
             "#7201a8"
            ],
            [
             0.3333333333333333,
             "#9c179e"
            ],
            [
             0.4444444444444444,
             "#bd3786"
            ],
            [
             0.5555555555555556,
             "#d8576b"
            ],
            [
             0.6666666666666666,
             "#ed7953"
            ],
            [
             0.7777777777777778,
             "#fb9f3a"
            ],
            [
             0.8888888888888888,
             "#fdca26"
            ],
            [
             1,
             "#f0f921"
            ]
           ]
          },
          "colorway": [
           "#636efa",
           "#EF553B",
           "#00cc96",
           "#ab63fa",
           "#FFA15A",
           "#19d3f3",
           "#FF6692",
           "#B6E880",
           "#FF97FF",
           "#FECB52"
          ],
          "font": {
           "color": "#2a3f5f"
          },
          "geo": {
           "bgcolor": "white",
           "lakecolor": "white",
           "landcolor": "#E5ECF6",
           "showlakes": true,
           "showland": true,
           "subunitcolor": "white"
          },
          "hoverlabel": {
           "align": "left"
          },
          "hovermode": "closest",
          "mapbox": {
           "style": "light"
          },
          "paper_bgcolor": "white",
          "plot_bgcolor": "#E5ECF6",
          "polar": {
           "angularaxis": {
            "gridcolor": "white",
            "linecolor": "white",
            "ticks": ""
           },
           "bgcolor": "#E5ECF6",
           "radialaxis": {
            "gridcolor": "white",
            "linecolor": "white",
            "ticks": ""
           }
          },
          "scene": {
           "xaxis": {
            "backgroundcolor": "#E5ECF6",
            "gridcolor": "white",
            "gridwidth": 2,
            "linecolor": "white",
            "showbackground": true,
            "ticks": "",
            "zerolinecolor": "white"
           },
           "yaxis": {
            "backgroundcolor": "#E5ECF6",
            "gridcolor": "white",
            "gridwidth": 2,
            "linecolor": "white",
            "showbackground": true,
            "ticks": "",
            "zerolinecolor": "white"
           },
           "zaxis": {
            "backgroundcolor": "#E5ECF6",
            "gridcolor": "white",
            "gridwidth": 2,
            "linecolor": "white",
            "showbackground": true,
            "ticks": "",
            "zerolinecolor": "white"
           }
          },
          "shapedefaults": {
           "line": {
            "color": "#2a3f5f"
           }
          },
          "ternary": {
           "aaxis": {
            "gridcolor": "white",
            "linecolor": "white",
            "ticks": ""
           },
           "baxis": {
            "gridcolor": "white",
            "linecolor": "white",
            "ticks": ""
           },
           "bgcolor": "#E5ECF6",
           "caxis": {
            "gridcolor": "white",
            "linecolor": "white",
            "ticks": ""
           }
          },
          "title": {
           "x": 0.05
          },
          "xaxis": {
           "automargin": true,
           "gridcolor": "white",
           "linecolor": "white",
           "ticks": "",
           "title": {
            "standoff": 15
           },
           "zerolinecolor": "white",
           "zerolinewidth": 2
          },
          "yaxis": {
           "automargin": true,
           "gridcolor": "white",
           "linecolor": "white",
           "ticks": "",
           "title": {
            "standoff": 15
           },
           "zerolinecolor": "white",
           "zerolinewidth": 2
          }
         }
        },
        "title": {
         "text": "q Contributions for Layer 26"
        },
        "xaxis": {
         "anchor": "y",
         "domain": [
          0,
          1
         ],
         "title": {
          "text": "x"
         }
        },
        "yaxis": {
         "anchor": "x",
         "domain": [
          0,
          1
         ],
         "title": {
          "text": "y"
         }
        }
       }
      }
     },
     "metadata": {},
     "output_type": "display_data"
    }
   ],
   "source": [
    "from utils.plots import get_contributions_a_prompt\n",
    "layers_to_plot = [5, 8, 10, 15, 20, 25]\n",
    "contribs, labelled_tokens = get_contributions_a_prompt(all_attn_AP_scores[3], probe_layer, all_labelled_tokens[4], key=\"q\", layers=layers_to_plot)"
   ]
  },
  {
   "cell_type": "code",
   "execution_count": 51,
   "metadata": {},
   "outputs": [],
   "source": [
    "top_k_per_layer = []\n",
    "top_k_labelled_tokens_per_layer = []\n",
    "labelled_tokens = all_labelled_tokens[4]\n",
    "k = 10\n",
    "for contribs_per_layer in contribs:\n",
    "    top_k_indices = contribs_per_layer.abs().sort(descending=True).indices[:k]\n",
    "    top_k_values = contribs_per_layer[top_k_indices]\n",
    "    top_k_per_layer.append(top_k_values)\n",
    "    top_k_toks = []\n",
    "    for i in range(k):\n",
    "        top_k_toks.append(labelled_tokens[top_k_indices[i]].split(\"/\")[0])\n",
    "    top_k_labelled_tokens_per_layer.append(top_k_toks)"
   ]
  },
  {
   "cell_type": "code",
   "execution_count": 52,
   "metadata": {},
   "outputs": [],
   "source": [
    "# count occurences of each token\n",
    "# from collections import Counter\n",
    "# counts = []\n",
    "# for layer in range(len(top_k_labelled_tokens_per_layer)):\n",
    "#     counts.append(dict(Counter(top_k_labelled_tokens_per_layer[layer])))\n"
   ]
  },
  {
   "cell_type": "code",
   "execution_count": 56,
   "metadata": {},
   "outputs": [
    {
     "data": {
      "application/vnd.plotly.v1+json": {
       "config": {
        "plotlyServerURL": "https://plot.ly"
       },
       "data": [
        {
         "coloraxis": "coloraxis",
         "hovertemplate": "x: %{x}<br>y: %{y}<br>color: %{z}<extra></extra>",
         "name": "0",
         "type": "heatmap",
         "x": [
          "Layer 5",
          "Layer 8",
          "Layer 10",
          "Layer 15",
          "Layer 20",
          "Layer 25"
         ],
         "xaxis": "x",
         "y": [
          "·would",
          "<end_of_turn>",
          "3",
          "model",
          "·you",
          "·be",
          "·your",
          "Thank",
          "·date",
          "↩\n",
          "·much",
          "·I",
          "·Italian",
          "·contact",
          "La",
          "user",
          ".",
          "<start_of_turn>"
         ],
         "yaxis": "y",
         "z": [
          [
           0,
           0,
           -0.11474609375,
           0,
           0,
           0
          ],
          [
           -0.0017903645833333333,
           0.1767578125,
           0.11767578125,
           -0.14013671875,
           -0.138671875,
           0.051025390625
          ],
          [
           0,
           0,
           0,
           0,
           0.1787109375,
           0
          ],
          [
           -0.2177734375,
           -0.125,
           -0.169921875,
           0,
           -0.1787109375,
           0
          ],
          [
           0,
           0,
           -0.25390625,
           0,
           0.2060546875,
           -0.042724609375
          ],
          [
           0,
           0.2333984375,
           0.34375,
           -0.103515625,
           0,
           0
          ],
          [
           0,
           0,
           0,
           0,
           0.23046875,
           0.275390625
          ],
          [
           0,
           -0.419921875,
           -0.146484375,
           0,
           0.41796875,
           0
          ],
          [
           0.00244140625,
           0.125,
           -0.009765625,
           0.25048828125,
           0.1669921875,
           0
          ],
          [
           0.1171875,
           0,
           0,
           0,
           0,
           0
          ],
          [
           0,
           0,
           -0.1416015625,
           0,
           0,
           -0.0966796875
          ],
          [
           0,
           -0.1337890625,
           0,
           0.130859375,
           0.73046875,
           0.2515869140625
          ],
          [
           0,
           0,
           0,
           0,
           0,
           -0.058837890625
          ],
          [
           0,
           0,
           0,
           0.1328125,
           0,
           0
          ],
          [
           0,
           0,
           0,
           0,
           0,
           0.0810546875
          ],
          [
           0.359375,
           -0.20735677083333334,
           0,
           0,
           0.1162109375,
           -0.0521240234375
          ],
          [
           0,
           0,
           0,
           0.1376953125,
           0,
           0
          ],
          [
           -0.1572265625,
           0.158203125,
           0.2451171875,
           -0.12890625,
           -0.1865234375,
           0
          ]
         ]
        }
       ],
       "layout": {
        "coloraxis": {
         "cmid": 0,
         "colorscale": [
          [
           0,
           "rgb(103,0,31)"
          ],
          [
           0.1,
           "rgb(178,24,43)"
          ],
          [
           0.2,
           "rgb(214,96,77)"
          ],
          [
           0.3,
           "rgb(244,165,130)"
          ],
          [
           0.4,
           "rgb(253,219,199)"
          ],
          [
           0.5,
           "rgb(247,247,247)"
          ],
          [
           0.6,
           "rgb(209,229,240)"
          ],
          [
           0.7,
           "rgb(146,197,222)"
          ],
          [
           0.8,
           "rgb(67,147,195)"
          ],
          [
           0.9,
           "rgb(33,102,172)"
          ],
          [
           1,
           "rgb(5,48,97)"
          ]
         ]
        },
        "template": {
         "data": {
          "bar": [
           {
            "error_x": {
             "color": "#2a3f5f"
            },
            "error_y": {
             "color": "#2a3f5f"
            },
            "marker": {
             "line": {
              "color": "#E5ECF6",
              "width": 0.5
             },
             "pattern": {
              "fillmode": "overlay",
              "size": 10,
              "solidity": 0.2
             }
            },
            "type": "bar"
           }
          ],
          "barpolar": [
           {
            "marker": {
             "line": {
              "color": "#E5ECF6",
              "width": 0.5
             },
             "pattern": {
              "fillmode": "overlay",
              "size": 10,
              "solidity": 0.2
             }
            },
            "type": "barpolar"
           }
          ],
          "carpet": [
           {
            "aaxis": {
             "endlinecolor": "#2a3f5f",
             "gridcolor": "white",
             "linecolor": "white",
             "minorgridcolor": "white",
             "startlinecolor": "#2a3f5f"
            },
            "baxis": {
             "endlinecolor": "#2a3f5f",
             "gridcolor": "white",
             "linecolor": "white",
             "minorgridcolor": "white",
             "startlinecolor": "#2a3f5f"
            },
            "type": "carpet"
           }
          ],
          "choropleth": [
           {
            "colorbar": {
             "outlinewidth": 0,
             "ticks": ""
            },
            "type": "choropleth"
           }
          ],
          "contour": [
           {
            "colorbar": {
             "outlinewidth": 0,
             "ticks": ""
            },
            "colorscale": [
             [
              0,
              "#0d0887"
             ],
             [
              0.1111111111111111,
              "#46039f"
             ],
             [
              0.2222222222222222,
              "#7201a8"
             ],
             [
              0.3333333333333333,
              "#9c179e"
             ],
             [
              0.4444444444444444,
              "#bd3786"
             ],
             [
              0.5555555555555556,
              "#d8576b"
             ],
             [
              0.6666666666666666,
              "#ed7953"
             ],
             [
              0.7777777777777778,
              "#fb9f3a"
             ],
             [
              0.8888888888888888,
              "#fdca26"
             ],
             [
              1,
              "#f0f921"
             ]
            ],
            "type": "contour"
           }
          ],
          "contourcarpet": [
           {
            "colorbar": {
             "outlinewidth": 0,
             "ticks": ""
            },
            "type": "contourcarpet"
           }
          ],
          "heatmap": [
           {
            "colorbar": {
             "outlinewidth": 0,
             "ticks": ""
            },
            "colorscale": [
             [
              0,
              "#0d0887"
             ],
             [
              0.1111111111111111,
              "#46039f"
             ],
             [
              0.2222222222222222,
              "#7201a8"
             ],
             [
              0.3333333333333333,
              "#9c179e"
             ],
             [
              0.4444444444444444,
              "#bd3786"
             ],
             [
              0.5555555555555556,
              "#d8576b"
             ],
             [
              0.6666666666666666,
              "#ed7953"
             ],
             [
              0.7777777777777778,
              "#fb9f3a"
             ],
             [
              0.8888888888888888,
              "#fdca26"
             ],
             [
              1,
              "#f0f921"
             ]
            ],
            "type": "heatmap"
           }
          ],
          "heatmapgl": [
           {
            "colorbar": {
             "outlinewidth": 0,
             "ticks": ""
            },
            "colorscale": [
             [
              0,
              "#0d0887"
             ],
             [
              0.1111111111111111,
              "#46039f"
             ],
             [
              0.2222222222222222,
              "#7201a8"
             ],
             [
              0.3333333333333333,
              "#9c179e"
             ],
             [
              0.4444444444444444,
              "#bd3786"
             ],
             [
              0.5555555555555556,
              "#d8576b"
             ],
             [
              0.6666666666666666,
              "#ed7953"
             ],
             [
              0.7777777777777778,
              "#fb9f3a"
             ],
             [
              0.8888888888888888,
              "#fdca26"
             ],
             [
              1,
              "#f0f921"
             ]
            ],
            "type": "heatmapgl"
           }
          ],
          "histogram": [
           {
            "marker": {
             "pattern": {
              "fillmode": "overlay",
              "size": 10,
              "solidity": 0.2
             }
            },
            "type": "histogram"
           }
          ],
          "histogram2d": [
           {
            "colorbar": {
             "outlinewidth": 0,
             "ticks": ""
            },
            "colorscale": [
             [
              0,
              "#0d0887"
             ],
             [
              0.1111111111111111,
              "#46039f"
             ],
             [
              0.2222222222222222,
              "#7201a8"
             ],
             [
              0.3333333333333333,
              "#9c179e"
             ],
             [
              0.4444444444444444,
              "#bd3786"
             ],
             [
              0.5555555555555556,
              "#d8576b"
             ],
             [
              0.6666666666666666,
              "#ed7953"
             ],
             [
              0.7777777777777778,
              "#fb9f3a"
             ],
             [
              0.8888888888888888,
              "#fdca26"
             ],
             [
              1,
              "#f0f921"
             ]
            ],
            "type": "histogram2d"
           }
          ],
          "histogram2dcontour": [
           {
            "colorbar": {
             "outlinewidth": 0,
             "ticks": ""
            },
            "colorscale": [
             [
              0,
              "#0d0887"
             ],
             [
              0.1111111111111111,
              "#46039f"
             ],
             [
              0.2222222222222222,
              "#7201a8"
             ],
             [
              0.3333333333333333,
              "#9c179e"
             ],
             [
              0.4444444444444444,
              "#bd3786"
             ],
             [
              0.5555555555555556,
              "#d8576b"
             ],
             [
              0.6666666666666666,
              "#ed7953"
             ],
             [
              0.7777777777777778,
              "#fb9f3a"
             ],
             [
              0.8888888888888888,
              "#fdca26"
             ],
             [
              1,
              "#f0f921"
             ]
            ],
            "type": "histogram2dcontour"
           }
          ],
          "mesh3d": [
           {
            "colorbar": {
             "outlinewidth": 0,
             "ticks": ""
            },
            "type": "mesh3d"
           }
          ],
          "parcoords": [
           {
            "line": {
             "colorbar": {
              "outlinewidth": 0,
              "ticks": ""
             }
            },
            "type": "parcoords"
           }
          ],
          "pie": [
           {
            "automargin": true,
            "type": "pie"
           }
          ],
          "scatter": [
           {
            "fillpattern": {
             "fillmode": "overlay",
             "size": 10,
             "solidity": 0.2
            },
            "type": "scatter"
           }
          ],
          "scatter3d": [
           {
            "line": {
             "colorbar": {
              "outlinewidth": 0,
              "ticks": ""
             }
            },
            "marker": {
             "colorbar": {
              "outlinewidth": 0,
              "ticks": ""
             }
            },
            "type": "scatter3d"
           }
          ],
          "scattercarpet": [
           {
            "marker": {
             "colorbar": {
              "outlinewidth": 0,
              "ticks": ""
             }
            },
            "type": "scattercarpet"
           }
          ],
          "scattergeo": [
           {
            "marker": {
             "colorbar": {
              "outlinewidth": 0,
              "ticks": ""
             }
            },
            "type": "scattergeo"
           }
          ],
          "scattergl": [
           {
            "marker": {
             "colorbar": {
              "outlinewidth": 0,
              "ticks": ""
             }
            },
            "type": "scattergl"
           }
          ],
          "scattermapbox": [
           {
            "marker": {
             "colorbar": {
              "outlinewidth": 0,
              "ticks": ""
             }
            },
            "type": "scattermapbox"
           }
          ],
          "scatterpolar": [
           {
            "marker": {
             "colorbar": {
              "outlinewidth": 0,
              "ticks": ""
             }
            },
            "type": "scatterpolar"
           }
          ],
          "scatterpolargl": [
           {
            "marker": {
             "colorbar": {
              "outlinewidth": 0,
              "ticks": ""
             }
            },
            "type": "scatterpolargl"
           }
          ],
          "scatterternary": [
           {
            "marker": {
             "colorbar": {
              "outlinewidth": 0,
              "ticks": ""
             }
            },
            "type": "scatterternary"
           }
          ],
          "surface": [
           {
            "colorbar": {
             "outlinewidth": 0,
             "ticks": ""
            },
            "colorscale": [
             [
              0,
              "#0d0887"
             ],
             [
              0.1111111111111111,
              "#46039f"
             ],
             [
              0.2222222222222222,
              "#7201a8"
             ],
             [
              0.3333333333333333,
              "#9c179e"
             ],
             [
              0.4444444444444444,
              "#bd3786"
             ],
             [
              0.5555555555555556,
              "#d8576b"
             ],
             [
              0.6666666666666666,
              "#ed7953"
             ],
             [
              0.7777777777777778,
              "#fb9f3a"
             ],
             [
              0.8888888888888888,
              "#fdca26"
             ],
             [
              1,
              "#f0f921"
             ]
            ],
            "type": "surface"
           }
          ],
          "table": [
           {
            "cells": {
             "fill": {
              "color": "#EBF0F8"
             },
             "line": {
              "color": "white"
             }
            },
            "header": {
             "fill": {
              "color": "#C8D4E3"
             },
             "line": {
              "color": "white"
             }
            },
            "type": "table"
           }
          ]
         },
         "layout": {
          "annotationdefaults": {
           "arrowcolor": "#2a3f5f",
           "arrowhead": 0,
           "arrowwidth": 1
          },
          "autotypenumbers": "strict",
          "coloraxis": {
           "colorbar": {
            "outlinewidth": 0,
            "ticks": ""
           }
          },
          "colorscale": {
           "diverging": [
            [
             0,
             "#8e0152"
            ],
            [
             0.1,
             "#c51b7d"
            ],
            [
             0.2,
             "#de77ae"
            ],
            [
             0.3,
             "#f1b6da"
            ],
            [
             0.4,
             "#fde0ef"
            ],
            [
             0.5,
             "#f7f7f7"
            ],
            [
             0.6,
             "#e6f5d0"
            ],
            [
             0.7,
             "#b8e186"
            ],
            [
             0.8,
             "#7fbc41"
            ],
            [
             0.9,
             "#4d9221"
            ],
            [
             1,
             "#276419"
            ]
           ],
           "sequential": [
            [
             0,
             "#0d0887"
            ],
            [
             0.1111111111111111,
             "#46039f"
            ],
            [
             0.2222222222222222,
             "#7201a8"
            ],
            [
             0.3333333333333333,
             "#9c179e"
            ],
            [
             0.4444444444444444,
             "#bd3786"
            ],
            [
             0.5555555555555556,
             "#d8576b"
            ],
            [
             0.6666666666666666,
             "#ed7953"
            ],
            [
             0.7777777777777778,
             "#fb9f3a"
            ],
            [
             0.8888888888888888,
             "#fdca26"
            ],
            [
             1,
             "#f0f921"
            ]
           ],
           "sequentialminus": [
            [
             0,
             "#0d0887"
            ],
            [
             0.1111111111111111,
             "#46039f"
            ],
            [
             0.2222222222222222,
             "#7201a8"
            ],
            [
             0.3333333333333333,
             "#9c179e"
            ],
            [
             0.4444444444444444,
             "#bd3786"
            ],
            [
             0.5555555555555556,
             "#d8576b"
            ],
            [
             0.6666666666666666,
             "#ed7953"
            ],
            [
             0.7777777777777778,
             "#fb9f3a"
            ],
            [
             0.8888888888888888,
             "#fdca26"
            ],
            [
             1,
             "#f0f921"
            ]
           ]
          },
          "colorway": [
           "#636efa",
           "#EF553B",
           "#00cc96",
           "#ab63fa",
           "#FFA15A",
           "#19d3f3",
           "#FF6692",
           "#B6E880",
           "#FF97FF",
           "#FECB52"
          ],
          "font": {
           "color": "#2a3f5f"
          },
          "geo": {
           "bgcolor": "white",
           "lakecolor": "white",
           "landcolor": "#E5ECF6",
           "showlakes": true,
           "showland": true,
           "subunitcolor": "white"
          },
          "hoverlabel": {
           "align": "left"
          },
          "hovermode": "closest",
          "mapbox": {
           "style": "light"
          },
          "paper_bgcolor": "white",
          "plot_bgcolor": "#E5ECF6",
          "polar": {
           "angularaxis": {
            "gridcolor": "white",
            "linecolor": "white",
            "ticks": ""
           },
           "bgcolor": "#E5ECF6",
           "radialaxis": {
            "gridcolor": "white",
            "linecolor": "white",
            "ticks": ""
           }
          },
          "scene": {
           "xaxis": {
            "backgroundcolor": "#E5ECF6",
            "gridcolor": "white",
            "gridwidth": 2,
            "linecolor": "white",
            "showbackground": true,
            "ticks": "",
            "zerolinecolor": "white"
           },
           "yaxis": {
            "backgroundcolor": "#E5ECF6",
            "gridcolor": "white",
            "gridwidth": 2,
            "linecolor": "white",
            "showbackground": true,
            "ticks": "",
            "zerolinecolor": "white"
           },
           "zaxis": {
            "backgroundcolor": "#E5ECF6",
            "gridcolor": "white",
            "gridwidth": 2,
            "linecolor": "white",
            "showbackground": true,
            "ticks": "",
            "zerolinecolor": "white"
           }
          },
          "shapedefaults": {
           "line": {
            "color": "#2a3f5f"
           }
          },
          "ternary": {
           "aaxis": {
            "gridcolor": "white",
            "linecolor": "white",
            "ticks": ""
           },
           "baxis": {
            "gridcolor": "white",
            "linecolor": "white",
            "ticks": ""
           },
           "bgcolor": "#E5ECF6",
           "caxis": {
            "gridcolor": "white",
            "linecolor": "white",
            "ticks": ""
           }
          },
          "title": {
           "x": 0.05
          },
          "xaxis": {
           "automargin": true,
           "gridcolor": "white",
           "linecolor": "white",
           "ticks": "",
           "title": {
            "standoff": 15
           },
           "zerolinecolor": "white",
           "zerolinewidth": 2
          },
          "yaxis": {
           "automargin": true,
           "gridcolor": "white",
           "linecolor": "white",
           "ticks": "",
           "title": {
            "standoff": 15
           },
           "zerolinecolor": "white",
           "zerolinewidth": 2
          }
         }
        },
        "title": {
         "text": "Mean Token Attribution by Layer"
        },
        "xaxis": {
         "anchor": "y",
         "domain": [
          0,
          1
         ],
         "title": {
          "text": "x"
         }
        },
        "yaxis": {
         "anchor": "x",
         "autorange": "reversed",
         "domain": [
          0,
          1
         ],
         "title": {
          "text": "y"
         }
        }
       }
      }
     },
     "metadata": {},
     "output_type": "display_data"
    }
   ],
   "source": [
    "def plot_mean_token_attribution_by_layer(top_k_labelled_tokens_per_layer, top_k_per_layer, layers: list[int]):\n",
    "    # Get unique tokens across all layers\n",
    "    all_tokens = set()\n",
    "    for layer_tokens in top_k_labelled_tokens_per_layer:\n",
    "        all_tokens.update(layer_tokens)\n",
    "    \n",
    "    # Create a dictionary to store mean attributions per token per layer\n",
    "    token_means = {token: [] for token in all_tokens}\n",
    "    \n",
    "    # Calculate mean attribution for each token in each layer\n",
    "    for layer_idx in range(len(top_k_labelled_tokens_per_layer)):\n",
    "        layer_tokens = top_k_labelled_tokens_per_layer[layer_idx]\n",
    "        layer_values = top_k_per_layer[layer_idx]\n",
    "        \n",
    "        # Initialize means for this layer\n",
    "        layer_sums = {token: 0.0 for token in all_tokens}\n",
    "        layer_counts = {token: 0 for token in all_tokens}\n",
    "        \n",
    "        # Sum up attributions for each token\n",
    "        for token, value in zip(layer_tokens, layer_values):\n",
    "            layer_sums[token] += value.item()\n",
    "            layer_counts[token] += 1\n",
    "        \n",
    "        # Calculate means and store them\n",
    "        for token in all_tokens:\n",
    "            mean = layer_sums[token] / layer_counts[token] if layer_counts[token] > 0 else 0\n",
    "            token_means[token].append(mean)\n",
    "    \n",
    "    # Plot using imshow\n",
    "    import numpy as np\n",
    "    matrix = np.array([token_means[token] for token in all_tokens])\n",
    "    \n",
    "    imshow(\n",
    "        matrix,\n",
    "        x=[f\"Layer {l}\" for l in layers],\n",
    "        y=list(all_tokens),\n",
    "        title=\"Mean Token Attribution by Layer\",\n",
    "        # width=800,\n",
    "        # height=max(400, len(all_tokens) * 20)  # Adjust height based on number of tokens\n",
    "    )\n",
    "\n",
    "# Call the function\n",
    "plot_mean_token_attribution_by_layer(top_k_labelled_tokens_per_layer, top_k_per_layer, layers=layers_to_plot)"
   ]
  },
  {
   "cell_type": "code",
   "execution_count": null,
   "metadata": {},
   "outputs": [],
   "source": [
    "get_contributions_for_each_layer = partial(\n",
    "    get_contributions_for_each_layer,\n",
    "    probe_layer=probe_layer,\n",
    "    skipped_prompts=skipped_prompts,\n",
    "    all_labelled_tokens=all_labelled_tokens,\n",
    "    texts=texts,\n",
    "    labels=labels,\n",
    "    key = \"k\"\n",
    ")\n",
    "get_contributions_for_each_layer(all_attn_AP_scores, max_prompts_to_show=8, layers=[3, 5, 8, 15, 25])"
   ]
  },
  {
   "cell_type": "code",
   "execution_count": 15,
   "metadata": {},
   "outputs": [],
   "source": [
    "def plot_attention_pattern(attn_pattern, layer, head):\n",
    "    i = 0\n",
    "    for pattern in attn_pattern:\n",
    "        labeled_tokens = all_labelled_tokens[i]\n",
    "        i += 1\n",
    "        if i > 5:\n",
    "            break\n",
    "        while i in skipped_prompts:\n",
    "            i += 1\n",
    "        # imshow(pattern[layer, head], x=labeled_tokens, y=labeled_tokens, title=f\"Layer {layer} Head {head} Attention Pattern\")\n",
    "        # convert to dense tensor\n",
    "        pattern_dense = pattern[layer, head].to_dense()\n",
    "        imshow(pattern_dense, x=labeled_tokens, y=labeled_tokens, title=f\"Layer {layer} Head {head} Attribution Scores\")\n",
    "        print(all_labelled_tokens[i])\n",
    "\n",
    "\n",
    "# head = 1\n",
    "# layer = 25\n",
    "# plot_attention_pattern(all_clean_attn_attrs, layer, head)"
   ]
  },
  {
   "cell_type": "code",
   "execution_count": null,
   "metadata": {},
   "outputs": [],
   "source": []
  }
 ],
 "metadata": {
  "kernelspec": {
   "display_name": ".venv",
   "language": "python",
   "name": "python3"
  },
  "language_info": {
   "codemirror_mode": {
    "name": "ipython",
    "version": 3
   },
   "file_extension": ".py",
   "mimetype": "text/x-python",
   "name": "python",
   "nbconvert_exporter": "python",
   "pygments_lexer": "ipython3",
   "version": "3.11.4"
  }
 },
 "nbformat": 4,
 "nbformat_minor": 2
}
